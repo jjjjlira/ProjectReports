{
 "cells": [
  {
   "cell_type": "markdown",
   "metadata": {},
   "source": [
    "# Thief Detector\n",
    "## This task tests your Image Processing skills to build a motion detection algorithm that alarms you when you have an unwanted visitor in your home."
   ]
  },
  {
   "attachments": {},
   "cell_type": "markdown",
   "metadata": {},
   "source": [
    "## Steps\n",
    "- 1. Get the live video feed from your webcam\n",
    "- 2. Fix a scene (the place you want to monitor) and store it as a reference background image\n",
    "    - Store the first frame as the reference background frame\n",
    "- 3. For every frame, check if there is any unwanted object inside the scene you are monitoring\n",
    "    - Use **Background Subtraction** concept (**cv2.absdiff( )**), in this case we use Mean Absolute Error of the difference among the reference image and the current frame\n",
    "    - Subtract the current frame from the reference background image(frame) to see the changes in the scene\n",
    "    - If there is enormous amount of pixels distrubed in the subtraction result image\n",
    "        - unwanted visitor (place is unsafe --> alarm the authorities)\n",
    "    - If there is no enormous amount of pixels distrubed in the subtraction result image\n",
    "        - no unwanted visitor (place is safe)\n",
    "- 4. Output the text **\"UNSAFE\"** in **red** color on the top right of the frame when there is an intruder in the scene.\n",
    "- 5. Save the live feed\n",
    "- 6. Submit the (.ipynb) file"
   ]
  },
  {
   "cell_type": "code",
   "execution_count": 8,
   "metadata": {},
   "outputs": [],
   "source": [
    "#!pip install opencv-python"
   ]
  },
  {
   "cell_type": "code",
   "execution_count": 9,
   "metadata": {},
   "outputs": [],
   "source": [
    "import cv2\n",
    "import os\n",
    "import numpy as np\n",
    "import warnings\n",
    "warnings.filterwarnings('ignore')"
   ]
  },
  {
   "cell_type": "code",
   "execution_count": 10,
   "metadata": {},
   "outputs": [],
   "source": [
    "# Get live video feed from webcam\n",
    "video_capture = cv2.VideoCapture(0)"
   ]
  },
  {
   "cell_type": "code",
   "execution_count": 11,
   "metadata": {},
   "outputs": [],
   "source": [
    "# Define Minimum threshold to trigger the alarm in the camera\n",
    "# The threshold is th eminumn amount of pixels that need to change to be consider a movement\n",
    "# it can be adjusted acoording to the environment and if pets are present (so very small movement are not consider as an alarm)\n",
    "MSE_MOVEMENT_THRESHOLD = 7"
   ]
  },
  {
   "cell_type": "code",
   "execution_count": 12,
   "metadata": {},
   "outputs": [],
   "source": [
    "# Auxiliary function to calculate the Mean Square Error of the difference among two images\n",
    "def mse(img1, img2):\n",
    "    h, w = img1.shape\n",
    "    diff = cv2.subtract(img1, img2)\n",
    "    err = np.sum(diff**2)\n",
    "    mse = err/(float(h*w))\n",
    "    print (mse)\n",
    "    return mse\n"
   ]
  },
  {
   "cell_type": "code",
   "execution_count": 13,
   "metadata": {},
   "outputs": [
    {
     "name": "stdout",
     "output_type": "stream",
     "text": [
      "1.9922395833333333\n",
      "<function mse at 0x000002B9AFD239A0>\n",
      "2.1549446614583334\n",
      "<function mse at 0x000002B9AFD239A0>\n",
      "7.395546875\n",
      "<function mse at 0x000002B9AFD239A0>\n",
      "intruder detected...\\Motion detected= 1\n"
     ]
    }
   ],
   "source": [
    "# We need to set resolutions. So, convert them from float to integer.\n",
    "frame_width = int(video_capture.get(3))\n",
    "frame_height = int(video_capture.get(4))\n",
    "\n",
    "size = (frame_width, frame_height)\n",
    "\n",
    "# Below VideoWriter object will create a frame of above defined The output is stored in 'filename.avi' file.\n",
    "result = cv2.VideoWriter('Intrusion_Detector.avi', \n",
    "                         fourcc=cv2.VideoWriter_fourcc(*'MJPG'),\n",
    "                         fps=10, \n",
    "                         frameSize=size)\n",
    "# Read first frame, convert to Grayscale and store it as reference background image (\"first_frame\" is the reference)\n",
    "ret, first_frame = video_capture.read()\n",
    "gray = cv2.cvtColor(first_frame, cv2.COLOR_BGR2GRAY)\n",
    "# mse(gray,gray)\n",
    "# cv2.imshow('Face Video', first_frame)\n",
    "\n",
    "while True:\n",
    "    # Capture frame-by-frame\n",
    "    ret, frame = video_capture.read()\n",
    "    result.write(frame)\n",
    "    # Calculates the difference among the base frame and the current frame\n",
    "    diff_mse = mse(cv2.cvtColor(frame, cv2.COLOR_BGR2GRAY), gray)\n",
    "    print (mse)\n",
    "    # if the difference is larger than the threshold defined it is consider an alarm\n",
    "    if diff_mse >= MSE_MOVEMENT_THRESHOLD:\n",
    "        print(\"intruder detected...\\Motion detected= 1\")\n",
    "        # Write the frame into the file 'filename.avi'\n",
    "        result.write(frame)\n",
    "        break\n",
    "\n",
    "    # Display the resulting frameq\n",
    "#     cv2.imshow('Face Video', frame)\n",
    "\n",
    "    if cv2.waitKey(1) & 0xFF == ord('q'):\n",
    "        break\n",
    "video_capture.release()\n",
    "cv2.destroyAllWindows()"
   ]
  },
  {
   "cell_type": "code",
   "execution_count": 14,
   "metadata": {},
   "outputs": [],
   "source": [
    "# Release objects\n",
    "video_capture.release()\n",
    "cv2.destroyAllWindows()"
   ]
  },
  {
   "cell_type": "code",
   "execution_count": null,
   "metadata": {},
   "outputs": [],
   "source": []
  }
 ],
 "metadata": {
  "kernelspec": {
   "display_name": ".TF01",
   "language": "python",
   "name": "python3"
  },
  "language_info": {
   "codemirror_mode": {
    "name": "ipython",
    "version": 3
   },
   "file_extension": ".py",
   "mimetype": "text/x-python",
   "name": "python",
   "nbconvert_exporter": "python",
   "pygments_lexer": "ipython3",
   "version": "3.10.9"
  },
  "vscode": {
   "interpreter": {
    "hash": "b2adef01dcb899762cd63ac65b25730c5dca0aa63f80c1c2b1276854e041943c"
   }
  }
 },
 "nbformat": 4,
 "nbformat_minor": 4
}
