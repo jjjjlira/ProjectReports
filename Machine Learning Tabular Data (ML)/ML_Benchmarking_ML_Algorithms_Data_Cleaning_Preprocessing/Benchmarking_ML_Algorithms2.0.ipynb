{
 "cells": [
  {
   "cell_type": "markdown",
   "metadata": {},
   "source": [
    "# Task 10 : Benchmark Top ML Algorithms\n",
    "\n",
    "This task tests your ability to use different ML algorithms when solving a specific problem.\n"
   ]
  },
  {
   "cell_type": "markdown",
   "metadata": {},
   "source": [
    "### Dataset\n",
    "Predict Loan Eligibility for Dream Housing Finance company\n",
    "\n",
    "Dream Housing Finance company deals in all kinds of home loans. They have presence across all urban, semi urban and rural areas. Customer first applies for home loan and after that company validates the customer eligibility for loan.\n",
    "\n",
    "Company wants to automate the loan eligibility process (real time) based on customer detail provided while filling online application form. These details are Gender, Marital Status, Education, Number of Dependents, Income, Loan Amount, Credit History and others. To automate this process, they have provided a dataset to identify the customers segments that are eligible for loan amount so that they can specifically target these customers.\n",
    "\n",
    "Train: https://raw.githubusercontent.com/subashgandyer/datasets/main/loan_train.csv\n",
    "\n",
    "Test: https://raw.githubusercontent.com/subashgandyer/datasets/main/loan_test.csv"
   ]
  },
  {
   "cell_type": "markdown",
   "metadata": {},
   "source": [
    "## Task Requirements\n",
    "### You can have the following Classification models built using different ML algorithms\n",
    "- Decision Tree\n",
    "- KNN\n",
    "- Logistic Regression\n",
    "- SVM\n",
    "- Random Forest\n",
    "- Any other algorithm of your choice"
   ]
  },
  {
   "cell_type": "markdown",
   "metadata": {},
   "source": [
    "### Use GridSearchCV for finding the best model with the best hyperparameters"
   ]
  },
  {
   "cell_type": "markdown",
   "metadata": {},
   "source": [
    "- ### Build models\n",
    "- ### Create Parameter Grid\n",
    "- ### Run GridSearchCV\n",
    "- ### Choose the best model with the best hyperparameter\n",
    "- ### Give the best accuracy\n",
    "- ### Also, benchmark the best accuracy that you could get for every classification algorithm asked above"
   ]
  },
  {
   "cell_type": "markdown",
   "metadata": {},
   "source": [
    "#### Your final output will be something like this:\n",
    "- Best algorithm accuracy\n",
    "- Best hyperparameter accuracy for every algorithm\n",
    "\n",
    "**Table 1 (Algorithm wise best model with best hyperparameter)**\n",
    "\n",
    "Algorithm   |     Accuracy   |   Hyperparameters\n",
    "- DT\n",
    "- KNN\n",
    "- LR\n",
    "- SVM\n",
    "- RF\n",
    "- anyother\n",
    "\n",
    "**Table 2 (Best overall)**\n",
    "\n",
    "Algorithm    |   Accuracy    |   Hyperparameters\n",
    "\n"
   ]
  },
  {
   "cell_type": "markdown",
   "metadata": {},
   "source": [
    "### Submission\n",
    "- Submit Notebook containing all saved ran code with outputs\n",
    "- Document with the above two tables"
   ]
  },
  {
   "cell_type": "code",
   "execution_count": 1,
   "metadata": {},
   "outputs": [],
   "source": [
    "import pandas as pd\n",
    "import numpy as np\n",
    "from matplotlib import pyplot as plt\n",
    "import seaborn as sns\n",
    "from matplotlib import colors\n",
    "import matplotlib.colors as mcolors\n",
    "import warnings\n",
    "from scipy import stats\n",
    "import itertools\n",
    "from sklearn.impute import KNNImputer\n",
    "from sklearn.impute import SimpleImputer\n",
    "from sklearn.model_selection import train_test_split\n",
    "from sklearn.metrics import accuracy_score, precision_score, recall_score, f1_score, confusion_matrix, roc_curve, auc\n",
    "from sklearn.model_selection import GridSearchCV\n",
    "from sklearn.model_selection import RandomizedSearchCV\n",
    "from sklearn.preprocessing import MinMaxScaler\n",
    "# from sklearn.pipeline import Pipeline\n",
    "from sklearn.model_selection import RepeatedStratifiedKFold, cross_val_score\n",
    "from sklearn.neighbors import KNeighborsClassifier\n",
    "from sklearn.tree import DecisionTreeClassifier\n",
    "from sklearn.ensemble import RandomForestClassifier\n",
    "from sklearn.linear_model import LogisticRegression\n",
    "from sklearn.svm import SVC\n",
    "from sklearn.naive_bayes import GaussianNB\n",
    "from sklearn.discriminant_analysis import QuadraticDiscriminantAnalysis\n",
    "from sklearn.ensemble import HistGradientBoostingClassifier\n",
    "from sklearn.ensemble import AdaBoostClassifier\n",
    "from sklearn.linear_model import SGDClassifier\n",
    "from lightgbm import LGBMClassifier\n",
    "from xgboost import XGBClassifier\n",
    "from sklearn.neural_network import MLPClassifier\n",
    "# from catboost import CatBoostClassifier\n",
    "# from numpy.random import RandomState"
   ]
  },
  {
   "cell_type": "code",
   "execution_count": 2,
   "metadata": {},
   "outputs": [],
   "source": [
    "# Ignore notebook warnings to keep it clearer\n",
    "warnings.filterwarnings('ignore')\n",
    "# This is a magic function that renders the plot in the notebook itself.\n",
    "%matplotlib inline \n",
    "# To see all the content in the column\n",
    "pd.set_option('max_colwidth', 300)\n",
    "# Setting options to display all rows and columns\n",
    "pd.options.display.max_columns = None\n",
    "# pd.options.display.max_rows = None"
   ]
  },
  {
   "cell_type": "markdown",
   "metadata": {},
   "source": [
    "# Data Exploration"
   ]
  },
  {
   "cell_type": "code",
   "execution_count": 3,
   "metadata": {},
   "outputs": [],
   "source": [
    "train_df = pd.read_csv(\"https://raw.githubusercontent.com/subashgandyer/datasets/main/loan_train.csv\")"
   ]
  },
  {
   "cell_type": "code",
   "execution_count": 4,
   "metadata": {},
   "outputs": [],
   "source": [
    "test_df = pd.read_csv(\"https://raw.githubusercontent.com/subashgandyer/datasets/main/loan_test.csv\")"
   ]
  },
  {
   "cell_type": "code",
   "execution_count": 5,
   "metadata": {},
   "outputs": [
    {
     "data": {
      "text/html": [
       "<div>\n",
       "<style scoped>\n",
       "    .dataframe tbody tr th:only-of-type {\n",
       "        vertical-align: middle;\n",
       "    }\n",
       "\n",
       "    .dataframe tbody tr th {\n",
       "        vertical-align: top;\n",
       "    }\n",
       "\n",
       "    .dataframe thead th {\n",
       "        text-align: right;\n",
       "    }\n",
       "</style>\n",
       "<table border=\"1\" class=\"dataframe\">\n",
       "  <thead>\n",
       "    <tr style=\"text-align: right;\">\n",
       "      <th></th>\n",
       "      <th>Loan_ID</th>\n",
       "      <th>Gender</th>\n",
       "      <th>Married</th>\n",
       "      <th>Dependents</th>\n",
       "      <th>Education</th>\n",
       "      <th>Self_Employed</th>\n",
       "      <th>ApplicantIncome</th>\n",
       "      <th>CoapplicantIncome</th>\n",
       "      <th>LoanAmount</th>\n",
       "      <th>Loan_Amount_Term</th>\n",
       "      <th>Credit_History</th>\n",
       "      <th>Property_Area</th>\n",
       "      <th>Loan_Status</th>\n",
       "    </tr>\n",
       "  </thead>\n",
       "  <tbody>\n",
       "    <tr>\n",
       "      <th>0</th>\n",
       "      <td>LP001002</td>\n",
       "      <td>Male</td>\n",
       "      <td>No</td>\n",
       "      <td>0</td>\n",
       "      <td>Graduate</td>\n",
       "      <td>No</td>\n",
       "      <td>5849</td>\n",
       "      <td>0.0</td>\n",
       "      <td>NaN</td>\n",
       "      <td>360.0</td>\n",
       "      <td>1.0</td>\n",
       "      <td>Urban</td>\n",
       "      <td>Y</td>\n",
       "    </tr>\n",
       "    <tr>\n",
       "      <th>1</th>\n",
       "      <td>LP001003</td>\n",
       "      <td>Male</td>\n",
       "      <td>Yes</td>\n",
       "      <td>1</td>\n",
       "      <td>Graduate</td>\n",
       "      <td>No</td>\n",
       "      <td>4583</td>\n",
       "      <td>1508.0</td>\n",
       "      <td>128.0</td>\n",
       "      <td>360.0</td>\n",
       "      <td>1.0</td>\n",
       "      <td>Rural</td>\n",
       "      <td>N</td>\n",
       "    </tr>\n",
       "    <tr>\n",
       "      <th>2</th>\n",
       "      <td>LP001005</td>\n",
       "      <td>Male</td>\n",
       "      <td>Yes</td>\n",
       "      <td>0</td>\n",
       "      <td>Graduate</td>\n",
       "      <td>Yes</td>\n",
       "      <td>3000</td>\n",
       "      <td>0.0</td>\n",
       "      <td>66.0</td>\n",
       "      <td>360.0</td>\n",
       "      <td>1.0</td>\n",
       "      <td>Urban</td>\n",
       "      <td>Y</td>\n",
       "    </tr>\n",
       "    <tr>\n",
       "      <th>3</th>\n",
       "      <td>LP001006</td>\n",
       "      <td>Male</td>\n",
       "      <td>Yes</td>\n",
       "      <td>0</td>\n",
       "      <td>Not Graduate</td>\n",
       "      <td>No</td>\n",
       "      <td>2583</td>\n",
       "      <td>2358.0</td>\n",
       "      <td>120.0</td>\n",
       "      <td>360.0</td>\n",
       "      <td>1.0</td>\n",
       "      <td>Urban</td>\n",
       "      <td>Y</td>\n",
       "    </tr>\n",
       "    <tr>\n",
       "      <th>4</th>\n",
       "      <td>LP001008</td>\n",
       "      <td>Male</td>\n",
       "      <td>No</td>\n",
       "      <td>0</td>\n",
       "      <td>Graduate</td>\n",
       "      <td>No</td>\n",
       "      <td>6000</td>\n",
       "      <td>0.0</td>\n",
       "      <td>141.0</td>\n",
       "      <td>360.0</td>\n",
       "      <td>1.0</td>\n",
       "      <td>Urban</td>\n",
       "      <td>Y</td>\n",
       "    </tr>\n",
       "  </tbody>\n",
       "</table>\n",
       "</div>"
      ],
      "text/plain": [
       "    Loan_ID Gender Married Dependents     Education Self_Employed  \\\n",
       "0  LP001002   Male      No          0      Graduate            No   \n",
       "1  LP001003   Male     Yes          1      Graduate            No   \n",
       "2  LP001005   Male     Yes          0      Graduate           Yes   \n",
       "3  LP001006   Male     Yes          0  Not Graduate            No   \n",
       "4  LP001008   Male      No          0      Graduate            No   \n",
       "\n",
       "   ApplicantIncome  CoapplicantIncome  LoanAmount  Loan_Amount_Term  \\\n",
       "0             5849                0.0         NaN             360.0   \n",
       "1             4583             1508.0       128.0             360.0   \n",
       "2             3000                0.0        66.0             360.0   \n",
       "3             2583             2358.0       120.0             360.0   \n",
       "4             6000                0.0       141.0             360.0   \n",
       "\n",
       "   Credit_History Property_Area Loan_Status  \n",
       "0             1.0         Urban           Y  \n",
       "1             1.0         Rural           N  \n",
       "2             1.0         Urban           Y  \n",
       "3             1.0         Urban           Y  \n",
       "4             1.0         Urban           Y  "
      ]
     },
     "execution_count": 5,
     "metadata": {},
     "output_type": "execute_result"
    }
   ],
   "source": [
    "train_df.head()"
   ]
  },
  {
   "cell_type": "code",
   "execution_count": 6,
   "metadata": {},
   "outputs": [],
   "source": [
    "# test_df.head()"
   ]
  },
  {
   "cell_type": "code",
   "execution_count": 7,
   "metadata": {},
   "outputs": [
    {
     "data": {
      "text/plain": [
       "(614, 13)"
      ]
     },
     "execution_count": 7,
     "metadata": {},
     "output_type": "execute_result"
    }
   ],
   "source": [
    "train_df.shape"
   ]
  },
  {
   "cell_type": "code",
   "execution_count": 8,
   "metadata": {},
   "outputs": [
    {
     "data": {
      "text/plain": [
       "(367, 12)"
      ]
     },
     "execution_count": 8,
     "metadata": {},
     "output_type": "execute_result"
    }
   ],
   "source": [
    "test_df.shape"
   ]
  },
  {
   "cell_type": "code",
   "execution_count": 9,
   "metadata": {},
   "outputs": [
    {
     "name": "stdout",
     "output_type": "stream",
     "text": [
      "<class 'pandas.core.frame.DataFrame'>\n",
      "RangeIndex: 614 entries, 0 to 613\n",
      "Data columns (total 13 columns):\n",
      " #   Column             Non-Null Count  Dtype  \n",
      "---  ------             --------------  -----  \n",
      " 0   Loan_ID            614 non-null    object \n",
      " 1   Gender             601 non-null    object \n",
      " 2   Married            611 non-null    object \n",
      " 3   Dependents         599 non-null    object \n",
      " 4   Education          614 non-null    object \n",
      " 5   Self_Employed      582 non-null    object \n",
      " 6   ApplicantIncome    614 non-null    int64  \n",
      " 7   CoapplicantIncome  614 non-null    float64\n",
      " 8   LoanAmount         592 non-null    float64\n",
      " 9   Loan_Amount_Term   600 non-null    float64\n",
      " 10  Credit_History     564 non-null    float64\n",
      " 11  Property_Area      614 non-null    object \n",
      " 12  Loan_Status        614 non-null    object \n",
      "dtypes: float64(4), int64(1), object(8)\n",
      "memory usage: 62.5+ KB\n"
     ]
    }
   ],
   "source": [
    "train_df.info()"
   ]
  },
  {
   "cell_type": "code",
   "execution_count": 10,
   "metadata": {},
   "outputs": [
    {
     "data": {
      "text/plain": [
       "<AxesSubplot:>"
      ]
     },
     "execution_count": 10,
     "metadata": {},
     "output_type": "execute_result"
    },
    {
     "data": {
      "image/png": "[encoded data removed]",
      "text/plain": [
       "<Figure size 1000x600 with 1 Axes>"
      ]
     },
     "metadata": {},
     "output_type": "display_data"
    }
   ],
   "source": [
    "plt.figure(figsize=(10,6))\n",
    "sns.heatmap(train_df.isna(), cbar=False, cmap='viridis', yticklabels=False)"
   ]
  },
  {
   "cell_type": "code",
   "execution_count": 11,
   "metadata": {},
   "outputs": [
    {
     "name": "stdout",
     "output_type": "stream",
     "text": [
      "<class 'pandas.core.frame.DataFrame'>\n",
      "RangeIndex: 367 entries, 0 to 366\n",
      "Data columns (total 12 columns):\n",
      " #   Column             Non-Null Count  Dtype  \n",
      "---  ------             --------------  -----  \n",
      " 0   Loan_ID            367 non-null    object \n",
      " 1   Gender             356 non-null    object \n",
      " 2   Married            367 non-null    object \n",
      " 3   Dependents         357 non-null    object \n",
      " 4   Education          367 non-null    object \n",
      " 5   Self_Employed      344 non-null    object \n",
      " 6   ApplicantIncome    367 non-null    int64  \n",
      " 7   CoapplicantIncome  367 non-null    int64  \n",
      " 8   LoanAmount         362 non-null    float64\n",
      " 9   Loan_Amount_Term   361 non-null    float64\n",
      " 10  Credit_History     338 non-null    float64\n",
      " 11  Property_Area      367 non-null    object \n",
      "dtypes: float64(3), int64(2), object(7)\n",
      "memory usage: 34.5+ KB\n"
     ]
    }
   ],
   "source": [
    "test_df.info()"
   ]
  },
  {
   "cell_type": "code",
   "execution_count": 12,
   "metadata": {},
   "outputs": [
    {
     "data": {
      "text/html": [
       "<div>\n",
       "<style scoped>\n",
       "    .dataframe tbody tr th:only-of-type {\n",
       "        vertical-align: middle;\n",
       "    }\n",
       "\n",
       "    .dataframe tbody tr th {\n",
       "        vertical-align: top;\n",
       "    }\n",
       "\n",
       "    .dataframe thead th {\n",
       "        text-align: right;\n",
       "    }\n",
       "</style>\n",
       "<table border=\"1\" class=\"dataframe\">\n",
       "  <thead>\n",
       "    <tr style=\"text-align: right;\">\n",
       "      <th></th>\n",
       "      <th>ApplicantIncome</th>\n",
       "      <th>CoapplicantIncome</th>\n",
       "      <th>LoanAmount</th>\n",
       "      <th>Loan_Amount_Term</th>\n",
       "      <th>Credit_History</th>\n",
       "    </tr>\n",
       "  </thead>\n",
       "  <tbody>\n",
       "    <tr>\n",
       "      <th>count</th>\n",
       "      <td>614.000000</td>\n",
       "      <td>614.000000</td>\n",
       "      <td>592.000000</td>\n",
       "      <td>600.00000</td>\n",
       "      <td>564.000000</td>\n",
       "    </tr>\n",
       "    <tr>\n",
       "      <th>mean</th>\n",
       "      <td>5403.459283</td>\n",
       "      <td>1621.245798</td>\n",
       "      <td>146.412162</td>\n",
       "      <td>342.00000</td>\n",
       "      <td>0.842199</td>\n",
       "    </tr>\n",
       "    <tr>\n",
       "      <th>std</th>\n",
       "      <td>6109.041673</td>\n",
       "      <td>2926.248369</td>\n",
       "      <td>85.587325</td>\n",
       "      <td>65.12041</td>\n",
       "      <td>0.364878</td>\n",
       "    </tr>\n",
       "    <tr>\n",
       "      <th>min</th>\n",
       "      <td>150.000000</td>\n",
       "      <td>0.000000</td>\n",
       "      <td>9.000000</td>\n",
       "      <td>12.00000</td>\n",
       "      <td>0.000000</td>\n",
       "    </tr>\n",
       "    <tr>\n",
       "      <th>25%</th>\n",
       "      <td>2877.500000</td>\n",
       "      <td>0.000000</td>\n",
       "      <td>100.000000</td>\n",
       "      <td>360.00000</td>\n",
       "      <td>1.000000</td>\n",
       "    </tr>\n",
       "    <tr>\n",
       "      <th>50%</th>\n",
       "      <td>3812.500000</td>\n",
       "      <td>1188.500000</td>\n",
       "      <td>128.000000</td>\n",
       "      <td>360.00000</td>\n",
       "      <td>1.000000</td>\n",
       "    </tr>\n",
       "    <tr>\n",
       "      <th>75%</th>\n",
       "      <td>5795.000000</td>\n",
       "      <td>2297.250000</td>\n",
       "      <td>168.000000</td>\n",
       "      <td>360.00000</td>\n",
       "      <td>1.000000</td>\n",
       "    </tr>\n",
       "    <tr>\n",
       "      <th>max</th>\n",
       "      <td>81000.000000</td>\n",
       "      <td>41667.000000</td>\n",
       "      <td>700.000000</td>\n",
       "      <td>480.00000</td>\n",
       "      <td>1.000000</td>\n",
       "    </tr>\n",
       "  </tbody>\n",
       "</table>\n",
       "</div>"
      ],
      "text/plain": [
       "       ApplicantIncome  CoapplicantIncome  LoanAmount  Loan_Amount_Term  \\\n",
       "count       614.000000         614.000000  592.000000         600.00000   \n",
       "mean       5403.459283        1621.245798  146.412162         342.00000   \n",
       "std        6109.041673        2926.248369   85.587325          65.12041   \n",
       "min         150.000000           0.000000    9.000000          12.00000   \n",
       "25%        2877.500000           0.000000  100.000000         360.00000   \n",
       "50%        3812.500000        1188.500000  128.000000         360.00000   \n",
       "75%        5795.000000        2297.250000  168.000000         360.00000   \n",
       "max       81000.000000       41667.000000  700.000000         480.00000   \n",
       "\n",
       "       Credit_History  \n",
       "count      564.000000  \n",
       "mean         0.842199  \n",
       "std          0.364878  \n",
       "min          0.000000  \n",
       "25%          1.000000  \n",
       "50%          1.000000  \n",
       "75%          1.000000  \n",
       "max          1.000000  "
      ]
     },
     "execution_count": 12,
     "metadata": {},
     "output_type": "execute_result"
    }
   ],
   "source": [
    "train_df.describe()"
   ]
  },
  {
   "cell_type": "code",
   "execution_count": 13,
   "metadata": {},
   "outputs": [
    {
     "data": {
      "text/html": [
       "<div>\n",
       "<style scoped>\n",
       "    .dataframe tbody tr th:only-of-type {\n",
       "        vertical-align: middle;\n",
       "    }\n",
       "\n",
       "    .dataframe tbody tr th {\n",
       "        vertical-align: top;\n",
       "    }\n",
       "\n",
       "    .dataframe thead th {\n",
       "        text-align: right;\n",
       "    }\n",
       "</style>\n",
       "<table border=\"1\" class=\"dataframe\">\n",
       "  <thead>\n",
       "    <tr style=\"text-align: right;\">\n",
       "      <th></th>\n",
       "      <th>ApplicantIncome</th>\n",
       "      <th>CoapplicantIncome</th>\n",
       "      <th>LoanAmount</th>\n",
       "      <th>Loan_Amount_Term</th>\n",
       "      <th>Credit_History</th>\n",
       "    </tr>\n",
       "  </thead>\n",
       "  <tbody>\n",
       "    <tr>\n",
       "      <th>count</th>\n",
       "      <td>367.000000</td>\n",
       "      <td>367.000000</td>\n",
       "      <td>362.000000</td>\n",
       "      <td>361.000000</td>\n",
       "      <td>338.000000</td>\n",
       "    </tr>\n",
       "    <tr>\n",
       "      <th>mean</th>\n",
       "      <td>4805.599455</td>\n",
       "      <td>1569.577657</td>\n",
       "      <td>136.132597</td>\n",
       "      <td>342.537396</td>\n",
       "      <td>0.825444</td>\n",
       "    </tr>\n",
       "    <tr>\n",
       "      <th>std</th>\n",
       "      <td>4910.685399</td>\n",
       "      <td>2334.232099</td>\n",
       "      <td>61.366652</td>\n",
       "      <td>65.156643</td>\n",
       "      <td>0.380150</td>\n",
       "    </tr>\n",
       "    <tr>\n",
       "      <th>min</th>\n",
       "      <td>0.000000</td>\n",
       "      <td>0.000000</td>\n",
       "      <td>28.000000</td>\n",
       "      <td>6.000000</td>\n",
       "      <td>0.000000</td>\n",
       "    </tr>\n",
       "    <tr>\n",
       "      <th>25%</th>\n",
       "      <td>2864.000000</td>\n",
       "      <td>0.000000</td>\n",
       "      <td>100.250000</td>\n",
       "      <td>360.000000</td>\n",
       "      <td>1.000000</td>\n",
       "    </tr>\n",
       "    <tr>\n",
       "      <th>50%</th>\n",
       "      <td>3786.000000</td>\n",
       "      <td>1025.000000</td>\n",
       "      <td>125.000000</td>\n",
       "      <td>360.000000</td>\n",
       "      <td>1.000000</td>\n",
       "    </tr>\n",
       "    <tr>\n",
       "      <th>75%</th>\n",
       "      <td>5060.000000</td>\n",
       "      <td>2430.500000</td>\n",
       "      <td>158.000000</td>\n",
       "      <td>360.000000</td>\n",
       "      <td>1.000000</td>\n",
       "    </tr>\n",
       "    <tr>\n",
       "      <th>max</th>\n",
       "      <td>72529.000000</td>\n",
       "      <td>24000.000000</td>\n",
       "      <td>550.000000</td>\n",
       "      <td>480.000000</td>\n",
       "      <td>1.000000</td>\n",
       "    </tr>\n",
       "  </tbody>\n",
       "</table>\n",
       "</div>"
      ],
      "text/plain": [
       "       ApplicantIncome  CoapplicantIncome  LoanAmount  Loan_Amount_Term  \\\n",
       "count       367.000000         367.000000  362.000000        361.000000   \n",
       "mean       4805.599455        1569.577657  136.132597        342.537396   \n",
       "std        4910.685399        2334.232099   61.366652         65.156643   \n",
       "min           0.000000           0.000000   28.000000          6.000000   \n",
       "25%        2864.000000           0.000000  100.250000        360.000000   \n",
       "50%        3786.000000        1025.000000  125.000000        360.000000   \n",
       "75%        5060.000000        2430.500000  158.000000        360.000000   \n",
       "max       72529.000000       24000.000000  550.000000        480.000000   \n",
       "\n",
       "       Credit_History  \n",
       "count      338.000000  \n",
       "mean         0.825444  \n",
       "std          0.380150  \n",
       "min          0.000000  \n",
       "25%          1.000000  \n",
       "50%          1.000000  \n",
       "75%          1.000000  \n",
       "max          1.000000  "
      ]
     },
     "execution_count": 13,
     "metadata": {},
     "output_type": "execute_result"
    }
   ],
   "source": [
    "test_df.describe()"
   ]
  },
  {
   "cell_type": "markdown",
   "metadata": {},
   "source": [
    "# Initial Pre-Processing"
   ]
  },
  {
   "cell_type": "code",
   "execution_count": 14,
   "metadata": {},
   "outputs": [],
   "source": [
    "#Drop useless columns\n",
    "train_df = train_df.drop('Loan_ID', axis=1)\n",
    "test_df = test_df.drop('Loan_ID', axis=1)"
   ]
  },
  {
   "cell_type": "code",
   "execution_count": 15,
   "metadata": {},
   "outputs": [],
   "source": [
    "#Convert Dependents to Numerical\n",
    "train_df[\"Dependents\"].mask(train_df[\"Dependents\"] == '3+', 3, inplace=True)\n",
    "train_df[\"Dependents\"] = pd.to_numeric(train_df[\"Dependents\"], errors='coerce')\n",
    "test_df[\"Dependents\"].mask(train_df[\"Dependents\"] == '3+', 3, inplace=True)\n",
    "test_df[\"Dependents\"] = pd.to_numeric(train_df[\"Dependents\"], errors='coerce')"
   ]
  },
  {
   "cell_type": "code",
   "execution_count": 16,
   "metadata": {},
   "outputs": [],
   "source": [
    "# print(\"UNIQUE VALUES:\\n\")\n",
    "# for col in train_df:\n",
    "#     print(col)\n",
    "#     print( len(train_df[col].unique()))\n",
    "#     print( train_df[col].unique())"
   ]
  },
  {
   "cell_type": "markdown",
   "metadata": {},
   "source": [
    "# Process numerical features"
   ]
  },
  {
   "cell_type": "code",
   "execution_count": 17,
   "metadata": {},
   "outputs": [],
   "source": [
    "# create a variable to hold the names of the data types viz int16, in32 and so on\n",
    "num_cols = ['int16', 'int32', 'int64', 'float16', 'float32', 'float64']\n",
    "\n",
    "# Filter out variables with numeric data types\n",
    "train_df_numcols = train_df.select_dtypes(include=num_cols)"
   ]
  },
  {
   "cell_type": "markdown",
   "metadata": {},
   "source": [
    "### Checking Correlation"
   ]
  },
  {
   "cell_type": "code",
   "execution_count": 18,
   "metadata": {},
   "outputs": [
    {
     "data": {
      "image/png": "[encoded data removed]",
      "text/plain": [
       "<Figure size 1200x1000 with 2 Axes>"
      ]
     },
     "metadata": {},
     "output_type": "display_data"
    }
   ],
   "source": [
    "plt.figure(figsize = (12,10))\n",
    "sns.heatmap(test_df[test_df.columns].corr(), square=True, annot=True, cmap=\"RdBu\", vmin=-1, vmax=1)\n",
    "plt.show()"
   ]
  },
  {
   "cell_type": "markdown",
   "metadata": {},
   "source": [
    "### Checking distribution for Skewness"
   ]
  },
  {
   "cell_type": "code",
   "execution_count": 19,
   "metadata": {},
   "outputs": [
    {
     "data": {
      "image/png": "[encoded data removed]",
      "text/plain": [
       "<Figure size 1500x600 with 6 Axes>"
      ]
     },
     "metadata": {},
     "output_type": "display_data"
    }
   ],
   "source": [
    "# Plot distributions of numerical variables. \n",
    "melt_num_features = pd.melt(train_df_numcols, \n",
    "                            value_vars=train_df_numcols.columns)\n",
    "grid = sns.FacetGrid(melt_num_features, \n",
    "                     col=\"variable\", \n",
    "                     col_wrap=5, \n",
    "                     sharex=False, \n",
    "                     sharey=False)\n",
    "grid = grid.map(sns.histplot, \n",
    "                \"value\", \n",
    "                color=\"blue\")"
   ]
  },
  {
   "cell_type": "markdown",
   "metadata": {},
   "source": [
    "### I tried applying Log Transformation to the skewed features but the final scores obtained diminished 1%\n",
    "So, I just commented it..."
   ]
  },
  {
   "cell_type": "code",
   "execution_count": 20,
   "metadata": {},
   "outputs": [],
   "source": [
    "# #Log transformation\n",
    "# features_to_transform = ['LoanAmount', 'ApplicantIncome', 'CoapplicantIncome']\n",
    "\n",
    "# for feature in features_to_transform:\n",
    "#     # Transforming features\n",
    "#     aux_feature_column = train_df_numcols[feature]\n",
    "#     plot , ax = plt.subplots(2 , 2 , figsize = (12 , 12))\n",
    "\n",
    "#     g = sns.histplot(aux_feature_column, kde = True , ax = ax[0][0])\n",
    "\n",
    "#     res = stats.probplot(aux_feature_column, plot= ax[1][0])\n",
    "#     aux_feature_column = np.log1p(train_df_numcols[feature])\n",
    "\n",
    "#     g = sns.histplot(aux_feature_column , kde = True , ax = ax[0][1])\n",
    "#     res = stats.probplot(aux_feature_column, plot= ax[1][1])\n",
    "\n",
    "#     train_df_numcols[feature] = train_df_numcols[feature].apply(np.log1p, inplace=True)"
   ]
  },
  {
   "cell_type": "code",
   "execution_count": 21,
   "metadata": {},
   "outputs": [],
   "source": [
    "### Checking for outliers"
   ]
  },
  {
   "cell_type": "code",
   "execution_count": 22,
   "metadata": {},
   "outputs": [],
   "source": [
    "# #To plot some selected features \n",
    "# #Setting up colors prefrences\n",
    "# sns.set(rc={\"axes.facecolor\":\"#FFF9ED\",\"figure.facecolor\":\"#FFF9ED\"})\n",
    "# pallet = [\"#682F2F\", \"#9E726F\", \"#D6B2B1\", \"#B9C0C9\", \"#9F8A78\", \"#F3AB60\"]\n",
    "# cmap = colors.ListedColormap([\"#682F2F\", \"#9E726F\", \"#D6B2B1\", \"#B9C0C9\", \"#9F8A78\", \"#F3AB60\"])\n",
    "# #Plotting following features\n",
    "# To_Plot = train_df_numcols.columns\n",
    "# print(\"Relative Plot Of Some Selected Features: A Data Subset\")\n",
    "# plt.figure()\n",
    "# sns.pairplot(train_df_numcols[To_Plot], hue= \"Credit_History\",palette= ([\"#682F2F\",\"#F3AB60\"]))\n",
    "# #Taking hue \n",
    "# plt.show()"
   ]
  },
  {
   "cell_type": "markdown",
   "metadata": {},
   "source": [
    "### Imputaton for Numerical Columns"
   ]
  },
  {
   "cell_type": "code",
   "execution_count": 23,
   "metadata": {},
   "outputs": [
    {
     "data": {
      "text/plain": [
       "(614, 12)"
      ]
     },
     "execution_count": 23,
     "metadata": {},
     "output_type": "execute_result"
    }
   ],
   "source": [
    "train_df.shape"
   ]
  },
  {
   "cell_type": "code",
   "execution_count": 24,
   "metadata": {},
   "outputs": [
    {
     "data": {
      "text/plain": [
       "<AxesSubplot:>"
      ]
     },
     "execution_count": 24,
     "metadata": {},
     "output_type": "execute_result"
    },
    {
     "data": {
      "image/png": "[encoded data removed]",
      "text/plain": [
       "<Figure size 1000x600 with 1 Axes>"
      ]
     },
     "metadata": {},
     "output_type": "display_data"
    }
   ],
   "source": [
    "plt.figure(figsize=(10,6))\n",
    "sns.heatmap(train_df_numcols.isna(), cbar=False, cmap='viridis', yticklabels=False)"
   ]
  },
  {
   "cell_type": "code",
   "execution_count": 25,
   "metadata": {},
   "outputs": [],
   "source": [
    "numcols = train_df_numcols.columns.tolist()\n",
    "imputer = KNNImputer(n_neighbors=3)\n",
    "train_df_numcols=pd.DataFrame(imputer.fit_transform(train_df_numcols), columns =numcols)"
   ]
  },
  {
   "cell_type": "code",
   "execution_count": 26,
   "metadata": {},
   "outputs": [
    {
     "data": {
      "text/plain": [
       "<AxesSubplot:>"
      ]
     },
     "execution_count": 26,
     "metadata": {},
     "output_type": "execute_result"
    },
    {
     "data": {
      "image/png": "[encoded data removed]",
      "text/plain": [
       "<Figure size 1000x600 with 1 Axes>"
      ]
     },
     "metadata": {},
     "output_type": "display_data"
    }
   ],
   "source": [
    "plt.figure(figsize=(10,6))\n",
    "sns.heatmap(train_df_numcols.isna(), cbar=False, cmap='viridis', yticklabels=False)"
   ]
  },
  {
   "cell_type": "markdown",
   "metadata": {},
   "source": [
    "### Normalization of Numerical Data"
   ]
  },
  {
   "cell_type": "code",
   "execution_count": 27,
   "metadata": {},
   "outputs": [],
   "source": [
    "# Importing MinMaxScaler and initializing it\n",
    "from sklearn.preprocessing import MinMaxScaler\n",
    "min_max=MinMaxScaler()\n",
    "\n",
    "# Scaling down the numeric variables\n",
    "# We exclude SalePrice using iloc() on train_numcols_only data frame\n",
    "train_df_numcols = pd.DataFrame(min_max.fit_transform(train_df_numcols), \n",
    "                                columns=train_df_numcols.columns.tolist())\n",
    "# print(train_numcols)"
   ]
  },
  {
   "cell_type": "code",
   "execution_count": 28,
   "metadata": {},
   "outputs": [
    {
     "data": {
      "text/html": [
       "<div>\n",
       "<style scoped>\n",
       "    .dataframe tbody tr th:only-of-type {\n",
       "        vertical-align: middle;\n",
       "    }\n",
       "\n",
       "    .dataframe tbody tr th {\n",
       "        vertical-align: top;\n",
       "    }\n",
       "\n",
       "    .dataframe thead th {\n",
       "        text-align: right;\n",
       "    }\n",
       "</style>\n",
       "<table border=\"1\" class=\"dataframe\">\n",
       "  <thead>\n",
       "    <tr style=\"text-align: right;\">\n",
       "      <th></th>\n",
       "      <th>Dependents</th>\n",
       "      <th>ApplicantIncome</th>\n",
       "      <th>CoapplicantIncome</th>\n",
       "      <th>LoanAmount</th>\n",
       "      <th>Loan_Amount_Term</th>\n",
       "      <th>Credit_History</th>\n",
       "    </tr>\n",
       "  </thead>\n",
       "  <tbody>\n",
       "    <tr>\n",
       "      <th>0</th>\n",
       "      <td>0.000000</td>\n",
       "      <td>0.070489</td>\n",
       "      <td>0.000000</td>\n",
       "      <td>0.186686</td>\n",
       "      <td>0.74359</td>\n",
       "      <td>1.0</td>\n",
       "    </tr>\n",
       "    <tr>\n",
       "      <th>1</th>\n",
       "      <td>0.333333</td>\n",
       "      <td>0.054830</td>\n",
       "      <td>0.036192</td>\n",
       "      <td>0.172214</td>\n",
       "      <td>0.74359</td>\n",
       "      <td>1.0</td>\n",
       "    </tr>\n",
       "    <tr>\n",
       "      <th>2</th>\n",
       "      <td>0.000000</td>\n",
       "      <td>0.035250</td>\n",
       "      <td>0.000000</td>\n",
       "      <td>0.082489</td>\n",
       "      <td>0.74359</td>\n",
       "      <td>1.0</td>\n",
       "    </tr>\n",
       "    <tr>\n",
       "      <th>3</th>\n",
       "      <td>0.000000</td>\n",
       "      <td>0.030093</td>\n",
       "      <td>0.056592</td>\n",
       "      <td>0.160637</td>\n",
       "      <td>0.74359</td>\n",
       "      <td>1.0</td>\n",
       "    </tr>\n",
       "    <tr>\n",
       "      <th>4</th>\n",
       "      <td>0.000000</td>\n",
       "      <td>0.072356</td>\n",
       "      <td>0.000000</td>\n",
       "      <td>0.191027</td>\n",
       "      <td>0.74359</td>\n",
       "      <td>1.0</td>\n",
       "    </tr>\n",
       "  </tbody>\n",
       "</table>\n",
       "</div>"
      ],
      "text/plain": [
       "   Dependents  ApplicantIncome  CoapplicantIncome  LoanAmount  \\\n",
       "0    0.000000         0.070489           0.000000    0.186686   \n",
       "1    0.333333         0.054830           0.036192    0.172214   \n",
       "2    0.000000         0.035250           0.000000    0.082489   \n",
       "3    0.000000         0.030093           0.056592    0.160637   \n",
       "4    0.000000         0.072356           0.000000    0.191027   \n",
       "\n",
       "   Loan_Amount_Term  Credit_History  \n",
       "0           0.74359             1.0  \n",
       "1           0.74359             1.0  \n",
       "2           0.74359             1.0  \n",
       "3           0.74359             1.0  \n",
       "4           0.74359             1.0  "
      ]
     },
     "execution_count": 28,
     "metadata": {},
     "output_type": "execute_result"
    }
   ],
   "source": [
    "train_df_numcols.head()"
   ]
  },
  {
   "cell_type": "markdown",
   "metadata": {},
   "source": [
    "### Sanity Check"
   ]
  },
  {
   "cell_type": "code",
   "execution_count": 29,
   "metadata": {},
   "outputs": [
    {
     "data": {
      "text/plain": [
       "Dependents           0\n",
       "ApplicantIncome      0\n",
       "CoapplicantIncome    0\n",
       "LoanAmount           0\n",
       "Loan_Amount_Term     0\n",
       "Credit_History       0\n",
       "dtype: int64"
      ]
     },
     "execution_count": 29,
     "metadata": {},
     "output_type": "execute_result"
    }
   ],
   "source": [
    "train_df_numcols.isna().sum()"
   ]
  },
  {
   "cell_type": "code",
   "execution_count": 30,
   "metadata": {},
   "outputs": [
    {
     "name": "stdout",
     "output_type": "stream",
     "text": [
      "<class 'pandas.core.frame.DataFrame'>\n",
      "RangeIndex: 614 entries, 0 to 613\n",
      "Data columns (total 6 columns):\n",
      " #   Column             Non-Null Count  Dtype  \n",
      "---  ------             --------------  -----  \n",
      " 0   Dependents         614 non-null    float64\n",
      " 1   ApplicantIncome    614 non-null    float64\n",
      " 2   CoapplicantIncome  614 non-null    float64\n",
      " 3   LoanAmount         614 non-null    float64\n",
      " 4   Loan_Amount_Term   614 non-null    float64\n",
      " 5   Credit_History     614 non-null    float64\n",
      "dtypes: float64(6)\n",
      "memory usage: 28.9 KB\n"
     ]
    }
   ],
   "source": [
    "train_df_numcols.info()"
   ]
  },
  {
   "cell_type": "code",
   "execution_count": 31,
   "metadata": {},
   "outputs": [
    {
     "data": {
      "text/plain": [
       "(614, 6)"
      ]
     },
     "execution_count": 31,
     "metadata": {},
     "output_type": "execute_result"
    }
   ],
   "source": [
    "train_df_numcols.shape"
   ]
  },
  {
   "cell_type": "code",
   "execution_count": 32,
   "metadata": {},
   "outputs": [
    {
     "data": {
      "text/plain": [
       "Dependents           0\n",
       "ApplicantIncome      0\n",
       "CoapplicantIncome    0\n",
       "LoanAmount           0\n",
       "Loan_Amount_Term     0\n",
       "Credit_History       0\n",
       "dtype: int64"
      ]
     },
     "execution_count": 32,
     "metadata": {},
     "output_type": "execute_result"
    }
   ],
   "source": [
    "train_df_numcols.isna().sum()"
   ]
  },
  {
   "cell_type": "markdown",
   "metadata": {},
   "source": [
    "### Dropping Outliers"
   ]
  },
  {
   "cell_type": "code",
   "execution_count": 33,
   "metadata": {},
   "outputs": [
    {
     "data": {
      "image/png": "[encoded data removed]",
      "text/plain": [
       "<Figure size 640x480 with 1 Axes>"
      ]
     },
     "metadata": {},
     "output_type": "display_data"
    }
   ],
   "source": [
    "boxplot = train_df_numcols.boxplot(column=['ApplicantIncome','CoapplicantIncome', 'LoanAmount', 'Loan_Amount_Term'])\n",
    "# boxplot = train_df_numcols.boxplot(column=list(train_df_numcols.columns))"
   ]
  },
  {
   "cell_type": "markdown",
   "metadata": {},
   "source": [
    "We can see that many outliers are present in the numerical variables.\n",
    "Lets get rid of them (I tried with and without outlers and the Accuracy increases in 1% without them)"
   ]
  },
  {
   "cell_type": "code",
   "execution_count": 34,
   "metadata": {},
   "outputs": [
    {
     "data": {
      "text/plain": [
       "(614, 12)"
      ]
     },
     "execution_count": 34,
     "metadata": {},
     "output_type": "execute_result"
    }
   ],
   "source": [
    "train_df.shape"
   ]
  },
  {
   "cell_type": "code",
   "execution_count": 35,
   "metadata": {},
   "outputs": [
    {
     "data": {
      "text/html": [
       "<div>\n",
       "<style scoped>\n",
       "    .dataframe tbody tr th:only-of-type {\n",
       "        vertical-align: middle;\n",
       "    }\n",
       "\n",
       "    .dataframe tbody tr th {\n",
       "        vertical-align: top;\n",
       "    }\n",
       "\n",
       "    .dataframe thead th {\n",
       "        text-align: right;\n",
       "    }\n",
       "</style>\n",
       "<table border=\"1\" class=\"dataframe\">\n",
       "  <thead>\n",
       "    <tr style=\"text-align: right;\">\n",
       "      <th></th>\n",
       "      <th>Gender</th>\n",
       "      <th>Married</th>\n",
       "      <th>Dependents</th>\n",
       "      <th>Education</th>\n",
       "      <th>Self_Employed</th>\n",
       "      <th>ApplicantIncome</th>\n",
       "      <th>CoapplicantIncome</th>\n",
       "      <th>LoanAmount</th>\n",
       "      <th>Loan_Amount_Term</th>\n",
       "      <th>Credit_History</th>\n",
       "      <th>Property_Area</th>\n",
       "      <th>Loan_Status</th>\n",
       "    </tr>\n",
       "  </thead>\n",
       "  <tbody>\n",
       "    <tr>\n",
       "      <th>0</th>\n",
       "      <td>Male</td>\n",
       "      <td>No</td>\n",
       "      <td>0.0</td>\n",
       "      <td>Graduate</td>\n",
       "      <td>No</td>\n",
       "      <td>5849</td>\n",
       "      <td>0.0</td>\n",
       "      <td>NaN</td>\n",
       "      <td>360.0</td>\n",
       "      <td>1.0</td>\n",
       "      <td>Urban</td>\n",
       "      <td>Y</td>\n",
       "    </tr>\n",
       "    <tr>\n",
       "      <th>1</th>\n",
       "      <td>Male</td>\n",
       "      <td>Yes</td>\n",
       "      <td>1.0</td>\n",
       "      <td>Graduate</td>\n",
       "      <td>No</td>\n",
       "      <td>4583</td>\n",
       "      <td>1508.0</td>\n",
       "      <td>128.0</td>\n",
       "      <td>360.0</td>\n",
       "      <td>1.0</td>\n",
       "      <td>Rural</td>\n",
       "      <td>N</td>\n",
       "    </tr>\n",
       "    <tr>\n",
       "      <th>2</th>\n",
       "      <td>Male</td>\n",
       "      <td>Yes</td>\n",
       "      <td>0.0</td>\n",
       "      <td>Graduate</td>\n",
       "      <td>Yes</td>\n",
       "      <td>3000</td>\n",
       "      <td>0.0</td>\n",
       "      <td>66.0</td>\n",
       "      <td>360.0</td>\n",
       "      <td>1.0</td>\n",
       "      <td>Urban</td>\n",
       "      <td>Y</td>\n",
       "    </tr>\n",
       "    <tr>\n",
       "      <th>3</th>\n",
       "      <td>Male</td>\n",
       "      <td>Yes</td>\n",
       "      <td>0.0</td>\n",
       "      <td>Not Graduate</td>\n",
       "      <td>No</td>\n",
       "      <td>2583</td>\n",
       "      <td>2358.0</td>\n",
       "      <td>120.0</td>\n",
       "      <td>360.0</td>\n",
       "      <td>1.0</td>\n",
       "      <td>Urban</td>\n",
       "      <td>Y</td>\n",
       "    </tr>\n",
       "    <tr>\n",
       "      <th>4</th>\n",
       "      <td>Male</td>\n",
       "      <td>No</td>\n",
       "      <td>0.0</td>\n",
       "      <td>Graduate</td>\n",
       "      <td>No</td>\n",
       "      <td>6000</td>\n",
       "      <td>0.0</td>\n",
       "      <td>141.0</td>\n",
       "      <td>360.0</td>\n",
       "      <td>1.0</td>\n",
       "      <td>Urban</td>\n",
       "      <td>Y</td>\n",
       "    </tr>\n",
       "  </tbody>\n",
       "</table>\n",
       "</div>"
      ],
      "text/plain": [
       "  Gender Married  Dependents     Education Self_Employed  ApplicantIncome  \\\n",
       "0   Male      No         0.0      Graduate            No             5849   \n",
       "1   Male     Yes         1.0      Graduate            No             4583   \n",
       "2   Male     Yes         0.0      Graduate           Yes             3000   \n",
       "3   Male     Yes         0.0  Not Graduate            No             2583   \n",
       "4   Male      No         0.0      Graduate            No             6000   \n",
       "\n",
       "   CoapplicantIncome  LoanAmount  Loan_Amount_Term  Credit_History  \\\n",
       "0                0.0         NaN             360.0             1.0   \n",
       "1             1508.0       128.0             360.0             1.0   \n",
       "2                0.0        66.0             360.0             1.0   \n",
       "3             2358.0       120.0             360.0             1.0   \n",
       "4                0.0       141.0             360.0             1.0   \n",
       "\n",
       "  Property_Area Loan_Status  \n",
       "0         Urban           Y  \n",
       "1         Rural           N  \n",
       "2         Urban           Y  \n",
       "3         Urban           Y  \n",
       "4         Urban           Y  "
      ]
     },
     "execution_count": 35,
     "metadata": {},
     "output_type": "execute_result"
    }
   ],
   "source": [
    "train_df=train_df[(np.abs(stats.zscore(train_df_numcols)) < 2.5).all(axis=1)]\n",
    "train_df.head()"
   ]
  },
  {
   "cell_type": "code",
   "execution_count": 36,
   "metadata": {},
   "outputs": [
    {
     "data": {
      "text/html": [
       "<div>\n",
       "<style scoped>\n",
       "    .dataframe tbody tr th:only-of-type {\n",
       "        vertical-align: middle;\n",
       "    }\n",
       "\n",
       "    .dataframe tbody tr th {\n",
       "        vertical-align: top;\n",
       "    }\n",
       "\n",
       "    .dataframe thead th {\n",
       "        text-align: right;\n",
       "    }\n",
       "</style>\n",
       "<table border=\"1\" class=\"dataframe\">\n",
       "  <thead>\n",
       "    <tr style=\"text-align: right;\">\n",
       "      <th></th>\n",
       "      <th>Dependents</th>\n",
       "      <th>ApplicantIncome</th>\n",
       "      <th>CoapplicantIncome</th>\n",
       "      <th>LoanAmount</th>\n",
       "      <th>Loan_Amount_Term</th>\n",
       "      <th>Credit_History</th>\n",
       "    </tr>\n",
       "  </thead>\n",
       "  <tbody>\n",
       "    <tr>\n",
       "      <th>0</th>\n",
       "      <td>0.000000</td>\n",
       "      <td>0.070489</td>\n",
       "      <td>0.000000</td>\n",
       "      <td>0.186686</td>\n",
       "      <td>0.74359</td>\n",
       "      <td>1.0</td>\n",
       "    </tr>\n",
       "    <tr>\n",
       "      <th>1</th>\n",
       "      <td>0.333333</td>\n",
       "      <td>0.054830</td>\n",
       "      <td>0.036192</td>\n",
       "      <td>0.172214</td>\n",
       "      <td>0.74359</td>\n",
       "      <td>1.0</td>\n",
       "    </tr>\n",
       "    <tr>\n",
       "      <th>2</th>\n",
       "      <td>0.000000</td>\n",
       "      <td>0.035250</td>\n",
       "      <td>0.000000</td>\n",
       "      <td>0.082489</td>\n",
       "      <td>0.74359</td>\n",
       "      <td>1.0</td>\n",
       "    </tr>\n",
       "    <tr>\n",
       "      <th>3</th>\n",
       "      <td>0.000000</td>\n",
       "      <td>0.030093</td>\n",
       "      <td>0.056592</td>\n",
       "      <td>0.160637</td>\n",
       "      <td>0.74359</td>\n",
       "      <td>1.0</td>\n",
       "    </tr>\n",
       "    <tr>\n",
       "      <th>4</th>\n",
       "      <td>0.000000</td>\n",
       "      <td>0.072356</td>\n",
       "      <td>0.000000</td>\n",
       "      <td>0.191027</td>\n",
       "      <td>0.74359</td>\n",
       "      <td>1.0</td>\n",
       "    </tr>\n",
       "  </tbody>\n",
       "</table>\n",
       "</div>"
      ],
      "text/plain": [
       "   Dependents  ApplicantIncome  CoapplicantIncome  LoanAmount  \\\n",
       "0    0.000000         0.070489           0.000000    0.186686   \n",
       "1    0.333333         0.054830           0.036192    0.172214   \n",
       "2    0.000000         0.035250           0.000000    0.082489   \n",
       "3    0.000000         0.030093           0.056592    0.160637   \n",
       "4    0.000000         0.072356           0.000000    0.191027   \n",
       "\n",
       "   Loan_Amount_Term  Credit_History  \n",
       "0           0.74359             1.0  \n",
       "1           0.74359             1.0  \n",
       "2           0.74359             1.0  \n",
       "3           0.74359             1.0  \n",
       "4           0.74359             1.0  "
      ]
     },
     "execution_count": 36,
     "metadata": {},
     "output_type": "execute_result"
    }
   ],
   "source": [
    "train_df_numcols=train_df_numcols[(np.abs(stats.zscore(train_df_numcols)) < 2.5).all(axis=1)]\n",
    "train_df_numcols.head()"
   ]
  },
  {
   "cell_type": "code",
   "execution_count": 37,
   "metadata": {},
   "outputs": [
    {
     "data": {
      "text/plain": [
       "(532, 6)"
      ]
     },
     "execution_count": 37,
     "metadata": {},
     "output_type": "execute_result"
    }
   ],
   "source": [
    "train_df_numcols.shape"
   ]
  },
  {
   "cell_type": "code",
   "execution_count": 38,
   "metadata": {},
   "outputs": [
    {
     "data": {
      "text/plain": [
       "(532, 12)"
      ]
     },
     "execution_count": 38,
     "metadata": {},
     "output_type": "execute_result"
    }
   ],
   "source": [
    "train_df.shape"
   ]
  },
  {
   "cell_type": "code",
   "execution_count": 39,
   "metadata": {},
   "outputs": [
    {
     "data": {
      "text/html": [
       "<div>\n",
       "<style scoped>\n",
       "    .dataframe tbody tr th:only-of-type {\n",
       "        vertical-align: middle;\n",
       "    }\n",
       "\n",
       "    .dataframe tbody tr th {\n",
       "        vertical-align: top;\n",
       "    }\n",
       "\n",
       "    .dataframe thead th {\n",
       "        text-align: right;\n",
       "    }\n",
       "</style>\n",
       "<table border=\"1\" class=\"dataframe\">\n",
       "  <thead>\n",
       "    <tr style=\"text-align: right;\">\n",
       "      <th></th>\n",
       "      <th>Dependents</th>\n",
       "      <th>ApplicantIncome</th>\n",
       "      <th>CoapplicantIncome</th>\n",
       "      <th>LoanAmount</th>\n",
       "      <th>Loan_Amount_Term</th>\n",
       "      <th>Credit_History</th>\n",
       "    </tr>\n",
       "  </thead>\n",
       "  <tbody>\n",
       "    <tr>\n",
       "      <th>0</th>\n",
       "      <td>0.000000</td>\n",
       "      <td>0.070489</td>\n",
       "      <td>0.000000</td>\n",
       "      <td>0.186686</td>\n",
       "      <td>0.74359</td>\n",
       "      <td>1.0</td>\n",
       "    </tr>\n",
       "    <tr>\n",
       "      <th>1</th>\n",
       "      <td>0.333333</td>\n",
       "      <td>0.054830</td>\n",
       "      <td>0.036192</td>\n",
       "      <td>0.172214</td>\n",
       "      <td>0.74359</td>\n",
       "      <td>1.0</td>\n",
       "    </tr>\n",
       "    <tr>\n",
       "      <th>2</th>\n",
       "      <td>0.000000</td>\n",
       "      <td>0.035250</td>\n",
       "      <td>0.000000</td>\n",
       "      <td>0.082489</td>\n",
       "      <td>0.74359</td>\n",
       "      <td>1.0</td>\n",
       "    </tr>\n",
       "    <tr>\n",
       "      <th>3</th>\n",
       "      <td>0.000000</td>\n",
       "      <td>0.030093</td>\n",
       "      <td>0.056592</td>\n",
       "      <td>0.160637</td>\n",
       "      <td>0.74359</td>\n",
       "      <td>1.0</td>\n",
       "    </tr>\n",
       "    <tr>\n",
       "      <th>4</th>\n",
       "      <td>0.000000</td>\n",
       "      <td>0.072356</td>\n",
       "      <td>0.000000</td>\n",
       "      <td>0.191027</td>\n",
       "      <td>0.74359</td>\n",
       "      <td>1.0</td>\n",
       "    </tr>\n",
       "  </tbody>\n",
       "</table>\n",
       "</div>"
      ],
      "text/plain": [
       "   Dependents  ApplicantIncome  CoapplicantIncome  LoanAmount  \\\n",
       "0    0.000000         0.070489           0.000000    0.186686   \n",
       "1    0.333333         0.054830           0.036192    0.172214   \n",
       "2    0.000000         0.035250           0.000000    0.082489   \n",
       "3    0.000000         0.030093           0.056592    0.160637   \n",
       "4    0.000000         0.072356           0.000000    0.191027   \n",
       "\n",
       "   Loan_Amount_Term  Credit_History  \n",
       "0           0.74359             1.0  \n",
       "1           0.74359             1.0  \n",
       "2           0.74359             1.0  \n",
       "3           0.74359             1.0  \n",
       "4           0.74359             1.0  "
      ]
     },
     "execution_count": 39,
     "metadata": {},
     "output_type": "execute_result"
    }
   ],
   "source": [
    "train_df_numcols.head()"
   ]
  },
  {
   "cell_type": "markdown",
   "metadata": {},
   "source": [
    "# Separate LABEL \"y\"\n",
    "### Separating Label column ONLY after the outliers are droppped!"
   ]
  },
  {
   "cell_type": "code",
   "execution_count": 40,
   "metadata": {},
   "outputs": [],
   "source": [
    "# Separate Label in Train DF\n",
    "y_train_df= train_df.pop('Loan_Status')\n",
    "# y_train_df.reset_index(drop=True)\n",
    "# y_train_df.head()"
   ]
  },
  {
   "cell_type": "code",
   "execution_count": 41,
   "metadata": {},
   "outputs": [
    {
     "data": {
      "text/plain": [
       "N    163\n",
       "Y    369\n",
       "Name: Loan_Status, dtype: int64"
      ]
     },
     "execution_count": 41,
     "metadata": {},
     "output_type": "execute_result"
    }
   ],
   "source": [
    "y_train_df.value_counts(ascending=True)"
   ]
  },
  {
   "cell_type": "markdown",
   "metadata": {},
   "source": [
    "The DataSet is **moderately imbalanced.**"
   ]
  },
  {
   "cell_type": "code",
   "execution_count": 42,
   "metadata": {},
   "outputs": [
    {
     "data": {
      "text/plain": [
       "(532,)"
      ]
     },
     "execution_count": 42,
     "metadata": {},
     "output_type": "execute_result"
    }
   ],
   "source": [
    "y_train_df.shape"
   ]
  },
  {
   "cell_type": "markdown",
   "metadata": {},
   "source": [
    "# Process Categorical Features"
   ]
  },
  {
   "cell_type": "code",
   "execution_count": 43,
   "metadata": {},
   "outputs": [],
   "source": [
    "# We exclude all numeric columns\n",
    "train_df_catcol = train_df.select_dtypes(exclude=num_cols)\n",
    "# test_df_catcol = train_df.select_dtypes(exclude=num_cols)"
   ]
  },
  {
   "cell_type": "code",
   "execution_count": 44,
   "metadata": {},
   "outputs": [
    {
     "data": {
      "text/plain": [
       "(532, 5)"
      ]
     },
     "execution_count": 44,
     "metadata": {},
     "output_type": "execute_result"
    }
   ],
   "source": [
    "train_df_catcol.shape"
   ]
  },
  {
   "cell_type": "code",
   "execution_count": 45,
   "metadata": {},
   "outputs": [
    {
     "data": {
      "text/html": [
       "<div>\n",
       "<style scoped>\n",
       "    .dataframe tbody tr th:only-of-type {\n",
       "        vertical-align: middle;\n",
       "    }\n",
       "\n",
       "    .dataframe tbody tr th {\n",
       "        vertical-align: top;\n",
       "    }\n",
       "\n",
       "    .dataframe thead th {\n",
       "        text-align: right;\n",
       "    }\n",
       "</style>\n",
       "<table border=\"1\" class=\"dataframe\">\n",
       "  <thead>\n",
       "    <tr style=\"text-align: right;\">\n",
       "      <th></th>\n",
       "      <th>Gender</th>\n",
       "      <th>Married</th>\n",
       "      <th>Education</th>\n",
       "      <th>Self_Employed</th>\n",
       "      <th>Property_Area</th>\n",
       "    </tr>\n",
       "  </thead>\n",
       "  <tbody>\n",
       "    <tr>\n",
       "      <th>0</th>\n",
       "      <td>Male</td>\n",
       "      <td>No</td>\n",
       "      <td>Graduate</td>\n",
       "      <td>No</td>\n",
       "      <td>Urban</td>\n",
       "    </tr>\n",
       "    <tr>\n",
       "      <th>1</th>\n",
       "      <td>Male</td>\n",
       "      <td>Yes</td>\n",
       "      <td>Graduate</td>\n",
       "      <td>No</td>\n",
       "      <td>Rural</td>\n",
       "    </tr>\n",
       "    <tr>\n",
       "      <th>2</th>\n",
       "      <td>Male</td>\n",
       "      <td>Yes</td>\n",
       "      <td>Graduate</td>\n",
       "      <td>Yes</td>\n",
       "      <td>Urban</td>\n",
       "    </tr>\n",
       "    <tr>\n",
       "      <th>3</th>\n",
       "      <td>Male</td>\n",
       "      <td>Yes</td>\n",
       "      <td>Not Graduate</td>\n",
       "      <td>No</td>\n",
       "      <td>Urban</td>\n",
       "    </tr>\n",
       "    <tr>\n",
       "      <th>4</th>\n",
       "      <td>Male</td>\n",
       "      <td>No</td>\n",
       "      <td>Graduate</td>\n",
       "      <td>No</td>\n",
       "      <td>Urban</td>\n",
       "    </tr>\n",
       "  </tbody>\n",
       "</table>\n",
       "</div>"
      ],
      "text/plain": [
       "  Gender Married     Education Self_Employed Property_Area\n",
       "0   Male      No      Graduate            No         Urban\n",
       "1   Male     Yes      Graduate            No         Rural\n",
       "2   Male     Yes      Graduate           Yes         Urban\n",
       "3   Male     Yes  Not Graduate            No         Urban\n",
       "4   Male      No      Graduate            No         Urban"
      ]
     },
     "execution_count": 45,
     "metadata": {},
     "output_type": "execute_result"
    }
   ],
   "source": [
    "train_df_catcol.head()"
   ]
  },
  {
   "cell_type": "markdown",
   "metadata": {},
   "source": [
    "### Imputaton of Categorical Features"
   ]
  },
  {
   "cell_type": "code",
   "execution_count": 46,
   "metadata": {
    "scrolled": true
   },
   "outputs": [
    {
     "data": {
      "text/plain": [
       "Gender           10\n",
       "Married           3\n",
       "Education         0\n",
       "Self_Employed    27\n",
       "Property_Area     0\n",
       "dtype: int64"
      ]
     },
     "execution_count": 46,
     "metadata": {},
     "output_type": "execute_result"
    }
   ],
   "source": [
    "train_df_catcol.isna().sum()"
   ]
  },
  {
   "cell_type": "code",
   "execution_count": 47,
   "metadata": {},
   "outputs": [
    {
     "data": {
      "text/plain": [
       "<AxesSubplot:>"
      ]
     },
     "execution_count": 47,
     "metadata": {},
     "output_type": "execute_result"
    },
    {
     "data": {
      "image/png": "[encoded data removed]",
      "text/plain": [
       "<Figure size 1000x600 with 1 Axes>"
      ]
     },
     "metadata": {},
     "output_type": "display_data"
    }
   ],
   "source": [
    "plt.figure(figsize=(10,6))\n",
    "sns.heatmap(train_df_catcol.isna(), cbar=False, cmap='viridis', yticklabels=False)"
   ]
  },
  {
   "cell_type": "code",
   "execution_count": 48,
   "metadata": {},
   "outputs": [
    {
     "data": {
      "text/html": [
       "<div>\n",
       "<style scoped>\n",
       "    .dataframe tbody tr th:only-of-type {\n",
       "        vertical-align: middle;\n",
       "    }\n",
       "\n",
       "    .dataframe tbody tr th {\n",
       "        vertical-align: top;\n",
       "    }\n",
       "\n",
       "    .dataframe thead th {\n",
       "        text-align: right;\n",
       "    }\n",
       "</style>\n",
       "<table border=\"1\" class=\"dataframe\">\n",
       "  <thead>\n",
       "    <tr style=\"text-align: right;\">\n",
       "      <th></th>\n",
       "      <th>Gender</th>\n",
       "      <th>Married</th>\n",
       "      <th>Education</th>\n",
       "      <th>Self_Employed</th>\n",
       "      <th>Property_Area</th>\n",
       "    </tr>\n",
       "  </thead>\n",
       "  <tbody>\n",
       "    <tr>\n",
       "      <th>23</th>\n",
       "      <td>NaN</td>\n",
       "      <td>Yes</td>\n",
       "      <td>Not Graduate</td>\n",
       "      <td>No</td>\n",
       "      <td>Rural</td>\n",
       "    </tr>\n",
       "    <tr>\n",
       "      <th>188</th>\n",
       "      <td>NaN</td>\n",
       "      <td>Yes</td>\n",
       "      <td>Graduate</td>\n",
       "      <td>Yes</td>\n",
       "      <td>Rural</td>\n",
       "    </tr>\n",
       "    <tr>\n",
       "      <th>314</th>\n",
       "      <td>NaN</td>\n",
       "      <td>Yes</td>\n",
       "      <td>Graduate</td>\n",
       "      <td>No</td>\n",
       "      <td>Rural</td>\n",
       "    </tr>\n",
       "    <tr>\n",
       "      <th>460</th>\n",
       "      <td>NaN</td>\n",
       "      <td>Yes</td>\n",
       "      <td>Graduate</td>\n",
       "      <td>Yes</td>\n",
       "      <td>Semiurban</td>\n",
       "    </tr>\n",
       "    <tr>\n",
       "      <th>467</th>\n",
       "      <td>NaN</td>\n",
       "      <td>Yes</td>\n",
       "      <td>Graduate</td>\n",
       "      <td>No</td>\n",
       "      <td>Semiurban</td>\n",
       "    </tr>\n",
       "    <tr>\n",
       "      <th>477</th>\n",
       "      <td>NaN</td>\n",
       "      <td>Yes</td>\n",
       "      <td>Graduate</td>\n",
       "      <td>No</td>\n",
       "      <td>Semiurban</td>\n",
       "    </tr>\n",
       "    <tr>\n",
       "      <th>507</th>\n",
       "      <td>NaN</td>\n",
       "      <td>No</td>\n",
       "      <td>Graduate</td>\n",
       "      <td>No</td>\n",
       "      <td>Urban</td>\n",
       "    </tr>\n",
       "    <tr>\n",
       "      <th>576</th>\n",
       "      <td>NaN</td>\n",
       "      <td>Yes</td>\n",
       "      <td>Graduate</td>\n",
       "      <td>No</td>\n",
       "      <td>Semiurban</td>\n",
       "    </tr>\n",
       "    <tr>\n",
       "      <th>588</th>\n",
       "      <td>NaN</td>\n",
       "      <td>No</td>\n",
       "      <td>Graduate</td>\n",
       "      <td>No</td>\n",
       "      <td>Semiurban</td>\n",
       "    </tr>\n",
       "    <tr>\n",
       "      <th>592</th>\n",
       "      <td>NaN</td>\n",
       "      <td>No</td>\n",
       "      <td>Graduate</td>\n",
       "      <td>Yes</td>\n",
       "      <td>Semiurban</td>\n",
       "    </tr>\n",
       "  </tbody>\n",
       "</table>\n",
       "</div>"
      ],
      "text/plain": [
       "    Gender Married     Education Self_Employed Property_Area\n",
       "23     NaN     Yes  Not Graduate            No         Rural\n",
       "188    NaN     Yes      Graduate           Yes         Rural\n",
       "314    NaN     Yes      Graduate            No         Rural\n",
       "460    NaN     Yes      Graduate           Yes     Semiurban\n",
       "467    NaN     Yes      Graduate            No     Semiurban\n",
       "477    NaN     Yes      Graduate            No     Semiurban\n",
       "507    NaN      No      Graduate            No         Urban\n",
       "576    NaN     Yes      Graduate            No     Semiurban\n",
       "588    NaN      No      Graduate            No     Semiurban\n",
       "592    NaN      No      Graduate           Yes     Semiurban"
      ]
     },
     "execution_count": 48,
     "metadata": {},
     "output_type": "execute_result"
    }
   ],
   "source": [
    "train_df_catcol[(train_df_catcol['Gender'].isna()) ]"
   ]
  },
  {
   "cell_type": "code",
   "execution_count": 49,
   "metadata": {},
   "outputs": [],
   "source": [
    "numcols = train_df_catcol.columns.tolist()\n",
    "imputer_mode = SimpleImputer(missing_values=pd.NA, strategy='most_frequent')\n",
    "train_df_catcol= pd.DataFrame(imputer_mode.fit_transform(train_df_catcol), columns =numcols)"
   ]
  },
  {
   "cell_type": "code",
   "execution_count": 50,
   "metadata": {},
   "outputs": [
    {
     "data": {
      "text/plain": [
       "<AxesSubplot:>"
      ]
     },
     "execution_count": 50,
     "metadata": {},
     "output_type": "execute_result"
    },
    {
     "data": {
      "image/png": "[encoded data removed]",
      "text/plain": [
       "<Figure size 1000x600 with 1 Axes>"
      ]
     },
     "metadata": {},
     "output_type": "display_data"
    }
   ],
   "source": [
    "plt.figure(figsize=(10,6))\n",
    "sns.heatmap(train_df_catcol.isna(), cbar=False, cmap='viridis', yticklabels=False)"
   ]
  },
  {
   "cell_type": "code",
   "execution_count": 51,
   "metadata": {},
   "outputs": [
    {
     "data": {
      "text/plain": [
       "Gender           0\n",
       "Married          0\n",
       "Education        0\n",
       "Self_Employed    0\n",
       "Property_Area    0\n",
       "dtype: int64"
      ]
     },
     "execution_count": 51,
     "metadata": {},
     "output_type": "execute_result"
    }
   ],
   "source": [
    "train_df_catcol.isna().sum()"
   ]
  },
  {
   "cell_type": "markdown",
   "metadata": {},
   "source": [
    "### One-hot encoding Categorical Features"
   ]
  },
  {
   "cell_type": "code",
   "execution_count": 52,
   "metadata": {},
   "outputs": [],
   "source": [
    "# Steps to one-hot encoding:\n",
    "# - We iterate through each categorical column name\n",
    "# - Create encoded variables for each categorical columns\n",
    "# - Concatenate the encoded variables column to the data frame\n",
    "# - Remove the original categorical variable column\n",
    "for col in train_df_catcol.columns.values:\n",
    "    one_hot_encoded_variables = pd.get_dummies(train_df_catcol[col], prefix=col, sparse=False)\n",
    "    train_df_catcol = pd.concat([train_df_catcol, one_hot_encoded_variables], axis=1)\n",
    "    train_df_catcol.drop([col],axis=1, inplace=True)"
   ]
  },
  {
   "cell_type": "code",
   "execution_count": 53,
   "metadata": {},
   "outputs": [
    {
     "data": {
      "text/plain": [
       "Gender_Female              0\n",
       "Gender_Male                0\n",
       "Married_No                 0\n",
       "Married_Yes                0\n",
       "Education_Graduate         0\n",
       "Education_Not Graduate     0\n",
       "Self_Employed_No           0\n",
       "Self_Employed_Yes          0\n",
       "Property_Area_Rural        0\n",
       "Property_Area_Semiurban    0\n",
       "Property_Area_Urban        0\n",
       "dtype: int64"
      ]
     },
     "execution_count": 53,
     "metadata": {},
     "output_type": "execute_result"
    }
   ],
   "source": [
    "train_df_catcol.isna().sum()"
   ]
  },
  {
   "cell_type": "code",
   "execution_count": 54,
   "metadata": {},
   "outputs": [
    {
     "data": {
      "text/plain": [
       "(532, 11)"
      ]
     },
     "execution_count": 54,
     "metadata": {},
     "output_type": "execute_result"
    }
   ],
   "source": [
    "train_df_catcol.shape\n",
    "# train_df_catcol"
   ]
  },
  {
   "cell_type": "code",
   "execution_count": 55,
   "metadata": {},
   "outputs": [],
   "source": [
    "# train_df_catcol['Married'].unique()\n",
    "# train_df_catcol['Gender'].unique()\n",
    "# train_df_catcol['Self_Employed'].unique()"
   ]
  },
  {
   "cell_type": "code",
   "execution_count": 56,
   "metadata": {},
   "outputs": [
    {
     "data": {
      "text/html": [
       "<div>\n",
       "<style scoped>\n",
       "    .dataframe tbody tr th:only-of-type {\n",
       "        vertical-align: middle;\n",
       "    }\n",
       "\n",
       "    .dataframe tbody tr th {\n",
       "        vertical-align: top;\n",
       "    }\n",
       "\n",
       "    .dataframe thead th {\n",
       "        text-align: right;\n",
       "    }\n",
       "</style>\n",
       "<table border=\"1\" class=\"dataframe\">\n",
       "  <thead>\n",
       "    <tr style=\"text-align: right;\">\n",
       "      <th></th>\n",
       "      <th>Gender_Female</th>\n",
       "      <th>Gender_Male</th>\n",
       "      <th>Married_No</th>\n",
       "      <th>Married_Yes</th>\n",
       "      <th>Education_Graduate</th>\n",
       "      <th>Education_Not Graduate</th>\n",
       "      <th>Self_Employed_No</th>\n",
       "      <th>Self_Employed_Yes</th>\n",
       "      <th>Property_Area_Rural</th>\n",
       "      <th>Property_Area_Semiurban</th>\n",
       "      <th>Property_Area_Urban</th>\n",
       "    </tr>\n",
       "  </thead>\n",
       "  <tbody>\n",
       "    <tr>\n",
       "      <th>0</th>\n",
       "      <td>0</td>\n",
       "      <td>1</td>\n",
       "      <td>1</td>\n",
       "      <td>0</td>\n",
       "      <td>1</td>\n",
       "      <td>0</td>\n",
       "      <td>1</td>\n",
       "      <td>0</td>\n",
       "      <td>0</td>\n",
       "      <td>0</td>\n",
       "      <td>1</td>\n",
       "    </tr>\n",
       "    <tr>\n",
       "      <th>1</th>\n",
       "      <td>0</td>\n",
       "      <td>1</td>\n",
       "      <td>0</td>\n",
       "      <td>1</td>\n",
       "      <td>1</td>\n",
       "      <td>0</td>\n",
       "      <td>1</td>\n",
       "      <td>0</td>\n",
       "      <td>1</td>\n",
       "      <td>0</td>\n",
       "      <td>0</td>\n",
       "    </tr>\n",
       "    <tr>\n",
       "      <th>2</th>\n",
       "      <td>0</td>\n",
       "      <td>1</td>\n",
       "      <td>0</td>\n",
       "      <td>1</td>\n",
       "      <td>1</td>\n",
       "      <td>0</td>\n",
       "      <td>0</td>\n",
       "      <td>1</td>\n",
       "      <td>0</td>\n",
       "      <td>0</td>\n",
       "      <td>1</td>\n",
       "    </tr>\n",
       "    <tr>\n",
       "      <th>3</th>\n",
       "      <td>0</td>\n",
       "      <td>1</td>\n",
       "      <td>0</td>\n",
       "      <td>1</td>\n",
       "      <td>0</td>\n",
       "      <td>1</td>\n",
       "      <td>1</td>\n",
       "      <td>0</td>\n",
       "      <td>0</td>\n",
       "      <td>0</td>\n",
       "      <td>1</td>\n",
       "    </tr>\n",
       "    <tr>\n",
       "      <th>4</th>\n",
       "      <td>0</td>\n",
       "      <td>1</td>\n",
       "      <td>1</td>\n",
       "      <td>0</td>\n",
       "      <td>1</td>\n",
       "      <td>0</td>\n",
       "      <td>1</td>\n",
       "      <td>0</td>\n",
       "      <td>0</td>\n",
       "      <td>0</td>\n",
       "      <td>1</td>\n",
       "    </tr>\n",
       "  </tbody>\n",
       "</table>\n",
       "</div>"
      ],
      "text/plain": [
       "   Gender_Female  Gender_Male  Married_No  Married_Yes  Education_Graduate  \\\n",
       "0              0            1           1            0                   1   \n",
       "1              0            1           0            1                   1   \n",
       "2              0            1           0            1                   1   \n",
       "3              0            1           0            1                   0   \n",
       "4              0            1           1            0                   1   \n",
       "\n",
       "   Education_Not Graduate  Self_Employed_No  Self_Employed_Yes  \\\n",
       "0                       0                 1                  0   \n",
       "1                       0                 1                  0   \n",
       "2                       0                 0                  1   \n",
       "3                       1                 1                  0   \n",
       "4                       0                 1                  0   \n",
       "\n",
       "   Property_Area_Rural  Property_Area_Semiurban  Property_Area_Urban  \n",
       "0                    0                        0                    1  \n",
       "1                    1                        0                    0  \n",
       "2                    0                        0                    1  \n",
       "3                    0                        0                    1  \n",
       "4                    0                        0                    1  "
      ]
     },
     "execution_count": 56,
     "metadata": {},
     "output_type": "execute_result"
    }
   ],
   "source": [
    "train_df_catcol.head()"
   ]
  },
  {
   "cell_type": "code",
   "execution_count": 57,
   "metadata": {},
   "outputs": [
    {
     "data": {
      "text/html": [
       "<div>\n",
       "<style scoped>\n",
       "    .dataframe tbody tr th:only-of-type {\n",
       "        vertical-align: middle;\n",
       "    }\n",
       "\n",
       "    .dataframe tbody tr th {\n",
       "        vertical-align: top;\n",
       "    }\n",
       "\n",
       "    .dataframe thead th {\n",
       "        text-align: right;\n",
       "    }\n",
       "</style>\n",
       "<table border=\"1\" class=\"dataframe\">\n",
       "  <thead>\n",
       "    <tr style=\"text-align: right;\">\n",
       "      <th></th>\n",
       "      <th>Gender_Female</th>\n",
       "      <th>Gender_Male</th>\n",
       "      <th>Married_No</th>\n",
       "      <th>Married_Yes</th>\n",
       "      <th>Education_Graduate</th>\n",
       "      <th>Education_Not Graduate</th>\n",
       "      <th>Self_Employed_No</th>\n",
       "      <th>Self_Employed_Yes</th>\n",
       "      <th>Property_Area_Rural</th>\n",
       "      <th>Property_Area_Semiurban</th>\n",
       "      <th>Property_Area_Urban</th>\n",
       "    </tr>\n",
       "  </thead>\n",
       "  <tbody>\n",
       "  </tbody>\n",
       "</table>\n",
       "</div>"
      ],
      "text/plain": [
       "Empty DataFrame\n",
       "Columns: [Gender_Female, Gender_Male, Married_No, Married_Yes, Education_Graduate, Education_Not Graduate, Self_Employed_No, Self_Employed_Yes, Property_Area_Rural, Property_Area_Semiurban, Property_Area_Urban]\n",
       "Index: []"
      ]
     },
     "execution_count": 57,
     "metadata": {},
     "output_type": "execute_result"
    }
   ],
   "source": [
    "# check correct imputation applied to one-hot\n",
    "train_df_catcol[(train_df_catcol['Gender_Female'] == 0) & (train_df_catcol['Gender_Male'] == 0)]"
   ]
  },
  {
   "cell_type": "markdown",
   "metadata": {},
   "source": [
    "# Join Numerical and Categorical Features\n",
    "### It is important to re-index the Dataframes to be concatenated aspandas might keep in memory \"old indexes\" providing unexpected results "
   ]
  },
  {
   "cell_type": "code",
   "execution_count": 58,
   "metadata": {},
   "outputs": [],
   "source": [
    "# Concatenate both numeric and one-hot encoded columns in the data frame\n",
    "train_df_final = pd.concat([train_df_numcols.reset_index(drop=True), \n",
    "                            train_df_catcol.reset_index(drop=True)], \n",
    "                           axis=1)\n",
    "\n",
    "# When many transoformations of the data has been performed,\n",
    "# pandas might keep in memory \"old indexes\" of the DataFrame and different amount \n",
    "# of columns might appear (unexpected results)\n",
    "# So, it is important to reindex the Dataframes to be concatenated"
   ]
  },
  {
   "cell_type": "code",
   "execution_count": 59,
   "metadata": {},
   "outputs": [
    {
     "data": {
      "text/html": [
       "<div>\n",
       "<style scoped>\n",
       "    .dataframe tbody tr th:only-of-type {\n",
       "        vertical-align: middle;\n",
       "    }\n",
       "\n",
       "    .dataframe tbody tr th {\n",
       "        vertical-align: top;\n",
       "    }\n",
       "\n",
       "    .dataframe thead th {\n",
       "        text-align: right;\n",
       "    }\n",
       "</style>\n",
       "<table border=\"1\" class=\"dataframe\">\n",
       "  <thead>\n",
       "    <tr style=\"text-align: right;\">\n",
       "      <th></th>\n",
       "      <th>Dependents</th>\n",
       "      <th>ApplicantIncome</th>\n",
       "      <th>CoapplicantIncome</th>\n",
       "      <th>LoanAmount</th>\n",
       "      <th>Loan_Amount_Term</th>\n",
       "      <th>Credit_History</th>\n",
       "      <th>Gender_Female</th>\n",
       "      <th>Gender_Male</th>\n",
       "      <th>Married_No</th>\n",
       "      <th>Married_Yes</th>\n",
       "      <th>Education_Graduate</th>\n",
       "      <th>Education_Not Graduate</th>\n",
       "      <th>Self_Employed_No</th>\n",
       "      <th>Self_Employed_Yes</th>\n",
       "      <th>Property_Area_Rural</th>\n",
       "      <th>Property_Area_Semiurban</th>\n",
       "      <th>Property_Area_Urban</th>\n",
       "    </tr>\n",
       "  </thead>\n",
       "  <tbody>\n",
       "    <tr>\n",
       "      <th>0</th>\n",
       "      <td>0.000000</td>\n",
       "      <td>0.070489</td>\n",
       "      <td>0.000000</td>\n",
       "      <td>0.186686</td>\n",
       "      <td>0.74359</td>\n",
       "      <td>1.0</td>\n",
       "      <td>0</td>\n",
       "      <td>1</td>\n",
       "      <td>1</td>\n",
       "      <td>0</td>\n",
       "      <td>1</td>\n",
       "      <td>0</td>\n",
       "      <td>1</td>\n",
       "      <td>0</td>\n",
       "      <td>0</td>\n",
       "      <td>0</td>\n",
       "      <td>1</td>\n",
       "    </tr>\n",
       "    <tr>\n",
       "      <th>1</th>\n",
       "      <td>0.333333</td>\n",
       "      <td>0.054830</td>\n",
       "      <td>0.036192</td>\n",
       "      <td>0.172214</td>\n",
       "      <td>0.74359</td>\n",
       "      <td>1.0</td>\n",
       "      <td>0</td>\n",
       "      <td>1</td>\n",
       "      <td>0</td>\n",
       "      <td>1</td>\n",
       "      <td>1</td>\n",
       "      <td>0</td>\n",
       "      <td>1</td>\n",
       "      <td>0</td>\n",
       "      <td>1</td>\n",
       "      <td>0</td>\n",
       "      <td>0</td>\n",
       "    </tr>\n",
       "    <tr>\n",
       "      <th>2</th>\n",
       "      <td>0.000000</td>\n",
       "      <td>0.035250</td>\n",
       "      <td>0.000000</td>\n",
       "      <td>0.082489</td>\n",
       "      <td>0.74359</td>\n",
       "      <td>1.0</td>\n",
       "      <td>0</td>\n",
       "      <td>1</td>\n",
       "      <td>0</td>\n",
       "      <td>1</td>\n",
       "      <td>1</td>\n",
       "      <td>0</td>\n",
       "      <td>0</td>\n",
       "      <td>1</td>\n",
       "      <td>0</td>\n",
       "      <td>0</td>\n",
       "      <td>1</td>\n",
       "    </tr>\n",
       "    <tr>\n",
       "      <th>3</th>\n",
       "      <td>0.000000</td>\n",
       "      <td>0.030093</td>\n",
       "      <td>0.056592</td>\n",
       "      <td>0.160637</td>\n",
       "      <td>0.74359</td>\n",
       "      <td>1.0</td>\n",
       "      <td>0</td>\n",
       "      <td>1</td>\n",
       "      <td>0</td>\n",
       "      <td>1</td>\n",
       "      <td>0</td>\n",
       "      <td>1</td>\n",
       "      <td>1</td>\n",
       "      <td>0</td>\n",
       "      <td>0</td>\n",
       "      <td>0</td>\n",
       "      <td>1</td>\n",
       "    </tr>\n",
       "    <tr>\n",
       "      <th>4</th>\n",
       "      <td>0.000000</td>\n",
       "      <td>0.072356</td>\n",
       "      <td>0.000000</td>\n",
       "      <td>0.191027</td>\n",
       "      <td>0.74359</td>\n",
       "      <td>1.0</td>\n",
       "      <td>0</td>\n",
       "      <td>1</td>\n",
       "      <td>1</td>\n",
       "      <td>0</td>\n",
       "      <td>1</td>\n",
       "      <td>0</td>\n",
       "      <td>1</td>\n",
       "      <td>0</td>\n",
       "      <td>0</td>\n",
       "      <td>0</td>\n",
       "      <td>1</td>\n",
       "    </tr>\n",
       "  </tbody>\n",
       "</table>\n",
       "</div>"
      ],
      "text/plain": [
       "   Dependents  ApplicantIncome  CoapplicantIncome  LoanAmount  \\\n",
       "0    0.000000         0.070489           0.000000    0.186686   \n",
       "1    0.333333         0.054830           0.036192    0.172214   \n",
       "2    0.000000         0.035250           0.000000    0.082489   \n",
       "3    0.000000         0.030093           0.056592    0.160637   \n",
       "4    0.000000         0.072356           0.000000    0.191027   \n",
       "\n",
       "   Loan_Amount_Term  Credit_History  Gender_Female  Gender_Male  Married_No  \\\n",
       "0           0.74359             1.0              0            1           1   \n",
       "1           0.74359             1.0              0            1           0   \n",
       "2           0.74359             1.0              0            1           0   \n",
       "3           0.74359             1.0              0            1           0   \n",
       "4           0.74359             1.0              0            1           1   \n",
       "\n",
       "   Married_Yes  Education_Graduate  Education_Not Graduate  Self_Employed_No  \\\n",
       "0            0                   1                       0                 1   \n",
       "1            1                   1                       0                 1   \n",
       "2            1                   1                       0                 0   \n",
       "3            1                   0                       1                 1   \n",
       "4            0                   1                       0                 1   \n",
       "\n",
       "   Self_Employed_Yes  Property_Area_Rural  Property_Area_Semiurban  \\\n",
       "0                  0                    0                        0   \n",
       "1                  0                    1                        0   \n",
       "2                  1                    0                        0   \n",
       "3                  0                    0                        0   \n",
       "4                  0                    0                        0   \n",
       "\n",
       "   Property_Area_Urban  \n",
       "0                    1  \n",
       "1                    0  \n",
       "2                    1  \n",
       "3                    1  \n",
       "4                    1  "
      ]
     },
     "execution_count": 59,
     "metadata": {},
     "output_type": "execute_result"
    }
   ],
   "source": [
    "train_df_final.head()"
   ]
  },
  {
   "cell_type": "markdown",
   "metadata": {},
   "source": [
    "### Final Sanity check"
   ]
  },
  {
   "cell_type": "code",
   "execution_count": 60,
   "metadata": {},
   "outputs": [
    {
     "data": {
      "text/plain": [
       "Dependents                 0\n",
       "ApplicantIncome            0\n",
       "CoapplicantIncome          0\n",
       "LoanAmount                 0\n",
       "Loan_Amount_Term           0\n",
       "Credit_History             0\n",
       "Gender_Female              0\n",
       "Gender_Male                0\n",
       "Married_No                 0\n",
       "Married_Yes                0\n",
       "Education_Graduate         0\n",
       "Education_Not Graduate     0\n",
       "Self_Employed_No           0\n",
       "Self_Employed_Yes          0\n",
       "Property_Area_Rural        0\n",
       "Property_Area_Semiurban    0\n",
       "Property_Area_Urban        0\n",
       "dtype: int64"
      ]
     },
     "execution_count": 60,
     "metadata": {},
     "output_type": "execute_result"
    }
   ],
   "source": [
    "train_df_final.isna().sum()"
   ]
  },
  {
   "cell_type": "code",
   "execution_count": 61,
   "metadata": {},
   "outputs": [
    {
     "data": {
      "text/plain": [
       "(532, 17)"
      ]
     },
     "execution_count": 61,
     "metadata": {},
     "output_type": "execute_result"
    }
   ],
   "source": [
    "train_df_final.shape"
   ]
  },
  {
   "cell_type": "markdown",
   "metadata": {},
   "source": [
    "# Generate Training and Validation sets "
   ]
  },
  {
   "cell_type": "code",
   "execution_count": 62,
   "metadata": {},
   "outputs": [
    {
     "data": {
      "text/plain": [
       "((425, 17), (107, 17), (425,), (107,))"
      ]
     },
     "execution_count": 62,
     "metadata": {},
     "output_type": "execute_result"
    }
   ],
   "source": [
    "X_train, X_test, y_train, y_test = train_test_split(train_df_final, \n",
    "                                                   y_train_df.reset_index(drop=True), # To get rid of old index in memory\n",
    "                                                   test_size=0.2, \n",
    "                                                   random_state=49)\n",
    "\n",
    "X_train.shape, X_test.shape, y_train.shape, y_test.shape"
   ]
  },
  {
   "cell_type": "markdown",
   "metadata": {},
   "source": [
    "### Auxiliary function to plot Confusion Matrix"
   ]
  },
  {
   "cell_type": "code",
   "execution_count": 63,
   "metadata": {},
   "outputs": [],
   "source": [
    "def plot_confusion_matrix(cm, classes,\n",
    "                          normalize=False,\n",
    "                          title='Confusion matrix',\n",
    "                          cmap=plt.cm.Blues):\n",
    "    \"\"\"\n",
    "    This function prints and plots the confusion matrix.\n",
    "    Normalization can be applied by setting `normalize=True`.\n",
    "    \"\"\"\n",
    "    #if normalize:\n",
    "     #   cm = cm.astype('float') / cm.sum(axis=1)[:, np.newaxis]\n",
    "     #  print(\"Normalized confusion matrix\")\n",
    "    #else:\n",
    "    #    print('Confusion matrix, without normalization')\n",
    "\n",
    "    #print(cm)\n",
    "\n",
    "    plt.imshow(cm, interpolation='nearest', cmap=cmap)\n",
    "    plt.title(title)\n",
    "    plt.colorbar()\n",
    "    tick_marks = np.arange(len(classes))\n",
    "    plt.xticks(tick_marks, classes, rotation=45)\n",
    "    plt.yticks(tick_marks, classes)\n",
    "\n",
    "    fmt = '.2f' if normalize else 'd'\n",
    "    thresh = cm.max() / 2.\n",
    "    for i, j in itertools.product(range(cm.shape[0]), range(cm.shape[1])):\n",
    "        plt.text(j, i, format(cm[i, j], fmt),\n",
    "                 horizontalalignment=\"center\",\n",
    "                 color=\"white\" if cm[i, j] > thresh else \"black\")\n",
    "    plt.grid(b=None)  ## added\n",
    "    plt.ylabel('True label')\n",
    "    plt.xlabel('Predicted label')\n",
    "    plt.tight_layout()"
   ]
  },
  {
   "cell_type": "markdown",
   "metadata": {},
   "source": [
    "# Model Definitions:\n",
    "### GridSearchCV + RandomizedSearchCV\n",
    "13 different models estimators with grid and random search => 26 models to train"
   ]
  },
  {
   "cell_type": "code",
   "execution_count": 64,
   "metadata": {},
   "outputs": [],
   "source": [
    "RSEED = 49\n",
    "# rs = RandomState(RSEED)\n",
    "cross_validation_splits = 5"
   ]
  },
  {
   "cell_type": "code",
   "execution_count": 65,
   "metadata": {},
   "outputs": [],
   "source": [
    "KNN_grid_search_parameters = {\"n_neighbors\": [ 3, 4, 5, 7, 10, 12, 15],\n",
    "                              \"weights\": ['uniform', 'distance'],\n",
    "                              \"algorithm\": ['auto', 'ball_tree', 'kd_tree', 'brute'],\n",
    "                              \"leaf_size\": [15, 30, 45],\n",
    "                             }\n",
    "\n",
    "KNN_grid_search_model = GridSearchCV(estimator=KNeighborsClassifier(),\n",
    "                                param_grid=KNN_grid_search_parameters,\n",
    "                                scoring='accuracy',\n",
    "                                n_jobs=-1,\n",
    "                                cv=cross_validation_splits,\n",
    "                                verbose=1)\n",
    "\n",
    "KNN_random_search_distributions = {\n",
    "                                   \"n_neighbors\": np.arange(2, 21),\n",
    "                                   \"weights\": ['uniform', 'distance'],\n",
    "                                   \"algorithm\": ['auto', 'ball_tree', 'kd_tree', 'brute'],\n",
    "                                   \"leaf_size\": np.arange(5, 51),\n",
    "                                  }\n",
    "KNN_random_search_model = RandomizedSearchCV(estimator=KNeighborsClassifier(), \n",
    "                                             param_distributions=KNN_random_search_distributions,\n",
    "                                             scoring='accuracy',\n",
    "                                             n_jobs=-1,\n",
    "                                             cv=cross_validation_splits,\n",
    "                                             verbose=1)"
   ]
  },
  {
   "cell_type": "code",
   "execution_count": 66,
   "metadata": {},
   "outputs": [],
   "source": [
    "LR_grid_search_parameters = {\"penalty\": [ 'l1', 'l2', ], # 'none', 'elasticnet'\n",
    "                             \"C\": [0.001, 0.005, 0.01, 0.05, 0.1, 0.5, 0.75, 1, 1.5],\n",
    "                             \"solver\": ['newton-cg', 'lbfgs', 'liblinear'], #'sag', 'saga'],\n",
    "                             \"max_iter\": [500],\n",
    "                             \"multi_class\": ['auto'],\n",
    "                             \"n_jobs\": [-1],\n",
    "                             \"l1_ratio\": [0, 0.1, 0.2, 0.3, 0.4, 0.5, 0.6, 0.7, 0.8, 0.9, 1]\n",
    "                            }\n",
    "\n",
    "LR_grid_search_model = GridSearchCV(estimator=LogisticRegression(),\n",
    "                                param_grid=LR_grid_search_parameters,\n",
    "                                scoring='accuracy',\n",
    "                                n_jobs=-1,\n",
    "                                cv=cross_validation_splits,\n",
    "                                verbose=1)\n",
    "\n",
    "\n",
    "LR_random_search_distributions = {\n",
    "                                  \"penalty\": [ 'l1', 'l2', ], # 'none', 'elasticnet'\n",
    "                                  \"C\": np.arange(0., 1, 0.001),\n",
    "                                  \"solver\": ['newton-cg', 'lbfgs', 'liblinear'], #'sag', 'saga'],\n",
    "                                  \"max_iter\": [500],\n",
    "                                  \"multi_class\": ['auto'],\n",
    "                                  \"n_jobs\": [-1],\n",
    "                                  \"l1_ratio\": np.arange(0, 1, 0.1)\n",
    "                                 }\n",
    "LR_random_search_model = RandomizedSearchCV(estimator=LogisticRegression(), \n",
    "                                             param_distributions=LR_random_search_distributions,\n",
    "                                             scoring='accuracy',\n",
    "                                             n_jobs=-1,\n",
    "                                             cv=cross_validation_splits,\n",
    "                                             verbose=1)"
   ]
  },
  {
   "cell_type": "code",
   "execution_count": 67,
   "metadata": {},
   "outputs": [],
   "source": [
    "DT_grid_search_parameters = {\"criterion\": [ 'gini', 'entropy', 'log_loss'],\n",
    "                             \"splitter\": ['best', 'random'],\n",
    "                             \"max_depth\": [None, 2, 4, 6],\n",
    "                             \"min_samples_split\": [2,5, 10, 15, 20, 30, 50],\n",
    "                             \"random_state\": [RSEED]\n",
    "                            }\n",
    "DT_grid_search_model = GridSearchCV(estimator=DecisionTreeClassifier(),\n",
    "                                param_grid=DT_grid_search_parameters,\n",
    "                                scoring='accuracy',\n",
    "                                n_jobs=-1,\n",
    "                                cv=cross_validation_splits,\n",
    "                                verbose=1)\n",
    "\n",
    "DT_random_search_distributions = {\n",
    "                                   \"criterion\": [ 'gini', 'entropy', 'log_loss'],\n",
    "                                   \"max_depth\": list(np.arange(0,21)),\n",
    "                                   \"max_features\": ['auto', 'sqrt', None] + list(np.arange(0.5, 1, 0.1)),\n",
    "                                   \"max_leaf_nodes\": list(np.arange(5,51)),\n",
    "                                   \"min_samples_split\": list(np.arange(2,51)),\n",
    "                                   \"random_state\": [RSEED]\n",
    "                                  }\n",
    "\n",
    "DT_random_search_model = RandomizedSearchCV(estimator=DecisionTreeClassifier(),\n",
    "                                param_distributions=DT_random_search_distributions,\n",
    "                                scoring='accuracy',\n",
    "                                n_jobs=-1,\n",
    "                                cv=cross_validation_splits,\n",
    "                                verbose=1)"
   ]
  },
  {
   "cell_type": "code",
   "execution_count": 68,
   "metadata": {},
   "outputs": [],
   "source": [
    "RF_grid_search_parameters = {\"criterion\": [ 'gini', 'entropy', 'log_loss'],\n",
    "                             \"n_estimators\": [20, 50, 100],\n",
    "                             \"max_depth\": [None, 2, 4, 6],\n",
    "                             \"min_samples_split\": [2,5, 10, 15, 20, 30, 50],\n",
    "                             \"random_state\": [RSEED]\n",
    "                            }\n",
    "RF_grid_search_model = GridSearchCV(estimator=RandomForestClassifier(),\n",
    "                                param_grid=RF_grid_search_parameters,\n",
    "                                scoring='accuracy',\n",
    "                                n_jobs=-1,\n",
    "                                cv=cross_validation_splits,\n",
    "                                verbose=1)\n",
    "\n",
    "RF_random_search_distributions = {\n",
    "                                   \"criterion\": [ 'gini', 'entropy', 'log_loss'],\n",
    "                                   \"n_estimators\": list(np.arange(5,250)),\n",
    "                                   \"max_depth\": list(np.arange(0,21)),\n",
    "#                                    \"max_features\": ['auto', 'sqrt', None] + list(np.arange(0.5, 1, 0.1)),\n",
    "#                                    \"max_leaf_nodes\": list(np.arange(5,51)),\n",
    "                                   \"min_samples_split\": list(np.arange(2,101)),\n",
    "                                   \"random_state\": [RSEED]\n",
    "                                  }\n",
    "\n",
    "RF_random_search_model = RandomizedSearchCV(estimator=RandomForestClassifier(),\n",
    "                                param_distributions=RF_random_search_distributions,\n",
    "                                scoring='accuracy',\n",
    "                                n_jobs=-1,\n",
    "                                cv=cross_validation_splits,\n",
    "                                verbose=1)"
   ]
  },
  {
   "cell_type": "code",
   "execution_count": 69,
   "metadata": {},
   "outputs": [],
   "source": [
    "SGD_grid_search_parameters = {\"loss\": [ 'hinge', \n",
    "                                       'log_loss', \n",
    "                                       'log', \n",
    "                                       'modified_huber', \n",
    "                                       'squared_hinge', \n",
    "                                       'perceptron', \n",
    "                                       'squared_error', \n",
    "                                       'huber', \n",
    "                                       'epsilon_insensitive', \n",
    "                                       'squared_epsilon_insensitive'],\n",
    "                              \"penalty\": ['l1', 'l2'],\n",
    "                              \"alpha\": [0, 0.0001, 0.001, 0.01, 0.1, 0.25, 0.5, 0.75, 1],\n",
    "                              \"random_state\": [RSEED]\n",
    "                             }\n",
    "\n",
    "SGD_grid_search_model = GridSearchCV(estimator=SGDClassifier(),\n",
    "                                param_grid=SGD_grid_search_parameters,\n",
    "                                scoring='accuracy',\n",
    "                                n_jobs=-1,\n",
    "                                cv=cross_validation_splits,\n",
    "                                verbose=1)\n",
    "\n",
    "SGD_random_search_distributions = {\n",
    "                                   \"loss\": [ 'hinge', \n",
    "                                             'log_loss', \n",
    "                                             'log', \n",
    "                                             'modified_huber', \n",
    "                                             'squared_hinge', \n",
    "                                             'perceptron', \n",
    "                                             'squared_error', \n",
    "                                             'huber', \n",
    "                                             'epsilon_insensitive', \n",
    "                                             'squared_epsilon_insensitive'],\n",
    "                                   \"penalty\": ['l1', 'l2'],\n",
    "                                   \"alpha\": np.arange(0,1, 0.001),\n",
    "                                   \"random_state\": [RSEED]\n",
    "                                  }\n",
    "\n",
    "SGD_random_search_model = RandomizedSearchCV(estimator=SGDClassifier(),\n",
    "                                param_distributions=SGD_random_search_distributions,\n",
    "                                scoring='accuracy',\n",
    "                                n_jobs=-1,\n",
    "                                cv=cross_validation_splits,\n",
    "                                verbose=1)"
   ]
  },
  {
   "cell_type": "code",
   "execution_count": 70,
   "metadata": {},
   "outputs": [],
   "source": [
    "SVC_grid_search_parameters = {\"C\": [ 0, 0.01, 0.1, 0.5, 0.75, 1, 2],\n",
    "                              \"kernel\": ['linear', 'poly', 'rbf', 'sigmoid'],\n",
    "                              \"gamma\": ['scale', 'auto'],\n",
    "                              \"shrinking\": [True, False],\n",
    "                              \"random_state\": [RSEED]\n",
    "                             }\n",
    "\n",
    "SVC_grid_search_model = GridSearchCV(estimator=SVC(),\n",
    "                                param_grid=SVC_grid_search_parameters,\n",
    "                                scoring='accuracy',\n",
    "                                n_jobs=-1,\n",
    "                                cv=cross_validation_splits,\n",
    "                                verbose=1)\n",
    "\n",
    "SVC_random_search_distributions = {\n",
    "                                   \"C\": np.arange(0,2, 0.1),\n",
    "                                   \"kernel\": ['linear', 'poly', 'rbf', 'sigmoid'],\n",
    "                                   \"gamma\": ['scale', 'auto'],\n",
    "                                   \"shrinking\": [True, False],\n",
    "                                   \"random_state\": [RSEED]\n",
    "                                  }\n",
    "                                  \n",
    "SVC_random_search_model = RandomizedSearchCV(estimator=SVC(),\n",
    "                                param_distributions=SVC_random_search_distributions,\n",
    "                                scoring='accuracy',\n",
    "                                n_jobs=-1,\n",
    "                                cv=cross_validation_splits,\n",
    "                                verbose=1)"
   ]
  },
  {
   "cell_type": "code",
   "execution_count": 71,
   "metadata": {},
   "outputs": [],
   "source": [
    "NB_grid_search_parameters = {\"var_smoothing\": [ 1e-9, 1e-8],\n",
    "                            }\n",
    "\n",
    "NB_grid_search_model = GridSearchCV(estimator=GaussianNB(),\n",
    "                                param_grid=NB_grid_search_parameters,\n",
    "                                scoring='accuracy',\n",
    "                                n_jobs=-1,\n",
    "                                cv=cross_validation_splits,\n",
    "                                verbose=1)\n",
    "\n",
    "NB_random_search_distributions = {\n",
    "                                   \"var_smoothing\": np.arange(0,1e-8,1e-9)\n",
    "                                  }\n",
    "\n",
    "NB_random_search_model = RandomizedSearchCV(estimator=GaussianNB(),\n",
    "                                param_distributions=NB_random_search_distributions,\n",
    "                                scoring='accuracy',\n",
    "                                n_jobs=-1,\n",
    "                                cv=cross_validation_splits,\n",
    "                                verbose=1)"
   ]
  },
  {
   "cell_type": "code",
   "execution_count": 72,
   "metadata": {},
   "outputs": [],
   "source": [
    "# Quadratic Discriminant Analysis\n",
    "\n",
    "QDA_grid_search_parameters = {\"reg_param\": [ 0, 0.01, 0.1],\n",
    "                            }\n",
    "\n",
    "QDA_grid_search_model = GridSearchCV(estimator=QuadraticDiscriminantAnalysis(),\n",
    "                                param_grid=QDA_grid_search_parameters,\n",
    "                                scoring='accuracy',\n",
    "                                n_jobs=-1,\n",
    "                                cv=cross_validation_splits,\n",
    "                                verbose=1)\n",
    "\n",
    "QDA_random_search_distributions = {\n",
    "                                   \"reg_param\": np.arange(0,0.5,0.01)\n",
    "                                  }\n",
    "\n",
    "QDA_random_search_model = RandomizedSearchCV(estimator=QuadraticDiscriminantAnalysis(),\n",
    "                                param_distributions=QDA_random_search_distributions,\n",
    "                                scoring='accuracy',\n",
    "                                n_jobs=-1,\n",
    "                                cv=cross_validation_splits,\n",
    "                                verbose=1)"
   ]
  },
  {
   "cell_type": "code",
   "execution_count": 73,
   "metadata": {},
   "outputs": [],
   "source": [
    "# AdaBoostClassifier\n",
    "# algorithm{‘SAMME’, ‘SAMME.R’}\n",
    "\n",
    "ADA_grid_search_parameters = {\"learning_rate\":[0.1, 0.25, 0.5, 1],\n",
    "                              \"n_estimators\":[50, 100, 150, 200, 250],\n",
    "                              \"algorithm\": ['SAMME', 'SAMME.R'],\n",
    "                              \"random_state\": [RSEED],\n",
    "                             }\n",
    "\n",
    "ADA_grid_search_model = GridSearchCV(estimator=AdaBoostClassifier(),\n",
    "                                param_grid=ADA_grid_search_parameters,\n",
    "                                scoring='accuracy',\n",
    "                                n_jobs=-1,\n",
    "                                cv=cross_validation_splits,\n",
    "                                verbose=1)\n",
    "\n",
    "ADA_random_search_distributions = {\n",
    "                                   \"learning_rate\":np.arange(0, 1, 0.05),\n",
    "                                   \"n_estimators\":np.arange(50, 300),\n",
    "                                   \"algorithm\": ['SAMME', 'SAMME.R'],\n",
    "                                   \"random_state\": [RSEED],\n",
    "                                  }\n",
    "                                  \n",
    "ADA_random_search_model = RandomizedSearchCV(estimator=AdaBoostClassifier(),\n",
    "                                param_distributions=ADA_random_search_distributions,\n",
    "                                scoring='accuracy',\n",
    "                                n_jobs=-1,\n",
    "                                cv=cross_validation_splits,\n",
    "                                verbose=1)"
   ]
  },
  {
   "cell_type": "code",
   "execution_count": 74,
   "metadata": {},
   "outputs": [],
   "source": [
    "# xgb.config_context(verbosity=2)\n",
    "XGB_grid_search_parameters = {\"eta\":[0.3],\n",
    "                              \"max_depth\":[1, 2],\n",
    "                              \"subsample\":[0.3, 1],\n",
    "                              \"gamma\":[0, 0.2],\n",
    "                              \"sampling_method\":['uniform', 'subsample'],\n",
    "                              \"lambda\": [ 0, 0.5], # L2\n",
    "                              \"alpha\":[0, 0.5],    # L1\n",
    "                              #\"tree_method\": ['approx', 'hist', 'gpu_hist'],\n",
    "                              \"refresh_leaf\": [0, 1],\n",
    "                              \"min_child_weight\":[0.5, 1],\n",
    "                              \"max_bin\":[256],\n",
    "                              \"num_parallel_tree\": [1, 2],\n",
    "                              \"verbosity\":[1]\n",
    "                             }\n",
    "\n",
    "XGB_grid_search_model = GridSearchCV(estimator=XGBClassifier(),\n",
    "                                param_grid=XGB_grid_search_parameters,\n",
    "                                scoring='accuracy',\n",
    "                                n_jobs=-1,\n",
    "                                cv=cross_validation_splits,\n",
    "                                verbose=1)\n",
    "\n",
    "XGB_random_search_distributions = {\n",
    "                                   \"eta\": np.arange(0.,0.5, 0.1),\n",
    "                                   \"max_depth\":[1],\n",
    "                                   \"subsample\":[0.3],\n",
    "                                   \"gamma\":np.arange(0., 0.6, 0.1),\n",
    "                                   \"sampling_method\":['uniform'],\n",
    "                                   \"lambda\": np.arange(0., 0.5, 0.1),   # L2\n",
    "                                   \"alpha\":np.arange(0.4, 0.7, 0.1),    # L1\n",
    "                                   #\"tree_method\": ['approx', 'hist', 'gpu_hist'],\n",
    "                                   \"refresh_leaf\": [1],\n",
    "                                   \"min_child_weight\":np.arange(0.3, 0.5, 0.1),\n",
    "                                   \"max_bin\":[256],\n",
    "                                   \"num_parallel_tree\": [1],\n",
    "                                   # \"objective\": ['multi:softmax'],\n",
    "                                   \"verbosity\":[1]\n",
    "                                  }\n",
    "\n",
    "XGB_random_search_model = RandomizedSearchCV(estimator=XGBClassifier(),\n",
    "                                param_distributions=XGB_random_search_distributions,\n",
    "                                scoring='accuracy',\n",
    "                                n_jobs=-1,\n",
    "                                cv=cross_validation_splits,\n",
    "                                verbose=1)"
   ]
  },
  {
   "cell_type": "code",
   "execution_count": 75,
   "metadata": {},
   "outputs": [],
   "source": [
    "# Histogram Gradient Boosting \n",
    "\n",
    "HGBC_grid_search_parameters = {                                   \n",
    "                               \"loss\": ['auto'],\n",
    "                               \"learning_rate\": [0.01, 0.05, 0.1, 0.5],\n",
    "                               \"max_iter\": [50, 100],\n",
    "                               \"max_depth\": [None, 100],\n",
    "                               \"l2_regularization\": [0, 0.2, 1],\n",
    "                               \"max_bins\": [255],\n",
    "                               \"random_state\": [RSEED],\n",
    "                             }\n",
    "\n",
    "HGBC_grid_search_model = GridSearchCV(estimator=HistGradientBoostingClassifier(),\n",
    "                                param_grid=HGBC_grid_search_parameters,\n",
    "                                scoring='accuracy',\n",
    "                                n_jobs=-1,\n",
    "                                cv=cross_validation_splits,\n",
    "                                verbose=1)\n",
    "\n",
    "HGBC_random_search_distributions = {\n",
    "                                   \"loss\": ['log_loss', 'auto', 'binary_crossentropy', 'categorical_crossentropy'],\n",
    "                                   \"learning_rate\": np.arange(0, 1, 0.01),\n",
    "#                                    \"max_iter\": np.arange(50, 101),\n",
    "                                   \"max_depth\": np.arange(0, 100),\n",
    "                                   \"l2_regularization\": np.arange(0, 2, 0.001),\n",
    "#                                    \"max_bins\": np.arange(50, 256),\n",
    "                                   \"random_state\": [RSEED],\n",
    "                                  }\n",
    "                                  \n",
    "HGBC_random_search_model = RandomizedSearchCV(estimator=HistGradientBoostingClassifier(),\n",
    "                                param_distributions=HGBC_random_search_distributions,\n",
    "                                scoring='accuracy',\n",
    "                                n_jobs=-1,\n",
    "                                cv=cross_validation_splits,\n",
    "                                verbose=1)"
   ]
  },
  {
   "cell_type": "code",
   "execution_count": 76,
   "metadata": {},
   "outputs": [],
   "source": [
    "# Light Gradient Boosting Model Classifier\n",
    "\n",
    "LGBMC_grid_search_parameters = {            \n",
    "                                \"boosting_type\":['gbdt', 'dart', 'goss', 'rf'],\n",
    "                                \"num_leaves\": [31, 20, 40], \n",
    "                                \"max_depth\":[-1,5, 10], \n",
    "                                \"learning_rate\":[0.01], \n",
    "                                \"n_estimators\":[50,100,150],\n",
    "                                \"reg_alpha\": [0.0, 0.25],  # L1\n",
    "                                \"reg_lambda\": [0.0, 0.01], # L2\n",
    "                                \"random_state\": [RSEED], \n",
    "                                \"n_jobs\": [-1],\n",
    "                               }\n",
    "    \n",
    "LGBMC_grid_search_model = GridSearchCV(estimator=LGBMClassifier(),\n",
    "                                param_grid=LGBMC_grid_search_parameters,\n",
    "                                scoring='accuracy',\n",
    "                                n_jobs=-1,\n",
    "                                cv=cross_validation_splits,\n",
    "                                verbose=1)\n",
    "\n",
    "LGBMC_random_search_distributions = {\n",
    "#                                      \"boosting_type\":['gbdt', 'dart', 'goss', 'rf'],\n",
    "                                     \"num_leaves\": np.arange(10,40), \n",
    "                                     \"max_depth\":np.arange(-1,30), \n",
    "#                                      \"learning_rate\":np.arange(0,0.5,0.001), \n",
    "#                                      \"n_estimators\":[50,100,150],\n",
    "                                     \"reg_alpha\": np.arange(0,1,0.001),  # L1\n",
    "                                     \"reg_lambda\": np.arange(0,1,0.001), # L2\n",
    "                                     \"random_state\": [RSEED], \n",
    "                                     \"n_jobs\": [-1],\n",
    "                                  }\n",
    "                                  \n",
    "LGBMC_random_search_model = RandomizedSearchCV(estimator=LGBMClassifier(),\n",
    "                                param_distributions=LGBMC_random_search_distributions,\n",
    "                                scoring='accuracy',\n",
    "                                n_jobs=-1,\n",
    "                                cv=cross_validation_splits,\n",
    "                                verbose=1)"
   ]
  },
  {
   "cell_type": "code",
   "execution_count": 77,
   "metadata": {},
   "outputs": [],
   "source": [
    "# Multi-layer Perceptron Classifier\n",
    "\n",
    "MLPC_grid_search_parameters = {            \n",
    "                                \"hidden_layer_sizes\":[(100,),(50, 2),(50,3) ], \n",
    "                                \"activation\":['relu', 'tanh'], \n",
    "                                \"solver\":['adam', 'lbfgs','sgd'], \n",
    "                                \"alpha\":[0.0001, 0.01],  # L2\n",
    "                                \"batch_size\":['auto'], \n",
    "                                \"learning_rate\":['constant', 'invscaling', 'adaptive'], \n",
    "                                \"learning_rate_init\":[0.001], \n",
    "                                \"power_t\":[0.5], \n",
    "                                \"max_iter\":[200], \n",
    "                                \"random_state\":[RSEED],\n",
    "                               }\n",
    "    \n",
    "MLPC_grid_search_model = GridSearchCV(estimator=MLPClassifier(),\n",
    "                                param_grid=MLPC_grid_search_parameters,\n",
    "                                scoring='accuracy',\n",
    "                                n_jobs=-1,\n",
    "                                cv=cross_validation_splits,\n",
    "                                verbose=1)\n",
    "\n",
    "MLPC_random_search_distributions = {\n",
    "                                \"hidden_layer_sizes\":[(50,3), (50,4) ], \n",
    "                                \"activation\":['relu', 'tanh'], \n",
    "                                \"solver\":['adam', 'sgd'], \n",
    "                                \"alpha\":np.arange(0, 1, 0.01),  # L2\n",
    "                                \"batch_size\":[50, 100, 200], \n",
    "                                \"learning_rate\":['adaptive'], \n",
    "                                \"learning_rate_init\":[0.001], \n",
    "                                \"power_t\":[0.5], \n",
    "                                \"max_iter\":np.arange(300, 1000), \n",
    "                                \"random_state\":[RSEED],\n",
    "                                  }\n",
    "                                  \n",
    "MLPC_random_search_model = RandomizedSearchCV(estimator=MLPClassifier(),\n",
    "                                param_distributions=MLPC_random_search_distributions,\n",
    "                                scoring='accuracy',\n",
    "                                n_iter=10,\n",
    "                                n_jobs=-1,\n",
    "#                                 cv=cross_validation_splits,\n",
    "                                verbose=1)"
   ]
  },
  {
   "cell_type": "code",
   "execution_count": 78,
   "metadata": {},
   "outputs": [],
   "source": [
    "models = {\"DT grid_search\":      [ DT_grid_search_model ], \n",
    "          \"DT random_search\":    [ DT_random_search_model ],\n",
    "          \"KNN grid_search\":     [ KNN_grid_search_model ], \n",
    "          \"KNN random_search\":   [ KNN_random_search_model ],\n",
    "          \"LR grid_search\":      [ LR_grid_search_model ], \n",
    "          \"LR random_search\":    [ LR_random_search_model ],\n",
    "          \"SVC grid_search\":     [ SVC_grid_search_model ],\n",
    "          \"SVC random_search\":   [ SVC_random_search_model ],\n",
    "          \"RF grid_search\":      [ RF_grid_search_model ],\n",
    "          \"RF random_search\":    [ RF_random_search_model ],\n",
    "          \"SGD grid_search\":     [ SGD_grid_search_model ],\n",
    "          \"SGD random_search\":   [ SGD_random_search_model],\n",
    "          \"NB grid_search\":      [ NB_grid_search_model],\n",
    "          \"NB random_search\":    [ NB_random_search_model],\n",
    "          \"QDA grid_search\":     [ QDA_grid_search_model],\n",
    "          \"QDA random_search\":   [ QDA_random_search_model],\n",
    "          \"ADA grid_search\":     [ ADA_grid_search_model ],\n",
    "          \"ADA random_search\":   [ ADA_random_search_model ],\n",
    "          \"XGB grid_search\":     [ XGB_grid_search_model ],\n",
    "          \"XGB random_search\":   [ XGB_random_search_model ],\n",
    "          \"HGBC grid_search\":    [ HGBC_grid_search_model ],\n",
    "          \"HGBC random_search\":  [ HGBC_random_search_model ],\n",
    "          \"LGBMC grid_search\":   [ LGBMC_grid_search_model ],\n",
    "          \"LGBMC random_search\": [ LGBMC_random_search_model ],\n",
    "          \"MLPC grid_search\" :   [ MLPC_grid_search_model ],\n",
    "          \"MLPC random_search\" : [ MLPC_random_search_model ],\n",
    "         }"
   ]
  },
  {
   "cell_type": "code",
   "execution_count": 79,
   "metadata": {},
   "outputs": [
    {
     "data": {
      "application/javascript": "IPython.OutputArea.prototype._should_scroll = function(lines) {\n    return false;\n }\n",
      "text/plain": [
       "<IPython.core.display.Javascript object>"
      ]
     },
     "metadata": {},
     "output_type": "display_data"
    }
   ],
   "source": [
    "%%javascript\n",
    "IPython.OutputArea.prototype._should_scroll = function(lines) {\n",
    "    return false;\n",
    " }"
   ]
  },
  {
   "cell_type": "code",
   "execution_count": 80,
   "metadata": {},
   "outputs": [],
   "source": [
    "pd.options.display.max_rows = None"
   ]
  },
  {
   "cell_type": "markdown",
   "metadata": {},
   "source": [
    "# Models Processing"
   ]
  },
  {
   "cell_type": "code",
   "execution_count": 81,
   "metadata": {
    "scrolled": true
   },
   "outputs": [
    {
     "name": "stdout",
     "output_type": "stream",
     "text": [
      "[+] Processing 26 models. Please, wait...\n",
      "Algorithm being processed: DT grid_search\n",
      "Fitting 5 folds for each of 168 candidates, totalling 840 fits\n",
      "Algorithm being processed: DT random_search\n",
      "Fitting 5 folds for each of 10 candidates, totalling 50 fits\n",
      "Algorithm being processed: KNN grid_search\n",
      "Fitting 5 folds for each of 168 candidates, totalling 840 fits\n",
      "Algorithm being processed: KNN random_search\n",
      "Fitting 5 folds for each of 10 candidates, totalling 50 fits\n",
      "Algorithm being processed: LR grid_search\n",
      "Fitting 5 folds for each of 594 candidates, totalling 2970 fits\n",
      "Algorithm being processed: LR random_search\n",
      "Fitting 5 folds for each of 10 candidates, totalling 50 fits\n",
      "Algorithm being processed: SVC grid_search\n",
      "Fitting 5 folds for each of 112 candidates, totalling 560 fits\n",
      "Algorithm being processed: SVC random_search\n",
      "Fitting 5 folds for each of 10 candidates, totalling 50 fits\n",
      "Algorithm being processed: RF grid_search\n",
      "Fitting 5 folds for each of 252 candidates, totalling 1260 fits\n",
      "Algorithm being processed: RF random_search\n",
      "Fitting 5 folds for each of 10 candidates, totalling 50 fits\n",
      "Algorithm being processed: SGD grid_search\n",
      "Fitting 5 folds for each of 180 candidates, totalling 900 fits\n",
      "Algorithm being processed: SGD random_search\n",
      "Fitting 5 folds for each of 10 candidates, totalling 50 fits\n",
      "Algorithm being processed: NB grid_search\n",
      "Fitting 5 folds for each of 2 candidates, totalling 10 fits\n",
      "Algorithm being processed: NB random_search\n",
      "Fitting 5 folds for each of 10 candidates, totalling 50 fits\n",
      "Algorithm being processed: QDA grid_search\n",
      "Fitting 5 folds for each of 3 candidates, totalling 15 fits\n",
      "Algorithm being processed: QDA random_search\n",
      "Fitting 5 folds for each of 10 candidates, totalling 50 fits\n",
      "Algorithm being processed: ADA grid_search\n",
      "Fitting 5 folds for each of 40 candidates, totalling 200 fits\n",
      "Algorithm being processed: ADA random_search\n",
      "Fitting 5 folds for each of 10 candidates, totalling 50 fits\n",
      "Algorithm being processed: XGB grid_search\n",
      "Fitting 5 folds for each of 512 candidates, totalling 2560 fits\n",
      "Algorithm being processed: XGB random_search\n",
      "Fitting 5 folds for each of 10 candidates, totalling 50 fits\n",
      "Algorithm being processed: HGBC grid_search\n",
      "Fitting 5 folds for each of 48 candidates, totalling 240 fits\n",
      "Algorithm being processed: HGBC random_search\n",
      "Fitting 5 folds for each of 10 candidates, totalling 50 fits\n",
      "Algorithm being processed: LGBMC grid_search\n",
      "Fitting 5 folds for each of 432 candidates, totalling 2160 fits\n",
      "Algorithm being processed: LGBMC random_search\n",
      "Fitting 5 folds for each of 10 candidates, totalling 50 fits\n",
      "Algorithm being processed: MLPC grid_search\n",
      "Fitting 5 folds for each of 108 candidates, totalling 540 fits\n",
      "Algorithm being processed: MLPC random_search\n",
      "Fitting 5 folds for each of 10 candidates, totalling 50 fits\n",
      "[+] Finish Processing\n",
      "\n",
      "CPU times: total: 25.2 s\n",
      "Wall time: 2min 29s\n"
     ]
    }
   ],
   "source": [
    "%%time\n",
    "results_dict={}\n",
    "comparison_matrix = pd.DataFrame(columns=['Model', \n",
    "                                          'Training_Accuracy', \n",
    "                                          'Testing_Accuracy', \n",
    "                                          'Best_Parameters'])\n",
    "\n",
    "print(\"[+] Processing {} models. Please, wait...\".format(len(models)))\n",
    "\n",
    "for model in models:\n",
    "    print(\"Algorithm being processed: {}\".format(model))\n",
    "    models[model][0] = models[model][0].fit(X_train, y_train)\n",
    "    # print(results_dict)\n",
    "    series_aux =pd.Series(data=[model, \n",
    "                                models[model][0].best_score_,\n",
    "                                accuracy_score(y_test, models[model][0].best_estimator_.predict(X_test)),\n",
    "                                models[model][0].best_params_], \n",
    "                          index=comparison_matrix.columns)\n",
    "    comparison_matrix = comparison_matrix.append(series_aux, ignore_index=True)\n",
    "\n",
    "print(\"[+] Finish Processing\\n\") "
   ]
  },
  {
   "cell_type": "markdown",
   "metadata": {},
   "source": [
    "### Calculating Accuracy in Testing DataSet for the best model (which was tuned using training DataSet)"
   ]
  },
  {
   "cell_type": "code",
   "execution_count": 82,
   "metadata": {},
   "outputs": [
    {
     "data": {
      "text/plain": [
       "'RF grid_search'"
      ]
     },
     "execution_count": 82,
     "metadata": {},
     "output_type": "execute_result"
    }
   ],
   "source": [
    "comparison_matrix = comparison_matrix.sort_values(['Training_Accuracy'], ascending=False, ignore_index=True)\n",
    "comparison_matrix.iat[0, 0]\n",
    "# comparison_matrix['Model'].iloc[0]"
   ]
  },
  {
   "cell_type": "code",
   "execution_count": 83,
   "metadata": {},
   "outputs": [],
   "source": [
    "# comparison_matrix"
   ]
  },
  {
   "cell_type": "code",
   "execution_count": 84,
   "metadata": {},
   "outputs": [
    {
     "data": {
      "text/html": [
       "<style>#sk-container-id-1 {color: black;background-color: white;}#sk-container-id-1 pre{padding: 0;}#sk-container-id-1 div.sk-toggleable {background-color: white;}#sk-container-id-1 label.sk-toggleable__label {cursor: pointer;display: block;width: 100%;margin-bottom: 0;padding: 0.3em;box-sizing: border-box;text-align: center;}#sk-container-id-1 label.sk-toggleable__label-arrow:before {content: \"▸\";float: left;margin-right: 0.25em;color: #696969;}#sk-container-id-1 label.sk-toggleable__label-arrow:hover:before {color: black;}#sk-container-id-1 div.sk-estimator:hover label.sk-toggleable__label-arrow:before {color: black;}#sk-container-id-1 div.sk-toggleable__content {max-height: 0;max-width: 0;overflow: hidden;text-align: left;background-color: #f0f8ff;}#sk-container-id-1 div.sk-toggleable__content pre {margin: 0.2em;color: black;border-radius: 0.25em;background-color: #f0f8ff;}#sk-container-id-1 input.sk-toggleable__control:checked~div.sk-toggleable__content {max-height: 200px;max-width: 100%;overflow: auto;}#sk-container-id-1 input.sk-toggleable__control:checked~label.sk-toggleable__label-arrow:before {content: \"▾\";}#sk-container-id-1 div.sk-estimator input.sk-toggleable__control:checked~label.sk-toggleable__label {background-color: #d4ebff;}#sk-container-id-1 div.sk-label input.sk-toggleable__control:checked~label.sk-toggleable__label {background-color: #d4ebff;}#sk-container-id-1 input.sk-hidden--visually {border: 0;clip: rect(1px 1px 1px 1px);clip: rect(1px, 1px, 1px, 1px);height: 1px;margin: -1px;overflow: hidden;padding: 0;position: absolute;width: 1px;}#sk-container-id-1 div.sk-estimator {font-family: monospace;background-color: #f0f8ff;border: 1px dotted black;border-radius: 0.25em;box-sizing: border-box;margin-bottom: 0.5em;}#sk-container-id-1 div.sk-estimator:hover {background-color: #d4ebff;}#sk-container-id-1 div.sk-parallel-item::after {content: \"\";width: 100%;border-bottom: 1px solid gray;flex-grow: 1;}#sk-container-id-1 div.sk-label:hover label.sk-toggleable__label {background-color: #d4ebff;}#sk-container-id-1 div.sk-serial::before {content: \"\";position: absolute;border-left: 1px solid gray;box-sizing: border-box;top: 0;bottom: 0;left: 50%;z-index: 0;}#sk-container-id-1 div.sk-serial {display: flex;flex-direction: column;align-items: center;background-color: white;padding-right: 0.2em;padding-left: 0.2em;position: relative;}#sk-container-id-1 div.sk-item {position: relative;z-index: 1;}#sk-container-id-1 div.sk-parallel {display: flex;align-items: stretch;justify-content: center;background-color: white;position: relative;}#sk-container-id-1 div.sk-item::before, #sk-container-id-1 div.sk-parallel-item::before {content: \"\";position: absolute;border-left: 1px solid gray;box-sizing: border-box;top: 0;bottom: 0;left: 50%;z-index: -1;}#sk-container-id-1 div.sk-parallel-item {display: flex;flex-direction: column;z-index: 1;position: relative;background-color: white;}#sk-container-id-1 div.sk-parallel-item:first-child::after {align-self: flex-end;width: 50%;}#sk-container-id-1 div.sk-parallel-item:last-child::after {align-self: flex-start;width: 50%;}#sk-container-id-1 div.sk-parallel-item:only-child::after {width: 0;}#sk-container-id-1 div.sk-dashed-wrapped {border: 1px dashed gray;margin: 0 0.4em 0.5em 0.4em;box-sizing: border-box;padding-bottom: 0.4em;background-color: white;}#sk-container-id-1 div.sk-label label {font-family: monospace;font-weight: bold;display: inline-block;line-height: 1.2em;}#sk-container-id-1 div.sk-label-container {text-align: center;}#sk-container-id-1 div.sk-container {/* jupyter's `normalize.less` sets `[hidden] { display: none; }` but bootstrap.min.css set `[hidden] { display: none !important; }` so we also need the `!important` here to be able to override the default hidden behavior on the sphinx rendered scikit-learn.org. See: https://github.com/scikit-learn/scikit-learn/issues/21755 */display: inline-block !important;position: relative;}#sk-container-id-1 div.sk-text-repr-fallback {display: none;}</style><div id=\"sk-container-id-1\" class=\"sk-top-container\"><div class=\"sk-text-repr-fallback\"><pre>RandomForestClassifier(min_samples_split=30, random_state=49)</pre><b>In a Jupyter environment, please rerun this cell to show the HTML representation or trust the notebook. <br />On GitHub, the HTML representation is unable to render, please try loading this page with nbviewer.org.</b></div><div class=\"sk-container\" hidden><div class=\"sk-item\"><div class=\"sk-estimator sk-toggleable\"><input class=\"sk-toggleable__control sk-hidden--visually\" id=\"sk-estimator-id-1\" type=\"checkbox\" checked><label for=\"sk-estimator-id-1\" class=\"sk-toggleable__label sk-toggleable__label-arrow\">RandomForestClassifier</label><div class=\"sk-toggleable__content\"><pre>RandomForestClassifier(min_samples_split=30, random_state=49)</pre></div></div></div></div></div>"
      ],
      "text/plain": [
       "RandomForestClassifier(min_samples_split=30, random_state=49)"
      ]
     },
     "execution_count": 84,
     "metadata": {},
     "output_type": "execute_result"
    }
   ],
   "source": [
    "best_model = models[comparison_matrix.iat[0, 0]][0].best_estimator_\n",
    "best_model"
   ]
  },
  {
   "cell_type": "code",
   "execution_count": 85,
   "metadata": {},
   "outputs": [],
   "source": [
    "best_predictions =  best_model.predict(X_test)"
   ]
  },
  {
   "cell_type": "code",
   "execution_count": 86,
   "metadata": {},
   "outputs": [],
   "source": [
    "# pd.DataFrame(best_predictions).value_counts(ascending=True)\n",
    "# y_val.value_counts(ascending=True)"
   ]
  },
  {
   "cell_type": "markdown",
   "metadata": {},
   "source": [
    "### Confusion Matrix (Testing Data)"
   ]
  },
  {
   "cell_type": "code",
   "execution_count": 87,
   "metadata": {},
   "outputs": [
    {
     "name": "stdout",
     "output_type": "stream",
     "text": [
      "Accuracy in Testing Set is 0.8504672897196262\n",
      "TN: 17  FP: 15  FN: 1  TP: 74\n"
     ]
    },
    {
     "data": {
      "image/png": "[encoded data removed]",
      "text/plain": [
       "<Figure size 640x480 with 2 Axes>"
      ]
     },
     "metadata": {},
     "output_type": "display_data"
    }
   ],
   "source": [
    "target_names = [ 'No', 'Yes']\n",
    "\n",
    "acc = accuracy_score(y_test, best_predictions)\n",
    "print(\"Accuracy in Testing Set is\", acc)\n",
    "\n",
    "tn, fp, fn, tp = confusion_matrix(y_test, best_predictions).ravel()\n",
    "print(\"TN:\",tn, \" FP:\",fp, \" FN:\",fn, \" TP:\",tp)\n",
    "\n",
    "cm = confusion_matrix(y_test, best_predictions)\n",
    "# plt.grid(b=None)\n",
    "plt.figure()\n",
    "plt.grid(b=None)\n",
    "plot_confusion_matrix(cm, classes=target_names, normalize=False)\n",
    "plt.show()"
   ]
  },
  {
   "cell_type": "markdown",
   "metadata": {},
   "source": [
    "### As we can see the best model decreases the accuracy a little when pedicting samples that it has never seen before\n",
    "### Actually, with the Testing Data other models perform a little bit better."
   ]
  },
  {
   "cell_type": "markdown",
   "metadata": {},
   "source": [
    "# Table 1 (Algorithm wise best model with best hyperparameter)"
   ]
  },
  {
   "cell_type": "code",
   "execution_count": 88,
   "metadata": {},
   "outputs": [],
   "source": [
    "pd.options.display.max_rows = None\n",
    "table1 = comparison_matrix.sort_values(['Training_Accuracy'], ascending=False, ignore_index=True)"
   ]
  },
  {
   "cell_type": "code",
   "execution_count": 89,
   "metadata": {},
   "outputs": [
    {
     "data": {
      "text/html": [
       "<div>\n",
       "<style scoped>\n",
       "    .dataframe tbody tr th:only-of-type {\n",
       "        vertical-align: middle;\n",
       "    }\n",
       "\n",
       "    .dataframe tbody tr th {\n",
       "        vertical-align: top;\n",
       "    }\n",
       "\n",
       "    .dataframe thead th {\n",
       "        text-align: right;\n",
       "    }\n",
       "</style>\n",
       "<table border=\"1\" class=\"dataframe\">\n",
       "  <thead>\n",
       "    <tr style=\"text-align: right;\">\n",
       "      <th></th>\n",
       "      <th>Model</th>\n",
       "      <th>Training_Accuracy</th>\n",
       "      <th>Testing_Accuracy</th>\n",
       "      <th>Best_Parameters</th>\n",
       "    </tr>\n",
       "  </thead>\n",
       "  <tbody>\n",
       "    <tr>\n",
       "      <th>0</th>\n",
       "      <td>RF grid_search</td>\n",
       "      <td>0.814118</td>\n",
       "      <td>0.850467</td>\n",
       "      <td>{'criterion': 'gini', 'max_depth': None, 'min_samples_split': 30, 'n_estimators': 100, 'random_state': 49}</td>\n",
       "    </tr>\n",
       "    <tr>\n",
       "      <th>1</th>\n",
       "      <td>RF random_search</td>\n",
       "      <td>0.814118</td>\n",
       "      <td>0.850467</td>\n",
       "      <td>{'random_state': 49, 'n_estimators': 221, 'min_samples_split': 32, 'max_depth': 15, 'criterion': 'entropy'}</td>\n",
       "    </tr>\n",
       "    <tr>\n",
       "      <th>2</th>\n",
       "      <td>DT grid_search</td>\n",
       "      <td>0.811765</td>\n",
       "      <td>0.850467</td>\n",
       "      <td>{'criterion': 'gini', 'max_depth': 2, 'min_samples_split': 2, 'random_state': 49, 'splitter': 'best'}</td>\n",
       "    </tr>\n",
       "    <tr>\n",
       "      <th>3</th>\n",
       "      <td>ADA grid_search</td>\n",
       "      <td>0.811765</td>\n",
       "      <td>0.850467</td>\n",
       "      <td>{'algorithm': 'SAMME', 'learning_rate': 0.1, 'n_estimators': 50, 'random_state': 49}</td>\n",
       "    </tr>\n",
       "    <tr>\n",
       "      <th>4</th>\n",
       "      <td>SVC grid_search</td>\n",
       "      <td>0.811765</td>\n",
       "      <td>0.850467</td>\n",
       "      <td>{'C': 0.1, 'gamma': 'scale', 'kernel': 'linear', 'random_state': 49, 'shrinking': True}</td>\n",
       "    </tr>\n",
       "    <tr>\n",
       "      <th>5</th>\n",
       "      <td>SVC random_search</td>\n",
       "      <td>0.811765</td>\n",
       "      <td>0.850467</td>\n",
       "      <td>{'shrinking': False, 'random_state': 49, 'kernel': 'linear', 'gamma': 'scale', 'C': 1.8}</td>\n",
       "    </tr>\n",
       "    <tr>\n",
       "      <th>6</th>\n",
       "      <td>SGD grid_search</td>\n",
       "      <td>0.811765</td>\n",
       "      <td>0.850467</td>\n",
       "      <td>{'alpha': 0.0001, 'loss': 'huber', 'penalty': 'l1', 'random_state': 49}</td>\n",
       "    </tr>\n",
       "    <tr>\n",
       "      <th>7</th>\n",
       "      <td>HGBC grid_search</td>\n",
       "      <td>0.811765</td>\n",
       "      <td>0.850467</td>\n",
       "      <td>{'l2_regularization': 0, 'learning_rate': 0.01, 'loss': 'auto', 'max_bins': 255, 'max_depth': None, 'max_iter': 100, 'random_state': 49}</td>\n",
       "    </tr>\n",
       "    <tr>\n",
       "      <th>8</th>\n",
       "      <td>DT random_search</td>\n",
       "      <td>0.811765</td>\n",
       "      <td>0.850467</td>\n",
       "      <td>{'random_state': 49, 'min_samples_split': 13, 'max_leaf_nodes': 10, 'max_features': None, 'max_depth': 1, 'criterion': 'gini'}</td>\n",
       "    </tr>\n",
       "    <tr>\n",
       "      <th>9</th>\n",
       "      <td>LGBMC random_search</td>\n",
       "      <td>0.809412</td>\n",
       "      <td>0.859813</td>\n",
       "      <td>{'reg_lambda': 0.247, 'reg_alpha': 0.391, 'random_state': 49, 'num_leaves': 32, 'n_jobs': -1, 'max_depth': 1}</td>\n",
       "    </tr>\n",
       "    <tr>\n",
       "      <th>10</th>\n",
       "      <td>LGBMC grid_search</td>\n",
       "      <td>0.809412</td>\n",
       "      <td>0.859813</td>\n",
       "      <td>{'boosting_type': 'gbdt', 'learning_rate': 0.01, 'max_depth': -1, 'n_estimators': 100, 'n_jobs': -1, 'num_leaves': 31, 'random_state': 49, 'reg_alpha': 0.0, 'reg_lambda': 0.0}</td>\n",
       "    </tr>\n",
       "    <tr>\n",
       "      <th>11</th>\n",
       "      <td>LR grid_search</td>\n",
       "      <td>0.809412</td>\n",
       "      <td>0.859813</td>\n",
       "      <td>{'C': 0.05, 'l1_ratio': 0, 'max_iter': 500, 'multi_class': 'auto', 'n_jobs': -1, 'penalty': 'l1', 'solver': 'liblinear'}</td>\n",
       "    </tr>\n",
       "    <tr>\n",
       "      <th>12</th>\n",
       "      <td>LR random_search</td>\n",
       "      <td>0.809412</td>\n",
       "      <td>0.850467</td>\n",
       "      <td>{'solver': 'liblinear', 'penalty': 'l1', 'n_jobs': -1, 'multi_class': 'auto', 'max_iter': 500, 'l1_ratio': 0.0, 'C': 0.185}</td>\n",
       "    </tr>\n",
       "    <tr>\n",
       "      <th>13</th>\n",
       "      <td>ADA random_search</td>\n",
       "      <td>0.807059</td>\n",
       "      <td>0.850467</td>\n",
       "      <td>{'random_state': 49, 'n_estimators': 116, 'learning_rate': 0.4, 'algorithm': 'SAMME'}</td>\n",
       "    </tr>\n",
       "    <tr>\n",
       "      <th>14</th>\n",
       "      <td>XGB random_search</td>\n",
       "      <td>0.807059</td>\n",
       "      <td>0.850467</td>\n",
       "      <td>{'verbosity': 1, 'subsample': 0.3, 'sampling_method': 'uniform', 'refresh_leaf': 1, 'num_parallel_tree': 1, 'min_child_weight': 0.4, 'max_depth': 1, 'max_bin': 256, 'lambda': 0.30000000000000004, 'gamma': 0.2, 'eta': 0.2, 'alpha': 0.5}</td>\n",
       "    </tr>\n",
       "    <tr>\n",
       "      <th>15</th>\n",
       "      <td>XGB grid_search</td>\n",
       "      <td>0.807059</td>\n",
       "      <td>0.850467</td>\n",
       "      <td>{'alpha': 0, 'eta': 0.3, 'gamma': 0, 'lambda': 0, 'max_bin': 256, 'max_depth': 1, 'min_child_weight': 0.5, 'num_parallel_tree': 1, 'refresh_leaf': 0, 'sampling_method': 'uniform', 'subsample': 0.3, 'verbosity': 1}</td>\n",
       "    </tr>\n",
       "    <tr>\n",
       "      <th>16</th>\n",
       "      <td>MLPC random_search</td>\n",
       "      <td>0.804706</td>\n",
       "      <td>0.850467</td>\n",
       "      <td>{'solver': 'adam', 'random_state': 49, 'power_t': 0.5, 'max_iter': 733, 'learning_rate_init': 0.001, 'learning_rate': 'adaptive', 'hidden_layer_sizes': (50, 4), 'batch_size': 50, 'alpha': 0.37, 'activation': 'tanh'}</td>\n",
       "    </tr>\n",
       "    <tr>\n",
       "      <th>17</th>\n",
       "      <td>HGBC random_search</td>\n",
       "      <td>0.802353</td>\n",
       "      <td>0.813084</td>\n",
       "      <td>{'random_state': 49, 'max_depth': 37, 'loss': 'binary_crossentropy', 'learning_rate': 0.03, 'l2_regularization': 1.52}</td>\n",
       "    </tr>\n",
       "    <tr>\n",
       "      <th>18</th>\n",
       "      <td>QDA random_search</td>\n",
       "      <td>0.800000</td>\n",
       "      <td>0.850467</td>\n",
       "      <td>{'reg_param': 0.09}</td>\n",
       "    </tr>\n",
       "    <tr>\n",
       "      <th>19</th>\n",
       "      <td>QDA grid_search</td>\n",
       "      <td>0.800000</td>\n",
       "      <td>0.850467</td>\n",
       "      <td>{'reg_param': 0.1}</td>\n",
       "    </tr>\n",
       "    <tr>\n",
       "      <th>20</th>\n",
       "      <td>MLPC grid_search</td>\n",
       "      <td>0.800000</td>\n",
       "      <td>0.850467</td>\n",
       "      <td>{'activation': 'tanh', 'alpha': 0.0001, 'batch_size': 'auto', 'hidden_layer_sizes': (100,), 'learning_rate': 'constant', 'learning_rate_init': 0.001, 'max_iter': 200, 'power_t': 0.5, 'random_state': 49, 'solver': 'adam'}</td>\n",
       "    </tr>\n",
       "    <tr>\n",
       "      <th>21</th>\n",
       "      <td>NB grid_search</td>\n",
       "      <td>0.783529</td>\n",
       "      <td>0.850467</td>\n",
       "      <td>{'var_smoothing': 1e-09}</td>\n",
       "    </tr>\n",
       "    <tr>\n",
       "      <th>22</th>\n",
       "      <td>NB random_search</td>\n",
       "      <td>0.783529</td>\n",
       "      <td>0.850467</td>\n",
       "      <td>{'var_smoothing': 0.0}</td>\n",
       "    </tr>\n",
       "    <tr>\n",
       "      <th>23</th>\n",
       "      <td>KNN grid_search</td>\n",
       "      <td>0.748235</td>\n",
       "      <td>0.803738</td>\n",
       "      <td>{'algorithm': 'auto', 'leaf_size': 15, 'n_neighbors': 5, 'weights': 'distance'}</td>\n",
       "    </tr>\n",
       "    <tr>\n",
       "      <th>24</th>\n",
       "      <td>KNN random_search</td>\n",
       "      <td>0.745882</td>\n",
       "      <td>0.803738</td>\n",
       "      <td>{'weights': 'distance', 'n_neighbors': 6, 'leaf_size': 40, 'algorithm': 'auto'}</td>\n",
       "    </tr>\n",
       "    <tr>\n",
       "      <th>25</th>\n",
       "      <td>SGD random_search</td>\n",
       "      <td>0.729412</td>\n",
       "      <td>0.859813</td>\n",
       "      <td>{'random_state': 49, 'penalty': 'l1', 'loss': 'squared_hinge', 'alpha': 0.549}</td>\n",
       "    </tr>\n",
       "  </tbody>\n",
       "</table>\n",
       "</div>"
      ],
      "text/plain": [
       "                  Model  Training_Accuracy  Testing_Accuracy  \\\n",
       "0        RF grid_search           0.814118          0.850467   \n",
       "1      RF random_search           0.814118          0.850467   \n",
       "2        DT grid_search           0.811765          0.850467   \n",
       "3       ADA grid_search           0.811765          0.850467   \n",
       "4       SVC grid_search           0.811765          0.850467   \n",
       "5     SVC random_search           0.811765          0.850467   \n",
       "6       SGD grid_search           0.811765          0.850467   \n",
       "7      HGBC grid_search           0.811765          0.850467   \n",
       "8      DT random_search           0.811765          0.850467   \n",
       "9   LGBMC random_search           0.809412          0.859813   \n",
       "10    LGBMC grid_search           0.809412          0.859813   \n",
       "11       LR grid_search           0.809412          0.859813   \n",
       "12     LR random_search           0.809412          0.850467   \n",
       "13    ADA random_search           0.807059          0.850467   \n",
       "14    XGB random_search           0.807059          0.850467   \n",
       "15      XGB grid_search           0.807059          0.850467   \n",
       "16   MLPC random_search           0.804706          0.850467   \n",
       "17   HGBC random_search           0.802353          0.813084   \n",
       "18    QDA random_search           0.800000          0.850467   \n",
       "19      QDA grid_search           0.800000          0.850467   \n",
       "20     MLPC grid_search           0.800000          0.850467   \n",
       "21       NB grid_search           0.783529          0.850467   \n",
       "22     NB random_search           0.783529          0.850467   \n",
       "23      KNN grid_search           0.748235          0.803738   \n",
       "24    KNN random_search           0.745882          0.803738   \n",
       "25    SGD random_search           0.729412          0.859813   \n",
       "\n",
       "                                                                                                                                                                                                                                Best_Parameters  \n",
       "0                                                                                                                                    {'criterion': 'gini', 'max_depth': None, 'min_samples_split': 30, 'n_estimators': 100, 'random_state': 49}  \n",
       "1                                                                                                                                   {'random_state': 49, 'n_estimators': 221, 'min_samples_split': 32, 'max_depth': 15, 'criterion': 'entropy'}  \n",
       "2                                                                                                                                         {'criterion': 'gini', 'max_depth': 2, 'min_samples_split': 2, 'random_state': 49, 'splitter': 'best'}  \n",
       "3                                                                                                                                                          {'algorithm': 'SAMME', 'learning_rate': 0.1, 'n_estimators': 50, 'random_state': 49}  \n",
       "4                                                                                                                                                       {'C': 0.1, 'gamma': 'scale', 'kernel': 'linear', 'random_state': 49, 'shrinking': True}  \n",
       "5                                                                                                                                                      {'shrinking': False, 'random_state': 49, 'kernel': 'linear', 'gamma': 'scale', 'C': 1.8}  \n",
       "6                                                                                                                                                                       {'alpha': 0.0001, 'loss': 'huber', 'penalty': 'l1', 'random_state': 49}  \n",
       "7                                                                                                      {'l2_regularization': 0, 'learning_rate': 0.01, 'loss': 'auto', 'max_bins': 255, 'max_depth': None, 'max_iter': 100, 'random_state': 49}  \n",
       "8                                                                                                                {'random_state': 49, 'min_samples_split': 13, 'max_leaf_nodes': 10, 'max_features': None, 'max_depth': 1, 'criterion': 'gini'}  \n",
       "9                                                                                                                                 {'reg_lambda': 0.247, 'reg_alpha': 0.391, 'random_state': 49, 'num_leaves': 32, 'n_jobs': -1, 'max_depth': 1}  \n",
       "10                                                              {'boosting_type': 'gbdt', 'learning_rate': 0.01, 'max_depth': -1, 'n_estimators': 100, 'n_jobs': -1, 'num_leaves': 31, 'random_state': 49, 'reg_alpha': 0.0, 'reg_lambda': 0.0}  \n",
       "11                                                                                                                     {'C': 0.05, 'l1_ratio': 0, 'max_iter': 500, 'multi_class': 'auto', 'n_jobs': -1, 'penalty': 'l1', 'solver': 'liblinear'}  \n",
       "12                                                                                                                  {'solver': 'liblinear', 'penalty': 'l1', 'n_jobs': -1, 'multi_class': 'auto', 'max_iter': 500, 'l1_ratio': 0.0, 'C': 0.185}  \n",
       "13                                                                                                                                                        {'random_state': 49, 'n_estimators': 116, 'learning_rate': 0.4, 'algorithm': 'SAMME'}  \n",
       "14  {'verbosity': 1, 'subsample': 0.3, 'sampling_method': 'uniform', 'refresh_leaf': 1, 'num_parallel_tree': 1, 'min_child_weight': 0.4, 'max_depth': 1, 'max_bin': 256, 'lambda': 0.30000000000000004, 'gamma': 0.2, 'eta': 0.2, 'alpha': 0.5}  \n",
       "15                        {'alpha': 0, 'eta': 0.3, 'gamma': 0, 'lambda': 0, 'max_bin': 256, 'max_depth': 1, 'min_child_weight': 0.5, 'num_parallel_tree': 1, 'refresh_leaf': 0, 'sampling_method': 'uniform', 'subsample': 0.3, 'verbosity': 1}  \n",
       "16                      {'solver': 'adam', 'random_state': 49, 'power_t': 0.5, 'max_iter': 733, 'learning_rate_init': 0.001, 'learning_rate': 'adaptive', 'hidden_layer_sizes': (50, 4), 'batch_size': 50, 'alpha': 0.37, 'activation': 'tanh'}  \n",
       "17                                                                                                                       {'random_state': 49, 'max_depth': 37, 'loss': 'binary_crossentropy', 'learning_rate': 0.03, 'l2_regularization': 1.52}  \n",
       "18                                                                                                                                                                                                                          {'reg_param': 0.09}  \n",
       "19                                                                                                                                                                                                                           {'reg_param': 0.1}  \n",
       "20                 {'activation': 'tanh', 'alpha': 0.0001, 'batch_size': 'auto', 'hidden_layer_sizes': (100,), 'learning_rate': 'constant', 'learning_rate_init': 0.001, 'max_iter': 200, 'power_t': 0.5, 'random_state': 49, 'solver': 'adam'}  \n",
       "21                                                                                                                                                                                                                     {'var_smoothing': 1e-09}  \n",
       "22                                                                                                                                                                                                                       {'var_smoothing': 0.0}  \n",
       "23                                                                                                                                                              {'algorithm': 'auto', 'leaf_size': 15, 'n_neighbors': 5, 'weights': 'distance'}  \n",
       "24                                                                                                                                                              {'weights': 'distance', 'n_neighbors': 6, 'leaf_size': 40, 'algorithm': 'auto'}  \n",
       "25                                                                                                                                                               {'random_state': 49, 'penalty': 'l1', 'loss': 'squared_hinge', 'alpha': 0.549}  "
      ]
     },
     "execution_count": 89,
     "metadata": {},
     "output_type": "execute_result"
    }
   ],
   "source": [
    "table1"
   ]
  },
  {
   "cell_type": "code",
   "execution_count": 90,
   "metadata": {},
   "outputs": [],
   "source": [
    "table1.to_csv('task10_table1.csv', index=False)"
   ]
  },
  {
   "cell_type": "markdown",
   "metadata": {},
   "source": [
    "# Table 2 (Best overall)"
   ]
  },
  {
   "cell_type": "code",
   "execution_count": 91,
   "metadata": {},
   "outputs": [],
   "source": [
    "table2 = comparison_matrix.sort_values(['Training_Accuracy'], ascending=False, ignore_index=True).head(1)"
   ]
  },
  {
   "cell_type": "code",
   "execution_count": 92,
   "metadata": {},
   "outputs": [
    {
     "data": {
      "text/html": [
       "<div>\n",
       "<style scoped>\n",
       "    .dataframe tbody tr th:only-of-type {\n",
       "        vertical-align: middle;\n",
       "    }\n",
       "\n",
       "    .dataframe tbody tr th {\n",
       "        vertical-align: top;\n",
       "    }\n",
       "\n",
       "    .dataframe thead th {\n",
       "        text-align: right;\n",
       "    }\n",
       "</style>\n",
       "<table border=\"1\" class=\"dataframe\">\n",
       "  <thead>\n",
       "    <tr style=\"text-align: right;\">\n",
       "      <th></th>\n",
       "      <th>Model</th>\n",
       "      <th>Training_Accuracy</th>\n",
       "      <th>Testing_Accuracy</th>\n",
       "      <th>Best_Parameters</th>\n",
       "    </tr>\n",
       "  </thead>\n",
       "  <tbody>\n",
       "    <tr>\n",
       "      <th>0</th>\n",
       "      <td>RF grid_search</td>\n",
       "      <td>0.814118</td>\n",
       "      <td>0.850467</td>\n",
       "      <td>{'criterion': 'gini', 'max_depth': None, 'min_samples_split': 30, 'n_estimators': 100, 'random_state': 49}</td>\n",
       "    </tr>\n",
       "  </tbody>\n",
       "</table>\n",
       "</div>"
      ],
      "text/plain": [
       "            Model  Training_Accuracy  Testing_Accuracy  \\\n",
       "0  RF grid_search           0.814118          0.850467   \n",
       "\n",
       "                                                                                              Best_Parameters  \n",
       "0  {'criterion': 'gini', 'max_depth': None, 'min_samples_split': 30, 'n_estimators': 100, 'random_state': 49}  "
      ]
     },
     "execution_count": 92,
     "metadata": {},
     "output_type": "execute_result"
    }
   ],
   "source": [
    "table2"
   ]
  },
  {
   "cell_type": "code",
   "execution_count": 93,
   "metadata": {},
   "outputs": [],
   "source": [
    "table2.to_csv('task10_table2.csv', index=False)"
   ]
  },
  {
   "cell_type": "code",
   "execution_count": null,
   "metadata": {},
   "outputs": [],
   "source": []
  }
 ],
 "metadata": {
  "kernelspec": {
   "display_name": "Python 3",
   "language": "python",
   "name": "python3"
  },
  "language_info": {
   "codemirror_mode": {
    "name": "ipython",
    "version": 3
   },
   "file_extension": ".py",
   "mimetype": "text/x-python",
   "name": "python",
   "nbconvert_exporter": "python",
   "pygments_lexer": "ipython3",
   "version": "3.10.9"
  },
  "vscode": {
   "interpreter": {
    "hash": "5b02015fb6355254b8bc6bde254ad7e65461be73ec23ad4775e5a8cd8e94000c"
   }
  }
 },
 "nbformat": 4,
 "nbformat_minor": 4
}
