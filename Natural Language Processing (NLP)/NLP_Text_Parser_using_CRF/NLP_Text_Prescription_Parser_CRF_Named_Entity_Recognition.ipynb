{
 "cells": [
  {
   "attachments": {},
   "cell_type": "markdown",
   "metadata": {
    "id": "PbmeoKdlLzsU"
   },
   "source": [
    "# Create a Prescription Parser using CRF\n",
    "## This Notebook was run on Google Colab!!\n",
    "This task tests your ability to build a Doctor Prescription Parser with the help of CRF model\n",
    "\n",
    "Your job is to build a Prescription Parser that takes a prescription (sentence) as an input and find / label the words in that sentence with one of the already pre-defined labels\n",
    "\n",
    "### Problem: SEQUENCE PREDICTION - Label words in a sentence\n",
    "#### Input : Doctor Prescription in the form of a sentence split into tokens\n",
    "- Ex: Take 2 tablets once a day for 10 days\n",
    "\n",
    "#### Output : FHIR Labels\n",
    "- ('Take', 'Method')\n",
    "- ('2', 'Qty') \n",
    "- ('tablets', 'Form')\n",
    "- ('once', 'Frequency')\n",
    "- ('a', 'Period') \n",
    "- ('day', 'PeriodUnit')\n",
    "- ('for', 'FOR')\n",
    "- ('10', 'Duration')\n",
    "- ('days', 'DurationUnit') "
   ]
  },
  {
   "cell_type": "markdown",
   "metadata": {
    "id": "AvaNXPqUL7gA"
   },
   "source": [
    "### Major Steps\n",
    "- Install necessary library\n",
    "- Import the libraries\n",
    "- Create training data with labels\n",
    "    - Split the sentence into tokens\n",
    "    - Compute POS tags\n",
    "    - Create triples\n",
    "- Extract features\n",
    "- Split the data into training and testing set\n",
    "- Create CRF model\n",
    "- Save the CRF model\n",
    "- Load the CRF model\n",
    "- Predict on test data\n",
    "- Accuracy\n",
    "\n",
    "## This Notebook was run on Google Colab!!"
   ]
  },
  {
   "cell_type": "markdown",
   "metadata": {
    "id": "rbTGon1BMD7x"
   },
   "source": [
    "#### Install necesary libraries and  versions"
   ]
  },
  {
   "cell_type": "code",
   "execution_count": 32,
   "metadata": {
    "colab": {
     "base_uri": "https://localhost:8080/"
    },
    "id": "zn397lBa-sOa",
    "outputId": "46d5646f-6aaa-4a5a-88f7-180560ecbe45"
   },
   "outputs": [
    {
     "name": "stdout",
     "output_type": "stream",
     "text": [
      "Looking in indexes: https://pypi.org/simple, https://us-python.pkg.dev/colab-wheels/public/simple/\n",
      "Requirement already satisfied: textacy in /usr/local/lib/python3.7/dist-packages (0.11.0)\n",
      "Requirement already satisfied: spacy>=3.0.0 in /usr/local/lib/python3.7/dist-packages (from textacy) (3.4.2)\n",
      "Requirement already satisfied: tqdm>=4.19.6 in /usr/local/lib/python3.7/dist-packages (from textacy) (4.64.1)\n",
      "Requirement already satisfied: scipy>=0.17.0 in /usr/local/lib/python3.7/dist-packages (from textacy) (1.7.3)\n",
      "Requirement already satisfied: jellyfish>=0.8.0 in /usr/local/lib/python3.7/dist-packages (from textacy) (0.9.0)\n",
      "Requirement already satisfied: scikit-learn>=0.19.0 in /usr/local/lib/python3.7/dist-packages (from textacy) (1.0.2)\n",
      "Requirement already satisfied: joblib>=0.13.0 in /usr/local/lib/python3.7/dist-packages (from textacy) (1.2.0)\n",
      "Requirement already satisfied: numpy>=1.17.0 in /usr/local/lib/python3.7/dist-packages (from textacy) (1.21.6)\n",
      "Requirement already satisfied: cachetools>=4.0.0 in /usr/local/lib/python3.7/dist-packages (from textacy) (5.2.0)\n",
      "Requirement already satisfied: pyphen>=0.10.0 in /usr/local/lib/python3.7/dist-packages (from textacy) (0.13.0)\n",
      "Requirement already satisfied: requests>=2.10.0 in /usr/local/lib/python3.7/dist-packages (from textacy) (2.23.0)\n",
      "Requirement already satisfied: cytoolz>=0.10.1 in /usr/local/lib/python3.7/dist-packages (from textacy) (0.12.0)\n",
      "Requirement already satisfied: networkx>=2.0 in /usr/local/lib/python3.7/dist-packages (from textacy) (2.6.3)\n",
      "Requirement already satisfied: toolz>=0.8.0 in /usr/local/lib/python3.7/dist-packages (from cytoolz>=0.10.1->textacy) (0.12.0)\n",
      "Requirement already satisfied: chardet<4,>=3.0.2 in /usr/local/lib/python3.7/dist-packages (from requests>=2.10.0->textacy) (3.0.4)\n",
      "Requirement already satisfied: certifi>=2017.4.17 in /usr/local/lib/python3.7/dist-packages (from requests>=2.10.0->textacy) (2022.9.24)\n",
      "Requirement already satisfied: idna<3,>=2.5 in /usr/local/lib/python3.7/dist-packages (from requests>=2.10.0->textacy) (2.10)\n",
      "Requirement already satisfied: urllib3!=1.25.0,!=1.25.1,<1.26,>=1.21.1 in /usr/local/lib/python3.7/dist-packages (from requests>=2.10.0->textacy) (1.24.3)\n",
      "Requirement already satisfied: threadpoolctl>=2.0.0 in /usr/local/lib/python3.7/dist-packages (from scikit-learn>=0.19.0->textacy) (3.1.0)\n",
      "Requirement already satisfied: spacy-legacy<3.1.0,>=3.0.10 in /usr/local/lib/python3.7/dist-packages (from spacy>=3.0.0->textacy) (3.0.10)\n",
      "Requirement already satisfied: cymem<2.1.0,>=2.0.2 in /usr/local/lib/python3.7/dist-packages (from spacy>=3.0.0->textacy) (2.0.7)\n",
      "Requirement already satisfied: langcodes<4.0.0,>=3.2.0 in /usr/local/lib/python3.7/dist-packages (from spacy>=3.0.0->textacy) (3.3.0)\n",
      "Requirement already satisfied: preshed<3.1.0,>=3.0.2 in /usr/local/lib/python3.7/dist-packages (from spacy>=3.0.0->textacy) (3.0.8)\n",
      "Requirement already satisfied: thinc<8.2.0,>=8.1.0 in /usr/local/lib/python3.7/dist-packages (from spacy>=3.0.0->textacy) (8.1.5)\n",
      "Requirement already satisfied: typer<0.5.0,>=0.3.0 in /usr/local/lib/python3.7/dist-packages (from spacy>=3.0.0->textacy) (0.4.2)\n",
      "Requirement already satisfied: jinja2 in /usr/local/lib/python3.7/dist-packages (from spacy>=3.0.0->textacy) (2.11.3)\n",
      "Requirement already satisfied: murmurhash<1.1.0,>=0.28.0 in /usr/local/lib/python3.7/dist-packages (from spacy>=3.0.0->textacy) (1.0.9)\n",
      "Requirement already satisfied: pathy>=0.3.5 in /usr/local/lib/python3.7/dist-packages (from spacy>=3.0.0->textacy) (0.6.2)\n",
      "Requirement already satisfied: packaging>=20.0 in /usr/local/lib/python3.7/dist-packages (from spacy>=3.0.0->textacy) (21.3)\n",
      "Requirement already satisfied: wasabi<1.1.0,>=0.9.1 in /usr/local/lib/python3.7/dist-packages (from spacy>=3.0.0->textacy) (0.10.1)\n",
      "Requirement already satisfied: spacy-loggers<2.0.0,>=1.0.0 in /usr/local/lib/python3.7/dist-packages (from spacy>=3.0.0->textacy) (1.0.3)\n",
      "Requirement already satisfied: srsly<3.0.0,>=2.4.3 in /usr/local/lib/python3.7/dist-packages (from spacy>=3.0.0->textacy) (2.4.5)\n",
      "Requirement already satisfied: typing-extensions<4.2.0,>=3.7.4 in /usr/local/lib/python3.7/dist-packages (from spacy>=3.0.0->textacy) (4.1.1)\n",
      "Requirement already satisfied: setuptools in /usr/local/lib/python3.7/dist-packages (from spacy>=3.0.0->textacy) (57.4.0)\n",
      "Requirement already satisfied: catalogue<2.1.0,>=2.0.6 in /usr/local/lib/python3.7/dist-packages (from spacy>=3.0.0->textacy) (2.0.8)\n",
      "Requirement already satisfied: pydantic!=1.8,!=1.8.1,<1.11.0,>=1.7.4 in /usr/local/lib/python3.7/dist-packages (from spacy>=3.0.0->textacy) (1.10.2)\n",
      "Requirement already satisfied: zipp>=0.5 in /usr/local/lib/python3.7/dist-packages (from catalogue<2.1.0,>=2.0.6->spacy>=3.0.0->textacy) (3.10.0)\n",
      "Requirement already satisfied: pyparsing!=3.0.5,>=2.0.2 in /usr/local/lib/python3.7/dist-packages (from packaging>=20.0->spacy>=3.0.0->textacy) (3.0.9)\n",
      "Requirement already satisfied: smart-open<6.0.0,>=5.2.1 in /usr/local/lib/python3.7/dist-packages (from pathy>=0.3.5->spacy>=3.0.0->textacy) (5.2.1)\n",
      "Requirement already satisfied: confection<1.0.0,>=0.0.1 in /usr/local/lib/python3.7/dist-packages (from thinc<8.2.0,>=8.1.0->spacy>=3.0.0->textacy) (0.0.3)\n",
      "Requirement already satisfied: blis<0.8.0,>=0.7.8 in /usr/local/lib/python3.7/dist-packages (from thinc<8.2.0,>=8.1.0->spacy>=3.0.0->textacy) (0.7.9)\n",
      "Requirement already satisfied: click<9.0.0,>=7.1.1 in /usr/local/lib/python3.7/dist-packages (from typer<0.5.0,>=0.3.0->spacy>=3.0.0->textacy) (7.1.2)\n",
      "Requirement already satisfied: MarkupSafe>=0.23 in /usr/local/lib/python3.7/dist-packages (from jinja2->spacy>=3.0.0->textacy) (2.0.1)\n"
     ]
    }
   ],
   "source": [
    "!pip install textacy\n",
    "# !pip install textacy==0.9.1\n",
    "# !python -m spacy download en_core_web_sm"
   ]
  },
  {
   "cell_type": "code",
   "execution_count": 33,
   "metadata": {
    "id": "SJK3uLRujpkU"
   },
   "outputs": [],
   "source": [
    "# Downgrade skit-learn to avoid conflict with Conditional Random Fields Model (CRF)\n",
    "# 'CRF' object has no attribute 'keep_tempfiles'\n",
    "# !pip install scikit-learn==0.22.2 --user"
   ]
  },
  {
   "cell_type": "code",
   "execution_count": 34,
   "metadata": {
    "colab": {
     "base_uri": "https://localhost:8080/",
     "height": 381
    },
    "id": "sQmFwrHbyqV-",
    "outputId": "04466149-d051-4042-bbf4-9a8e1f3d1bbf"
   },
   "outputs": [
    {
     "name": "stdout",
     "output_type": "stream",
     "text": [
      "Looking in indexes: https://pypi.org/simple, https://us-python.pkg.dev/colab-wheels/public/simple/\n",
      "Collecting scikit-learn<0.24\n",
      "  Using cached scikit_learn-0.23.2-cp37-cp37m-manylinux1_x86_64.whl (6.8 MB)\n",
      "Requirement already satisfied: numpy>=1.13.3 in /usr/local/lib/python3.7/dist-packages (from scikit-learn<0.24) (1.21.6)\n",
      "Requirement already satisfied: scipy>=0.19.1 in /usr/local/lib/python3.7/dist-packages (from scikit-learn<0.24) (1.7.3)\n",
      "Requirement already satisfied: joblib>=0.11 in /usr/local/lib/python3.7/dist-packages (from scikit-learn<0.24) (1.2.0)\n",
      "Requirement already satisfied: threadpoolctl>=2.0.0 in /usr/local/lib/python3.7/dist-packages (from scikit-learn<0.24) (3.1.0)\n",
      "Installing collected packages: scikit-learn\n",
      "  Attempting uninstall: scikit-learn\n",
      "    Found existing installation: scikit-learn 1.0.2\n",
      "    Uninstalling scikit-learn-1.0.2:\n",
      "      Successfully uninstalled scikit-learn-1.0.2\n",
      "\u001b[31mERROR: pip's dependency resolver does not currently take into account all the packages that are installed. This behaviour is the source of the following dependency conflicts.\n",
      "yellowbrick 1.5 requires scikit-learn>=1.0.0, but you have scikit-learn 0.23.2 which is incompatible.\n",
      "imbalanced-learn 0.8.1 requires scikit-learn>=0.24, but you have scikit-learn 0.23.2 which is incompatible.\u001b[0m\n",
      "Successfully installed scikit-learn-0.23.2\n"
     ]
    },
    {
     "data": {
      "application/vnd.colab-display-data+json": {
       "pip_warning": {
        "packages": [
         "sklearn"
        ]
       }
      }
     },
     "metadata": {},
     "output_type": "display_data"
    }
   ],
   "source": [
    "pip install -U 'scikit-learn<0.24'"
   ]
  },
  {
   "cell_type": "code",
   "execution_count": 238,
   "metadata": {
    "id": "FkA4T_Y_jwfU"
   },
   "outputs": [],
   "source": [
    "# skit-learn has to be running before installing sklearn-crfsuite\n",
    "import sklearn"
   ]
  },
  {
   "cell_type": "code",
   "execution_count": 36,
   "metadata": {
    "colab": {
     "base_uri": "https://localhost:8080/"
    },
    "id": "9zUdlvbxkk88",
    "outputId": "9018581e-5347-4fc6-aa8b-481a611fc95f"
   },
   "outputs": [
    {
     "name": "stdout",
     "output_type": "stream",
     "text": [
      "Looking in indexes: https://pypi.org/simple, https://us-python.pkg.dev/colab-wheels/public/simple/\n",
      "Requirement already satisfied: sklearn-crfsuite in /usr/local/lib/python3.7/dist-packages (0.3.6)\n",
      "Requirement already satisfied: tqdm>=2.0 in /usr/local/lib/python3.7/dist-packages (from sklearn-crfsuite) (4.64.1)\n",
      "Requirement already satisfied: six in /usr/local/lib/python3.7/dist-packages (from sklearn-crfsuite) (1.15.0)\n",
      "Requirement already satisfied: tabulate in /usr/local/lib/python3.7/dist-packages (from sklearn-crfsuite) (0.8.10)\n",
      "Requirement already satisfied: python-crfsuite>=0.8.3 in /usr/local/lib/python3.7/dist-packages (from sklearn-crfsuite) (0.9.8)\n"
     ]
    }
   ],
   "source": [
    "# Installing Conditional Random Fields Model (CRF)\n",
    "!pip install sklearn-crfsuite"
   ]
  },
  {
   "cell_type": "code",
   "execution_count": 237,
   "metadata": {
    "id": "mXMzv8BNMNzw"
   },
   "outputs": [],
   "source": [
    "import spacy"
   ]
  },
  {
   "cell_type": "code",
   "execution_count": 37,
   "metadata": {
    "id": "pnROSvlH-abx"
   },
   "outputs": [],
   "source": [
    "from textacy import extract"
   ]
  },
  {
   "cell_type": "code",
   "execution_count": 38,
   "metadata": {
    "id": "ZUKMaRgk-qD4"
   },
   "outputs": [],
   "source": [
    "import nltk\n",
    "from nltk import pos_tag\n",
    "from nltk.tokenize import word_tokenize"
   ]
  },
  {
   "cell_type": "code",
   "execution_count": 39,
   "metadata": {
    "id": "txV5I5onkaZs"
   },
   "outputs": [],
   "source": [
    "from nltk.tag import pos_tag\n",
    "from sklearn_crfsuite import CRF, metrics\n",
    "from sklearn.model_selection import train_test_split\n",
    "from sklearn.metrics import make_scorer,confusion_matrix\n",
    "from pprint import pprint\n",
    "from sklearn.metrics import f1_score,classification_report\n",
    "from sklearn.pipeline import Pipeline\n",
    "import string"
   ]
  },
  {
   "cell_type": "code",
   "execution_count": 40,
   "metadata": {
    "colab": {
     "base_uri": "https://localhost:8080/"
    },
    "id": "9kDsAcKNYMVW",
    "outputId": "923e8389-0b96-4903-8b56-14a1dfaf854b"
   },
   "outputs": [
    {
     "name": "stderr",
     "output_type": "stream",
     "text": [
      "[nltk_data] Downloading package punkt to /root/nltk_data...\n",
      "[nltk_data]   Package punkt is already up-to-date!\n",
      "[nltk_data] Downloading package averaged_perceptron_tagger to\n",
      "[nltk_data]     /root/nltk_data...\n",
      "[nltk_data]   Package averaged_perceptron_tagger is already up-to-\n",
      "[nltk_data]       date!\n"
     ]
    },
    {
     "data": {
      "text/plain": [
       "True"
      ]
     },
     "execution_count": 40,
     "metadata": {},
     "output_type": "execute_result"
    }
   ],
   "source": [
    "# Download 'punkt' and 'averaged_perceptron_tagger' to avoid errors in nltk functions\n",
    "nltk.download('punkt')\n",
    "nltk.download('averaged_perceptron_tagger')"
   ]
  },
  {
   "cell_type": "code",
   "execution_count": 40,
   "metadata": {
    "id": "8mBWK95PZRDy"
   },
   "outputs": [],
   "source": []
  },
  {
   "cell_type": "markdown",
   "metadata": {
    "id": "k1kKz6uiBzN8"
   },
   "source": [
    "### Input data (GIVEN)\n",
    "#### Creating the inputs to the ML model in the following form:\n",
    "- sigs --> ['take 3 tabs for 10 days']       INPUT SIG\n",
    "- input_sigs --> [['take', '3', 'tabs', 'for', '10', 'days']]      TOKENS\n",
    "- output_labels --> [['Method','Qty', 'Form', 'FOR', 'Duration', 'DurationUnit']]       LABELS"
   ]
  },
  {
   "cell_type": "code",
   "execution_count": 41,
   "metadata": {
    "id": "T6kHwDeJB0KO"
   },
   "outputs": [],
   "source": [
    "sigs = [\"for 5 to 6 days\", \"inject 2 units\", \"x 2 weeks\", \"x 3 days\", \"every day\", \"every 2 weeks\", \"every 3 days\", \"every 1 to 2 months\", \"every 2 to 6 weeks\", \"every 4 to 6 days\", \"take two to four tabs\", \"take 2 to 4 tabs\", \"take 3 tabs orally bid for 10 days at bedtime\", \"swallow three capsules tid orally\", \"take 2 capsules po every 6 hours\", \"take 2 tabs po for 10 days\", \"take 100 caps by mouth tid for 10 weeks\", \"take 2 tabs after an hour\", \"2 tabs every 4-6 hours\", \"every 4 to 6 hours\", \"q46h\", \"q4-6h\", \"2 hours before breakfast\", \"before 30 mins at bedtime\", \"30 mins before bed\", \"and 100 tabs twice a month\", \"100 tabs twice a month\", \"100 tabs once a month\", \"100 tabs thrice a month\", \"3 tabs daily for 3 days then 1 tab per day at bed\", \"30 tabs 10 days tid\", \"take 30 tabs for 10 days three times a day\", \"qid q6h\", \"bid\", \"qid\", \"30 tabs before dinner and bedtime\", \"30 tabs before dinner & bedtime\", \"take 3 tabs at bedtime\", \"30 tabs thrice daily for 10 days \", \"30 tabs for 10 days three times a day\", \"Take 2 tablets a day\", \"qid for 10 days\", \"every day\", \"take 2 caps at bedtime\", \"apply 3 drops before bedtime\", \"take three capsules daily\", \"swallow 3 pills once a day\", \"swallow three pills thrice a day\", \"apply daily\", \"apply three drops before bedtime\", \"every 6 hours\", \"before food\", \"after food\", \"for 20 days\", \"for twenty days\", \"with meals\"]\n",
    "input_sigs = [['for', '5', 'to', '6', 'days'], ['inject', '2', 'units'], ['x', '2', 'weeks'], ['x', '3', 'days'], ['every', 'day'], ['every', '2', 'weeks'], ['every', '3', 'days'], ['every', '1', 'to', '2', 'months'], ['every', '2', 'to', '6', 'weeks'], ['every', '4', 'to', '6', 'days'], ['take', 'two', 'to', 'four', 'tabs'], ['take', '2', 'to', '4', 'tabs'], ['take', '3', 'tabs', 'orally', 'bid', 'for', '10', 'days', 'at', 'bedtime'], ['swallow', 'three', 'capsules', 'tid', 'orally'], ['take', '2', 'capsules', 'po', 'every', '6', 'hours'], ['take', '2', 'tabs', 'po', 'for', '10', 'days'], ['take', '100', 'caps', 'by', 'mouth', 'tid', 'for', '10', 'weeks'], ['take', '2', 'tabs', 'after', 'an', 'hour'], ['2', 'tabs', 'every', '4-6', 'hours'], ['every', '4', 'to', '6', 'hours'], ['q46h'], ['q4-6h'], ['2', 'hours', 'before', 'breakfast'], ['before', '30', 'mins', 'at', 'bedtime'], ['30', 'mins', 'before', 'bed'], ['and', '100', 'tabs', 'twice', 'a', 'month'], ['100', 'tabs', 'twice', 'a', 'month'], ['100', 'tabs', 'once', 'a', 'month'], ['100', 'tabs', 'thrice', 'a', 'month'], ['3', 'tabs', 'daily', 'for', '3', 'days', 'then', '1', 'tab', 'per', 'day', 'at', 'bed'], ['30', 'tabs', '10', 'days', 'tid'], ['take', '30', 'tabs', 'for', '10', 'days', 'three', 'times', 'a', 'day'], ['qid', 'q6h'], ['bid'], ['qid'], ['30', 'tabs', 'before', 'dinner', 'and', 'bedtime'], ['30', 'tabs', 'before', 'dinner', '&', 'bedtime'], ['take', '3', 'tabs', 'at', 'bedtime'], ['30', 'tabs', 'thrice', 'daily', 'for', '10', 'days'], ['30', 'tabs', 'for', '10', 'days', 'three', 'times', 'a', 'day'], ['take', '2', 'tablets', 'a', 'day'], ['qid', 'for', '10', 'days'], ['every', 'day'], ['take', '2', 'caps', 'at', 'bedtime'], ['apply', '3', 'drops', 'before', 'bedtime'], ['take', 'three', 'capsules', 'daily'], ['swallow', '3', 'pills', 'once', 'a', 'day'], ['swallow', 'three', 'pills', 'thrice', 'a', 'day'], ['apply', 'daily'], ['apply', 'three', 'drops', 'before', 'bedtime'], ['every', '6', 'hours'], ['before', 'food'], ['after', 'food'], ['for', '20', 'days'], ['for', 'twenty', 'days'], ['with', 'meals']]\n",
    "output_labels = [['FOR', 'Duration', 'TO', 'DurationMax', 'DurationUnit'], ['Method', 'Qty', 'Form'], ['FOR', 'Duration', 'DurationUnit'], ['FOR', 'Duration', 'DurationUnit'], ['EVERY', 'Period'], ['EVERY', 'Period', 'PeriodUnit'], ['EVERY', 'Period', 'PeriodUnit'], ['EVERY', 'Period', 'TO', 'PeriodMax', 'PeriodUnit'], ['EVERY', 'Period', 'TO', 'PeriodMax', 'PeriodUnit'], ['EVERY', 'Period', 'TO', 'PeriodMax', 'PeriodUnit'], ['Method', 'Qty', 'TO', 'Qty', 'Form'], ['Method', 'Qty', 'TO', 'Qty', 'Form'], ['Method', 'Qty', 'Form', 'PO', 'BID', 'FOR', 'Duration', 'DurationUnit', 'AT', 'WHEN'], ['Method', 'Qty', 'Form', 'TID', 'PO'], ['Method', 'Qty', 'Form', 'PO', 'EVERY', 'Period', 'PeriodUnit'], ['Method', 'Qty', 'Form', 'PO', 'FOR', 'Duration', 'DurationUnit'], ['Method', 'Qty', 'Form', 'BY', 'PO', 'TID', 'FOR', 'Duration', 'DurationUnit'], ['Method', 'Qty', 'Form', 'AFTER', 'Period', 'PeriodUnit'], ['Qty', 'Form', 'EVERY', 'Period', 'PeriodUnit'], ['EVERY', 'Period', 'TO', 'PeriodMax', 'PeriodUnit'], ['Q46H'], ['Q4-6H'], ['Qty', 'PeriodUnit', 'BEFORE', 'WHEN'], ['BEFORE', 'Qty', 'M', 'AT', 'WHEN'], ['Qty', 'M', 'BEFORE', 'WHEN'], ['AND', 'Qty', 'Form', 'Frequency', 'Period', 'PeriodUnit'], ['Qty', 'Form', 'Frequency', 'Period', 'PeriodUnit'], ['Qty', 'Form', 'Frequency', 'Period', 'PeriodUnit'], ['Qty', 'Form', 'Frequency', 'Period', 'PeriodUnit'], ['Qty', 'Form', 'Frequency', 'FOR', 'Duration', 'DurationUnit', 'THEN', 'Qty', 'Form', 'Frequency', 'PeriodUnit', 'AT', 'WHEN'], ['Qty', 'Form', 'Duration', 'DurationUnit', 'TID'], ['Method', 'Qty', 'Form', 'FOR', 'Duration', 'DurationUnit', 'Qty', 'TIMES', 'Period', 'PeriodUnit'], ['QID', 'Q6H'], ['BID'], ['QID'],['Qty', 'Form', 'BEFORE', 'WHEN', 'AND', 'WHEN'], ['Qty', 'Form', 'BEFORE', 'WHEN', 'AND', 'WHEN'], ['Method', 'Qty', 'Form', 'AT', 'WHEN'], ['Qty', 'Form', 'Frequency', 'DAILY', 'FOR', 'Duration', 'DurationUnit'], ['Qty', 'Form', 'FOR', 'Duration', 'DurationUnit', 'Frequency', 'TIMES', 'Period', 'PeriodUnit'], ['Method', 'Qty', 'Form', 'Period', 'PeriodUnit'], ['QID', 'FOR', 'Duration', 'DurationUnit'], ['EVERY', 'PeriodUnit'], ['Method', 'Qty', 'Form', 'AT', 'WHEN'], ['Method', 'Qty', 'Form', 'BEFORE', 'WHEN'], ['Method', 'Qty', 'Form', 'DAILY'], ['Method', 'Qty', 'Form', 'Frequency', 'Period', 'PeriodUnit'], ['Method', 'Qty', 'Form', 'Frequency', 'Period', 'PeriodUnit'], ['Method', 'DAILY'], ['Method', 'Qty', 'Form', 'BEFORE', 'WHEN'], ['EVERY', 'Period', 'PeriodUnit'], ['BEFORE', 'FOOD'], ['AFTER', 'FOOD'], ['FOR', 'Duration', 'DurationUnit'], ['FOR', 'Duration', 'DurationUnit'], ['WITH', 'FOOD']]"
   ]
  },
  {
   "cell_type": "code",
   "execution_count": 42,
   "metadata": {
    "colab": {
     "base_uri": "https://localhost:8080/"
    },
    "id": "j7S1M-4mB_io",
    "outputId": "96edad7d-87fd-4749-c860-649e346c3573"
   },
   "outputs": [
    {
     "data": {
      "text/plain": [
       "(56, 56, 56)"
      ]
     },
     "execution_count": 42,
     "metadata": {},
     "output_type": "execute_result"
    }
   ],
   "source": [
    "# Checking size of samples\n",
    "len(sigs), len(input_sigs) , len(output_labels)"
   ]
  },
  {
   "cell_type": "markdown",
   "metadata": {
    "id": "9YASy7IQCMI6"
   },
   "source": [
    "### Creating a Tuples Maker method\n",
    "Create the tuples as given below by writing a function **tuples_maker(input_sigs, output_labels)** and returns **output** as given below\n",
    "\n",
    "Input(s): \n",
    "- input_sigs\n",
    "- output_lables\n",
    "\n",
    "Output:\n",
    "\n",
    "[[('for', 'FOR'),\n",
    "  ('5', 'Duration'),\n",
    "  ('to', 'TO'),\n",
    "  ('6', 'DurationMax'),\n",
    "  ('days', 'DurationUnit')], [second sentence], ...]"
   ]
  },
  {
   "cell_type": "code",
   "execution_count": 43,
   "metadata": {
    "id": "0xOiv7DFCM1o"
   },
   "outputs": [],
   "source": [
    "def tuples_maker(inp, out):\n",
    "    sample_data = zip(inp, out)\n",
    "    list_of_tuples=[]\n",
    "    for items in list(sample_data):\n",
    "        mapped = zip(items[0], items[1])\n",
    "        list_of_tuples.append(list(mapped))\n",
    "    return list_of_tuples"
   ]
  },
  {
   "cell_type": "code",
   "execution_count": 44,
   "metadata": {
    "colab": {
     "base_uri": "https://localhost:8080/"
    },
    "id": "A64Tc_sYCSmY",
    "outputId": "b584025f-c40f-42af-a371-1815f80098d7"
   },
   "outputs": [
    {
     "data": {
      "text/plain": [
       "[[('for', 'FOR'),\n",
       "  ('5', 'Duration'),\n",
       "  ('to', 'TO'),\n",
       "  ('6', 'DurationMax'),\n",
       "  ('days', 'DurationUnit')],\n",
       " [('inject', 'Method'), ('2', 'Qty'), ('units', 'Form')],\n",
       " [('x', 'FOR'), ('2', 'Duration'), ('weeks', 'DurationUnit')],\n",
       " [('x', 'FOR'), ('3', 'Duration'), ('days', 'DurationUnit')],\n",
       " [('every', 'EVERY'), ('day', 'Period')],\n",
       " [('every', 'EVERY'), ('2', 'Period'), ('weeks', 'PeriodUnit')],\n",
       " [('every', 'EVERY'), ('3', 'Period'), ('days', 'PeriodUnit')],\n",
       " [('every', 'EVERY'),\n",
       "  ('1', 'Period'),\n",
       "  ('to', 'TO'),\n",
       "  ('2', 'PeriodMax'),\n",
       "  ('months', 'PeriodUnit')],\n",
       " [('every', 'EVERY'),\n",
       "  ('2', 'Period'),\n",
       "  ('to', 'TO'),\n",
       "  ('6', 'PeriodMax'),\n",
       "  ('weeks', 'PeriodUnit')],\n",
       " [('every', 'EVERY'),\n",
       "  ('4', 'Period'),\n",
       "  ('to', 'TO'),\n",
       "  ('6', 'PeriodMax'),\n",
       "  ('days', 'PeriodUnit')],\n",
       " [('take', 'Method'),\n",
       "  ('two', 'Qty'),\n",
       "  ('to', 'TO'),\n",
       "  ('four', 'Qty'),\n",
       "  ('tabs', 'Form')],\n",
       " [('take', 'Method'),\n",
       "  ('2', 'Qty'),\n",
       "  ('to', 'TO'),\n",
       "  ('4', 'Qty'),\n",
       "  ('tabs', 'Form')],\n",
       " [('take', 'Method'),\n",
       "  ('3', 'Qty'),\n",
       "  ('tabs', 'Form'),\n",
       "  ('orally', 'PO'),\n",
       "  ('bid', 'BID'),\n",
       "  ('for', 'FOR'),\n",
       "  ('10', 'Duration'),\n",
       "  ('days', 'DurationUnit'),\n",
       "  ('at', 'AT'),\n",
       "  ('bedtime', 'WHEN')],\n",
       " [('swallow', 'Method'),\n",
       "  ('three', 'Qty'),\n",
       "  ('capsules', 'Form'),\n",
       "  ('tid', 'TID'),\n",
       "  ('orally', 'PO')],\n",
       " [('take', 'Method'),\n",
       "  ('2', 'Qty'),\n",
       "  ('capsules', 'Form'),\n",
       "  ('po', 'PO'),\n",
       "  ('every', 'EVERY'),\n",
       "  ('6', 'Period'),\n",
       "  ('hours', 'PeriodUnit')],\n",
       " [('take', 'Method'),\n",
       "  ('2', 'Qty'),\n",
       "  ('tabs', 'Form'),\n",
       "  ('po', 'PO'),\n",
       "  ('for', 'FOR'),\n",
       "  ('10', 'Duration'),\n",
       "  ('days', 'DurationUnit')],\n",
       " [('take', 'Method'),\n",
       "  ('100', 'Qty'),\n",
       "  ('caps', 'Form'),\n",
       "  ('by', 'BY'),\n",
       "  ('mouth', 'PO'),\n",
       "  ('tid', 'TID'),\n",
       "  ('for', 'FOR'),\n",
       "  ('10', 'Duration'),\n",
       "  ('weeks', 'DurationUnit')],\n",
       " [('take', 'Method'),\n",
       "  ('2', 'Qty'),\n",
       "  ('tabs', 'Form'),\n",
       "  ('after', 'AFTER'),\n",
       "  ('an', 'Period'),\n",
       "  ('hour', 'PeriodUnit')],\n",
       " [('2', 'Qty'),\n",
       "  ('tabs', 'Form'),\n",
       "  ('every', 'EVERY'),\n",
       "  ('4-6', 'Period'),\n",
       "  ('hours', 'PeriodUnit')],\n",
       " [('every', 'EVERY'),\n",
       "  ('4', 'Period'),\n",
       "  ('to', 'TO'),\n",
       "  ('6', 'PeriodMax'),\n",
       "  ('hours', 'PeriodUnit')],\n",
       " [('q46h', 'Q46H')],\n",
       " [('q4-6h', 'Q4-6H')],\n",
       " [('2', 'Qty'),\n",
       "  ('hours', 'PeriodUnit'),\n",
       "  ('before', 'BEFORE'),\n",
       "  ('breakfast', 'WHEN')],\n",
       " [('before', 'BEFORE'),\n",
       "  ('30', 'Qty'),\n",
       "  ('mins', 'M'),\n",
       "  ('at', 'AT'),\n",
       "  ('bedtime', 'WHEN')],\n",
       " [('30', 'Qty'), ('mins', 'M'), ('before', 'BEFORE'), ('bed', 'WHEN')],\n",
       " [('and', 'AND'),\n",
       "  ('100', 'Qty'),\n",
       "  ('tabs', 'Form'),\n",
       "  ('twice', 'Frequency'),\n",
       "  ('a', 'Period'),\n",
       "  ('month', 'PeriodUnit')],\n",
       " [('100', 'Qty'),\n",
       "  ('tabs', 'Form'),\n",
       "  ('twice', 'Frequency'),\n",
       "  ('a', 'Period'),\n",
       "  ('month', 'PeriodUnit')],\n",
       " [('100', 'Qty'),\n",
       "  ('tabs', 'Form'),\n",
       "  ('once', 'Frequency'),\n",
       "  ('a', 'Period'),\n",
       "  ('month', 'PeriodUnit')],\n",
       " [('100', 'Qty'),\n",
       "  ('tabs', 'Form'),\n",
       "  ('thrice', 'Frequency'),\n",
       "  ('a', 'Period'),\n",
       "  ('month', 'PeriodUnit')],\n",
       " [('3', 'Qty'),\n",
       "  ('tabs', 'Form'),\n",
       "  ('daily', 'Frequency'),\n",
       "  ('for', 'FOR'),\n",
       "  ('3', 'Duration'),\n",
       "  ('days', 'DurationUnit'),\n",
       "  ('then', 'THEN'),\n",
       "  ('1', 'Qty'),\n",
       "  ('tab', 'Form'),\n",
       "  ('per', 'Frequency'),\n",
       "  ('day', 'PeriodUnit'),\n",
       "  ('at', 'AT'),\n",
       "  ('bed', 'WHEN')],\n",
       " [('30', 'Qty'),\n",
       "  ('tabs', 'Form'),\n",
       "  ('10', 'Duration'),\n",
       "  ('days', 'DurationUnit'),\n",
       "  ('tid', 'TID')],\n",
       " [('take', 'Method'),\n",
       "  ('30', 'Qty'),\n",
       "  ('tabs', 'Form'),\n",
       "  ('for', 'FOR'),\n",
       "  ('10', 'Duration'),\n",
       "  ('days', 'DurationUnit'),\n",
       "  ('three', 'Qty'),\n",
       "  ('times', 'TIMES'),\n",
       "  ('a', 'Period'),\n",
       "  ('day', 'PeriodUnit')],\n",
       " [('qid', 'QID'), ('q6h', 'Q6H')],\n",
       " [('bid', 'BID')],\n",
       " [('qid', 'QID')],\n",
       " [('30', 'Qty'),\n",
       "  ('tabs', 'Form'),\n",
       "  ('before', 'BEFORE'),\n",
       "  ('dinner', 'WHEN'),\n",
       "  ('and', 'AND'),\n",
       "  ('bedtime', 'WHEN')],\n",
       " [('30', 'Qty'),\n",
       "  ('tabs', 'Form'),\n",
       "  ('before', 'BEFORE'),\n",
       "  ('dinner', 'WHEN'),\n",
       "  ('&', 'AND'),\n",
       "  ('bedtime', 'WHEN')],\n",
       " [('take', 'Method'),\n",
       "  ('3', 'Qty'),\n",
       "  ('tabs', 'Form'),\n",
       "  ('at', 'AT'),\n",
       "  ('bedtime', 'WHEN')],\n",
       " [('30', 'Qty'),\n",
       "  ('tabs', 'Form'),\n",
       "  ('thrice', 'Frequency'),\n",
       "  ('daily', 'DAILY'),\n",
       "  ('for', 'FOR'),\n",
       "  ('10', 'Duration'),\n",
       "  ('days', 'DurationUnit')],\n",
       " [('30', 'Qty'),\n",
       "  ('tabs', 'Form'),\n",
       "  ('for', 'FOR'),\n",
       "  ('10', 'Duration'),\n",
       "  ('days', 'DurationUnit'),\n",
       "  ('three', 'Frequency'),\n",
       "  ('times', 'TIMES'),\n",
       "  ('a', 'Period'),\n",
       "  ('day', 'PeriodUnit')],\n",
       " [('take', 'Method'),\n",
       "  ('2', 'Qty'),\n",
       "  ('tablets', 'Form'),\n",
       "  ('a', 'Period'),\n",
       "  ('day', 'PeriodUnit')],\n",
       " [('qid', 'QID'),\n",
       "  ('for', 'FOR'),\n",
       "  ('10', 'Duration'),\n",
       "  ('days', 'DurationUnit')],\n",
       " [('every', 'EVERY'), ('day', 'PeriodUnit')],\n",
       " [('take', 'Method'),\n",
       "  ('2', 'Qty'),\n",
       "  ('caps', 'Form'),\n",
       "  ('at', 'AT'),\n",
       "  ('bedtime', 'WHEN')],\n",
       " [('apply', 'Method'),\n",
       "  ('3', 'Qty'),\n",
       "  ('drops', 'Form'),\n",
       "  ('before', 'BEFORE'),\n",
       "  ('bedtime', 'WHEN')],\n",
       " [('take', 'Method'),\n",
       "  ('three', 'Qty'),\n",
       "  ('capsules', 'Form'),\n",
       "  ('daily', 'DAILY')],\n",
       " [('swallow', 'Method'),\n",
       "  ('3', 'Qty'),\n",
       "  ('pills', 'Form'),\n",
       "  ('once', 'Frequency'),\n",
       "  ('a', 'Period'),\n",
       "  ('day', 'PeriodUnit')],\n",
       " [('swallow', 'Method'),\n",
       "  ('three', 'Qty'),\n",
       "  ('pills', 'Form'),\n",
       "  ('thrice', 'Frequency'),\n",
       "  ('a', 'Period'),\n",
       "  ('day', 'PeriodUnit')],\n",
       " [('apply', 'Method'), ('daily', 'DAILY')],\n",
       " [('apply', 'Method'),\n",
       "  ('three', 'Qty'),\n",
       "  ('drops', 'Form'),\n",
       "  ('before', 'BEFORE'),\n",
       "  ('bedtime', 'WHEN')],\n",
       " [('every', 'EVERY'), ('6', 'Period'), ('hours', 'PeriodUnit')],\n",
       " [('before', 'BEFORE'), ('food', 'FOOD')],\n",
       " [('after', 'AFTER'), ('food', 'FOOD')],\n",
       " [('for', 'FOR'), ('20', 'Duration'), ('days', 'DurationUnit')],\n",
       " [('for', 'FOR'), ('twenty', 'Duration'), ('days', 'DurationUnit')],\n",
       " [('with', 'WITH'), ('meals', 'FOOD')]]"
      ]
     },
     "execution_count": 44,
     "metadata": {},
     "output_type": "execute_result"
    }
   ],
   "source": [
    "tuples =tuples_maker(input_sigs, output_labels)\n",
    "tuples"
   ]
  },
  {
   "cell_type": "markdown",
   "metadata": {
    "id": "hXelOePCCekw"
   },
   "source": [
    "### Creating the triples_maker( ) for feature extraction\n",
    "- input: tuples_maker_output\n",
    "- output: \n",
    "[[('for', 'IN', 'FOR'),\n",
    "  ('5', 'CD', 'Duration'),\n",
    "  ('to', 'TO', 'TO'),\n",
    "  ('6', 'CD', 'DurationMax'),\n",
    "  ('days', 'NNS', 'DurationUnit')], [second sentence], ... ]"
   ]
  },
  {
   "cell_type": "code",
   "execution_count": 45,
   "metadata": {
    "id": "Zbk8yzq2CYkY"
   },
   "outputs": [],
   "source": [
    "def triples_maker(sigs, input_sigs, output_labels):\n",
    "    sig_tokenized=[]\n",
    "    for sentence in sigs:\n",
    "      sig_tokenized.append(word_tokenize(sentence))\n",
    "    sig_tokenized_tagged =[pos_tag(sent) for sent in sig_tokenized]\n",
    "    # sig_tokenized_tagged\n",
    "    final_sig=[]\n",
    "    for i, items in enumerate(sig_tokenized_tagged):\n",
    "      aux=[]\n",
    "      for j, element in enumerate(items): \n",
    "        aux.append([element[0], element[1], output_labels[i][j]])\n",
    "        final_sig.append(aux)\n",
    "    final_sig.append\n",
    "    # sig_tokenized\n",
    "    return final_sig\n"
   ]
  },
  {
   "cell_type": "code",
   "execution_count": 46,
   "metadata": {
    "colab": {
     "base_uri": "https://localhost:8080/"
    },
    "id": "f0QQz57GXXZL",
    "outputId": "d457f25a-d9ab-45b8-abc9-8c7b3aef7a32"
   },
   "outputs": [
    {
     "data": {
      "text/plain": [
       "[[['for', 'IN', 'FOR'],\n",
       "  ['5', 'CD', 'Duration'],\n",
       "  ['to', 'TO', 'TO'],\n",
       "  ['6', 'CD', 'DurationMax'],\n",
       "  ['days', 'NNS', 'DurationUnit']],\n",
       " [['for', 'IN', 'FOR'],\n",
       "  ['5', 'CD', 'Duration'],\n",
       "  ['to', 'TO', 'TO'],\n",
       "  ['6', 'CD', 'DurationMax'],\n",
       "  ['days', 'NNS', 'DurationUnit']],\n",
       " [['for', 'IN', 'FOR'],\n",
       "  ['5', 'CD', 'Duration'],\n",
       "  ['to', 'TO', 'TO'],\n",
       "  ['6', 'CD', 'DurationMax'],\n",
       "  ['days', 'NNS', 'DurationUnit']],\n",
       " [['for', 'IN', 'FOR'],\n",
       "  ['5', 'CD', 'Duration'],\n",
       "  ['to', 'TO', 'TO'],\n",
       "  ['6', 'CD', 'DurationMax'],\n",
       "  ['days', 'NNS', 'DurationUnit']],\n",
       " [['for', 'IN', 'FOR'],\n",
       "  ['5', 'CD', 'Duration'],\n",
       "  ['to', 'TO', 'TO'],\n",
       "  ['6', 'CD', 'DurationMax'],\n",
       "  ['days', 'NNS', 'DurationUnit']],\n",
       " [['inject', 'JJ', 'Method'], ['2', 'CD', 'Qty'], ['units', 'NNS', 'Form']],\n",
       " [['inject', 'JJ', 'Method'], ['2', 'CD', 'Qty'], ['units', 'NNS', 'Form']],\n",
       " [['inject', 'JJ', 'Method'], ['2', 'CD', 'Qty'], ['units', 'NNS', 'Form']],\n",
       " [['x', 'RB', 'FOR'],\n",
       "  ['2', 'CD', 'Duration'],\n",
       "  ['weeks', 'NNS', 'DurationUnit']],\n",
       " [['x', 'RB', 'FOR'],\n",
       "  ['2', 'CD', 'Duration'],\n",
       "  ['weeks', 'NNS', 'DurationUnit']],\n",
       " [['x', 'RB', 'FOR'],\n",
       "  ['2', 'CD', 'Duration'],\n",
       "  ['weeks', 'NNS', 'DurationUnit']],\n",
       " [['x', 'RB', 'FOR'],\n",
       "  ['3', 'CD', 'Duration'],\n",
       "  ['days', 'NNS', 'DurationUnit']],\n",
       " [['x', 'RB', 'FOR'],\n",
       "  ['3', 'CD', 'Duration'],\n",
       "  ['days', 'NNS', 'DurationUnit']],\n",
       " [['x', 'RB', 'FOR'],\n",
       "  ['3', 'CD', 'Duration'],\n",
       "  ['days', 'NNS', 'DurationUnit']],\n",
       " [['every', 'DT', 'EVERY'], ['day', 'NN', 'Period']],\n",
       " [['every', 'DT', 'EVERY'], ['day', 'NN', 'Period']],\n",
       " [['every', 'DT', 'EVERY'],\n",
       "  ['2', 'CD', 'Period'],\n",
       "  ['weeks', 'NNS', 'PeriodUnit']],\n",
       " [['every', 'DT', 'EVERY'],\n",
       "  ['2', 'CD', 'Period'],\n",
       "  ['weeks', 'NNS', 'PeriodUnit']],\n",
       " [['every', 'DT', 'EVERY'],\n",
       "  ['2', 'CD', 'Period'],\n",
       "  ['weeks', 'NNS', 'PeriodUnit']],\n",
       " [['every', 'DT', 'EVERY'],\n",
       "  ['3', 'CD', 'Period'],\n",
       "  ['days', 'NNS', 'PeriodUnit']],\n",
       " [['every', 'DT', 'EVERY'],\n",
       "  ['3', 'CD', 'Period'],\n",
       "  ['days', 'NNS', 'PeriodUnit']],\n",
       " [['every', 'DT', 'EVERY'],\n",
       "  ['3', 'CD', 'Period'],\n",
       "  ['days', 'NNS', 'PeriodUnit']],\n",
       " [['every', 'DT', 'EVERY'],\n",
       "  ['1', 'CD', 'Period'],\n",
       "  ['to', 'TO', 'TO'],\n",
       "  ['2', 'CD', 'PeriodMax'],\n",
       "  ['months', 'NNS', 'PeriodUnit']],\n",
       " [['every', 'DT', 'EVERY'],\n",
       "  ['1', 'CD', 'Period'],\n",
       "  ['to', 'TO', 'TO'],\n",
       "  ['2', 'CD', 'PeriodMax'],\n",
       "  ['months', 'NNS', 'PeriodUnit']],\n",
       " [['every', 'DT', 'EVERY'],\n",
       "  ['1', 'CD', 'Period'],\n",
       "  ['to', 'TO', 'TO'],\n",
       "  ['2', 'CD', 'PeriodMax'],\n",
       "  ['months', 'NNS', 'PeriodUnit']],\n",
       " [['every', 'DT', 'EVERY'],\n",
       "  ['1', 'CD', 'Period'],\n",
       "  ['to', 'TO', 'TO'],\n",
       "  ['2', 'CD', 'PeriodMax'],\n",
       "  ['months', 'NNS', 'PeriodUnit']],\n",
       " [['every', 'DT', 'EVERY'],\n",
       "  ['1', 'CD', 'Period'],\n",
       "  ['to', 'TO', 'TO'],\n",
       "  ['2', 'CD', 'PeriodMax'],\n",
       "  ['months', 'NNS', 'PeriodUnit']],\n",
       " [['every', 'DT', 'EVERY'],\n",
       "  ['2', 'CD', 'Period'],\n",
       "  ['to', 'TO', 'TO'],\n",
       "  ['6', 'CD', 'PeriodMax'],\n",
       "  ['weeks', 'NNS', 'PeriodUnit']],\n",
       " [['every', 'DT', 'EVERY'],\n",
       "  ['2', 'CD', 'Period'],\n",
       "  ['to', 'TO', 'TO'],\n",
       "  ['6', 'CD', 'PeriodMax'],\n",
       "  ['weeks', 'NNS', 'PeriodUnit']],\n",
       " [['every', 'DT', 'EVERY'],\n",
       "  ['2', 'CD', 'Period'],\n",
       "  ['to', 'TO', 'TO'],\n",
       "  ['6', 'CD', 'PeriodMax'],\n",
       "  ['weeks', 'NNS', 'PeriodUnit']],\n",
       " [['every', 'DT', 'EVERY'],\n",
       "  ['2', 'CD', 'Period'],\n",
       "  ['to', 'TO', 'TO'],\n",
       "  ['6', 'CD', 'PeriodMax'],\n",
       "  ['weeks', 'NNS', 'PeriodUnit']],\n",
       " [['every', 'DT', 'EVERY'],\n",
       "  ['2', 'CD', 'Period'],\n",
       "  ['to', 'TO', 'TO'],\n",
       "  ['6', 'CD', 'PeriodMax'],\n",
       "  ['weeks', 'NNS', 'PeriodUnit']],\n",
       " [['every', 'DT', 'EVERY'],\n",
       "  ['4', 'CD', 'Period'],\n",
       "  ['to', 'TO', 'TO'],\n",
       "  ['6', 'CD', 'PeriodMax'],\n",
       "  ['days', 'NNS', 'PeriodUnit']],\n",
       " [['every', 'DT', 'EVERY'],\n",
       "  ['4', 'CD', 'Period'],\n",
       "  ['to', 'TO', 'TO'],\n",
       "  ['6', 'CD', 'PeriodMax'],\n",
       "  ['days', 'NNS', 'PeriodUnit']],\n",
       " [['every', 'DT', 'EVERY'],\n",
       "  ['4', 'CD', 'Period'],\n",
       "  ['to', 'TO', 'TO'],\n",
       "  ['6', 'CD', 'PeriodMax'],\n",
       "  ['days', 'NNS', 'PeriodUnit']],\n",
       " [['every', 'DT', 'EVERY'],\n",
       "  ['4', 'CD', 'Period'],\n",
       "  ['to', 'TO', 'TO'],\n",
       "  ['6', 'CD', 'PeriodMax'],\n",
       "  ['days', 'NNS', 'PeriodUnit']],\n",
       " [['every', 'DT', 'EVERY'],\n",
       "  ['4', 'CD', 'Period'],\n",
       "  ['to', 'TO', 'TO'],\n",
       "  ['6', 'CD', 'PeriodMax'],\n",
       "  ['days', 'NNS', 'PeriodUnit']],\n",
       " [['take', 'VB', 'Method'],\n",
       "  ['two', 'CD', 'Qty'],\n",
       "  ['to', 'TO', 'TO'],\n",
       "  ['four', 'CD', 'Qty'],\n",
       "  ['tabs', 'NNS', 'Form']],\n",
       " [['take', 'VB', 'Method'],\n",
       "  ['two', 'CD', 'Qty'],\n",
       "  ['to', 'TO', 'TO'],\n",
       "  ['four', 'CD', 'Qty'],\n",
       "  ['tabs', 'NNS', 'Form']],\n",
       " [['take', 'VB', 'Method'],\n",
       "  ['two', 'CD', 'Qty'],\n",
       "  ['to', 'TO', 'TO'],\n",
       "  ['four', 'CD', 'Qty'],\n",
       "  ['tabs', 'NNS', 'Form']],\n",
       " [['take', 'VB', 'Method'],\n",
       "  ['two', 'CD', 'Qty'],\n",
       "  ['to', 'TO', 'TO'],\n",
       "  ['four', 'CD', 'Qty'],\n",
       "  ['tabs', 'NNS', 'Form']],\n",
       " [['take', 'VB', 'Method'],\n",
       "  ['two', 'CD', 'Qty'],\n",
       "  ['to', 'TO', 'TO'],\n",
       "  ['four', 'CD', 'Qty'],\n",
       "  ['tabs', 'NNS', 'Form']],\n",
       " [['take', 'VB', 'Method'],\n",
       "  ['2', 'CD', 'Qty'],\n",
       "  ['to', 'TO', 'TO'],\n",
       "  ['4', 'CD', 'Qty'],\n",
       "  ['tabs', 'NNS', 'Form']],\n",
       " [['take', 'VB', 'Method'],\n",
       "  ['2', 'CD', 'Qty'],\n",
       "  ['to', 'TO', 'TO'],\n",
       "  ['4', 'CD', 'Qty'],\n",
       "  ['tabs', 'NNS', 'Form']],\n",
       " [['take', 'VB', 'Method'],\n",
       "  ['2', 'CD', 'Qty'],\n",
       "  ['to', 'TO', 'TO'],\n",
       "  ['4', 'CD', 'Qty'],\n",
       "  ['tabs', 'NNS', 'Form']],\n",
       " [['take', 'VB', 'Method'],\n",
       "  ['2', 'CD', 'Qty'],\n",
       "  ['to', 'TO', 'TO'],\n",
       "  ['4', 'CD', 'Qty'],\n",
       "  ['tabs', 'NNS', 'Form']],\n",
       " [['take', 'VB', 'Method'],\n",
       "  ['2', 'CD', 'Qty'],\n",
       "  ['to', 'TO', 'TO'],\n",
       "  ['4', 'CD', 'Qty'],\n",
       "  ['tabs', 'NNS', 'Form']],\n",
       " [['take', 'VB', 'Method'],\n",
       "  ['3', 'CD', 'Qty'],\n",
       "  ['tabs', 'NNS', 'Form'],\n",
       "  ['orally', 'RB', 'PO'],\n",
       "  ['bid', 'VBP', 'BID'],\n",
       "  ['for', 'IN', 'FOR'],\n",
       "  ['10', 'CD', 'Duration'],\n",
       "  ['days', 'NNS', 'DurationUnit'],\n",
       "  ['at', 'IN', 'AT'],\n",
       "  ['bedtime', 'NN', 'WHEN']],\n",
       " [['take', 'VB', 'Method'],\n",
       "  ['3', 'CD', 'Qty'],\n",
       "  ['tabs', 'NNS', 'Form'],\n",
       "  ['orally', 'RB', 'PO'],\n",
       "  ['bid', 'VBP', 'BID'],\n",
       "  ['for', 'IN', 'FOR'],\n",
       "  ['10', 'CD', 'Duration'],\n",
       "  ['days', 'NNS', 'DurationUnit'],\n",
       "  ['at', 'IN', 'AT'],\n",
       "  ['bedtime', 'NN', 'WHEN']],\n",
       " [['take', 'VB', 'Method'],\n",
       "  ['3', 'CD', 'Qty'],\n",
       "  ['tabs', 'NNS', 'Form'],\n",
       "  ['orally', 'RB', 'PO'],\n",
       "  ['bid', 'VBP', 'BID'],\n",
       "  ['for', 'IN', 'FOR'],\n",
       "  ['10', 'CD', 'Duration'],\n",
       "  ['days', 'NNS', 'DurationUnit'],\n",
       "  ['at', 'IN', 'AT'],\n",
       "  ['bedtime', 'NN', 'WHEN']],\n",
       " [['take', 'VB', 'Method'],\n",
       "  ['3', 'CD', 'Qty'],\n",
       "  ['tabs', 'NNS', 'Form'],\n",
       "  ['orally', 'RB', 'PO'],\n",
       "  ['bid', 'VBP', 'BID'],\n",
       "  ['for', 'IN', 'FOR'],\n",
       "  ['10', 'CD', 'Duration'],\n",
       "  ['days', 'NNS', 'DurationUnit'],\n",
       "  ['at', 'IN', 'AT'],\n",
       "  ['bedtime', 'NN', 'WHEN']],\n",
       " [['take', 'VB', 'Method'],\n",
       "  ['3', 'CD', 'Qty'],\n",
       "  ['tabs', 'NNS', 'Form'],\n",
       "  ['orally', 'RB', 'PO'],\n",
       "  ['bid', 'VBP', 'BID'],\n",
       "  ['for', 'IN', 'FOR'],\n",
       "  ['10', 'CD', 'Duration'],\n",
       "  ['days', 'NNS', 'DurationUnit'],\n",
       "  ['at', 'IN', 'AT'],\n",
       "  ['bedtime', 'NN', 'WHEN']],\n",
       " [['take', 'VB', 'Method'],\n",
       "  ['3', 'CD', 'Qty'],\n",
       "  ['tabs', 'NNS', 'Form'],\n",
       "  ['orally', 'RB', 'PO'],\n",
       "  ['bid', 'VBP', 'BID'],\n",
       "  ['for', 'IN', 'FOR'],\n",
       "  ['10', 'CD', 'Duration'],\n",
       "  ['days', 'NNS', 'DurationUnit'],\n",
       "  ['at', 'IN', 'AT'],\n",
       "  ['bedtime', 'NN', 'WHEN']],\n",
       " [['take', 'VB', 'Method'],\n",
       "  ['3', 'CD', 'Qty'],\n",
       "  ['tabs', 'NNS', 'Form'],\n",
       "  ['orally', 'RB', 'PO'],\n",
       "  ['bid', 'VBP', 'BID'],\n",
       "  ['for', 'IN', 'FOR'],\n",
       "  ['10', 'CD', 'Duration'],\n",
       "  ['days', 'NNS', 'DurationUnit'],\n",
       "  ['at', 'IN', 'AT'],\n",
       "  ['bedtime', 'NN', 'WHEN']],\n",
       " [['take', 'VB', 'Method'],\n",
       "  ['3', 'CD', 'Qty'],\n",
       "  ['tabs', 'NNS', 'Form'],\n",
       "  ['orally', 'RB', 'PO'],\n",
       "  ['bid', 'VBP', 'BID'],\n",
       "  ['for', 'IN', 'FOR'],\n",
       "  ['10', 'CD', 'Duration'],\n",
       "  ['days', 'NNS', 'DurationUnit'],\n",
       "  ['at', 'IN', 'AT'],\n",
       "  ['bedtime', 'NN', 'WHEN']],\n",
       " [['take', 'VB', 'Method'],\n",
       "  ['3', 'CD', 'Qty'],\n",
       "  ['tabs', 'NNS', 'Form'],\n",
       "  ['orally', 'RB', 'PO'],\n",
       "  ['bid', 'VBP', 'BID'],\n",
       "  ['for', 'IN', 'FOR'],\n",
       "  ['10', 'CD', 'Duration'],\n",
       "  ['days', 'NNS', 'DurationUnit'],\n",
       "  ['at', 'IN', 'AT'],\n",
       "  ['bedtime', 'NN', 'WHEN']],\n",
       " [['take', 'VB', 'Method'],\n",
       "  ['3', 'CD', 'Qty'],\n",
       "  ['tabs', 'NNS', 'Form'],\n",
       "  ['orally', 'RB', 'PO'],\n",
       "  ['bid', 'VBP', 'BID'],\n",
       "  ['for', 'IN', 'FOR'],\n",
       "  ['10', 'CD', 'Duration'],\n",
       "  ['days', 'NNS', 'DurationUnit'],\n",
       "  ['at', 'IN', 'AT'],\n",
       "  ['bedtime', 'NN', 'WHEN']],\n",
       " [['swallow', 'JJ', 'Method'],\n",
       "  ['three', 'CD', 'Qty'],\n",
       "  ['capsules', 'NNS', 'Form'],\n",
       "  ['tid', 'VBP', 'TID'],\n",
       "  ['orally', 'RB', 'PO']],\n",
       " [['swallow', 'JJ', 'Method'],\n",
       "  ['three', 'CD', 'Qty'],\n",
       "  ['capsules', 'NNS', 'Form'],\n",
       "  ['tid', 'VBP', 'TID'],\n",
       "  ['orally', 'RB', 'PO']],\n",
       " [['swallow', 'JJ', 'Method'],\n",
       "  ['three', 'CD', 'Qty'],\n",
       "  ['capsules', 'NNS', 'Form'],\n",
       "  ['tid', 'VBP', 'TID'],\n",
       "  ['orally', 'RB', 'PO']],\n",
       " [['swallow', 'JJ', 'Method'],\n",
       "  ['three', 'CD', 'Qty'],\n",
       "  ['capsules', 'NNS', 'Form'],\n",
       "  ['tid', 'VBP', 'TID'],\n",
       "  ['orally', 'RB', 'PO']],\n",
       " [['swallow', 'JJ', 'Method'],\n",
       "  ['three', 'CD', 'Qty'],\n",
       "  ['capsules', 'NNS', 'Form'],\n",
       "  ['tid', 'VBP', 'TID'],\n",
       "  ['orally', 'RB', 'PO']],\n",
       " [['take', 'VB', 'Method'],\n",
       "  ['2', 'CD', 'Qty'],\n",
       "  ['capsules', 'NNS', 'Form'],\n",
       "  ['po', 'RB', 'PO'],\n",
       "  ['every', 'DT', 'EVERY'],\n",
       "  ['6', 'CD', 'Period'],\n",
       "  ['hours', 'NNS', 'PeriodUnit']],\n",
       " [['take', 'VB', 'Method'],\n",
       "  ['2', 'CD', 'Qty'],\n",
       "  ['capsules', 'NNS', 'Form'],\n",
       "  ['po', 'RB', 'PO'],\n",
       "  ['every', 'DT', 'EVERY'],\n",
       "  ['6', 'CD', 'Period'],\n",
       "  ['hours', 'NNS', 'PeriodUnit']],\n",
       " [['take', 'VB', 'Method'],\n",
       "  ['2', 'CD', 'Qty'],\n",
       "  ['capsules', 'NNS', 'Form'],\n",
       "  ['po', 'RB', 'PO'],\n",
       "  ['every', 'DT', 'EVERY'],\n",
       "  ['6', 'CD', 'Period'],\n",
       "  ['hours', 'NNS', 'PeriodUnit']],\n",
       " [['take', 'VB', 'Method'],\n",
       "  ['2', 'CD', 'Qty'],\n",
       "  ['capsules', 'NNS', 'Form'],\n",
       "  ['po', 'RB', 'PO'],\n",
       "  ['every', 'DT', 'EVERY'],\n",
       "  ['6', 'CD', 'Period'],\n",
       "  ['hours', 'NNS', 'PeriodUnit']],\n",
       " [['take', 'VB', 'Method'],\n",
       "  ['2', 'CD', 'Qty'],\n",
       "  ['capsules', 'NNS', 'Form'],\n",
       "  ['po', 'RB', 'PO'],\n",
       "  ['every', 'DT', 'EVERY'],\n",
       "  ['6', 'CD', 'Period'],\n",
       "  ['hours', 'NNS', 'PeriodUnit']],\n",
       " [['take', 'VB', 'Method'],\n",
       "  ['2', 'CD', 'Qty'],\n",
       "  ['capsules', 'NNS', 'Form'],\n",
       "  ['po', 'RB', 'PO'],\n",
       "  ['every', 'DT', 'EVERY'],\n",
       "  ['6', 'CD', 'Period'],\n",
       "  ['hours', 'NNS', 'PeriodUnit']],\n",
       " [['take', 'VB', 'Method'],\n",
       "  ['2', 'CD', 'Qty'],\n",
       "  ['capsules', 'NNS', 'Form'],\n",
       "  ['po', 'RB', 'PO'],\n",
       "  ['every', 'DT', 'EVERY'],\n",
       "  ['6', 'CD', 'Period'],\n",
       "  ['hours', 'NNS', 'PeriodUnit']],\n",
       " [['take', 'VB', 'Method'],\n",
       "  ['2', 'CD', 'Qty'],\n",
       "  ['tabs', 'NNS', 'Form'],\n",
       "  ['po', 'NN', 'PO'],\n",
       "  ['for', 'IN', 'FOR'],\n",
       "  ['10', 'CD', 'Duration'],\n",
       "  ['days', 'NNS', 'DurationUnit']],\n",
       " [['take', 'VB', 'Method'],\n",
       "  ['2', 'CD', 'Qty'],\n",
       "  ['tabs', 'NNS', 'Form'],\n",
       "  ['po', 'NN', 'PO'],\n",
       "  ['for', 'IN', 'FOR'],\n",
       "  ['10', 'CD', 'Duration'],\n",
       "  ['days', 'NNS', 'DurationUnit']],\n",
       " [['take', 'VB', 'Method'],\n",
       "  ['2', 'CD', 'Qty'],\n",
       "  ['tabs', 'NNS', 'Form'],\n",
       "  ['po', 'NN', 'PO'],\n",
       "  ['for', 'IN', 'FOR'],\n",
       "  ['10', 'CD', 'Duration'],\n",
       "  ['days', 'NNS', 'DurationUnit']],\n",
       " [['take', 'VB', 'Method'],\n",
       "  ['2', 'CD', 'Qty'],\n",
       "  ['tabs', 'NNS', 'Form'],\n",
       "  ['po', 'NN', 'PO'],\n",
       "  ['for', 'IN', 'FOR'],\n",
       "  ['10', 'CD', 'Duration'],\n",
       "  ['days', 'NNS', 'DurationUnit']],\n",
       " [['take', 'VB', 'Method'],\n",
       "  ['2', 'CD', 'Qty'],\n",
       "  ['tabs', 'NNS', 'Form'],\n",
       "  ['po', 'NN', 'PO'],\n",
       "  ['for', 'IN', 'FOR'],\n",
       "  ['10', 'CD', 'Duration'],\n",
       "  ['days', 'NNS', 'DurationUnit']],\n",
       " [['take', 'VB', 'Method'],\n",
       "  ['2', 'CD', 'Qty'],\n",
       "  ['tabs', 'NNS', 'Form'],\n",
       "  ['po', 'NN', 'PO'],\n",
       "  ['for', 'IN', 'FOR'],\n",
       "  ['10', 'CD', 'Duration'],\n",
       "  ['days', 'NNS', 'DurationUnit']],\n",
       " [['take', 'VB', 'Method'],\n",
       "  ['2', 'CD', 'Qty'],\n",
       "  ['tabs', 'NNS', 'Form'],\n",
       "  ['po', 'NN', 'PO'],\n",
       "  ['for', 'IN', 'FOR'],\n",
       "  ['10', 'CD', 'Duration'],\n",
       "  ['days', 'NNS', 'DurationUnit']],\n",
       " [['take', 'VB', 'Method'],\n",
       "  ['100', 'CD', 'Qty'],\n",
       "  ['caps', 'NNS', 'Form'],\n",
       "  ['by', 'IN', 'BY'],\n",
       "  ['mouth', 'NN', 'PO'],\n",
       "  ['tid', 'NN', 'TID'],\n",
       "  ['for', 'IN', 'FOR'],\n",
       "  ['10', 'CD', 'Duration'],\n",
       "  ['weeks', 'NNS', 'DurationUnit']],\n",
       " [['take', 'VB', 'Method'],\n",
       "  ['100', 'CD', 'Qty'],\n",
       "  ['caps', 'NNS', 'Form'],\n",
       "  ['by', 'IN', 'BY'],\n",
       "  ['mouth', 'NN', 'PO'],\n",
       "  ['tid', 'NN', 'TID'],\n",
       "  ['for', 'IN', 'FOR'],\n",
       "  ['10', 'CD', 'Duration'],\n",
       "  ['weeks', 'NNS', 'DurationUnit']],\n",
       " [['take', 'VB', 'Method'],\n",
       "  ['100', 'CD', 'Qty'],\n",
       "  ['caps', 'NNS', 'Form'],\n",
       "  ['by', 'IN', 'BY'],\n",
       "  ['mouth', 'NN', 'PO'],\n",
       "  ['tid', 'NN', 'TID'],\n",
       "  ['for', 'IN', 'FOR'],\n",
       "  ['10', 'CD', 'Duration'],\n",
       "  ['weeks', 'NNS', 'DurationUnit']],\n",
       " [['take', 'VB', 'Method'],\n",
       "  ['100', 'CD', 'Qty'],\n",
       "  ['caps', 'NNS', 'Form'],\n",
       "  ['by', 'IN', 'BY'],\n",
       "  ['mouth', 'NN', 'PO'],\n",
       "  ['tid', 'NN', 'TID'],\n",
       "  ['for', 'IN', 'FOR'],\n",
       "  ['10', 'CD', 'Duration'],\n",
       "  ['weeks', 'NNS', 'DurationUnit']],\n",
       " [['take', 'VB', 'Method'],\n",
       "  ['100', 'CD', 'Qty'],\n",
       "  ['caps', 'NNS', 'Form'],\n",
       "  ['by', 'IN', 'BY'],\n",
       "  ['mouth', 'NN', 'PO'],\n",
       "  ['tid', 'NN', 'TID'],\n",
       "  ['for', 'IN', 'FOR'],\n",
       "  ['10', 'CD', 'Duration'],\n",
       "  ['weeks', 'NNS', 'DurationUnit']],\n",
       " [['take', 'VB', 'Method'],\n",
       "  ['100', 'CD', 'Qty'],\n",
       "  ['caps', 'NNS', 'Form'],\n",
       "  ['by', 'IN', 'BY'],\n",
       "  ['mouth', 'NN', 'PO'],\n",
       "  ['tid', 'NN', 'TID'],\n",
       "  ['for', 'IN', 'FOR'],\n",
       "  ['10', 'CD', 'Duration'],\n",
       "  ['weeks', 'NNS', 'DurationUnit']],\n",
       " [['take', 'VB', 'Method'],\n",
       "  ['100', 'CD', 'Qty'],\n",
       "  ['caps', 'NNS', 'Form'],\n",
       "  ['by', 'IN', 'BY'],\n",
       "  ['mouth', 'NN', 'PO'],\n",
       "  ['tid', 'NN', 'TID'],\n",
       "  ['for', 'IN', 'FOR'],\n",
       "  ['10', 'CD', 'Duration'],\n",
       "  ['weeks', 'NNS', 'DurationUnit']],\n",
       " [['take', 'VB', 'Method'],\n",
       "  ['100', 'CD', 'Qty'],\n",
       "  ['caps', 'NNS', 'Form'],\n",
       "  ['by', 'IN', 'BY'],\n",
       "  ['mouth', 'NN', 'PO'],\n",
       "  ['tid', 'NN', 'TID'],\n",
       "  ['for', 'IN', 'FOR'],\n",
       "  ['10', 'CD', 'Duration'],\n",
       "  ['weeks', 'NNS', 'DurationUnit']],\n",
       " [['take', 'VB', 'Method'],\n",
       "  ['100', 'CD', 'Qty'],\n",
       "  ['caps', 'NNS', 'Form'],\n",
       "  ['by', 'IN', 'BY'],\n",
       "  ['mouth', 'NN', 'PO'],\n",
       "  ['tid', 'NN', 'TID'],\n",
       "  ['for', 'IN', 'FOR'],\n",
       "  ['10', 'CD', 'Duration'],\n",
       "  ['weeks', 'NNS', 'DurationUnit']],\n",
       " [['take', 'VB', 'Method'],\n",
       "  ['2', 'CD', 'Qty'],\n",
       "  ['tabs', 'NNS', 'Form'],\n",
       "  ['after', 'IN', 'AFTER'],\n",
       "  ['an', 'DT', 'Period'],\n",
       "  ['hour', 'NN', 'PeriodUnit']],\n",
       " [['take', 'VB', 'Method'],\n",
       "  ['2', 'CD', 'Qty'],\n",
       "  ['tabs', 'NNS', 'Form'],\n",
       "  ['after', 'IN', 'AFTER'],\n",
       "  ['an', 'DT', 'Period'],\n",
       "  ['hour', 'NN', 'PeriodUnit']],\n",
       " [['take', 'VB', 'Method'],\n",
       "  ['2', 'CD', 'Qty'],\n",
       "  ['tabs', 'NNS', 'Form'],\n",
       "  ['after', 'IN', 'AFTER'],\n",
       "  ['an', 'DT', 'Period'],\n",
       "  ['hour', 'NN', 'PeriodUnit']],\n",
       " [['take', 'VB', 'Method'],\n",
       "  ['2', 'CD', 'Qty'],\n",
       "  ['tabs', 'NNS', 'Form'],\n",
       "  ['after', 'IN', 'AFTER'],\n",
       "  ['an', 'DT', 'Period'],\n",
       "  ['hour', 'NN', 'PeriodUnit']],\n",
       " [['take', 'VB', 'Method'],\n",
       "  ['2', 'CD', 'Qty'],\n",
       "  ['tabs', 'NNS', 'Form'],\n",
       "  ['after', 'IN', 'AFTER'],\n",
       "  ['an', 'DT', 'Period'],\n",
       "  ['hour', 'NN', 'PeriodUnit']],\n",
       " [['take', 'VB', 'Method'],\n",
       "  ['2', 'CD', 'Qty'],\n",
       "  ['tabs', 'NNS', 'Form'],\n",
       "  ['after', 'IN', 'AFTER'],\n",
       "  ['an', 'DT', 'Period'],\n",
       "  ['hour', 'NN', 'PeriodUnit']],\n",
       " [['2', 'CD', 'Qty'],\n",
       "  ['tabs', 'JJ', 'Form'],\n",
       "  ['every', 'DT', 'EVERY'],\n",
       "  ['4-6', 'JJ', 'Period'],\n",
       "  ['hours', 'NNS', 'PeriodUnit']],\n",
       " [['2', 'CD', 'Qty'],\n",
       "  ['tabs', 'JJ', 'Form'],\n",
       "  ['every', 'DT', 'EVERY'],\n",
       "  ['4-6', 'JJ', 'Period'],\n",
       "  ['hours', 'NNS', 'PeriodUnit']],\n",
       " [['2', 'CD', 'Qty'],\n",
       "  ['tabs', 'JJ', 'Form'],\n",
       "  ['every', 'DT', 'EVERY'],\n",
       "  ['4-6', 'JJ', 'Period'],\n",
       "  ['hours', 'NNS', 'PeriodUnit']],\n",
       " [['2', 'CD', 'Qty'],\n",
       "  ['tabs', 'JJ', 'Form'],\n",
       "  ['every', 'DT', 'EVERY'],\n",
       "  ['4-6', 'JJ', 'Period'],\n",
       "  ['hours', 'NNS', 'PeriodUnit']],\n",
       " [['2', 'CD', 'Qty'],\n",
       "  ['tabs', 'JJ', 'Form'],\n",
       "  ['every', 'DT', 'EVERY'],\n",
       "  ['4-6', 'JJ', 'Period'],\n",
       "  ['hours', 'NNS', 'PeriodUnit']],\n",
       " [['every', 'DT', 'EVERY'],\n",
       "  ['4', 'CD', 'Period'],\n",
       "  ['to', 'TO', 'TO'],\n",
       "  ['6', 'CD', 'PeriodMax'],\n",
       "  ['hours', 'NNS', 'PeriodUnit']],\n",
       " [['every', 'DT', 'EVERY'],\n",
       "  ['4', 'CD', 'Period'],\n",
       "  ['to', 'TO', 'TO'],\n",
       "  ['6', 'CD', 'PeriodMax'],\n",
       "  ['hours', 'NNS', 'PeriodUnit']],\n",
       " [['every', 'DT', 'EVERY'],\n",
       "  ['4', 'CD', 'Period'],\n",
       "  ['to', 'TO', 'TO'],\n",
       "  ['6', 'CD', 'PeriodMax'],\n",
       "  ['hours', 'NNS', 'PeriodUnit']],\n",
       " [['every', 'DT', 'EVERY'],\n",
       "  ['4', 'CD', 'Period'],\n",
       "  ['to', 'TO', 'TO'],\n",
       "  ['6', 'CD', 'PeriodMax'],\n",
       "  ['hours', 'NNS', 'PeriodUnit']],\n",
       " [['every', 'DT', 'EVERY'],\n",
       "  ['4', 'CD', 'Period'],\n",
       "  ['to', 'TO', 'TO'],\n",
       "  ['6', 'CD', 'PeriodMax'],\n",
       "  ['hours', 'NNS', 'PeriodUnit']],\n",
       " [['q46h', 'NN', 'Q46H']],\n",
       " [['q4-6h', 'NN', 'Q4-6H']],\n",
       " [['2', 'CD', 'Qty'],\n",
       "  ['hours', 'NNS', 'PeriodUnit'],\n",
       "  ['before', 'IN', 'BEFORE'],\n",
       "  ['breakfast', 'NN', 'WHEN']],\n",
       " [['2', 'CD', 'Qty'],\n",
       "  ['hours', 'NNS', 'PeriodUnit'],\n",
       "  ['before', 'IN', 'BEFORE'],\n",
       "  ['breakfast', 'NN', 'WHEN']],\n",
       " [['2', 'CD', 'Qty'],\n",
       "  ['hours', 'NNS', 'PeriodUnit'],\n",
       "  ['before', 'IN', 'BEFORE'],\n",
       "  ['breakfast', 'NN', 'WHEN']],\n",
       " [['2', 'CD', 'Qty'],\n",
       "  ['hours', 'NNS', 'PeriodUnit'],\n",
       "  ['before', 'IN', 'BEFORE'],\n",
       "  ['breakfast', 'NN', 'WHEN']],\n",
       " [['before', 'IN', 'BEFORE'],\n",
       "  ['30', 'CD', 'Qty'],\n",
       "  ['mins', 'NNS', 'M'],\n",
       "  ['at', 'IN', 'AT'],\n",
       "  ['bedtime', 'NN', 'WHEN']],\n",
       " [['before', 'IN', 'BEFORE'],\n",
       "  ['30', 'CD', 'Qty'],\n",
       "  ['mins', 'NNS', 'M'],\n",
       "  ['at', 'IN', 'AT'],\n",
       "  ['bedtime', 'NN', 'WHEN']],\n",
       " [['before', 'IN', 'BEFORE'],\n",
       "  ['30', 'CD', 'Qty'],\n",
       "  ['mins', 'NNS', 'M'],\n",
       "  ['at', 'IN', 'AT'],\n",
       "  ['bedtime', 'NN', 'WHEN']],\n",
       " [['before', 'IN', 'BEFORE'],\n",
       "  ['30', 'CD', 'Qty'],\n",
       "  ['mins', 'NNS', 'M'],\n",
       "  ['at', 'IN', 'AT'],\n",
       "  ['bedtime', 'NN', 'WHEN']],\n",
       " [['before', 'IN', 'BEFORE'],\n",
       "  ['30', 'CD', 'Qty'],\n",
       "  ['mins', 'NNS', 'M'],\n",
       "  ['at', 'IN', 'AT'],\n",
       "  ['bedtime', 'NN', 'WHEN']],\n",
       " [['30', 'CD', 'Qty'],\n",
       "  ['mins', 'NNS', 'M'],\n",
       "  ['before', 'IN', 'BEFORE'],\n",
       "  ['bed', 'NN', 'WHEN']],\n",
       " [['30', 'CD', 'Qty'],\n",
       "  ['mins', 'NNS', 'M'],\n",
       "  ['before', 'IN', 'BEFORE'],\n",
       "  ['bed', 'NN', 'WHEN']],\n",
       " [['30', 'CD', 'Qty'],\n",
       "  ['mins', 'NNS', 'M'],\n",
       "  ['before', 'IN', 'BEFORE'],\n",
       "  ['bed', 'NN', 'WHEN']],\n",
       " [['30', 'CD', 'Qty'],\n",
       "  ['mins', 'NNS', 'M'],\n",
       "  ['before', 'IN', 'BEFORE'],\n",
       "  ['bed', 'NN', 'WHEN']],\n",
       " [['and', 'CC', 'AND'],\n",
       "  ['100', 'CD', 'Qty'],\n",
       "  ['tabs', 'NNS', 'Form'],\n",
       "  ['twice', 'RB', 'Frequency'],\n",
       "  ['a', 'DT', 'Period'],\n",
       "  ['month', 'NN', 'PeriodUnit']],\n",
       " [['and', 'CC', 'AND'],\n",
       "  ['100', 'CD', 'Qty'],\n",
       "  ['tabs', 'NNS', 'Form'],\n",
       "  ['twice', 'RB', 'Frequency'],\n",
       "  ['a', 'DT', 'Period'],\n",
       "  ['month', 'NN', 'PeriodUnit']],\n",
       " [['and', 'CC', 'AND'],\n",
       "  ['100', 'CD', 'Qty'],\n",
       "  ['tabs', 'NNS', 'Form'],\n",
       "  ['twice', 'RB', 'Frequency'],\n",
       "  ['a', 'DT', 'Period'],\n",
       "  ['month', 'NN', 'PeriodUnit']],\n",
       " [['and', 'CC', 'AND'],\n",
       "  ['100', 'CD', 'Qty'],\n",
       "  ['tabs', 'NNS', 'Form'],\n",
       "  ['twice', 'RB', 'Frequency'],\n",
       "  ['a', 'DT', 'Period'],\n",
       "  ['month', 'NN', 'PeriodUnit']],\n",
       " [['and', 'CC', 'AND'],\n",
       "  ['100', 'CD', 'Qty'],\n",
       "  ['tabs', 'NNS', 'Form'],\n",
       "  ['twice', 'RB', 'Frequency'],\n",
       "  ['a', 'DT', 'Period'],\n",
       "  ['month', 'NN', 'PeriodUnit']],\n",
       " [['and', 'CC', 'AND'],\n",
       "  ['100', 'CD', 'Qty'],\n",
       "  ['tabs', 'NNS', 'Form'],\n",
       "  ['twice', 'RB', 'Frequency'],\n",
       "  ['a', 'DT', 'Period'],\n",
       "  ['month', 'NN', 'PeriodUnit']],\n",
       " [['100', 'CD', 'Qty'],\n",
       "  ['tabs', 'JJ', 'Form'],\n",
       "  ['twice', 'RB', 'Frequency'],\n",
       "  ['a', 'DT', 'Period'],\n",
       "  ['month', 'NN', 'PeriodUnit']],\n",
       " [['100', 'CD', 'Qty'],\n",
       "  ['tabs', 'JJ', 'Form'],\n",
       "  ['twice', 'RB', 'Frequency'],\n",
       "  ['a', 'DT', 'Period'],\n",
       "  ['month', 'NN', 'PeriodUnit']],\n",
       " [['100', 'CD', 'Qty'],\n",
       "  ['tabs', 'JJ', 'Form'],\n",
       "  ['twice', 'RB', 'Frequency'],\n",
       "  ['a', 'DT', 'Period'],\n",
       "  ['month', 'NN', 'PeriodUnit']],\n",
       " [['100', 'CD', 'Qty'],\n",
       "  ['tabs', 'JJ', 'Form'],\n",
       "  ['twice', 'RB', 'Frequency'],\n",
       "  ['a', 'DT', 'Period'],\n",
       "  ['month', 'NN', 'PeriodUnit']],\n",
       " [['100', 'CD', 'Qty'],\n",
       "  ['tabs', 'JJ', 'Form'],\n",
       "  ['twice', 'RB', 'Frequency'],\n",
       "  ['a', 'DT', 'Period'],\n",
       "  ['month', 'NN', 'PeriodUnit']],\n",
       " [['100', 'CD', 'Qty'],\n",
       "  ['tabs', 'NNS', 'Form'],\n",
       "  ['once', 'RB', 'Frequency'],\n",
       "  ['a', 'DT', 'Period'],\n",
       "  ['month', 'NN', 'PeriodUnit']],\n",
       " [['100', 'CD', 'Qty'],\n",
       "  ['tabs', 'NNS', 'Form'],\n",
       "  ['once', 'RB', 'Frequency'],\n",
       "  ['a', 'DT', 'Period'],\n",
       "  ['month', 'NN', 'PeriodUnit']],\n",
       " [['100', 'CD', 'Qty'],\n",
       "  ['tabs', 'NNS', 'Form'],\n",
       "  ['once', 'RB', 'Frequency'],\n",
       "  ['a', 'DT', 'Period'],\n",
       "  ['month', 'NN', 'PeriodUnit']],\n",
       " [['100', 'CD', 'Qty'],\n",
       "  ['tabs', 'NNS', 'Form'],\n",
       "  ['once', 'RB', 'Frequency'],\n",
       "  ['a', 'DT', 'Period'],\n",
       "  ['month', 'NN', 'PeriodUnit']],\n",
       " [['100', 'CD', 'Qty'],\n",
       "  ['tabs', 'NNS', 'Form'],\n",
       "  ['once', 'RB', 'Frequency'],\n",
       "  ['a', 'DT', 'Period'],\n",
       "  ['month', 'NN', 'PeriodUnit']],\n",
       " [['100', 'CD', 'Qty'],\n",
       "  ['tabs', 'JJ', 'Form'],\n",
       "  ['thrice', 'NN', 'Frequency'],\n",
       "  ['a', 'DT', 'Period'],\n",
       "  ['month', 'NN', 'PeriodUnit']],\n",
       " [['100', 'CD', 'Qty'],\n",
       "  ['tabs', 'JJ', 'Form'],\n",
       "  ['thrice', 'NN', 'Frequency'],\n",
       "  ['a', 'DT', 'Period'],\n",
       "  ['month', 'NN', 'PeriodUnit']],\n",
       " [['100', 'CD', 'Qty'],\n",
       "  ['tabs', 'JJ', 'Form'],\n",
       "  ['thrice', 'NN', 'Frequency'],\n",
       "  ['a', 'DT', 'Period'],\n",
       "  ['month', 'NN', 'PeriodUnit']],\n",
       " [['100', 'CD', 'Qty'],\n",
       "  ['tabs', 'JJ', 'Form'],\n",
       "  ['thrice', 'NN', 'Frequency'],\n",
       "  ['a', 'DT', 'Period'],\n",
       "  ['month', 'NN', 'PeriodUnit']],\n",
       " [['100', 'CD', 'Qty'],\n",
       "  ['tabs', 'JJ', 'Form'],\n",
       "  ['thrice', 'NN', 'Frequency'],\n",
       "  ['a', 'DT', 'Period'],\n",
       "  ['month', 'NN', 'PeriodUnit']],\n",
       " [['3', 'CD', 'Qty'],\n",
       "  ['tabs', 'JJ', 'Form'],\n",
       "  ['daily', 'RB', 'Frequency'],\n",
       "  ['for', 'IN', 'FOR'],\n",
       "  ['3', 'CD', 'Duration'],\n",
       "  ['days', 'NNS', 'DurationUnit'],\n",
       "  ['then', 'RB', 'THEN'],\n",
       "  ['1', 'CD', 'Qty'],\n",
       "  ['tab', 'NNS', 'Form'],\n",
       "  ['per', 'IN', 'Frequency'],\n",
       "  ['day', 'NN', 'PeriodUnit'],\n",
       "  ['at', 'IN', 'AT'],\n",
       "  ['bed', 'NN', 'WHEN']],\n",
       " [['3', 'CD', 'Qty'],\n",
       "  ['tabs', 'JJ', 'Form'],\n",
       "  ['daily', 'RB', 'Frequency'],\n",
       "  ['for', 'IN', 'FOR'],\n",
       "  ['3', 'CD', 'Duration'],\n",
       "  ['days', 'NNS', 'DurationUnit'],\n",
       "  ['then', 'RB', 'THEN'],\n",
       "  ['1', 'CD', 'Qty'],\n",
       "  ['tab', 'NNS', 'Form'],\n",
       "  ['per', 'IN', 'Frequency'],\n",
       "  ['day', 'NN', 'PeriodUnit'],\n",
       "  ['at', 'IN', 'AT'],\n",
       "  ['bed', 'NN', 'WHEN']],\n",
       " [['3', 'CD', 'Qty'],\n",
       "  ['tabs', 'JJ', 'Form'],\n",
       "  ['daily', 'RB', 'Frequency'],\n",
       "  ['for', 'IN', 'FOR'],\n",
       "  ['3', 'CD', 'Duration'],\n",
       "  ['days', 'NNS', 'DurationUnit'],\n",
       "  ['then', 'RB', 'THEN'],\n",
       "  ['1', 'CD', 'Qty'],\n",
       "  ['tab', 'NNS', 'Form'],\n",
       "  ['per', 'IN', 'Frequency'],\n",
       "  ['day', 'NN', 'PeriodUnit'],\n",
       "  ['at', 'IN', 'AT'],\n",
       "  ['bed', 'NN', 'WHEN']],\n",
       " [['3', 'CD', 'Qty'],\n",
       "  ['tabs', 'JJ', 'Form'],\n",
       "  ['daily', 'RB', 'Frequency'],\n",
       "  ['for', 'IN', 'FOR'],\n",
       "  ['3', 'CD', 'Duration'],\n",
       "  ['days', 'NNS', 'DurationUnit'],\n",
       "  ['then', 'RB', 'THEN'],\n",
       "  ['1', 'CD', 'Qty'],\n",
       "  ['tab', 'NNS', 'Form'],\n",
       "  ['per', 'IN', 'Frequency'],\n",
       "  ['day', 'NN', 'PeriodUnit'],\n",
       "  ['at', 'IN', 'AT'],\n",
       "  ['bed', 'NN', 'WHEN']],\n",
       " [['3', 'CD', 'Qty'],\n",
       "  ['tabs', 'JJ', 'Form'],\n",
       "  ['daily', 'RB', 'Frequency'],\n",
       "  ['for', 'IN', 'FOR'],\n",
       "  ['3', 'CD', 'Duration'],\n",
       "  ['days', 'NNS', 'DurationUnit'],\n",
       "  ['then', 'RB', 'THEN'],\n",
       "  ['1', 'CD', 'Qty'],\n",
       "  ['tab', 'NNS', 'Form'],\n",
       "  ['per', 'IN', 'Frequency'],\n",
       "  ['day', 'NN', 'PeriodUnit'],\n",
       "  ['at', 'IN', 'AT'],\n",
       "  ['bed', 'NN', 'WHEN']],\n",
       " [['3', 'CD', 'Qty'],\n",
       "  ['tabs', 'JJ', 'Form'],\n",
       "  ['daily', 'RB', 'Frequency'],\n",
       "  ['for', 'IN', 'FOR'],\n",
       "  ['3', 'CD', 'Duration'],\n",
       "  ['days', 'NNS', 'DurationUnit'],\n",
       "  ['then', 'RB', 'THEN'],\n",
       "  ['1', 'CD', 'Qty'],\n",
       "  ['tab', 'NNS', 'Form'],\n",
       "  ['per', 'IN', 'Frequency'],\n",
       "  ['day', 'NN', 'PeriodUnit'],\n",
       "  ['at', 'IN', 'AT'],\n",
       "  ['bed', 'NN', 'WHEN']],\n",
       " [['3', 'CD', 'Qty'],\n",
       "  ['tabs', 'JJ', 'Form'],\n",
       "  ['daily', 'RB', 'Frequency'],\n",
       "  ['for', 'IN', 'FOR'],\n",
       "  ['3', 'CD', 'Duration'],\n",
       "  ['days', 'NNS', 'DurationUnit'],\n",
       "  ['then', 'RB', 'THEN'],\n",
       "  ['1', 'CD', 'Qty'],\n",
       "  ['tab', 'NNS', 'Form'],\n",
       "  ['per', 'IN', 'Frequency'],\n",
       "  ['day', 'NN', 'PeriodUnit'],\n",
       "  ['at', 'IN', 'AT'],\n",
       "  ['bed', 'NN', 'WHEN']],\n",
       " [['3', 'CD', 'Qty'],\n",
       "  ['tabs', 'JJ', 'Form'],\n",
       "  ['daily', 'RB', 'Frequency'],\n",
       "  ['for', 'IN', 'FOR'],\n",
       "  ['3', 'CD', 'Duration'],\n",
       "  ['days', 'NNS', 'DurationUnit'],\n",
       "  ['then', 'RB', 'THEN'],\n",
       "  ['1', 'CD', 'Qty'],\n",
       "  ['tab', 'NNS', 'Form'],\n",
       "  ['per', 'IN', 'Frequency'],\n",
       "  ['day', 'NN', 'PeriodUnit'],\n",
       "  ['at', 'IN', 'AT'],\n",
       "  ['bed', 'NN', 'WHEN']],\n",
       " [['3', 'CD', 'Qty'],\n",
       "  ['tabs', 'JJ', 'Form'],\n",
       "  ['daily', 'RB', 'Frequency'],\n",
       "  ['for', 'IN', 'FOR'],\n",
       "  ['3', 'CD', 'Duration'],\n",
       "  ['days', 'NNS', 'DurationUnit'],\n",
       "  ['then', 'RB', 'THEN'],\n",
       "  ['1', 'CD', 'Qty'],\n",
       "  ['tab', 'NNS', 'Form'],\n",
       "  ['per', 'IN', 'Frequency'],\n",
       "  ['day', 'NN', 'PeriodUnit'],\n",
       "  ['at', 'IN', 'AT'],\n",
       "  ['bed', 'NN', 'WHEN']],\n",
       " [['3', 'CD', 'Qty'],\n",
       "  ['tabs', 'JJ', 'Form'],\n",
       "  ['daily', 'RB', 'Frequency'],\n",
       "  ['for', 'IN', 'FOR'],\n",
       "  ['3', 'CD', 'Duration'],\n",
       "  ['days', 'NNS', 'DurationUnit'],\n",
       "  ['then', 'RB', 'THEN'],\n",
       "  ['1', 'CD', 'Qty'],\n",
       "  ['tab', 'NNS', 'Form'],\n",
       "  ['per', 'IN', 'Frequency'],\n",
       "  ['day', 'NN', 'PeriodUnit'],\n",
       "  ['at', 'IN', 'AT'],\n",
       "  ['bed', 'NN', 'WHEN']],\n",
       " [['3', 'CD', 'Qty'],\n",
       "  ['tabs', 'JJ', 'Form'],\n",
       "  ['daily', 'RB', 'Frequency'],\n",
       "  ['for', 'IN', 'FOR'],\n",
       "  ['3', 'CD', 'Duration'],\n",
       "  ['days', 'NNS', 'DurationUnit'],\n",
       "  ['then', 'RB', 'THEN'],\n",
       "  ['1', 'CD', 'Qty'],\n",
       "  ['tab', 'NNS', 'Form'],\n",
       "  ['per', 'IN', 'Frequency'],\n",
       "  ['day', 'NN', 'PeriodUnit'],\n",
       "  ['at', 'IN', 'AT'],\n",
       "  ['bed', 'NN', 'WHEN']],\n",
       " [['3', 'CD', 'Qty'],\n",
       "  ['tabs', 'JJ', 'Form'],\n",
       "  ['daily', 'RB', 'Frequency'],\n",
       "  ['for', 'IN', 'FOR'],\n",
       "  ['3', 'CD', 'Duration'],\n",
       "  ['days', 'NNS', 'DurationUnit'],\n",
       "  ['then', 'RB', 'THEN'],\n",
       "  ['1', 'CD', 'Qty'],\n",
       "  ['tab', 'NNS', 'Form'],\n",
       "  ['per', 'IN', 'Frequency'],\n",
       "  ['day', 'NN', 'PeriodUnit'],\n",
       "  ['at', 'IN', 'AT'],\n",
       "  ['bed', 'NN', 'WHEN']],\n",
       " [['3', 'CD', 'Qty'],\n",
       "  ['tabs', 'JJ', 'Form'],\n",
       "  ['daily', 'RB', 'Frequency'],\n",
       "  ['for', 'IN', 'FOR'],\n",
       "  ['3', 'CD', 'Duration'],\n",
       "  ['days', 'NNS', 'DurationUnit'],\n",
       "  ['then', 'RB', 'THEN'],\n",
       "  ['1', 'CD', 'Qty'],\n",
       "  ['tab', 'NNS', 'Form'],\n",
       "  ['per', 'IN', 'Frequency'],\n",
       "  ['day', 'NN', 'PeriodUnit'],\n",
       "  ['at', 'IN', 'AT'],\n",
       "  ['bed', 'NN', 'WHEN']],\n",
       " [['30', 'CD', 'Qty'],\n",
       "  ['tabs', 'NNS', 'Form'],\n",
       "  ['10', 'CD', 'Duration'],\n",
       "  ['days', 'NNS', 'DurationUnit'],\n",
       "  ['tid', 'NN', 'TID']],\n",
       " [['30', 'CD', 'Qty'],\n",
       "  ['tabs', 'NNS', 'Form'],\n",
       "  ['10', 'CD', 'Duration'],\n",
       "  ['days', 'NNS', 'DurationUnit'],\n",
       "  ['tid', 'NN', 'TID']],\n",
       " [['30', 'CD', 'Qty'],\n",
       "  ['tabs', 'NNS', 'Form'],\n",
       "  ['10', 'CD', 'Duration'],\n",
       "  ['days', 'NNS', 'DurationUnit'],\n",
       "  ['tid', 'NN', 'TID']],\n",
       " [['30', 'CD', 'Qty'],\n",
       "  ['tabs', 'NNS', 'Form'],\n",
       "  ['10', 'CD', 'Duration'],\n",
       "  ['days', 'NNS', 'DurationUnit'],\n",
       "  ['tid', 'NN', 'TID']],\n",
       " [['30', 'CD', 'Qty'],\n",
       "  ['tabs', 'NNS', 'Form'],\n",
       "  ['10', 'CD', 'Duration'],\n",
       "  ['days', 'NNS', 'DurationUnit'],\n",
       "  ['tid', 'NN', 'TID']],\n",
       " [['take', 'VB', 'Method'],\n",
       "  ['30', 'CD', 'Qty'],\n",
       "  ['tabs', 'NNS', 'Form'],\n",
       "  ['for', 'IN', 'FOR'],\n",
       "  ['10', 'CD', 'Duration'],\n",
       "  ['days', 'NNS', 'DurationUnit'],\n",
       "  ['three', 'CD', 'Qty'],\n",
       "  ['times', 'NNS', 'TIMES'],\n",
       "  ['a', 'DT', 'Period'],\n",
       "  ['day', 'NN', 'PeriodUnit']],\n",
       " [['take', 'VB', 'Method'],\n",
       "  ['30', 'CD', 'Qty'],\n",
       "  ['tabs', 'NNS', 'Form'],\n",
       "  ['for', 'IN', 'FOR'],\n",
       "  ['10', 'CD', 'Duration'],\n",
       "  ['days', 'NNS', 'DurationUnit'],\n",
       "  ['three', 'CD', 'Qty'],\n",
       "  ['times', 'NNS', 'TIMES'],\n",
       "  ['a', 'DT', 'Period'],\n",
       "  ['day', 'NN', 'PeriodUnit']],\n",
       " [['take', 'VB', 'Method'],\n",
       "  ['30', 'CD', 'Qty'],\n",
       "  ['tabs', 'NNS', 'Form'],\n",
       "  ['for', 'IN', 'FOR'],\n",
       "  ['10', 'CD', 'Duration'],\n",
       "  ['days', 'NNS', 'DurationUnit'],\n",
       "  ['three', 'CD', 'Qty'],\n",
       "  ['times', 'NNS', 'TIMES'],\n",
       "  ['a', 'DT', 'Period'],\n",
       "  ['day', 'NN', 'PeriodUnit']],\n",
       " [['take', 'VB', 'Method'],\n",
       "  ['30', 'CD', 'Qty'],\n",
       "  ['tabs', 'NNS', 'Form'],\n",
       "  ['for', 'IN', 'FOR'],\n",
       "  ['10', 'CD', 'Duration'],\n",
       "  ['days', 'NNS', 'DurationUnit'],\n",
       "  ['three', 'CD', 'Qty'],\n",
       "  ['times', 'NNS', 'TIMES'],\n",
       "  ['a', 'DT', 'Period'],\n",
       "  ['day', 'NN', 'PeriodUnit']],\n",
       " [['take', 'VB', 'Method'],\n",
       "  ['30', 'CD', 'Qty'],\n",
       "  ['tabs', 'NNS', 'Form'],\n",
       "  ['for', 'IN', 'FOR'],\n",
       "  ['10', 'CD', 'Duration'],\n",
       "  ['days', 'NNS', 'DurationUnit'],\n",
       "  ['three', 'CD', 'Qty'],\n",
       "  ['times', 'NNS', 'TIMES'],\n",
       "  ['a', 'DT', 'Period'],\n",
       "  ['day', 'NN', 'PeriodUnit']],\n",
       " [['take', 'VB', 'Method'],\n",
       "  ['30', 'CD', 'Qty'],\n",
       "  ['tabs', 'NNS', 'Form'],\n",
       "  ['for', 'IN', 'FOR'],\n",
       "  ['10', 'CD', 'Duration'],\n",
       "  ['days', 'NNS', 'DurationUnit'],\n",
       "  ['three', 'CD', 'Qty'],\n",
       "  ['times', 'NNS', 'TIMES'],\n",
       "  ['a', 'DT', 'Period'],\n",
       "  ['day', 'NN', 'PeriodUnit']],\n",
       " [['take', 'VB', 'Method'],\n",
       "  ['30', 'CD', 'Qty'],\n",
       "  ['tabs', 'NNS', 'Form'],\n",
       "  ['for', 'IN', 'FOR'],\n",
       "  ['10', 'CD', 'Duration'],\n",
       "  ['days', 'NNS', 'DurationUnit'],\n",
       "  ['three', 'CD', 'Qty'],\n",
       "  ['times', 'NNS', 'TIMES'],\n",
       "  ['a', 'DT', 'Period'],\n",
       "  ['day', 'NN', 'PeriodUnit']],\n",
       " [['take', 'VB', 'Method'],\n",
       "  ['30', 'CD', 'Qty'],\n",
       "  ['tabs', 'NNS', 'Form'],\n",
       "  ['for', 'IN', 'FOR'],\n",
       "  ['10', 'CD', 'Duration'],\n",
       "  ['days', 'NNS', 'DurationUnit'],\n",
       "  ['three', 'CD', 'Qty'],\n",
       "  ['times', 'NNS', 'TIMES'],\n",
       "  ['a', 'DT', 'Period'],\n",
       "  ['day', 'NN', 'PeriodUnit']],\n",
       " [['take', 'VB', 'Method'],\n",
       "  ['30', 'CD', 'Qty'],\n",
       "  ['tabs', 'NNS', 'Form'],\n",
       "  ['for', 'IN', 'FOR'],\n",
       "  ['10', 'CD', 'Duration'],\n",
       "  ['days', 'NNS', 'DurationUnit'],\n",
       "  ['three', 'CD', 'Qty'],\n",
       "  ['times', 'NNS', 'TIMES'],\n",
       "  ['a', 'DT', 'Period'],\n",
       "  ['day', 'NN', 'PeriodUnit']],\n",
       " [['take', 'VB', 'Method'],\n",
       "  ['30', 'CD', 'Qty'],\n",
       "  ['tabs', 'NNS', 'Form'],\n",
       "  ['for', 'IN', 'FOR'],\n",
       "  ['10', 'CD', 'Duration'],\n",
       "  ['days', 'NNS', 'DurationUnit'],\n",
       "  ['three', 'CD', 'Qty'],\n",
       "  ['times', 'NNS', 'TIMES'],\n",
       "  ['a', 'DT', 'Period'],\n",
       "  ['day', 'NN', 'PeriodUnit']],\n",
       " [['qid', 'NN', 'QID'], ['q6h', 'NN', 'Q6H']],\n",
       " [['qid', 'NN', 'QID'], ['q6h', 'NN', 'Q6H']],\n",
       " [['bid', 'NN', 'BID']],\n",
       " [['qid', 'NN', 'QID']],\n",
       " [['30', 'CD', 'Qty'],\n",
       "  ['tabs', 'NNS', 'Form'],\n",
       "  ['before', 'IN', 'BEFORE'],\n",
       "  ['dinner', 'NN', 'WHEN'],\n",
       "  ['and', 'CC', 'AND'],\n",
       "  ['bedtime', 'NN', 'WHEN']],\n",
       " [['30', 'CD', 'Qty'],\n",
       "  ['tabs', 'NNS', 'Form'],\n",
       "  ['before', 'IN', 'BEFORE'],\n",
       "  ['dinner', 'NN', 'WHEN'],\n",
       "  ['and', 'CC', 'AND'],\n",
       "  ['bedtime', 'NN', 'WHEN']],\n",
       " [['30', 'CD', 'Qty'],\n",
       "  ['tabs', 'NNS', 'Form'],\n",
       "  ['before', 'IN', 'BEFORE'],\n",
       "  ['dinner', 'NN', 'WHEN'],\n",
       "  ['and', 'CC', 'AND'],\n",
       "  ['bedtime', 'NN', 'WHEN']],\n",
       " [['30', 'CD', 'Qty'],\n",
       "  ['tabs', 'NNS', 'Form'],\n",
       "  ['before', 'IN', 'BEFORE'],\n",
       "  ['dinner', 'NN', 'WHEN'],\n",
       "  ['and', 'CC', 'AND'],\n",
       "  ['bedtime', 'NN', 'WHEN']],\n",
       " [['30', 'CD', 'Qty'],\n",
       "  ['tabs', 'NNS', 'Form'],\n",
       "  ['before', 'IN', 'BEFORE'],\n",
       "  ['dinner', 'NN', 'WHEN'],\n",
       "  ['and', 'CC', 'AND'],\n",
       "  ['bedtime', 'NN', 'WHEN']],\n",
       " [['30', 'CD', 'Qty'],\n",
       "  ['tabs', 'NNS', 'Form'],\n",
       "  ['before', 'IN', 'BEFORE'],\n",
       "  ['dinner', 'NN', 'WHEN'],\n",
       "  ['and', 'CC', 'AND'],\n",
       "  ['bedtime', 'NN', 'WHEN']],\n",
       " [['30', 'CD', 'Qty'],\n",
       "  ['tabs', 'NNS', 'Form'],\n",
       "  ['before', 'IN', 'BEFORE'],\n",
       "  ['dinner', 'NN', 'WHEN'],\n",
       "  ['&', 'CC', 'AND'],\n",
       "  ['bedtime', 'NN', 'WHEN']],\n",
       " [['30', 'CD', 'Qty'],\n",
       "  ['tabs', 'NNS', 'Form'],\n",
       "  ['before', 'IN', 'BEFORE'],\n",
       "  ['dinner', 'NN', 'WHEN'],\n",
       "  ['&', 'CC', 'AND'],\n",
       "  ['bedtime', 'NN', 'WHEN']],\n",
       " [['30', 'CD', 'Qty'],\n",
       "  ['tabs', 'NNS', 'Form'],\n",
       "  ['before', 'IN', 'BEFORE'],\n",
       "  ['dinner', 'NN', 'WHEN'],\n",
       "  ['&', 'CC', 'AND'],\n",
       "  ['bedtime', 'NN', 'WHEN']],\n",
       " [['30', 'CD', 'Qty'],\n",
       "  ['tabs', 'NNS', 'Form'],\n",
       "  ['before', 'IN', 'BEFORE'],\n",
       "  ['dinner', 'NN', 'WHEN'],\n",
       "  ['&', 'CC', 'AND'],\n",
       "  ['bedtime', 'NN', 'WHEN']],\n",
       " [['30', 'CD', 'Qty'],\n",
       "  ['tabs', 'NNS', 'Form'],\n",
       "  ['before', 'IN', 'BEFORE'],\n",
       "  ['dinner', 'NN', 'WHEN'],\n",
       "  ['&', 'CC', 'AND'],\n",
       "  ['bedtime', 'NN', 'WHEN']],\n",
       " [['30', 'CD', 'Qty'],\n",
       "  ['tabs', 'NNS', 'Form'],\n",
       "  ['before', 'IN', 'BEFORE'],\n",
       "  ['dinner', 'NN', 'WHEN'],\n",
       "  ['&', 'CC', 'AND'],\n",
       "  ['bedtime', 'NN', 'WHEN']],\n",
       " [['take', 'VB', 'Method'],\n",
       "  ['3', 'CD', 'Qty'],\n",
       "  ['tabs', 'NNS', 'Form'],\n",
       "  ['at', 'IN', 'AT'],\n",
       "  ['bedtime', 'NN', 'WHEN']],\n",
       " [['take', 'VB', 'Method'],\n",
       "  ['3', 'CD', 'Qty'],\n",
       "  ['tabs', 'NNS', 'Form'],\n",
       "  ['at', 'IN', 'AT'],\n",
       "  ['bedtime', 'NN', 'WHEN']],\n",
       " [['take', 'VB', 'Method'],\n",
       "  ['3', 'CD', 'Qty'],\n",
       "  ['tabs', 'NNS', 'Form'],\n",
       "  ['at', 'IN', 'AT'],\n",
       "  ['bedtime', 'NN', 'WHEN']],\n",
       " [['take', 'VB', 'Method'],\n",
       "  ['3', 'CD', 'Qty'],\n",
       "  ['tabs', 'NNS', 'Form'],\n",
       "  ['at', 'IN', 'AT'],\n",
       "  ['bedtime', 'NN', 'WHEN']],\n",
       " [['take', 'VB', 'Method'],\n",
       "  ['3', 'CD', 'Qty'],\n",
       "  ['tabs', 'NNS', 'Form'],\n",
       "  ['at', 'IN', 'AT'],\n",
       "  ['bedtime', 'NN', 'WHEN']],\n",
       " [['30', 'CD', 'Qty'],\n",
       "  ['tabs', 'JJ', 'Form'],\n",
       "  ['thrice', 'JJ', 'Frequency'],\n",
       "  ['daily', 'RB', 'DAILY'],\n",
       "  ['for', 'IN', 'FOR'],\n",
       "  ['10', 'CD', 'Duration'],\n",
       "  ['days', 'NNS', 'DurationUnit']],\n",
       " [['30', 'CD', 'Qty'],\n",
       "  ['tabs', 'JJ', 'Form'],\n",
       "  ['thrice', 'JJ', 'Frequency'],\n",
       "  ['daily', 'RB', 'DAILY'],\n",
       "  ['for', 'IN', 'FOR'],\n",
       "  ['10', 'CD', 'Duration'],\n",
       "  ['days', 'NNS', 'DurationUnit']],\n",
       " [['30', 'CD', 'Qty'],\n",
       "  ['tabs', 'JJ', 'Form'],\n",
       "  ['thrice', 'JJ', 'Frequency'],\n",
       "  ['daily', 'RB', 'DAILY'],\n",
       "  ['for', 'IN', 'FOR'],\n",
       "  ['10', 'CD', 'Duration'],\n",
       "  ['days', 'NNS', 'DurationUnit']],\n",
       " [['30', 'CD', 'Qty'],\n",
       "  ['tabs', 'JJ', 'Form'],\n",
       "  ['thrice', 'JJ', 'Frequency'],\n",
       "  ['daily', 'RB', 'DAILY'],\n",
       "  ['for', 'IN', 'FOR'],\n",
       "  ['10', 'CD', 'Duration'],\n",
       "  ['days', 'NNS', 'DurationUnit']],\n",
       " [['30', 'CD', 'Qty'],\n",
       "  ['tabs', 'JJ', 'Form'],\n",
       "  ['thrice', 'JJ', 'Frequency'],\n",
       "  ['daily', 'RB', 'DAILY'],\n",
       "  ['for', 'IN', 'FOR'],\n",
       "  ['10', 'CD', 'Duration'],\n",
       "  ['days', 'NNS', 'DurationUnit']],\n",
       " [['30', 'CD', 'Qty'],\n",
       "  ['tabs', 'JJ', 'Form'],\n",
       "  ['thrice', 'JJ', 'Frequency'],\n",
       "  ['daily', 'RB', 'DAILY'],\n",
       "  ['for', 'IN', 'FOR'],\n",
       "  ['10', 'CD', 'Duration'],\n",
       "  ['days', 'NNS', 'DurationUnit']],\n",
       " [['30', 'CD', 'Qty'],\n",
       "  ['tabs', 'JJ', 'Form'],\n",
       "  ['thrice', 'JJ', 'Frequency'],\n",
       "  ['daily', 'RB', 'DAILY'],\n",
       "  ['for', 'IN', 'FOR'],\n",
       "  ['10', 'CD', 'Duration'],\n",
       "  ['days', 'NNS', 'DurationUnit']],\n",
       " [['30', 'CD', 'Qty'],\n",
       "  ['tabs', 'NNS', 'Form'],\n",
       "  ['for', 'IN', 'FOR'],\n",
       "  ['10', 'CD', 'Duration'],\n",
       "  ['days', 'NNS', 'DurationUnit'],\n",
       "  ['three', 'CD', 'Frequency'],\n",
       "  ['times', 'NNS', 'TIMES'],\n",
       "  ['a', 'DT', 'Period'],\n",
       "  ['day', 'NN', 'PeriodUnit']],\n",
       " [['30', 'CD', 'Qty'],\n",
       "  ['tabs', 'NNS', 'Form'],\n",
       "  ['for', 'IN', 'FOR'],\n",
       "  ['10', 'CD', 'Duration'],\n",
       "  ['days', 'NNS', 'DurationUnit'],\n",
       "  ['three', 'CD', 'Frequency'],\n",
       "  ['times', 'NNS', 'TIMES'],\n",
       "  ['a', 'DT', 'Period'],\n",
       "  ['day', 'NN', 'PeriodUnit']],\n",
       " [['30', 'CD', 'Qty'],\n",
       "  ['tabs', 'NNS', 'Form'],\n",
       "  ['for', 'IN', 'FOR'],\n",
       "  ['10', 'CD', 'Duration'],\n",
       "  ['days', 'NNS', 'DurationUnit'],\n",
       "  ['three', 'CD', 'Frequency'],\n",
       "  ['times', 'NNS', 'TIMES'],\n",
       "  ['a', 'DT', 'Period'],\n",
       "  ['day', 'NN', 'PeriodUnit']],\n",
       " [['30', 'CD', 'Qty'],\n",
       "  ['tabs', 'NNS', 'Form'],\n",
       "  ['for', 'IN', 'FOR'],\n",
       "  ['10', 'CD', 'Duration'],\n",
       "  ['days', 'NNS', 'DurationUnit'],\n",
       "  ['three', 'CD', 'Frequency'],\n",
       "  ['times', 'NNS', 'TIMES'],\n",
       "  ['a', 'DT', 'Period'],\n",
       "  ['day', 'NN', 'PeriodUnit']],\n",
       " [['30', 'CD', 'Qty'],\n",
       "  ['tabs', 'NNS', 'Form'],\n",
       "  ['for', 'IN', 'FOR'],\n",
       "  ['10', 'CD', 'Duration'],\n",
       "  ['days', 'NNS', 'DurationUnit'],\n",
       "  ['three', 'CD', 'Frequency'],\n",
       "  ['times', 'NNS', 'TIMES'],\n",
       "  ['a', 'DT', 'Period'],\n",
       "  ['day', 'NN', 'PeriodUnit']],\n",
       " [['30', 'CD', 'Qty'],\n",
       "  ['tabs', 'NNS', 'Form'],\n",
       "  ['for', 'IN', 'FOR'],\n",
       "  ['10', 'CD', 'Duration'],\n",
       "  ['days', 'NNS', 'DurationUnit'],\n",
       "  ['three', 'CD', 'Frequency'],\n",
       "  ['times', 'NNS', 'TIMES'],\n",
       "  ['a', 'DT', 'Period'],\n",
       "  ['day', 'NN', 'PeriodUnit']],\n",
       " [['30', 'CD', 'Qty'],\n",
       "  ['tabs', 'NNS', 'Form'],\n",
       "  ['for', 'IN', 'FOR'],\n",
       "  ['10', 'CD', 'Duration'],\n",
       "  ['days', 'NNS', 'DurationUnit'],\n",
       "  ['three', 'CD', 'Frequency'],\n",
       "  ['times', 'NNS', 'TIMES'],\n",
       "  ['a', 'DT', 'Period'],\n",
       "  ['day', 'NN', 'PeriodUnit']],\n",
       " [['30', 'CD', 'Qty'],\n",
       "  ['tabs', 'NNS', 'Form'],\n",
       "  ['for', 'IN', 'FOR'],\n",
       "  ['10', 'CD', 'Duration'],\n",
       "  ['days', 'NNS', 'DurationUnit'],\n",
       "  ['three', 'CD', 'Frequency'],\n",
       "  ['times', 'NNS', 'TIMES'],\n",
       "  ['a', 'DT', 'Period'],\n",
       "  ['day', 'NN', 'PeriodUnit']],\n",
       " [['30', 'CD', 'Qty'],\n",
       "  ['tabs', 'NNS', 'Form'],\n",
       "  ['for', 'IN', 'FOR'],\n",
       "  ['10', 'CD', 'Duration'],\n",
       "  ['days', 'NNS', 'DurationUnit'],\n",
       "  ['three', 'CD', 'Frequency'],\n",
       "  ['times', 'NNS', 'TIMES'],\n",
       "  ['a', 'DT', 'Period'],\n",
       "  ['day', 'NN', 'PeriodUnit']],\n",
       " [['Take', 'VB', 'Method'],\n",
       "  ['2', 'CD', 'Qty'],\n",
       "  ['tablets', 'NNS', 'Form'],\n",
       "  ['a', 'DT', 'Period'],\n",
       "  ['day', 'NN', 'PeriodUnit']],\n",
       " [['Take', 'VB', 'Method'],\n",
       "  ['2', 'CD', 'Qty'],\n",
       "  ['tablets', 'NNS', 'Form'],\n",
       "  ['a', 'DT', 'Period'],\n",
       "  ['day', 'NN', 'PeriodUnit']],\n",
       " [['Take', 'VB', 'Method'],\n",
       "  ['2', 'CD', 'Qty'],\n",
       "  ['tablets', 'NNS', 'Form'],\n",
       "  ['a', 'DT', 'Period'],\n",
       "  ['day', 'NN', 'PeriodUnit']],\n",
       " [['Take', 'VB', 'Method'],\n",
       "  ['2', 'CD', 'Qty'],\n",
       "  ['tablets', 'NNS', 'Form'],\n",
       "  ['a', 'DT', 'Period'],\n",
       "  ['day', 'NN', 'PeriodUnit']],\n",
       " [['Take', 'VB', 'Method'],\n",
       "  ['2', 'CD', 'Qty'],\n",
       "  ['tablets', 'NNS', 'Form'],\n",
       "  ['a', 'DT', 'Period'],\n",
       "  ['day', 'NN', 'PeriodUnit']],\n",
       " [['qid', 'NN', 'QID'],\n",
       "  ['for', 'IN', 'FOR'],\n",
       "  ['10', 'CD', 'Duration'],\n",
       "  ['days', 'NNS', 'DurationUnit']],\n",
       " [['qid', 'NN', 'QID'],\n",
       "  ['for', 'IN', 'FOR'],\n",
       "  ['10', 'CD', 'Duration'],\n",
       "  ['days', 'NNS', 'DurationUnit']],\n",
       " [['qid', 'NN', 'QID'],\n",
       "  ['for', 'IN', 'FOR'],\n",
       "  ['10', 'CD', 'Duration'],\n",
       "  ['days', 'NNS', 'DurationUnit']],\n",
       " [['qid', 'NN', 'QID'],\n",
       "  ['for', 'IN', 'FOR'],\n",
       "  ['10', 'CD', 'Duration'],\n",
       "  ['days', 'NNS', 'DurationUnit']],\n",
       " [['every', 'DT', 'EVERY'], ['day', 'NN', 'PeriodUnit']],\n",
       " [['every', 'DT', 'EVERY'], ['day', 'NN', 'PeriodUnit']],\n",
       " [['take', 'VB', 'Method'],\n",
       "  ['2', 'CD', 'Qty'],\n",
       "  ['caps', 'NNS', 'Form'],\n",
       "  ['at', 'IN', 'AT'],\n",
       "  ['bedtime', 'NN', 'WHEN']],\n",
       " [['take', 'VB', 'Method'],\n",
       "  ['2', 'CD', 'Qty'],\n",
       "  ['caps', 'NNS', 'Form'],\n",
       "  ['at', 'IN', 'AT'],\n",
       "  ['bedtime', 'NN', 'WHEN']],\n",
       " [['take', 'VB', 'Method'],\n",
       "  ['2', 'CD', 'Qty'],\n",
       "  ['caps', 'NNS', 'Form'],\n",
       "  ['at', 'IN', 'AT'],\n",
       "  ['bedtime', 'NN', 'WHEN']],\n",
       " [['take', 'VB', 'Method'],\n",
       "  ['2', 'CD', 'Qty'],\n",
       "  ['caps', 'NNS', 'Form'],\n",
       "  ['at', 'IN', 'AT'],\n",
       "  ['bedtime', 'NN', 'WHEN']],\n",
       " [['take', 'VB', 'Method'],\n",
       "  ['2', 'CD', 'Qty'],\n",
       "  ['caps', 'NNS', 'Form'],\n",
       "  ['at', 'IN', 'AT'],\n",
       "  ['bedtime', 'NN', 'WHEN']],\n",
       " [['apply', 'RB', 'Method'],\n",
       "  ['3', 'CD', 'Qty'],\n",
       "  ['drops', 'NNS', 'Form'],\n",
       "  ['before', 'IN', 'BEFORE'],\n",
       "  ['bedtime', 'NN', 'WHEN']],\n",
       " [['apply', 'RB', 'Method'],\n",
       "  ['3', 'CD', 'Qty'],\n",
       "  ['drops', 'NNS', 'Form'],\n",
       "  ['before', 'IN', 'BEFORE'],\n",
       "  ['bedtime', 'NN', 'WHEN']],\n",
       " [['apply', 'RB', 'Method'],\n",
       "  ['3', 'CD', 'Qty'],\n",
       "  ['drops', 'NNS', 'Form'],\n",
       "  ['before', 'IN', 'BEFORE'],\n",
       "  ['bedtime', 'NN', 'WHEN']],\n",
       " [['apply', 'RB', 'Method'],\n",
       "  ['3', 'CD', 'Qty'],\n",
       "  ['drops', 'NNS', 'Form'],\n",
       "  ['before', 'IN', 'BEFORE'],\n",
       "  ['bedtime', 'NN', 'WHEN']],\n",
       " [['apply', 'RB', 'Method'],\n",
       "  ['3', 'CD', 'Qty'],\n",
       "  ['drops', 'NNS', 'Form'],\n",
       "  ['before', 'IN', 'BEFORE'],\n",
       "  ['bedtime', 'NN', 'WHEN']],\n",
       " [['take', 'VB', 'Method'],\n",
       "  ['three', 'CD', 'Qty'],\n",
       "  ['capsules', 'NNS', 'Form'],\n",
       "  ['daily', 'RB', 'DAILY']],\n",
       " [['take', 'VB', 'Method'],\n",
       "  ['three', 'CD', 'Qty'],\n",
       "  ['capsules', 'NNS', 'Form'],\n",
       "  ['daily', 'RB', 'DAILY']],\n",
       " [['take', 'VB', 'Method'],\n",
       "  ['three', 'CD', 'Qty'],\n",
       "  ['capsules', 'NNS', 'Form'],\n",
       "  ['daily', 'RB', 'DAILY']],\n",
       " [['take', 'VB', 'Method'],\n",
       "  ['three', 'CD', 'Qty'],\n",
       "  ['capsules', 'NNS', 'Form'],\n",
       "  ['daily', 'RB', 'DAILY']],\n",
       " [['swallow', 'JJ', 'Method'],\n",
       "  ['3', 'CD', 'Qty'],\n",
       "  ['pills', 'NNS', 'Form'],\n",
       "  ['once', 'RB', 'Frequency'],\n",
       "  ['a', 'DT', 'Period'],\n",
       "  ['day', 'NN', 'PeriodUnit']],\n",
       " [['swallow', 'JJ', 'Method'],\n",
       "  ['3', 'CD', 'Qty'],\n",
       "  ['pills', 'NNS', 'Form'],\n",
       "  ['once', 'RB', 'Frequency'],\n",
       "  ['a', 'DT', 'Period'],\n",
       "  ['day', 'NN', 'PeriodUnit']],\n",
       " [['swallow', 'JJ', 'Method'],\n",
       "  ['3', 'CD', 'Qty'],\n",
       "  ['pills', 'NNS', 'Form'],\n",
       "  ['once', 'RB', 'Frequency'],\n",
       "  ['a', 'DT', 'Period'],\n",
       "  ['day', 'NN', 'PeriodUnit']],\n",
       " [['swallow', 'JJ', 'Method'],\n",
       "  ['3', 'CD', 'Qty'],\n",
       "  ['pills', 'NNS', 'Form'],\n",
       "  ['once', 'RB', 'Frequency'],\n",
       "  ['a', 'DT', 'Period'],\n",
       "  ['day', 'NN', 'PeriodUnit']],\n",
       " [['swallow', 'JJ', 'Method'],\n",
       "  ['3', 'CD', 'Qty'],\n",
       "  ['pills', 'NNS', 'Form'],\n",
       "  ['once', 'RB', 'Frequency'],\n",
       "  ['a', 'DT', 'Period'],\n",
       "  ['day', 'NN', 'PeriodUnit']],\n",
       " [['swallow', 'JJ', 'Method'],\n",
       "  ['3', 'CD', 'Qty'],\n",
       "  ['pills', 'NNS', 'Form'],\n",
       "  ['once', 'RB', 'Frequency'],\n",
       "  ['a', 'DT', 'Period'],\n",
       "  ['day', 'NN', 'PeriodUnit']],\n",
       " [['swallow', 'JJ', 'Method'],\n",
       "  ['three', 'CD', 'Qty'],\n",
       "  ['pills', 'NNS', 'Form'],\n",
       "  ['thrice', 'VBP', 'Frequency'],\n",
       "  ['a', 'DT', 'Period'],\n",
       "  ['day', 'NN', 'PeriodUnit']],\n",
       " [['swallow', 'JJ', 'Method'],\n",
       "  ['three', 'CD', 'Qty'],\n",
       "  ['pills', 'NNS', 'Form'],\n",
       "  ['thrice', 'VBP', 'Frequency'],\n",
       "  ['a', 'DT', 'Period'],\n",
       "  ['day', 'NN', 'PeriodUnit']],\n",
       " [['swallow', 'JJ', 'Method'],\n",
       "  ['three', 'CD', 'Qty'],\n",
       "  ['pills', 'NNS', 'Form'],\n",
       "  ['thrice', 'VBP', 'Frequency'],\n",
       "  ['a', 'DT', 'Period'],\n",
       "  ['day', 'NN', 'PeriodUnit']],\n",
       " [['swallow', 'JJ', 'Method'],\n",
       "  ['three', 'CD', 'Qty'],\n",
       "  ['pills', 'NNS', 'Form'],\n",
       "  ['thrice', 'VBP', 'Frequency'],\n",
       "  ['a', 'DT', 'Period'],\n",
       "  ['day', 'NN', 'PeriodUnit']],\n",
       " [['swallow', 'JJ', 'Method'],\n",
       "  ['three', 'CD', 'Qty'],\n",
       "  ['pills', 'NNS', 'Form'],\n",
       "  ['thrice', 'VBP', 'Frequency'],\n",
       "  ['a', 'DT', 'Period'],\n",
       "  ['day', 'NN', 'PeriodUnit']],\n",
       " [['swallow', 'JJ', 'Method'],\n",
       "  ['three', 'CD', 'Qty'],\n",
       "  ['pills', 'NNS', 'Form'],\n",
       "  ['thrice', 'VBP', 'Frequency'],\n",
       "  ['a', 'DT', 'Period'],\n",
       "  ['day', 'NN', 'PeriodUnit']],\n",
       " [['apply', 'VB', 'Method'], ['daily', 'JJ', 'DAILY']],\n",
       " [['apply', 'VB', 'Method'], ['daily', 'JJ', 'DAILY']],\n",
       " [['apply', 'RB', 'Method'],\n",
       "  ['three', 'CD', 'Qty'],\n",
       "  ['drops', 'NNS', 'Form'],\n",
       "  ['before', 'IN', 'BEFORE'],\n",
       "  ['bedtime', 'NN', 'WHEN']],\n",
       " [['apply', 'RB', 'Method'],\n",
       "  ['three', 'CD', 'Qty'],\n",
       "  ['drops', 'NNS', 'Form'],\n",
       "  ['before', 'IN', 'BEFORE'],\n",
       "  ['bedtime', 'NN', 'WHEN']],\n",
       " [['apply', 'RB', 'Method'],\n",
       "  ['three', 'CD', 'Qty'],\n",
       "  ['drops', 'NNS', 'Form'],\n",
       "  ['before', 'IN', 'BEFORE'],\n",
       "  ['bedtime', 'NN', 'WHEN']],\n",
       " [['apply', 'RB', 'Method'],\n",
       "  ['three', 'CD', 'Qty'],\n",
       "  ['drops', 'NNS', 'Form'],\n",
       "  ['before', 'IN', 'BEFORE'],\n",
       "  ['bedtime', 'NN', 'WHEN']],\n",
       " [['apply', 'RB', 'Method'],\n",
       "  ['three', 'CD', 'Qty'],\n",
       "  ['drops', 'NNS', 'Form'],\n",
       "  ['before', 'IN', 'BEFORE'],\n",
       "  ['bedtime', 'NN', 'WHEN']],\n",
       " [['every', 'DT', 'EVERY'],\n",
       "  ['6', 'CD', 'Period'],\n",
       "  ['hours', 'NNS', 'PeriodUnit']],\n",
       " [['every', 'DT', 'EVERY'],\n",
       "  ['6', 'CD', 'Period'],\n",
       "  ['hours', 'NNS', 'PeriodUnit']],\n",
       " [['every', 'DT', 'EVERY'],\n",
       "  ['6', 'CD', 'Period'],\n",
       "  ['hours', 'NNS', 'PeriodUnit']],\n",
       " [['before', 'IN', 'BEFORE'], ['food', 'NN', 'FOOD']],\n",
       " [['before', 'IN', 'BEFORE'], ['food', 'NN', 'FOOD']],\n",
       " [['after', 'IN', 'AFTER'], ['food', 'NN', 'FOOD']],\n",
       " [['after', 'IN', 'AFTER'], ['food', 'NN', 'FOOD']],\n",
       " [['for', 'IN', 'FOR'],\n",
       "  ['20', 'CD', 'Duration'],\n",
       "  ['days', 'NNS', 'DurationUnit']],\n",
       " [['for', 'IN', 'FOR'],\n",
       "  ['20', 'CD', 'Duration'],\n",
       "  ['days', 'NNS', 'DurationUnit']],\n",
       " [['for', 'IN', 'FOR'],\n",
       "  ['20', 'CD', 'Duration'],\n",
       "  ['days', 'NNS', 'DurationUnit']],\n",
       " [['for', 'IN', 'FOR'],\n",
       "  ['twenty', 'JJ', 'Duration'],\n",
       "  ['days', 'NNS', 'DurationUnit']],\n",
       " [['for', 'IN', 'FOR'],\n",
       "  ['twenty', 'JJ', 'Duration'],\n",
       "  ['days', 'NNS', 'DurationUnit']],\n",
       " [['for', 'IN', 'FOR'],\n",
       "  ['twenty', 'JJ', 'Duration'],\n",
       "  ['days', 'NNS', 'DurationUnit']],\n",
       " [['with', 'IN', 'WITH'], ['meals', 'NNS', 'FOOD']],\n",
       " [['with', 'IN', 'WITH'], ['meals', 'NNS', 'FOOD']]]"
      ]
     },
     "execution_count": 46,
     "metadata": {},
     "output_type": "execute_result"
    }
   ],
   "source": [
    "sample_data = triples_maker(sigs, \n",
    "                            input_sigs, \n",
    "                            output_labels)\n",
    "sample_data"
   ]
  },
  {
   "cell_type": "markdown",
   "metadata": {
    "id": "BPsj2UDlZerp"
   },
   "source": [
    "### Creating the features extractor method (GIVEN as a BASELINE)\n",
    "#### The features used are:\n",
    "- SOS, EOS, lowercase, uppercase, title, digit, postag, previous_tag, next_tag\n",
    "#### Feel free to include more features"
   ]
  },
  {
   "cell_type": "code",
   "execution_count": 47,
   "metadata": {
    "id": "4Ws8CoYDCkdo"
   },
   "outputs": [],
   "source": [
    "def token_to_features(doc, i):\n",
    "    word = doc[i][0]\n",
    "    postag = doc[i][1]\n",
    "\n",
    "    # Common features for all words\n",
    "    features = [\n",
    "        'bias',\n",
    "        'word.lower=' + word.lower(),\n",
    "        'word[-3:]=' + word[-3:],\n",
    "        'word[-2:]=' + word[-2:],\n",
    "        'word.isupper=%s' % word.isupper(),\n",
    "        'word.istitle=%s' % word.istitle(),\n",
    "        'word.isdigit=%s' % word.isdigit(),\n",
    "        'postag=' + postag\n",
    "    ]\n",
    "\n",
    "    # Features for words that are not at the beginning of a document\n",
    "    if i > 0:\n",
    "        word1 = doc[i-1][0]\n",
    "        postag1 = doc[i-1][1]\n",
    "        features.extend([\n",
    "            '-1:word.lower=' + word1.lower(),\n",
    "            '-1:word.istitle=%s' % word1.istitle(),\n",
    "            '-1:word.isupper=%s' % word1.isupper(),\n",
    "            '-1:word.isdigit=%s' % word1.isdigit(),\n",
    "            '-1:postag=' + postag1\n",
    "        ])\n",
    "    else:\n",
    "        # Indicate that it is the 'beginning of a document'\n",
    "        features.append('BOS')\n",
    "\n",
    "    # Features for words that are not at the end of a document\n",
    "    if i < len(doc)-1:\n",
    "        word1 = doc[i+1][0]\n",
    "        postag1 = doc[i+1][1]\n",
    "        features.extend([\n",
    "            '+1:word.lower=' + word1.lower(),\n",
    "            '+1:word.istitle=%s' % word1.istitle(),\n",
    "            '+1:word.isupper=%s' % word1.isupper(),\n",
    "            '+1:word.isdigit=%s' % word1.isdigit(),\n",
    "            '+1:postag=' + postag1\n",
    "        ])\n",
    "    else:\n",
    "        # Indicate that it is the 'end of a document'\n",
    "        features.append('EOS')\n",
    "\n",
    "    return features"
   ]
  },
  {
   "cell_type": "markdown",
   "metadata": {
    "id": "Tbgm_yQCZreJ"
   },
   "source": [
    "### Running the feature extractor on the training data \n",
    "- Feature extraction\n",
    "- Train-test-split"
   ]
  },
  {
   "cell_type": "code",
   "execution_count": 48,
   "metadata": {
    "id": "-vMs3JpjZi-x"
   },
   "outputs": [],
   "source": [
    "# result =[]\n",
    "# for sentence in sample_data:\n",
    "#   for i, word in enumerate (sentence):\n",
    "#     y = token_to_features(sentence, i)\n",
    "#     result.append(y)\n",
    "# result"
   ]
  },
  {
   "cell_type": "code",
   "execution_count": 49,
   "metadata": {
    "id": "iu5E6I8oxxEN"
   },
   "outputs": [],
   "source": [
    "# Functions for extracting features in documents\n",
    "def extract_features(doc):\n",
    "    return [token_to_features(doc, i) for i in range(len(doc))]\n",
    "\n",
    "def get_labels(doc):\n",
    "    return [label for (token, postag, label) in doc]"
   ]
  },
  {
   "cell_type": "code",
   "execution_count": 50,
   "metadata": {
    "colab": {
     "base_uri": "https://localhost:8080/"
    },
    "id": "s1gnbRCl1DlB",
    "outputId": "e468c8a1-7216-4cab-bad8-ba7811cbf08b"
   },
   "outputs": [
    {
     "data": {
      "text/plain": [
       "[[('for', 'FOR'),\n",
       "  ('5', 'Duration'),\n",
       "  ('to', 'TO'),\n",
       "  ('6', 'DurationMax'),\n",
       "  ('days', 'DurationUnit')],\n",
       " [('inject', 'Method'), ('2', 'Qty'), ('units', 'Form')],\n",
       " [('x', 'FOR'), ('2', 'Duration'), ('weeks', 'DurationUnit')],\n",
       " [('x', 'FOR'), ('3', 'Duration'), ('days', 'DurationUnit')],\n",
       " [('every', 'EVERY'), ('day', 'Period')],\n",
       " [('every', 'EVERY'), ('2', 'Period'), ('weeks', 'PeriodUnit')],\n",
       " [('every', 'EVERY'), ('3', 'Period'), ('days', 'PeriodUnit')],\n",
       " [('every', 'EVERY'),\n",
       "  ('1', 'Period'),\n",
       "  ('to', 'TO'),\n",
       "  ('2', 'PeriodMax'),\n",
       "  ('months', 'PeriodUnit')],\n",
       " [('every', 'EVERY'),\n",
       "  ('2', 'Period'),\n",
       "  ('to', 'TO'),\n",
       "  ('6', 'PeriodMax'),\n",
       "  ('weeks', 'PeriodUnit')],\n",
       " [('every', 'EVERY'),\n",
       "  ('4', 'Period'),\n",
       "  ('to', 'TO'),\n",
       "  ('6', 'PeriodMax'),\n",
       "  ('days', 'PeriodUnit')],\n",
       " [('take', 'Method'),\n",
       "  ('two', 'Qty'),\n",
       "  ('to', 'TO'),\n",
       "  ('four', 'Qty'),\n",
       "  ('tabs', 'Form')],\n",
       " [('take', 'Method'),\n",
       "  ('2', 'Qty'),\n",
       "  ('to', 'TO'),\n",
       "  ('4', 'Qty'),\n",
       "  ('tabs', 'Form')],\n",
       " [('take', 'Method'),\n",
       "  ('3', 'Qty'),\n",
       "  ('tabs', 'Form'),\n",
       "  ('orally', 'PO'),\n",
       "  ('bid', 'BID'),\n",
       "  ('for', 'FOR'),\n",
       "  ('10', 'Duration'),\n",
       "  ('days', 'DurationUnit'),\n",
       "  ('at', 'AT'),\n",
       "  ('bedtime', 'WHEN')],\n",
       " [('swallow', 'Method'),\n",
       "  ('three', 'Qty'),\n",
       "  ('capsules', 'Form'),\n",
       "  ('tid', 'TID'),\n",
       "  ('orally', 'PO')],\n",
       " [('take', 'Method'),\n",
       "  ('2', 'Qty'),\n",
       "  ('capsules', 'Form'),\n",
       "  ('po', 'PO'),\n",
       "  ('every', 'EVERY'),\n",
       "  ('6', 'Period'),\n",
       "  ('hours', 'PeriodUnit')],\n",
       " [('take', 'Method'),\n",
       "  ('2', 'Qty'),\n",
       "  ('tabs', 'Form'),\n",
       "  ('po', 'PO'),\n",
       "  ('for', 'FOR'),\n",
       "  ('10', 'Duration'),\n",
       "  ('days', 'DurationUnit')],\n",
       " [('take', 'Method'),\n",
       "  ('100', 'Qty'),\n",
       "  ('caps', 'Form'),\n",
       "  ('by', 'BY'),\n",
       "  ('mouth', 'PO'),\n",
       "  ('tid', 'TID'),\n",
       "  ('for', 'FOR'),\n",
       "  ('10', 'Duration'),\n",
       "  ('weeks', 'DurationUnit')],\n",
       " [('take', 'Method'),\n",
       "  ('2', 'Qty'),\n",
       "  ('tabs', 'Form'),\n",
       "  ('after', 'AFTER'),\n",
       "  ('an', 'Period'),\n",
       "  ('hour', 'PeriodUnit')],\n",
       " [('2', 'Qty'),\n",
       "  ('tabs', 'Form'),\n",
       "  ('every', 'EVERY'),\n",
       "  ('4-6', 'Period'),\n",
       "  ('hours', 'PeriodUnit')],\n",
       " [('every', 'EVERY'),\n",
       "  ('4', 'Period'),\n",
       "  ('to', 'TO'),\n",
       "  ('6', 'PeriodMax'),\n",
       "  ('hours', 'PeriodUnit')],\n",
       " [('q46h', 'Q46H')],\n",
       " [('q4-6h', 'Q4-6H')],\n",
       " [('2', 'Qty'),\n",
       "  ('hours', 'PeriodUnit'),\n",
       "  ('before', 'BEFORE'),\n",
       "  ('breakfast', 'WHEN')],\n",
       " [('before', 'BEFORE'),\n",
       "  ('30', 'Qty'),\n",
       "  ('mins', 'M'),\n",
       "  ('at', 'AT'),\n",
       "  ('bedtime', 'WHEN')],\n",
       " [('30', 'Qty'), ('mins', 'M'), ('before', 'BEFORE'), ('bed', 'WHEN')],\n",
       " [('and', 'AND'),\n",
       "  ('100', 'Qty'),\n",
       "  ('tabs', 'Form'),\n",
       "  ('twice', 'Frequency'),\n",
       "  ('a', 'Period'),\n",
       "  ('month', 'PeriodUnit')],\n",
       " [('100', 'Qty'),\n",
       "  ('tabs', 'Form'),\n",
       "  ('twice', 'Frequency'),\n",
       "  ('a', 'Period'),\n",
       "  ('month', 'PeriodUnit')],\n",
       " [('100', 'Qty'),\n",
       "  ('tabs', 'Form'),\n",
       "  ('once', 'Frequency'),\n",
       "  ('a', 'Period'),\n",
       "  ('month', 'PeriodUnit')],\n",
       " [('100', 'Qty'),\n",
       "  ('tabs', 'Form'),\n",
       "  ('thrice', 'Frequency'),\n",
       "  ('a', 'Period'),\n",
       "  ('month', 'PeriodUnit')],\n",
       " [('3', 'Qty'),\n",
       "  ('tabs', 'Form'),\n",
       "  ('daily', 'Frequency'),\n",
       "  ('for', 'FOR'),\n",
       "  ('3', 'Duration'),\n",
       "  ('days', 'DurationUnit'),\n",
       "  ('then', 'THEN'),\n",
       "  ('1', 'Qty'),\n",
       "  ('tab', 'Form'),\n",
       "  ('per', 'Frequency'),\n",
       "  ('day', 'PeriodUnit'),\n",
       "  ('at', 'AT'),\n",
       "  ('bed', 'WHEN')],\n",
       " [('30', 'Qty'),\n",
       "  ('tabs', 'Form'),\n",
       "  ('10', 'Duration'),\n",
       "  ('days', 'DurationUnit'),\n",
       "  ('tid', 'TID')],\n",
       " [('take', 'Method'),\n",
       "  ('30', 'Qty'),\n",
       "  ('tabs', 'Form'),\n",
       "  ('for', 'FOR'),\n",
       "  ('10', 'Duration'),\n",
       "  ('days', 'DurationUnit'),\n",
       "  ('three', 'Qty'),\n",
       "  ('times', 'TIMES'),\n",
       "  ('a', 'Period'),\n",
       "  ('day', 'PeriodUnit')],\n",
       " [('qid', 'QID'), ('q6h', 'Q6H')],\n",
       " [('bid', 'BID')],\n",
       " [('qid', 'QID')],\n",
       " [('30', 'Qty'),\n",
       "  ('tabs', 'Form'),\n",
       "  ('before', 'BEFORE'),\n",
       "  ('dinner', 'WHEN'),\n",
       "  ('and', 'AND'),\n",
       "  ('bedtime', 'WHEN')],\n",
       " [('30', 'Qty'),\n",
       "  ('tabs', 'Form'),\n",
       "  ('before', 'BEFORE'),\n",
       "  ('dinner', 'WHEN'),\n",
       "  ('&', 'AND'),\n",
       "  ('bedtime', 'WHEN')],\n",
       " [('take', 'Method'),\n",
       "  ('3', 'Qty'),\n",
       "  ('tabs', 'Form'),\n",
       "  ('at', 'AT'),\n",
       "  ('bedtime', 'WHEN')],\n",
       " [('30', 'Qty'),\n",
       "  ('tabs', 'Form'),\n",
       "  ('thrice', 'Frequency'),\n",
       "  ('daily', 'DAILY'),\n",
       "  ('for', 'FOR'),\n",
       "  ('10', 'Duration'),\n",
       "  ('days', 'DurationUnit')],\n",
       " [('30', 'Qty'),\n",
       "  ('tabs', 'Form'),\n",
       "  ('for', 'FOR'),\n",
       "  ('10', 'Duration'),\n",
       "  ('days', 'DurationUnit'),\n",
       "  ('three', 'Frequency'),\n",
       "  ('times', 'TIMES'),\n",
       "  ('a', 'Period'),\n",
       "  ('day', 'PeriodUnit')],\n",
       " [('take', 'Method'),\n",
       "  ('2', 'Qty'),\n",
       "  ('tablets', 'Form'),\n",
       "  ('a', 'Period'),\n",
       "  ('day', 'PeriodUnit')],\n",
       " [('qid', 'QID'),\n",
       "  ('for', 'FOR'),\n",
       "  ('10', 'Duration'),\n",
       "  ('days', 'DurationUnit')],\n",
       " [('every', 'EVERY'), ('day', 'PeriodUnit')],\n",
       " [('take', 'Method'),\n",
       "  ('2', 'Qty'),\n",
       "  ('caps', 'Form'),\n",
       "  ('at', 'AT'),\n",
       "  ('bedtime', 'WHEN')],\n",
       " [('apply', 'Method'),\n",
       "  ('3', 'Qty'),\n",
       "  ('drops', 'Form'),\n",
       "  ('before', 'BEFORE'),\n",
       "  ('bedtime', 'WHEN')],\n",
       " [('take', 'Method'),\n",
       "  ('three', 'Qty'),\n",
       "  ('capsules', 'Form'),\n",
       "  ('daily', 'DAILY')],\n",
       " [('swallow', 'Method'),\n",
       "  ('3', 'Qty'),\n",
       "  ('pills', 'Form'),\n",
       "  ('once', 'Frequency'),\n",
       "  ('a', 'Period'),\n",
       "  ('day', 'PeriodUnit')],\n",
       " [('swallow', 'Method'),\n",
       "  ('three', 'Qty'),\n",
       "  ('pills', 'Form'),\n",
       "  ('thrice', 'Frequency'),\n",
       "  ('a', 'Period'),\n",
       "  ('day', 'PeriodUnit')],\n",
       " [('apply', 'Method'), ('daily', 'DAILY')],\n",
       " [('apply', 'Method'),\n",
       "  ('three', 'Qty'),\n",
       "  ('drops', 'Form'),\n",
       "  ('before', 'BEFORE'),\n",
       "  ('bedtime', 'WHEN')],\n",
       " [('every', 'EVERY'), ('6', 'Period'), ('hours', 'PeriodUnit')],\n",
       " [('before', 'BEFORE'), ('food', 'FOOD')],\n",
       " [('after', 'AFTER'), ('food', 'FOOD')],\n",
       " [('for', 'FOR'), ('20', 'Duration'), ('days', 'DurationUnit')],\n",
       " [('for', 'FOR'), ('twenty', 'Duration'), ('days', 'DurationUnit')],\n",
       " [('with', 'WITH'), ('meals', 'FOOD')]]"
      ]
     },
     "execution_count": 50,
     "metadata": {},
     "output_type": "execute_result"
    }
   ],
   "source": [
    "tuples"
   ]
  },
  {
   "cell_type": "code",
   "execution_count": 51,
   "metadata": {
    "id": "fYOz3ymeyKWZ"
   },
   "outputs": [],
   "source": [
    "data = []\n",
    "\n",
    "for i, doc in enumerate(tuples):\n",
    "    tokens = [t for t, label in doc]    \n",
    "    tagged = nltk.pos_tag(tokens)    \n",
    "    data.append([(w, pos, label) for (w, label), (word, pos) in zip(doc, tagged)])\n"
   ]
  },
  {
   "cell_type": "code",
   "execution_count": 52,
   "metadata": {
    "colab": {
     "base_uri": "https://localhost:8080/"
    },
    "id": "NTYN9QD96SAE",
    "outputId": "6273a72b-e074-4ed2-c8f8-15779effa123"
   },
   "outputs": [
    {
     "data": {
      "text/plain": [
       "[[('for', 'IN', 'FOR'),\n",
       "  ('5', 'CD', 'Duration'),\n",
       "  ('to', 'TO', 'TO'),\n",
       "  ('6', 'CD', 'DurationMax'),\n",
       "  ('days', 'NNS', 'DurationUnit')],\n",
       " [('inject', 'JJ', 'Method'), ('2', 'CD', 'Qty'), ('units', 'NNS', 'Form')],\n",
       " [('x', 'RB', 'FOR'),\n",
       "  ('2', 'CD', 'Duration'),\n",
       "  ('weeks', 'NNS', 'DurationUnit')],\n",
       " [('x', 'RB', 'FOR'),\n",
       "  ('3', 'CD', 'Duration'),\n",
       "  ('days', 'NNS', 'DurationUnit')],\n",
       " [('every', 'DT', 'EVERY'), ('day', 'NN', 'Period')],\n",
       " [('every', 'DT', 'EVERY'),\n",
       "  ('2', 'CD', 'Period'),\n",
       "  ('weeks', 'NNS', 'PeriodUnit')],\n",
       " [('every', 'DT', 'EVERY'),\n",
       "  ('3', 'CD', 'Period'),\n",
       "  ('days', 'NNS', 'PeriodUnit')],\n",
       " [('every', 'DT', 'EVERY'),\n",
       "  ('1', 'CD', 'Period'),\n",
       "  ('to', 'TO', 'TO'),\n",
       "  ('2', 'CD', 'PeriodMax'),\n",
       "  ('months', 'NNS', 'PeriodUnit')],\n",
       " [('every', 'DT', 'EVERY'),\n",
       "  ('2', 'CD', 'Period'),\n",
       "  ('to', 'TO', 'TO'),\n",
       "  ('6', 'CD', 'PeriodMax'),\n",
       "  ('weeks', 'NNS', 'PeriodUnit')],\n",
       " [('every', 'DT', 'EVERY'),\n",
       "  ('4', 'CD', 'Period'),\n",
       "  ('to', 'TO', 'TO'),\n",
       "  ('6', 'CD', 'PeriodMax'),\n",
       "  ('days', 'NNS', 'PeriodUnit')],\n",
       " [('take', 'VB', 'Method'),\n",
       "  ('two', 'CD', 'Qty'),\n",
       "  ('to', 'TO', 'TO'),\n",
       "  ('four', 'CD', 'Qty'),\n",
       "  ('tabs', 'NNS', 'Form')],\n",
       " [('take', 'VB', 'Method'),\n",
       "  ('2', 'CD', 'Qty'),\n",
       "  ('to', 'TO', 'TO'),\n",
       "  ('4', 'CD', 'Qty'),\n",
       "  ('tabs', 'NNS', 'Form')],\n",
       " [('take', 'VB', 'Method'),\n",
       "  ('3', 'CD', 'Qty'),\n",
       "  ('tabs', 'NNS', 'Form'),\n",
       "  ('orally', 'RB', 'PO'),\n",
       "  ('bid', 'VBP', 'BID'),\n",
       "  ('for', 'IN', 'FOR'),\n",
       "  ('10', 'CD', 'Duration'),\n",
       "  ('days', 'NNS', 'DurationUnit'),\n",
       "  ('at', 'IN', 'AT'),\n",
       "  ('bedtime', 'NN', 'WHEN')],\n",
       " [('swallow', 'JJ', 'Method'),\n",
       "  ('three', 'CD', 'Qty'),\n",
       "  ('capsules', 'NNS', 'Form'),\n",
       "  ('tid', 'VBP', 'TID'),\n",
       "  ('orally', 'RB', 'PO')],\n",
       " [('take', 'VB', 'Method'),\n",
       "  ('2', 'CD', 'Qty'),\n",
       "  ('capsules', 'NNS', 'Form'),\n",
       "  ('po', 'RB', 'PO'),\n",
       "  ('every', 'DT', 'EVERY'),\n",
       "  ('6', 'CD', 'Period'),\n",
       "  ('hours', 'NNS', 'PeriodUnit')],\n",
       " [('take', 'VB', 'Method'),\n",
       "  ('2', 'CD', 'Qty'),\n",
       "  ('tabs', 'NNS', 'Form'),\n",
       "  ('po', 'NN', 'PO'),\n",
       "  ('for', 'IN', 'FOR'),\n",
       "  ('10', 'CD', 'Duration'),\n",
       "  ('days', 'NNS', 'DurationUnit')],\n",
       " [('take', 'VB', 'Method'),\n",
       "  ('100', 'CD', 'Qty'),\n",
       "  ('caps', 'NNS', 'Form'),\n",
       "  ('by', 'IN', 'BY'),\n",
       "  ('mouth', 'NN', 'PO'),\n",
       "  ('tid', 'NN', 'TID'),\n",
       "  ('for', 'IN', 'FOR'),\n",
       "  ('10', 'CD', 'Duration'),\n",
       "  ('weeks', 'NNS', 'DurationUnit')],\n",
       " [('take', 'VB', 'Method'),\n",
       "  ('2', 'CD', 'Qty'),\n",
       "  ('tabs', 'NNS', 'Form'),\n",
       "  ('after', 'IN', 'AFTER'),\n",
       "  ('an', 'DT', 'Period'),\n",
       "  ('hour', 'NN', 'PeriodUnit')],\n",
       " [('2', 'CD', 'Qty'),\n",
       "  ('tabs', 'JJ', 'Form'),\n",
       "  ('every', 'DT', 'EVERY'),\n",
       "  ('4-6', 'JJ', 'Period'),\n",
       "  ('hours', 'NNS', 'PeriodUnit')],\n",
       " [('every', 'DT', 'EVERY'),\n",
       "  ('4', 'CD', 'Period'),\n",
       "  ('to', 'TO', 'TO'),\n",
       "  ('6', 'CD', 'PeriodMax'),\n",
       "  ('hours', 'NNS', 'PeriodUnit')],\n",
       " [('q46h', 'NN', 'Q46H')],\n",
       " [('q4-6h', 'NN', 'Q4-6H')],\n",
       " [('2', 'CD', 'Qty'),\n",
       "  ('hours', 'NNS', 'PeriodUnit'),\n",
       "  ('before', 'IN', 'BEFORE'),\n",
       "  ('breakfast', 'NN', 'WHEN')],\n",
       " [('before', 'IN', 'BEFORE'),\n",
       "  ('30', 'CD', 'Qty'),\n",
       "  ('mins', 'NNS', 'M'),\n",
       "  ('at', 'IN', 'AT'),\n",
       "  ('bedtime', 'NN', 'WHEN')],\n",
       " [('30', 'CD', 'Qty'),\n",
       "  ('mins', 'NNS', 'M'),\n",
       "  ('before', 'IN', 'BEFORE'),\n",
       "  ('bed', 'NN', 'WHEN')],\n",
       " [('and', 'CC', 'AND'),\n",
       "  ('100', 'CD', 'Qty'),\n",
       "  ('tabs', 'NNS', 'Form'),\n",
       "  ('twice', 'RB', 'Frequency'),\n",
       "  ('a', 'DT', 'Period'),\n",
       "  ('month', 'NN', 'PeriodUnit')],\n",
       " [('100', 'CD', 'Qty'),\n",
       "  ('tabs', 'JJ', 'Form'),\n",
       "  ('twice', 'RB', 'Frequency'),\n",
       "  ('a', 'DT', 'Period'),\n",
       "  ('month', 'NN', 'PeriodUnit')],\n",
       " [('100', 'CD', 'Qty'),\n",
       "  ('tabs', 'NNS', 'Form'),\n",
       "  ('once', 'RB', 'Frequency'),\n",
       "  ('a', 'DT', 'Period'),\n",
       "  ('month', 'NN', 'PeriodUnit')],\n",
       " [('100', 'CD', 'Qty'),\n",
       "  ('tabs', 'JJ', 'Form'),\n",
       "  ('thrice', 'NN', 'Frequency'),\n",
       "  ('a', 'DT', 'Period'),\n",
       "  ('month', 'NN', 'PeriodUnit')],\n",
       " [('3', 'CD', 'Qty'),\n",
       "  ('tabs', 'JJ', 'Form'),\n",
       "  ('daily', 'RB', 'Frequency'),\n",
       "  ('for', 'IN', 'FOR'),\n",
       "  ('3', 'CD', 'Duration'),\n",
       "  ('days', 'NNS', 'DurationUnit'),\n",
       "  ('then', 'RB', 'THEN'),\n",
       "  ('1', 'CD', 'Qty'),\n",
       "  ('tab', 'NNS', 'Form'),\n",
       "  ('per', 'IN', 'Frequency'),\n",
       "  ('day', 'NN', 'PeriodUnit'),\n",
       "  ('at', 'IN', 'AT'),\n",
       "  ('bed', 'NN', 'WHEN')],\n",
       " [('30', 'CD', 'Qty'),\n",
       "  ('tabs', 'NNS', 'Form'),\n",
       "  ('10', 'CD', 'Duration'),\n",
       "  ('days', 'NNS', 'DurationUnit'),\n",
       "  ('tid', 'NN', 'TID')],\n",
       " [('take', 'VB', 'Method'),\n",
       "  ('30', 'CD', 'Qty'),\n",
       "  ('tabs', 'NNS', 'Form'),\n",
       "  ('for', 'IN', 'FOR'),\n",
       "  ('10', 'CD', 'Duration'),\n",
       "  ('days', 'NNS', 'DurationUnit'),\n",
       "  ('three', 'CD', 'Qty'),\n",
       "  ('times', 'NNS', 'TIMES'),\n",
       "  ('a', 'DT', 'Period'),\n",
       "  ('day', 'NN', 'PeriodUnit')],\n",
       " [('qid', 'NN', 'QID'), ('q6h', 'NN', 'Q6H')],\n",
       " [('bid', 'NN', 'BID')],\n",
       " [('qid', 'NN', 'QID')],\n",
       " [('30', 'CD', 'Qty'),\n",
       "  ('tabs', 'NNS', 'Form'),\n",
       "  ('before', 'IN', 'BEFORE'),\n",
       "  ('dinner', 'NN', 'WHEN'),\n",
       "  ('and', 'CC', 'AND'),\n",
       "  ('bedtime', 'NN', 'WHEN')],\n",
       " [('30', 'CD', 'Qty'),\n",
       "  ('tabs', 'NNS', 'Form'),\n",
       "  ('before', 'IN', 'BEFORE'),\n",
       "  ('dinner', 'NN', 'WHEN'),\n",
       "  ('&', 'CC', 'AND'),\n",
       "  ('bedtime', 'NN', 'WHEN')],\n",
       " [('take', 'VB', 'Method'),\n",
       "  ('3', 'CD', 'Qty'),\n",
       "  ('tabs', 'NNS', 'Form'),\n",
       "  ('at', 'IN', 'AT'),\n",
       "  ('bedtime', 'NN', 'WHEN')],\n",
       " [('30', 'CD', 'Qty'),\n",
       "  ('tabs', 'JJ', 'Form'),\n",
       "  ('thrice', 'JJ', 'Frequency'),\n",
       "  ('daily', 'RB', 'DAILY'),\n",
       "  ('for', 'IN', 'FOR'),\n",
       "  ('10', 'CD', 'Duration'),\n",
       "  ('days', 'NNS', 'DurationUnit')],\n",
       " [('30', 'CD', 'Qty'),\n",
       "  ('tabs', 'NNS', 'Form'),\n",
       "  ('for', 'IN', 'FOR'),\n",
       "  ('10', 'CD', 'Duration'),\n",
       "  ('days', 'NNS', 'DurationUnit'),\n",
       "  ('three', 'CD', 'Frequency'),\n",
       "  ('times', 'NNS', 'TIMES'),\n",
       "  ('a', 'DT', 'Period'),\n",
       "  ('day', 'NN', 'PeriodUnit')],\n",
       " [('take', 'VB', 'Method'),\n",
       "  ('2', 'CD', 'Qty'),\n",
       "  ('tablets', 'NNS', 'Form'),\n",
       "  ('a', 'DT', 'Period'),\n",
       "  ('day', 'NN', 'PeriodUnit')],\n",
       " [('qid', 'NN', 'QID'),\n",
       "  ('for', 'IN', 'FOR'),\n",
       "  ('10', 'CD', 'Duration'),\n",
       "  ('days', 'NNS', 'DurationUnit')],\n",
       " [('every', 'DT', 'EVERY'), ('day', 'NN', 'PeriodUnit')],\n",
       " [('take', 'VB', 'Method'),\n",
       "  ('2', 'CD', 'Qty'),\n",
       "  ('caps', 'NNS', 'Form'),\n",
       "  ('at', 'IN', 'AT'),\n",
       "  ('bedtime', 'NN', 'WHEN')],\n",
       " [('apply', 'RB', 'Method'),\n",
       "  ('3', 'CD', 'Qty'),\n",
       "  ('drops', 'NNS', 'Form'),\n",
       "  ('before', 'IN', 'BEFORE'),\n",
       "  ('bedtime', 'NN', 'WHEN')],\n",
       " [('take', 'VB', 'Method'),\n",
       "  ('three', 'CD', 'Qty'),\n",
       "  ('capsules', 'NNS', 'Form'),\n",
       "  ('daily', 'RB', 'DAILY')],\n",
       " [('swallow', 'JJ', 'Method'),\n",
       "  ('3', 'CD', 'Qty'),\n",
       "  ('pills', 'NNS', 'Form'),\n",
       "  ('once', 'RB', 'Frequency'),\n",
       "  ('a', 'DT', 'Period'),\n",
       "  ('day', 'NN', 'PeriodUnit')],\n",
       " [('swallow', 'JJ', 'Method'),\n",
       "  ('three', 'CD', 'Qty'),\n",
       "  ('pills', 'NNS', 'Form'),\n",
       "  ('thrice', 'VBP', 'Frequency'),\n",
       "  ('a', 'DT', 'Period'),\n",
       "  ('day', 'NN', 'PeriodUnit')],\n",
       " [('apply', 'VB', 'Method'), ('daily', 'JJ', 'DAILY')],\n",
       " [('apply', 'RB', 'Method'),\n",
       "  ('three', 'CD', 'Qty'),\n",
       "  ('drops', 'NNS', 'Form'),\n",
       "  ('before', 'IN', 'BEFORE'),\n",
       "  ('bedtime', 'NN', 'WHEN')],\n",
       " [('every', 'DT', 'EVERY'),\n",
       "  ('6', 'CD', 'Period'),\n",
       "  ('hours', 'NNS', 'PeriodUnit')],\n",
       " [('before', 'IN', 'BEFORE'), ('food', 'NN', 'FOOD')],\n",
       " [('after', 'IN', 'AFTER'), ('food', 'NN', 'FOOD')],\n",
       " [('for', 'IN', 'FOR'),\n",
       "  ('20', 'CD', 'Duration'),\n",
       "  ('days', 'NNS', 'DurationUnit')],\n",
       " [('for', 'IN', 'FOR'),\n",
       "  ('twenty', 'JJ', 'Duration'),\n",
       "  ('days', 'NNS', 'DurationUnit')],\n",
       " [('with', 'IN', 'WITH'), ('meals', 'NNS', 'FOOD')]]"
      ]
     },
     "execution_count": 52,
     "metadata": {},
     "output_type": "execute_result"
    }
   ],
   "source": [
    "data"
   ]
  },
  {
   "cell_type": "code",
   "execution_count": 53,
   "metadata": {
    "id": "oRvCgGTzpM5j"
   },
   "outputs": [],
   "source": [
    "X = [extract_features(doc) for doc in data]\n",
    "y = [get_labels(doc) for doc in data]\n",
    "\n",
    "X_train, X_test, y_train, y_test = train_test_split(X, y, test_size=0.2)"
   ]
  },
  {
   "cell_type": "code",
   "execution_count": 54,
   "metadata": {
    "colab": {
     "base_uri": "https://localhost:8080/"
    },
    "id": "YsRWWVCD0Ot9",
    "outputId": "1c6aceb8-1df1-4784-fad1-7a3b4107c130"
   },
   "outputs": [
    {
     "data": {
      "text/plain": [
       "[[['bias',\n",
       "   'word.lower=take',\n",
       "   'word[-3:]=ake',\n",
       "   'word[-2:]=ke',\n",
       "   'word.isupper=False',\n",
       "   'word.istitle=False',\n",
       "   'word.isdigit=False',\n",
       "   'postag=VB',\n",
       "   'BOS',\n",
       "   '+1:word.lower=2',\n",
       "   '+1:word.istitle=False',\n",
       "   '+1:word.isupper=False',\n",
       "   '+1:word.isdigit=True',\n",
       "   '+1:postag=CD'],\n",
       "  ['bias',\n",
       "   'word.lower=2',\n",
       "   'word[-3:]=2',\n",
       "   'word[-2:]=2',\n",
       "   'word.isupper=False',\n",
       "   'word.istitle=False',\n",
       "   'word.isdigit=True',\n",
       "   'postag=CD',\n",
       "   '-1:word.lower=take',\n",
       "   '-1:word.istitle=False',\n",
       "   '-1:word.isupper=False',\n",
       "   '-1:word.isdigit=False',\n",
       "   '-1:postag=VB',\n",
       "   '+1:word.lower=tablets',\n",
       "   '+1:word.istitle=False',\n",
       "   '+1:word.isupper=False',\n",
       "   '+1:word.isdigit=False',\n",
       "   '+1:postag=NNS'],\n",
       "  ['bias',\n",
       "   'word.lower=tablets',\n",
       "   'word[-3:]=ets',\n",
       "   'word[-2:]=ts',\n",
       "   'word.isupper=False',\n",
       "   'word.istitle=False',\n",
       "   'word.isdigit=False',\n",
       "   'postag=NNS',\n",
       "   '-1:word.lower=2',\n",
       "   '-1:word.istitle=False',\n",
       "   '-1:word.isupper=False',\n",
       "   '-1:word.isdigit=True',\n",
       "   '-1:postag=CD',\n",
       "   '+1:word.lower=a',\n",
       "   '+1:word.istitle=False',\n",
       "   '+1:word.isupper=False',\n",
       "   '+1:word.isdigit=False',\n",
       "   '+1:postag=DT'],\n",
       "  ['bias',\n",
       "   'word.lower=a',\n",
       "   'word[-3:]=a',\n",
       "   'word[-2:]=a',\n",
       "   'word.isupper=False',\n",
       "   'word.istitle=False',\n",
       "   'word.isdigit=False',\n",
       "   'postag=DT',\n",
       "   '-1:word.lower=tablets',\n",
       "   '-1:word.istitle=False',\n",
       "   '-1:word.isupper=False',\n",
       "   '-1:word.isdigit=False',\n",
       "   '-1:postag=NNS',\n",
       "   '+1:word.lower=day',\n",
       "   '+1:word.istitle=False',\n",
       "   '+1:word.isupper=False',\n",
       "   '+1:word.isdigit=False',\n",
       "   '+1:postag=NN'],\n",
       "  ['bias',\n",
       "   'word.lower=day',\n",
       "   'word[-3:]=day',\n",
       "   'word[-2:]=ay',\n",
       "   'word.isupper=False',\n",
       "   'word.istitle=False',\n",
       "   'word.isdigit=False',\n",
       "   'postag=NN',\n",
       "   '-1:word.lower=a',\n",
       "   '-1:word.istitle=False',\n",
       "   '-1:word.isupper=False',\n",
       "   '-1:word.isdigit=False',\n",
       "   '-1:postag=DT',\n",
       "   'EOS']],\n",
       " [['bias',\n",
       "   'word.lower=take',\n",
       "   'word[-3:]=ake',\n",
       "   'word[-2:]=ke',\n",
       "   'word.isupper=False',\n",
       "   'word.istitle=False',\n",
       "   'word.isdigit=False',\n",
       "   'postag=VB',\n",
       "   'BOS',\n",
       "   '+1:word.lower=2',\n",
       "   '+1:word.istitle=False',\n",
       "   '+1:word.isupper=False',\n",
       "   '+1:word.isdigit=True',\n",
       "   '+1:postag=CD'],\n",
       "  ['bias',\n",
       "   'word.lower=2',\n",
       "   'word[-3:]=2',\n",
       "   'word[-2:]=2',\n",
       "   'word.isupper=False',\n",
       "   'word.istitle=False',\n",
       "   'word.isdigit=True',\n",
       "   'postag=CD',\n",
       "   '-1:word.lower=take',\n",
       "   '-1:word.istitle=False',\n",
       "   '-1:word.isupper=False',\n",
       "   '-1:word.isdigit=False',\n",
       "   '-1:postag=VB',\n",
       "   '+1:word.lower=capsules',\n",
       "   '+1:word.istitle=False',\n",
       "   '+1:word.isupper=False',\n",
       "   '+1:word.isdigit=False',\n",
       "   '+1:postag=NNS'],\n",
       "  ['bias',\n",
       "   'word.lower=capsules',\n",
       "   'word[-3:]=les',\n",
       "   'word[-2:]=es',\n",
       "   'word.isupper=False',\n",
       "   'word.istitle=False',\n",
       "   'word.isdigit=False',\n",
       "   'postag=NNS',\n",
       "   '-1:word.lower=2',\n",
       "   '-1:word.istitle=False',\n",
       "   '-1:word.isupper=False',\n",
       "   '-1:word.isdigit=True',\n",
       "   '-1:postag=CD',\n",
       "   '+1:word.lower=po',\n",
       "   '+1:word.istitle=False',\n",
       "   '+1:word.isupper=False',\n",
       "   '+1:word.isdigit=False',\n",
       "   '+1:postag=RB'],\n",
       "  ['bias',\n",
       "   'word.lower=po',\n",
       "   'word[-3:]=po',\n",
       "   'word[-2:]=po',\n",
       "   'word.isupper=False',\n",
       "   'word.istitle=False',\n",
       "   'word.isdigit=False',\n",
       "   'postag=RB',\n",
       "   '-1:word.lower=capsules',\n",
       "   '-1:word.istitle=False',\n",
       "   '-1:word.isupper=False',\n",
       "   '-1:word.isdigit=False',\n",
       "   '-1:postag=NNS',\n",
       "   '+1:word.lower=every',\n",
       "   '+1:word.istitle=False',\n",
       "   '+1:word.isupper=False',\n",
       "   '+1:word.isdigit=False',\n",
       "   '+1:postag=DT'],\n",
       "  ['bias',\n",
       "   'word.lower=every',\n",
       "   'word[-3:]=ery',\n",
       "   'word[-2:]=ry',\n",
       "   'word.isupper=False',\n",
       "   'word.istitle=False',\n",
       "   'word.isdigit=False',\n",
       "   'postag=DT',\n",
       "   '-1:word.lower=po',\n",
       "   '-1:word.istitle=False',\n",
       "   '-1:word.isupper=False',\n",
       "   '-1:word.isdigit=False',\n",
       "   '-1:postag=RB',\n",
       "   '+1:word.lower=6',\n",
       "   '+1:word.istitle=False',\n",
       "   '+1:word.isupper=False',\n",
       "   '+1:word.isdigit=True',\n",
       "   '+1:postag=CD'],\n",
       "  ['bias',\n",
       "   'word.lower=6',\n",
       "   'word[-3:]=6',\n",
       "   'word[-2:]=6',\n",
       "   'word.isupper=False',\n",
       "   'word.istitle=False',\n",
       "   'word.isdigit=True',\n",
       "   'postag=CD',\n",
       "   '-1:word.lower=every',\n",
       "   '-1:word.istitle=False',\n",
       "   '-1:word.isupper=False',\n",
       "   '-1:word.isdigit=False',\n",
       "   '-1:postag=DT',\n",
       "   '+1:word.lower=hours',\n",
       "   '+1:word.istitle=False',\n",
       "   '+1:word.isupper=False',\n",
       "   '+1:word.isdigit=False',\n",
       "   '+1:postag=NNS'],\n",
       "  ['bias',\n",
       "   'word.lower=hours',\n",
       "   'word[-3:]=urs',\n",
       "   'word[-2:]=rs',\n",
       "   'word.isupper=False',\n",
       "   'word.istitle=False',\n",
       "   'word.isdigit=False',\n",
       "   'postag=NNS',\n",
       "   '-1:word.lower=6',\n",
       "   '-1:word.istitle=False',\n",
       "   '-1:word.isupper=False',\n",
       "   '-1:word.isdigit=True',\n",
       "   '-1:postag=CD',\n",
       "   'EOS']],\n",
       " [['bias',\n",
       "   'word.lower=take',\n",
       "   'word[-3:]=ake',\n",
       "   'word[-2:]=ke',\n",
       "   'word.isupper=False',\n",
       "   'word.istitle=False',\n",
       "   'word.isdigit=False',\n",
       "   'postag=VB',\n",
       "   'BOS',\n",
       "   '+1:word.lower=2',\n",
       "   '+1:word.istitle=False',\n",
       "   '+1:word.isupper=False',\n",
       "   '+1:word.isdigit=True',\n",
       "   '+1:postag=CD'],\n",
       "  ['bias',\n",
       "   'word.lower=2',\n",
       "   'word[-3:]=2',\n",
       "   'word[-2:]=2',\n",
       "   'word.isupper=False',\n",
       "   'word.istitle=False',\n",
       "   'word.isdigit=True',\n",
       "   'postag=CD',\n",
       "   '-1:word.lower=take',\n",
       "   '-1:word.istitle=False',\n",
       "   '-1:word.isupper=False',\n",
       "   '-1:word.isdigit=False',\n",
       "   '-1:postag=VB',\n",
       "   '+1:word.lower=caps',\n",
       "   '+1:word.istitle=False',\n",
       "   '+1:word.isupper=False',\n",
       "   '+1:word.isdigit=False',\n",
       "   '+1:postag=NNS'],\n",
       "  ['bias',\n",
       "   'word.lower=caps',\n",
       "   'word[-3:]=aps',\n",
       "   'word[-2:]=ps',\n",
       "   'word.isupper=False',\n",
       "   'word.istitle=False',\n",
       "   'word.isdigit=False',\n",
       "   'postag=NNS',\n",
       "   '-1:word.lower=2',\n",
       "   '-1:word.istitle=False',\n",
       "   '-1:word.isupper=False',\n",
       "   '-1:word.isdigit=True',\n",
       "   '-1:postag=CD',\n",
       "   '+1:word.lower=at',\n",
       "   '+1:word.istitle=False',\n",
       "   '+1:word.isupper=False',\n",
       "   '+1:word.isdigit=False',\n",
       "   '+1:postag=IN'],\n",
       "  ['bias',\n",
       "   'word.lower=at',\n",
       "   'word[-3:]=at',\n",
       "   'word[-2:]=at',\n",
       "   'word.isupper=False',\n",
       "   'word.istitle=False',\n",
       "   'word.isdigit=False',\n",
       "   'postag=IN',\n",
       "   '-1:word.lower=caps',\n",
       "   '-1:word.istitle=False',\n",
       "   '-1:word.isupper=False',\n",
       "   '-1:word.isdigit=False',\n",
       "   '-1:postag=NNS',\n",
       "   '+1:word.lower=bedtime',\n",
       "   '+1:word.istitle=False',\n",
       "   '+1:word.isupper=False',\n",
       "   '+1:word.isdigit=False',\n",
       "   '+1:postag=NN'],\n",
       "  ['bias',\n",
       "   'word.lower=bedtime',\n",
       "   'word[-3:]=ime',\n",
       "   'word[-2:]=me',\n",
       "   'word.isupper=False',\n",
       "   'word.istitle=False',\n",
       "   'word.isdigit=False',\n",
       "   'postag=NN',\n",
       "   '-1:word.lower=at',\n",
       "   '-1:word.istitle=False',\n",
       "   '-1:word.isupper=False',\n",
       "   '-1:word.isdigit=False',\n",
       "   '-1:postag=IN',\n",
       "   'EOS']],\n",
       " [['bias',\n",
       "   'word.lower=take',\n",
       "   'word[-3:]=ake',\n",
       "   'word[-2:]=ke',\n",
       "   'word.isupper=False',\n",
       "   'word.istitle=False',\n",
       "   'word.isdigit=False',\n",
       "   'postag=VB',\n",
       "   'BOS',\n",
       "   '+1:word.lower=30',\n",
       "   '+1:word.istitle=False',\n",
       "   '+1:word.isupper=False',\n",
       "   '+1:word.isdigit=True',\n",
       "   '+1:postag=CD'],\n",
       "  ['bias',\n",
       "   'word.lower=30',\n",
       "   'word[-3:]=30',\n",
       "   'word[-2:]=30',\n",
       "   'word.isupper=False',\n",
       "   'word.istitle=False',\n",
       "   'word.isdigit=True',\n",
       "   'postag=CD',\n",
       "   '-1:word.lower=take',\n",
       "   '-1:word.istitle=False',\n",
       "   '-1:word.isupper=False',\n",
       "   '-1:word.isdigit=False',\n",
       "   '-1:postag=VB',\n",
       "   '+1:word.lower=tabs',\n",
       "   '+1:word.istitle=False',\n",
       "   '+1:word.isupper=False',\n",
       "   '+1:word.isdigit=False',\n",
       "   '+1:postag=NNS'],\n",
       "  ['bias',\n",
       "   'word.lower=tabs',\n",
       "   'word[-3:]=abs',\n",
       "   'word[-2:]=bs',\n",
       "   'word.isupper=False',\n",
       "   'word.istitle=False',\n",
       "   'word.isdigit=False',\n",
       "   'postag=NNS',\n",
       "   '-1:word.lower=30',\n",
       "   '-1:word.istitle=False',\n",
       "   '-1:word.isupper=False',\n",
       "   '-1:word.isdigit=True',\n",
       "   '-1:postag=CD',\n",
       "   '+1:word.lower=for',\n",
       "   '+1:word.istitle=False',\n",
       "   '+1:word.isupper=False',\n",
       "   '+1:word.isdigit=False',\n",
       "   '+1:postag=IN'],\n",
       "  ['bias',\n",
       "   'word.lower=for',\n",
       "   'word[-3:]=for',\n",
       "   'word[-2:]=or',\n",
       "   'word.isupper=False',\n",
       "   'word.istitle=False',\n",
       "   'word.isdigit=False',\n",
       "   'postag=IN',\n",
       "   '-1:word.lower=tabs',\n",
       "   '-1:word.istitle=False',\n",
       "   '-1:word.isupper=False',\n",
       "   '-1:word.isdigit=False',\n",
       "   '-1:postag=NNS',\n",
       "   '+1:word.lower=10',\n",
       "   '+1:word.istitle=False',\n",
       "   '+1:word.isupper=False',\n",
       "   '+1:word.isdigit=True',\n",
       "   '+1:postag=CD'],\n",
       "  ['bias',\n",
       "   'word.lower=10',\n",
       "   'word[-3:]=10',\n",
       "   'word[-2:]=10',\n",
       "   'word.isupper=False',\n",
       "   'word.istitle=False',\n",
       "   'word.isdigit=True',\n",
       "   'postag=CD',\n",
       "   '-1:word.lower=for',\n",
       "   '-1:word.istitle=False',\n",
       "   '-1:word.isupper=False',\n",
       "   '-1:word.isdigit=False',\n",
       "   '-1:postag=IN',\n",
       "   '+1:word.lower=days',\n",
       "   '+1:word.istitle=False',\n",
       "   '+1:word.isupper=False',\n",
       "   '+1:word.isdigit=False',\n",
       "   '+1:postag=NNS'],\n",
       "  ['bias',\n",
       "   'word.lower=days',\n",
       "   'word[-3:]=ays',\n",
       "   'word[-2:]=ys',\n",
       "   'word.isupper=False',\n",
       "   'word.istitle=False',\n",
       "   'word.isdigit=False',\n",
       "   'postag=NNS',\n",
       "   '-1:word.lower=10',\n",
       "   '-1:word.istitle=False',\n",
       "   '-1:word.isupper=False',\n",
       "   '-1:word.isdigit=True',\n",
       "   '-1:postag=CD',\n",
       "   '+1:word.lower=three',\n",
       "   '+1:word.istitle=False',\n",
       "   '+1:word.isupper=False',\n",
       "   '+1:word.isdigit=False',\n",
       "   '+1:postag=CD'],\n",
       "  ['bias',\n",
       "   'word.lower=three',\n",
       "   'word[-3:]=ree',\n",
       "   'word[-2:]=ee',\n",
       "   'word.isupper=False',\n",
       "   'word.istitle=False',\n",
       "   'word.isdigit=False',\n",
       "   'postag=CD',\n",
       "   '-1:word.lower=days',\n",
       "   '-1:word.istitle=False',\n",
       "   '-1:word.isupper=False',\n",
       "   '-1:word.isdigit=False',\n",
       "   '-1:postag=NNS',\n",
       "   '+1:word.lower=times',\n",
       "   '+1:word.istitle=False',\n",
       "   '+1:word.isupper=False',\n",
       "   '+1:word.isdigit=False',\n",
       "   '+1:postag=NNS'],\n",
       "  ['bias',\n",
       "   'word.lower=times',\n",
       "   'word[-3:]=mes',\n",
       "   'word[-2:]=es',\n",
       "   'word.isupper=False',\n",
       "   'word.istitle=False',\n",
       "   'word.isdigit=False',\n",
       "   'postag=NNS',\n",
       "   '-1:word.lower=three',\n",
       "   '-1:word.istitle=False',\n",
       "   '-1:word.isupper=False',\n",
       "   '-1:word.isdigit=False',\n",
       "   '-1:postag=CD',\n",
       "   '+1:word.lower=a',\n",
       "   '+1:word.istitle=False',\n",
       "   '+1:word.isupper=False',\n",
       "   '+1:word.isdigit=False',\n",
       "   '+1:postag=DT'],\n",
       "  ['bias',\n",
       "   'word.lower=a',\n",
       "   'word[-3:]=a',\n",
       "   'word[-2:]=a',\n",
       "   'word.isupper=False',\n",
       "   'word.istitle=False',\n",
       "   'word.isdigit=False',\n",
       "   'postag=DT',\n",
       "   '-1:word.lower=times',\n",
       "   '-1:word.istitle=False',\n",
       "   '-1:word.isupper=False',\n",
       "   '-1:word.isdigit=False',\n",
       "   '-1:postag=NNS',\n",
       "   '+1:word.lower=day',\n",
       "   '+1:word.istitle=False',\n",
       "   '+1:word.isupper=False',\n",
       "   '+1:word.isdigit=False',\n",
       "   '+1:postag=NN'],\n",
       "  ['bias',\n",
       "   'word.lower=day',\n",
       "   'word[-3:]=day',\n",
       "   'word[-2:]=ay',\n",
       "   'word.isupper=False',\n",
       "   'word.istitle=False',\n",
       "   'word.isdigit=False',\n",
       "   'postag=NN',\n",
       "   '-1:word.lower=a',\n",
       "   '-1:word.istitle=False',\n",
       "   '-1:word.isupper=False',\n",
       "   '-1:word.isdigit=False',\n",
       "   '-1:postag=DT',\n",
       "   'EOS']],\n",
       " [['bias',\n",
       "   'word.lower=swallow',\n",
       "   'word[-3:]=low',\n",
       "   'word[-2:]=ow',\n",
       "   'word.isupper=False',\n",
       "   'word.istitle=False',\n",
       "   'word.isdigit=False',\n",
       "   'postag=JJ',\n",
       "   'BOS',\n",
       "   '+1:word.lower=three',\n",
       "   '+1:word.istitle=False',\n",
       "   '+1:word.isupper=False',\n",
       "   '+1:word.isdigit=False',\n",
       "   '+1:postag=CD'],\n",
       "  ['bias',\n",
       "   'word.lower=three',\n",
       "   'word[-3:]=ree',\n",
       "   'word[-2:]=ee',\n",
       "   'word.isupper=False',\n",
       "   'word.istitle=False',\n",
       "   'word.isdigit=False',\n",
       "   'postag=CD',\n",
       "   '-1:word.lower=swallow',\n",
       "   '-1:word.istitle=False',\n",
       "   '-1:word.isupper=False',\n",
       "   '-1:word.isdigit=False',\n",
       "   '-1:postag=JJ',\n",
       "   '+1:word.lower=capsules',\n",
       "   '+1:word.istitle=False',\n",
       "   '+1:word.isupper=False',\n",
       "   '+1:word.isdigit=False',\n",
       "   '+1:postag=NNS'],\n",
       "  ['bias',\n",
       "   'word.lower=capsules',\n",
       "   'word[-3:]=les',\n",
       "   'word[-2:]=es',\n",
       "   'word.isupper=False',\n",
       "   'word.istitle=False',\n",
       "   'word.isdigit=False',\n",
       "   'postag=NNS',\n",
       "   '-1:word.lower=three',\n",
       "   '-1:word.istitle=False',\n",
       "   '-1:word.isupper=False',\n",
       "   '-1:word.isdigit=False',\n",
       "   '-1:postag=CD',\n",
       "   '+1:word.lower=tid',\n",
       "   '+1:word.istitle=False',\n",
       "   '+1:word.isupper=False',\n",
       "   '+1:word.isdigit=False',\n",
       "   '+1:postag=VBP'],\n",
       "  ['bias',\n",
       "   'word.lower=tid',\n",
       "   'word[-3:]=tid',\n",
       "   'word[-2:]=id',\n",
       "   'word.isupper=False',\n",
       "   'word.istitle=False',\n",
       "   'word.isdigit=False',\n",
       "   'postag=VBP',\n",
       "   '-1:word.lower=capsules',\n",
       "   '-1:word.istitle=False',\n",
       "   '-1:word.isupper=False',\n",
       "   '-1:word.isdigit=False',\n",
       "   '-1:postag=NNS',\n",
       "   '+1:word.lower=orally',\n",
       "   '+1:word.istitle=False',\n",
       "   '+1:word.isupper=False',\n",
       "   '+1:word.isdigit=False',\n",
       "   '+1:postag=RB'],\n",
       "  ['bias',\n",
       "   'word.lower=orally',\n",
       "   'word[-3:]=lly',\n",
       "   'word[-2:]=ly',\n",
       "   'word.isupper=False',\n",
       "   'word.istitle=False',\n",
       "   'word.isdigit=False',\n",
       "   'postag=RB',\n",
       "   '-1:word.lower=tid',\n",
       "   '-1:word.istitle=False',\n",
       "   '-1:word.isupper=False',\n",
       "   '-1:word.isdigit=False',\n",
       "   '-1:postag=VBP',\n",
       "   'EOS']],\n",
       " [['bias',\n",
       "   'word.lower=every',\n",
       "   'word[-3:]=ery',\n",
       "   'word[-2:]=ry',\n",
       "   'word.isupper=False',\n",
       "   'word.istitle=False',\n",
       "   'word.isdigit=False',\n",
       "   'postag=DT',\n",
       "   'BOS',\n",
       "   '+1:word.lower=day',\n",
       "   '+1:word.istitle=False',\n",
       "   '+1:word.isupper=False',\n",
       "   '+1:word.isdigit=False',\n",
       "   '+1:postag=NN'],\n",
       "  ['bias',\n",
       "   'word.lower=day',\n",
       "   'word[-3:]=day',\n",
       "   'word[-2:]=ay',\n",
       "   'word.isupper=False',\n",
       "   'word.istitle=False',\n",
       "   'word.isdigit=False',\n",
       "   'postag=NN',\n",
       "   '-1:word.lower=every',\n",
       "   '-1:word.istitle=False',\n",
       "   '-1:word.isupper=False',\n",
       "   '-1:word.isdigit=False',\n",
       "   '-1:postag=DT',\n",
       "   'EOS']],\n",
       " [['bias',\n",
       "   'word.lower=apply',\n",
       "   'word[-3:]=ply',\n",
       "   'word[-2:]=ly',\n",
       "   'word.isupper=False',\n",
       "   'word.istitle=False',\n",
       "   'word.isdigit=False',\n",
       "   'postag=VB',\n",
       "   'BOS',\n",
       "   '+1:word.lower=daily',\n",
       "   '+1:word.istitle=False',\n",
       "   '+1:word.isupper=False',\n",
       "   '+1:word.isdigit=False',\n",
       "   '+1:postag=JJ'],\n",
       "  ['bias',\n",
       "   'word.lower=daily',\n",
       "   'word[-3:]=ily',\n",
       "   'word[-2:]=ly',\n",
       "   'word.isupper=False',\n",
       "   'word.istitle=False',\n",
       "   'word.isdigit=False',\n",
       "   'postag=JJ',\n",
       "   '-1:word.lower=apply',\n",
       "   '-1:word.istitle=False',\n",
       "   '-1:word.isupper=False',\n",
       "   '-1:word.isdigit=False',\n",
       "   '-1:postag=VB',\n",
       "   'EOS']],\n",
       " [['bias',\n",
       "   'word.lower=100',\n",
       "   'word[-3:]=100',\n",
       "   'word[-2:]=00',\n",
       "   'word.isupper=False',\n",
       "   'word.istitle=False',\n",
       "   'word.isdigit=True',\n",
       "   'postag=CD',\n",
       "   'BOS',\n",
       "   '+1:word.lower=tabs',\n",
       "   '+1:word.istitle=False',\n",
       "   '+1:word.isupper=False',\n",
       "   '+1:word.isdigit=False',\n",
       "   '+1:postag=NNS'],\n",
       "  ['bias',\n",
       "   'word.lower=tabs',\n",
       "   'word[-3:]=abs',\n",
       "   'word[-2:]=bs',\n",
       "   'word.isupper=False',\n",
       "   'word.istitle=False',\n",
       "   'word.isdigit=False',\n",
       "   'postag=NNS',\n",
       "   '-1:word.lower=100',\n",
       "   '-1:word.istitle=False',\n",
       "   '-1:word.isupper=False',\n",
       "   '-1:word.isdigit=True',\n",
       "   '-1:postag=CD',\n",
       "   '+1:word.lower=once',\n",
       "   '+1:word.istitle=False',\n",
       "   '+1:word.isupper=False',\n",
       "   '+1:word.isdigit=False',\n",
       "   '+1:postag=RB'],\n",
       "  ['bias',\n",
       "   'word.lower=once',\n",
       "   'word[-3:]=nce',\n",
       "   'word[-2:]=ce',\n",
       "   'word.isupper=False',\n",
       "   'word.istitle=False',\n",
       "   'word.isdigit=False',\n",
       "   'postag=RB',\n",
       "   '-1:word.lower=tabs',\n",
       "   '-1:word.istitle=False',\n",
       "   '-1:word.isupper=False',\n",
       "   '-1:word.isdigit=False',\n",
       "   '-1:postag=NNS',\n",
       "   '+1:word.lower=a',\n",
       "   '+1:word.istitle=False',\n",
       "   '+1:word.isupper=False',\n",
       "   '+1:word.isdigit=False',\n",
       "   '+1:postag=DT'],\n",
       "  ['bias',\n",
       "   'word.lower=a',\n",
       "   'word[-3:]=a',\n",
       "   'word[-2:]=a',\n",
       "   'word.isupper=False',\n",
       "   'word.istitle=False',\n",
       "   'word.isdigit=False',\n",
       "   'postag=DT',\n",
       "   '-1:word.lower=once',\n",
       "   '-1:word.istitle=False',\n",
       "   '-1:word.isupper=False',\n",
       "   '-1:word.isdigit=False',\n",
       "   '-1:postag=RB',\n",
       "   '+1:word.lower=month',\n",
       "   '+1:word.istitle=False',\n",
       "   '+1:word.isupper=False',\n",
       "   '+1:word.isdigit=False',\n",
       "   '+1:postag=NN'],\n",
       "  ['bias',\n",
       "   'word.lower=month',\n",
       "   'word[-3:]=nth',\n",
       "   'word[-2:]=th',\n",
       "   'word.isupper=False',\n",
       "   'word.istitle=False',\n",
       "   'word.isdigit=False',\n",
       "   'postag=NN',\n",
       "   '-1:word.lower=a',\n",
       "   '-1:word.istitle=False',\n",
       "   '-1:word.isupper=False',\n",
       "   '-1:word.isdigit=False',\n",
       "   '-1:postag=DT',\n",
       "   'EOS']],\n",
       " [['bias',\n",
       "   'word.lower=every',\n",
       "   'word[-3:]=ery',\n",
       "   'word[-2:]=ry',\n",
       "   'word.isupper=False',\n",
       "   'word.istitle=False',\n",
       "   'word.isdigit=False',\n",
       "   'postag=DT',\n",
       "   'BOS',\n",
       "   '+1:word.lower=1',\n",
       "   '+1:word.istitle=False',\n",
       "   '+1:word.isupper=False',\n",
       "   '+1:word.isdigit=True',\n",
       "   '+1:postag=CD'],\n",
       "  ['bias',\n",
       "   'word.lower=1',\n",
       "   'word[-3:]=1',\n",
       "   'word[-2:]=1',\n",
       "   'word.isupper=False',\n",
       "   'word.istitle=False',\n",
       "   'word.isdigit=True',\n",
       "   'postag=CD',\n",
       "   '-1:word.lower=every',\n",
       "   '-1:word.istitle=False',\n",
       "   '-1:word.isupper=False',\n",
       "   '-1:word.isdigit=False',\n",
       "   '-1:postag=DT',\n",
       "   '+1:word.lower=to',\n",
       "   '+1:word.istitle=False',\n",
       "   '+1:word.isupper=False',\n",
       "   '+1:word.isdigit=False',\n",
       "   '+1:postag=TO'],\n",
       "  ['bias',\n",
       "   'word.lower=to',\n",
       "   'word[-3:]=to',\n",
       "   'word[-2:]=to',\n",
       "   'word.isupper=False',\n",
       "   'word.istitle=False',\n",
       "   'word.isdigit=False',\n",
       "   'postag=TO',\n",
       "   '-1:word.lower=1',\n",
       "   '-1:word.istitle=False',\n",
       "   '-1:word.isupper=False',\n",
       "   '-1:word.isdigit=True',\n",
       "   '-1:postag=CD',\n",
       "   '+1:word.lower=2',\n",
       "   '+1:word.istitle=False',\n",
       "   '+1:word.isupper=False',\n",
       "   '+1:word.isdigit=True',\n",
       "   '+1:postag=CD'],\n",
       "  ['bias',\n",
       "   'word.lower=2',\n",
       "   'word[-3:]=2',\n",
       "   'word[-2:]=2',\n",
       "   'word.isupper=False',\n",
       "   'word.istitle=False',\n",
       "   'word.isdigit=True',\n",
       "   'postag=CD',\n",
       "   '-1:word.lower=to',\n",
       "   '-1:word.istitle=False',\n",
       "   '-1:word.isupper=False',\n",
       "   '-1:word.isdigit=False',\n",
       "   '-1:postag=TO',\n",
       "   '+1:word.lower=months',\n",
       "   '+1:word.istitle=False',\n",
       "   '+1:word.isupper=False',\n",
       "   '+1:word.isdigit=False',\n",
       "   '+1:postag=NNS'],\n",
       "  ['bias',\n",
       "   'word.lower=months',\n",
       "   'word[-3:]=ths',\n",
       "   'word[-2:]=hs',\n",
       "   'word.isupper=False',\n",
       "   'word.istitle=False',\n",
       "   'word.isdigit=False',\n",
       "   'postag=NNS',\n",
       "   '-1:word.lower=2',\n",
       "   '-1:word.istitle=False',\n",
       "   '-1:word.isupper=False',\n",
       "   '-1:word.isdigit=True',\n",
       "   '-1:postag=CD',\n",
       "   'EOS']],\n",
       " [['bias',\n",
       "   'word.lower=before',\n",
       "   'word[-3:]=ore',\n",
       "   'word[-2:]=re',\n",
       "   'word.isupper=False',\n",
       "   'word.istitle=False',\n",
       "   'word.isdigit=False',\n",
       "   'postag=IN',\n",
       "   'BOS',\n",
       "   '+1:word.lower=food',\n",
       "   '+1:word.istitle=False',\n",
       "   '+1:word.isupper=False',\n",
       "   '+1:word.isdigit=False',\n",
       "   '+1:postag=NN'],\n",
       "  ['bias',\n",
       "   'word.lower=food',\n",
       "   'word[-3:]=ood',\n",
       "   'word[-2:]=od',\n",
       "   'word.isupper=False',\n",
       "   'word.istitle=False',\n",
       "   'word.isdigit=False',\n",
       "   'postag=NN',\n",
       "   '-1:word.lower=before',\n",
       "   '-1:word.istitle=False',\n",
       "   '-1:word.isupper=False',\n",
       "   '-1:word.isdigit=False',\n",
       "   '-1:postag=IN',\n",
       "   'EOS']],\n",
       " [['bias',\n",
       "   'word.lower=swallow',\n",
       "   'word[-3:]=low',\n",
       "   'word[-2:]=ow',\n",
       "   'word.isupper=False',\n",
       "   'word.istitle=False',\n",
       "   'word.isdigit=False',\n",
       "   'postag=JJ',\n",
       "   'BOS',\n",
       "   '+1:word.lower=3',\n",
       "   '+1:word.istitle=False',\n",
       "   '+1:word.isupper=False',\n",
       "   '+1:word.isdigit=True',\n",
       "   '+1:postag=CD'],\n",
       "  ['bias',\n",
       "   'word.lower=3',\n",
       "   'word[-3:]=3',\n",
       "   'word[-2:]=3',\n",
       "   'word.isupper=False',\n",
       "   'word.istitle=False',\n",
       "   'word.isdigit=True',\n",
       "   'postag=CD',\n",
       "   '-1:word.lower=swallow',\n",
       "   '-1:word.istitle=False',\n",
       "   '-1:word.isupper=False',\n",
       "   '-1:word.isdigit=False',\n",
       "   '-1:postag=JJ',\n",
       "   '+1:word.lower=pills',\n",
       "   '+1:word.istitle=False',\n",
       "   '+1:word.isupper=False',\n",
       "   '+1:word.isdigit=False',\n",
       "   '+1:postag=NNS'],\n",
       "  ['bias',\n",
       "   'word.lower=pills',\n",
       "   'word[-3:]=lls',\n",
       "   'word[-2:]=ls',\n",
       "   'word.isupper=False',\n",
       "   'word.istitle=False',\n",
       "   'word.isdigit=False',\n",
       "   'postag=NNS',\n",
       "   '-1:word.lower=3',\n",
       "   '-1:word.istitle=False',\n",
       "   '-1:word.isupper=False',\n",
       "   '-1:word.isdigit=True',\n",
       "   '-1:postag=CD',\n",
       "   '+1:word.lower=once',\n",
       "   '+1:word.istitle=False',\n",
       "   '+1:word.isupper=False',\n",
       "   '+1:word.isdigit=False',\n",
       "   '+1:postag=RB'],\n",
       "  ['bias',\n",
       "   'word.lower=once',\n",
       "   'word[-3:]=nce',\n",
       "   'word[-2:]=ce',\n",
       "   'word.isupper=False',\n",
       "   'word.istitle=False',\n",
       "   'word.isdigit=False',\n",
       "   'postag=RB',\n",
       "   '-1:word.lower=pills',\n",
       "   '-1:word.istitle=False',\n",
       "   '-1:word.isupper=False',\n",
       "   '-1:word.isdigit=False',\n",
       "   '-1:postag=NNS',\n",
       "   '+1:word.lower=a',\n",
       "   '+1:word.istitle=False',\n",
       "   '+1:word.isupper=False',\n",
       "   '+1:word.isdigit=False',\n",
       "   '+1:postag=DT'],\n",
       "  ['bias',\n",
       "   'word.lower=a',\n",
       "   'word[-3:]=a',\n",
       "   'word[-2:]=a',\n",
       "   'word.isupper=False',\n",
       "   'word.istitle=False',\n",
       "   'word.isdigit=False',\n",
       "   'postag=DT',\n",
       "   '-1:word.lower=once',\n",
       "   '-1:word.istitle=False',\n",
       "   '-1:word.isupper=False',\n",
       "   '-1:word.isdigit=False',\n",
       "   '-1:postag=RB',\n",
       "   '+1:word.lower=day',\n",
       "   '+1:word.istitle=False',\n",
       "   '+1:word.isupper=False',\n",
       "   '+1:word.isdigit=False',\n",
       "   '+1:postag=NN'],\n",
       "  ['bias',\n",
       "   'word.lower=day',\n",
       "   'word[-3:]=day',\n",
       "   'word[-2:]=ay',\n",
       "   'word.isupper=False',\n",
       "   'word.istitle=False',\n",
       "   'word.isdigit=False',\n",
       "   'postag=NN',\n",
       "   '-1:word.lower=a',\n",
       "   '-1:word.istitle=False',\n",
       "   '-1:word.isupper=False',\n",
       "   '-1:word.isdigit=False',\n",
       "   '-1:postag=DT',\n",
       "   'EOS']],\n",
       " [['bias',\n",
       "   'word.lower=every',\n",
       "   'word[-3:]=ery',\n",
       "   'word[-2:]=ry',\n",
       "   'word.isupper=False',\n",
       "   'word.istitle=False',\n",
       "   'word.isdigit=False',\n",
       "   'postag=DT',\n",
       "   'BOS',\n",
       "   '+1:word.lower=4',\n",
       "   '+1:word.istitle=False',\n",
       "   '+1:word.isupper=False',\n",
       "   '+1:word.isdigit=True',\n",
       "   '+1:postag=CD'],\n",
       "  ['bias',\n",
       "   'word.lower=4',\n",
       "   'word[-3:]=4',\n",
       "   'word[-2:]=4',\n",
       "   'word.isupper=False',\n",
       "   'word.istitle=False',\n",
       "   'word.isdigit=True',\n",
       "   'postag=CD',\n",
       "   '-1:word.lower=every',\n",
       "   '-1:word.istitle=False',\n",
       "   '-1:word.isupper=False',\n",
       "   '-1:word.isdigit=False',\n",
       "   '-1:postag=DT',\n",
       "   '+1:word.lower=to',\n",
       "   '+1:word.istitle=False',\n",
       "   '+1:word.isupper=False',\n",
       "   '+1:word.isdigit=False',\n",
       "   '+1:postag=TO'],\n",
       "  ['bias',\n",
       "   'word.lower=to',\n",
       "   'word[-3:]=to',\n",
       "   'word[-2:]=to',\n",
       "   'word.isupper=False',\n",
       "   'word.istitle=False',\n",
       "   'word.isdigit=False',\n",
       "   'postag=TO',\n",
       "   '-1:word.lower=4',\n",
       "   '-1:word.istitle=False',\n",
       "   '-1:word.isupper=False',\n",
       "   '-1:word.isdigit=True',\n",
       "   '-1:postag=CD',\n",
       "   '+1:word.lower=6',\n",
       "   '+1:word.istitle=False',\n",
       "   '+1:word.isupper=False',\n",
       "   '+1:word.isdigit=True',\n",
       "   '+1:postag=CD'],\n",
       "  ['bias',\n",
       "   'word.lower=6',\n",
       "   'word[-3:]=6',\n",
       "   'word[-2:]=6',\n",
       "   'word.isupper=False',\n",
       "   'word.istitle=False',\n",
       "   'word.isdigit=True',\n",
       "   'postag=CD',\n",
       "   '-1:word.lower=to',\n",
       "   '-1:word.istitle=False',\n",
       "   '-1:word.isupper=False',\n",
       "   '-1:word.isdigit=False',\n",
       "   '-1:postag=TO',\n",
       "   '+1:word.lower=days',\n",
       "   '+1:word.istitle=False',\n",
       "   '+1:word.isupper=False',\n",
       "   '+1:word.isdigit=False',\n",
       "   '+1:postag=NNS'],\n",
       "  ['bias',\n",
       "   'word.lower=days',\n",
       "   'word[-3:]=ays',\n",
       "   'word[-2:]=ys',\n",
       "   'word.isupper=False',\n",
       "   'word.istitle=False',\n",
       "   'word.isdigit=False',\n",
       "   'postag=NNS',\n",
       "   '-1:word.lower=6',\n",
       "   '-1:word.istitle=False',\n",
       "   '-1:word.isupper=False',\n",
       "   '-1:word.isdigit=True',\n",
       "   '-1:postag=CD',\n",
       "   'EOS']]]"
      ]
     },
     "execution_count": 54,
     "metadata": {},
     "output_type": "execute_result"
    }
   ],
   "source": [
    "X_test"
   ]
  },
  {
   "cell_type": "code",
   "execution_count": 55,
   "metadata": {
    "colab": {
     "base_uri": "https://localhost:8080/"
    },
    "id": "yCGkt2ZWwF9D",
    "outputId": "d6f7edb5-e802-4895-9d18-11a21e24c495"
   },
   "outputs": [
    {
     "name": "stdout",
     "output_type": "stream",
     "text": [
      "44 12 44 12\n"
     ]
    }
   ],
   "source": [
    "# Sanity check of size of training and testing set\n",
    "print(len(X_train), len(X_test), len(y_train), len(y_test))"
   ]
  },
  {
   "cell_type": "markdown",
   "metadata": {
    "id": "YDqYIgfmJHVv"
   },
   "source": [
    "### Training the CRF model with the features extracted using the feature extractor method"
   ]
  },
  {
   "cell_type": "code",
   "execution_count": 187,
   "metadata": {
    "id": "NzP5vThzjSBS"
   },
   "outputs": [],
   "source": [
    "# Define the model\n",
    "# Providing a file name as a parameter to the train function, such that\n",
    "# the model will be saved to the file when training is finished\n",
    "crf = CRF(algorithm='lbfgs', \n",
    "          c1=0.1, \n",
    "          c2=0.10, \n",
    "          max_iterations=150,\n",
    "          verbose=True)"
   ]
  },
  {
   "cell_type": "code",
   "execution_count": 188,
   "metadata": {
    "colab": {
     "base_uri": "https://localhost:8080/"
    },
    "id": "YoepthtBk3N-",
    "outputId": "03b7423f-727b-4d95-b7e7-34c88d991f10"
   },
   "outputs": [
    {
     "name": "stderr",
     "output_type": "stream",
     "text": [
      "loading training data to CRFsuite: 100%|██████████| 44/44 [00:00<00:00, 17803.34it/s]"
     ]
    },
    {
     "name": "stdout",
     "output_type": "stream",
     "text": [
      "\n",
      "Feature generation\n",
      "type: CRF1d\n",
      "feature.minfreq: 0.000000\n",
      "feature.possible_states: 0\n",
      "feature.possible_transitions: 0\n",
      "0....1....2....3....4....5....6....7....8....9....10\n",
      "Number of features: 957\n",
      "Seconds required: 0.003\n",
      "\n",
      "L-BFGS optimization\n",
      "c1: 0.100000\n",
      "c2: 0.100000\n",
      "num_memories: 6\n",
      "max_iterations: 150\n",
      "epsilon: 0.000010\n",
      "stop: 10\n",
      "delta: 0.000010\n",
      "linesearch: MoreThuente\n",
      "linesearch.max_iterations: 20\n",
      "\n",
      "Iter 1   time=0.00  loss=570.10   active=937   feature_norm=1.00\n",
      "Iter 2   time=0.00  loss=342.31   active=923   feature_norm=5.78\n",
      "Iter 3   time=0.00  loss=280.05   active=932   feature_norm=7.37\n",
      "Iter 4   time=0.00  loss=243.98   active=934   feature_norm=7.51\n",
      "Iter 5   time=0.00  loss=196.30   active=939   feature_norm=7.96\n",
      "Iter 6   time=0.00  loss=154.80   active=887   feature_norm=9.07\n",
      "Iter 7   time=0.00  loss=111.02   active=849   feature_norm=12.87\n",
      "Iter 8   time=0.00  loss=88.46    active=911   feature_norm=14.16\n",
      "Iter 9   time=0.00  loss=83.43    active=932   feature_norm=14.50\n",
      "Iter 10  time=0.00  loss=77.86    active=909   feature_norm=15.24\n",
      "Iter 11  time=0.00  loss=75.82    active=896   feature_norm=15.41\n",
      "Iter 12  time=0.00  loss=74.08    active=875   feature_norm=15.36\n",
      "Iter 13  time=0.00  loss=72.09    active=809   feature_norm=15.18\n",
      "Iter 14  time=0.00  loss=71.11    active=741   feature_norm=15.19\n",
      "Iter 15  time=0.00  loss=70.45    active=755   feature_norm=15.21\n",
      "Iter 16  time=0.00  loss=70.04    active=721   feature_norm=15.27\n",
      "Iter 17  time=0.00  loss=69.69    active=673   feature_norm=15.40\n",
      "Iter 18  time=0.00  loss=69.49    active=652   feature_norm=15.45\n",
      "Iter 19  time=0.00  loss=69.36    active=644   feature_norm=15.48\n",
      "Iter 20  time=0.00  loss=69.18    active=607   feature_norm=15.54\n",
      "Iter 21  time=0.00  loss=69.13    active=602   feature_norm=15.64\n",
      "Iter 22  time=0.00  loss=69.03    active=607   feature_norm=15.64\n",
      "Iter 23  time=0.00  loss=68.99    active=605   feature_norm=15.65\n",
      "Iter 24  time=0.00  loss=68.92    active=579   feature_norm=15.67\n",
      "Iter 25  time=0.00  loss=68.91    active=583   feature_norm=15.68\n",
      "Iter 26  time=0.00  loss=68.89    active=579   feature_norm=15.69\n",
      "Iter 27  time=0.00  loss=68.88    active=574   feature_norm=15.69\n",
      "Iter 28  time=0.00  loss=68.86    active=561   feature_norm=15.71\n",
      "Iter 29  time=0.04  loss=68.85    active=564   feature_norm=15.72\n",
      "Iter 30  time=0.00  loss=68.85    active=563   feature_norm=15.72\n",
      "Iter 31  time=0.00  loss=68.84    active=561   feature_norm=15.72\n",
      "Iter 32  time=0.00  loss=68.84    active=560   feature_norm=15.73\n",
      "Iter 33  time=0.00  loss=68.83    active=552   feature_norm=15.73\n",
      "Iter 34  time=0.00  loss=68.83    active=553   feature_norm=15.73\n",
      "Iter 35  time=0.00  loss=68.83    active=557   feature_norm=15.73\n",
      "Iter 36  time=0.01  loss=68.83    active=553   feature_norm=15.74\n",
      "Iter 37  time=0.00  loss=68.82    active=554   feature_norm=15.74\n",
      "Iter 38  time=0.00  loss=68.82    active=553   feature_norm=15.74\n",
      "Iter 39  time=0.00  loss=68.82    active=553   feature_norm=15.74\n",
      "Iter 40  time=0.00  loss=68.82    active=553   feature_norm=15.74\n",
      "Iter 41  time=0.00  loss=68.82    active=549   feature_norm=15.74\n",
      "Iter 42  time=0.01  loss=68.82    active=545   feature_norm=15.73\n",
      "Iter 43  time=0.00  loss=68.82    active=545   feature_norm=15.73\n",
      "Iter 44  time=0.00  loss=68.82    active=545   feature_norm=15.73\n",
      "Iter 45  time=0.00  loss=68.82    active=545   feature_norm=15.73\n",
      "Iter 46  time=0.00  loss=68.82    active=544   feature_norm=15.73\n",
      "Iter 47  time=0.00  loss=68.82    active=543   feature_norm=15.73\n",
      "Iter 48  time=0.00  loss=68.82    active=543   feature_norm=15.73\n",
      "Iter 49  time=0.00  loss=68.82    active=543   feature_norm=15.73\n",
      "Iter 50  time=0.00  loss=68.82    active=543   feature_norm=15.73\n",
      "Iter 51  time=0.00  loss=68.82    active=543   feature_norm=15.74\n",
      "Iter 52  time=0.01  loss=68.82    active=543   feature_norm=15.74\n",
      "Iter 53  time=0.00  loss=68.82    active=543   feature_norm=15.74\n",
      "Iter 54  time=0.00  loss=68.82    active=543   feature_norm=15.74\n",
      "Iter 55  time=0.00  loss=68.82    active=542   feature_norm=15.74\n",
      "L-BFGS terminated with the stopping criteria\n",
      "Total seconds required for training: 0.125\n",
      "\n",
      "Storing the model\n",
      "Number of active features: 542 (957)\n",
      "Number of active attributes: 273 (344)\n",
      "Number of active labels: 32 (32)\n",
      "Writing labels\n",
      "Writing attributes\n",
      "Writing feature references for transitions\n",
      "Writing feature references for attributes\n",
      "Seconds required: 0.001\n",
      "\n"
     ]
    },
    {
     "name": "stderr",
     "output_type": "stream",
     "text": [
      "\n",
      "/usr/local/lib/python3.7/dist-packages/sklearn/base.py:213: FutureWarning: From version 0.24, get_params will raise an AttributeError if a parameter cannot be retrieved as an instance attribute. Previously it would return None.\n",
      "  FutureWarning)\n"
     ]
    },
    {
     "data": {
      "text/plain": [
       "CRF(algorithm='lbfgs', c1=0.1, c2=0.1, keep_tempfiles=None, max_iterations=150,\n",
       "    verbose=True)"
      ]
     },
     "execution_count": 188,
     "metadata": {},
     "output_type": "execute_result"
    }
   ],
   "source": [
    "# Train the model with generated training data\n",
    "crf.fit(X_train, y_train)"
   ]
  },
  {
   "cell_type": "markdown",
   "metadata": {
    "id": "s5_js_tEJTbS"
   },
   "source": [
    "### Predicting the test data with the built model"
   ]
  },
  {
   "cell_type": "code",
   "execution_count": 189,
   "metadata": {
    "colab": {
     "base_uri": "https://localhost:8080/"
    },
    "id": "E0cXrlNRJBNE",
    "outputId": "dc950945-3f73-43a4-c51e-0e6b6cd3c380"
   },
   "outputs": [
    {
     "data": {
      "text/plain": [
       "[['Method', 'Qty', 'Form', 'Period', 'PeriodUnit'],\n",
       " ['Method', 'Qty', 'Form', 'PO', 'EVERY', 'Period', 'PeriodUnit'],\n",
       " ['Method', 'Qty', 'Form', 'AT', 'WHEN'],\n",
       " ['Method',\n",
       "  'Qty',\n",
       "  'Form',\n",
       "  'FOR',\n",
       "  'Duration',\n",
       "  'DurationUnit',\n",
       "  'Frequency',\n",
       "  'TIMES',\n",
       "  'Period',\n",
       "  'PeriodUnit'],\n",
       " ['Method', 'Qty', 'Form', 'TID', 'DAILY'],\n",
       " ['EVERY', 'Period'],\n",
       " ['Method', 'DAILY'],\n",
       " ['Qty', 'Form', 'Frequency', 'Period', 'PeriodUnit'],\n",
       " ['EVERY', 'Period', 'TO', 'Qty', 'Form'],\n",
       " ['BEFORE', 'WHEN'],\n",
       " ['Method', 'Qty', 'Form', 'Frequency', 'Period', 'PeriodUnit'],\n",
       " ['EVERY', 'Period', 'TO', 'DurationMax', 'DurationUnit']]"
      ]
     },
     "execution_count": 189,
     "metadata": {},
     "output_type": "execute_result"
    }
   ],
   "source": [
    "crf.predict(X_test)"
   ]
  },
  {
   "cell_type": "markdown",
   "metadata": {
    "id": "DxMA168pJcZ_"
   },
   "source": [
    "### Putting all the prediction logic inside a predict method"
   ]
  },
  {
   "cell_type": "code",
   "execution_count": 190,
   "metadata": {
    "id": "w_DzGBOiJc0T"
   },
   "outputs": [],
   "source": [
    "def predict(s):\n",
    "    \"\"\"\n",
    "    predict(sig)\n",
    "    Purpose: Labels the given sig into corresponding labels\n",
    "    @param sig. A Sentence  # A medical prescription sig written by a doctor\n",
    "    @return     A list      # A list with predicted labels (first level of labeling)\n",
    "\n",
    "    >>> predict('2 tabs every 4 hours')\n",
    "    [['Qty', 'Form', 'EVERY', 'Period', 'PeriodUnit']]\n",
    "    \n",
    "    >>> predict('2 tabs with food')\n",
    "    [['Qty', 'Form', 'WITH', 'FOOD']]\n",
    "    \n",
    "    >>> predict('2 tabs qid x 30 days')\n",
    "    [['Qty', 'Form', 'QID', 'FOR', 'Duration', 'DurationUnit']]\n",
    "    \"\"\"\n",
    "    print (s)\n",
    "    sig_tokenized=[]\n",
    "    sig_tokenized.append(word_tokenize(s))\n",
    "    sig_tokenized_tagged =[pos_tag(sent) for sent in sig_tokenized]\n",
    "    # print(sig_tokenized_tagged)\n",
    "    Xp = [extract_features(doc) for doc in sig_tokenized_tagged]\n",
    "    # print(Xp)\n",
    "    return crf.predict(Xp)"
   ]
  },
  {
   "cell_type": "markdown",
   "metadata": {
    "id": "Ha00LzzTJoOX"
   },
   "source": [
    "### Sample predictions"
   ]
  },
  {
   "cell_type": "code",
   "execution_count": 191,
   "metadata": {
    "colab": {
     "base_uri": "https://localhost:8080/"
    },
    "id": "D84o3VrdJixR",
    "outputId": "ec8e58c0-e9a8-4523-a430-5c0cbca6f2bd"
   },
   "outputs": [
    {
     "name": "stdout",
     "output_type": "stream",
     "text": [
      "take 2 tabs every 6 hours x 10 days\n"
     ]
    },
    {
     "data": {
      "text/plain": [
       "[['Method',\n",
       "  'Qty',\n",
       "  'Form',\n",
       "  'EVERY',\n",
       "  'Period',\n",
       "  'PeriodUnit',\n",
       "  'FOR',\n",
       "  'Duration',\n",
       "  'DurationUnit']]"
      ]
     },
     "execution_count": 191,
     "metadata": {},
     "output_type": "execute_result"
    }
   ],
   "source": [
    "predict(\"take 2 tabs every 6 hours x 10 days\")"
   ]
  },
  {
   "cell_type": "code",
   "execution_count": 192,
   "metadata": {
    "colab": {
     "base_uri": "https://localhost:8080/"
    },
    "id": "rWPRLef3J18j",
    "outputId": "db0e0592-5177-4772-ecdd-d0d9e01b8220"
   },
   "outputs": [
    {
     "name": "stdout",
     "output_type": "stream",
     "text": [
      "2 capsu for 10 day at bed\n"
     ]
    },
    {
     "data": {
      "text/plain": [
       "[['Qty', 'Form', 'FOR', 'Duration', 'PeriodUnit', 'AT', 'WHEN']]"
      ]
     },
     "execution_count": 192,
     "metadata": {},
     "output_type": "execute_result"
    }
   ],
   "source": [
    "predict(\"2 capsu for 10 day at bed\")"
   ]
  },
  {
   "cell_type": "code",
   "execution_count": 193,
   "metadata": {
    "colab": {
     "base_uri": "https://localhost:8080/"
    },
    "id": "Mcg5ca93J1_m",
    "outputId": "d64ab430-b9d7-434c-fe02-af15c8b29e72"
   },
   "outputs": [
    {
     "name": "stdout",
     "output_type": "stream",
     "text": [
      "2 capsu for 10 days at bed\n"
     ]
    },
    {
     "data": {
      "text/plain": [
       "[['Qty', 'Form', 'FOR', 'Duration', 'DurationUnit', 'AT', 'WHEN']]"
      ]
     },
     "execution_count": 193,
     "metadata": {},
     "output_type": "execute_result"
    }
   ],
   "source": [
    "predict(\"2 capsu for 10 days at bed\")"
   ]
  },
  {
   "cell_type": "code",
   "execution_count": 194,
   "metadata": {
    "colab": {
     "base_uri": "https://localhost:8080/"
    },
    "id": "tRS7PsaMJ2DG",
    "outputId": "8e5987f0-6ba9-4b2d-e853-9c8621c5aa27"
   },
   "outputs": [
    {
     "name": "stdout",
     "output_type": "stream",
     "text": [
      "5 days 2 tabs at bed\n"
     ]
    },
    {
     "data": {
      "text/plain": [
       "[['Duration', 'DurationUnit', 'Qty', 'Form', 'AT', 'WHEN']]"
      ]
     },
     "execution_count": 194,
     "metadata": {},
     "output_type": "execute_result"
    }
   ],
   "source": [
    "predict(\"5 days 2 tabs at bed\")"
   ]
  },
  {
   "cell_type": "code",
   "execution_count": 195,
   "metadata": {
    "colab": {
     "base_uri": "https://localhost:8080/"
    },
    "id": "cbIkkDqcJ2IW",
    "outputId": "9b269b8f-4c5a-4d90-ef48-5b2509a32b91"
   },
   "outputs": [
    {
     "name": "stdout",
     "output_type": "stream",
     "text": [
      "3 tabs qid x 10 weeks\n"
     ]
    },
    {
     "data": {
      "text/plain": [
       "[['Qty', 'Form', 'QID', 'FOR', 'Duration', 'DurationUnit']]"
      ]
     },
     "execution_count": 195,
     "metadata": {},
     "output_type": "execute_result"
    }
   ],
   "source": [
    "predict(\"3 tabs qid x 10 weeks\")"
   ]
  },
  {
   "cell_type": "code",
   "execution_count": 196,
   "metadata": {
    "colab": {
     "base_uri": "https://localhost:8080/"
    },
    "id": "-fSP3QZuJ2MX",
    "outputId": "93fc94a8-4520-435e-ede4-462e0a48d16b"
   },
   "outputs": [
    {
     "name": "stdout",
     "output_type": "stream",
     "text": [
      "x 30 days\n"
     ]
    },
    {
     "data": {
      "text/plain": [
       "[['FOR', 'Duration', 'DurationUnit']]"
      ]
     },
     "execution_count": 196,
     "metadata": {},
     "output_type": "execute_result"
    }
   ],
   "source": [
    "predict(\"x 30 days\")"
   ]
  },
  {
   "cell_type": "code",
   "execution_count": 197,
   "metadata": {
    "colab": {
     "base_uri": "https://localhost:8080/"
    },
    "id": "Gri3w0RVH5b0",
    "outputId": "f575b6c7-3250-4286-bee8-0901bf11888f"
   },
   "outputs": [
    {
     "name": "stdout",
     "output_type": "stream",
     "text": [
      "x 20 months\n"
     ]
    },
    {
     "data": {
      "text/plain": [
       "[['FOR', 'Duration', 'DurationUnit']]"
      ]
     },
     "execution_count": 197,
     "metadata": {},
     "output_type": "execute_result"
    }
   ],
   "source": [
    "predict(\"x 20 months\")"
   ]
  },
  {
   "cell_type": "code",
   "execution_count": 198,
   "metadata": {
    "colab": {
     "base_uri": "https://localhost:8080/"
    },
    "id": "ZV19I8Q8H812",
    "outputId": "1d14d5b5-2c2b-44be-ff84-f4fba010f7db"
   },
   "outputs": [
    {
     "name": "stdout",
     "output_type": "stream",
     "text": [
      "take 2 tabs po tid for 10 days\n"
     ]
    },
    {
     "data": {
      "text/plain": [
       "[['Method', 'Qty', 'Form', 'PO', 'TID', 'FOR', 'Duration', 'DurationUnit']]"
      ]
     },
     "execution_count": 198,
     "metadata": {},
     "output_type": "execute_result"
    }
   ],
   "source": [
    "predict(\"take 2 tabs po tid for 10 days\")"
   ]
  },
  {
   "cell_type": "code",
   "execution_count": 199,
   "metadata": {
    "colab": {
     "base_uri": "https://localhost:8080/"
    },
    "id": "tG8rQhcAITaG",
    "outputId": "3de542e7-470f-4bca-9b54-73bc0b65e0c5"
   },
   "outputs": [
    {
     "name": "stdout",
     "output_type": "stream",
     "text": [
      "take 2 capsules po every 6 hours\n"
     ]
    },
    {
     "data": {
      "text/plain": [
       "[['Method', 'Qty', 'Form', 'PO', 'EVERY', 'Period', 'PeriodUnit']]"
      ]
     },
     "execution_count": 199,
     "metadata": {},
     "output_type": "execute_result"
    }
   ],
   "source": [
    "predict(\"take 2 capsules po every 6 hours\")"
   ]
  },
  {
   "cell_type": "code",
   "execution_count": 200,
   "metadata": {
    "colab": {
     "base_uri": "https://localhost:8080/"
    },
    "id": "tIG-WZ7QIZ6N",
    "outputId": "0371b93c-0267-40f3-c3af-855b887d36b0"
   },
   "outputs": [
    {
     "name": "stdout",
     "output_type": "stream",
     "text": [
      "inject 2 units pu tid\n"
     ]
    },
    {
     "data": {
      "text/plain": [
       "[['Method', 'Qty', 'Form', 'PO', 'TID']]"
      ]
     },
     "execution_count": 200,
     "metadata": {},
     "output_type": "execute_result"
    }
   ],
   "source": [
    "predict(\"inject 2 units pu tid\")"
   ]
  },
  {
   "cell_type": "code",
   "execution_count": 201,
   "metadata": {
    "colab": {
     "base_uri": "https://localhost:8080/"
    },
    "id": "Pjhfs1s7Ia9P",
    "outputId": "969944e8-a410-447b-bd1b-57ed8ec8fe39"
   },
   "outputs": [
    {
     "name": "stdout",
     "output_type": "stream",
     "text": [
      "swallow 3 caps tid by mouth\n"
     ]
    },
    {
     "data": {
      "text/plain": [
       "[['Method', 'Qty', 'Form', 'TID', 'BY', 'PO']]"
      ]
     },
     "execution_count": 201,
     "metadata": {},
     "output_type": "execute_result"
    }
   ],
   "source": [
    "predict(\"swallow 3 caps tid by mouth\")"
   ]
  },
  {
   "cell_type": "code",
   "execution_count": 202,
   "metadata": {
    "colab": {
     "base_uri": "https://localhost:8080/"
    },
    "id": "IILveTLGIa_9",
    "outputId": "02b4e89f-3107-4929-dac0-256e10799759"
   },
   "outputs": [
    {
     "name": "stdout",
     "output_type": "stream",
     "text": [
      "inject 3 units orally\n"
     ]
    },
    {
     "data": {
      "text/plain": [
       "[['Method', 'Qty', 'Form', 'PO']]"
      ]
     },
     "execution_count": 202,
     "metadata": {},
     "output_type": "execute_result"
    }
   ],
   "source": [
    "predict(\"inject 3 units orally\")"
   ]
  },
  {
   "cell_type": "code",
   "execution_count": 203,
   "metadata": {
    "colab": {
     "base_uri": "https://localhost:8080/"
    },
    "id": "teEXBJLXIbFO",
    "outputId": "464c5fd0-15dc-4ab5-f6b1-cca6d91fcd4a"
   },
   "outputs": [
    {
     "name": "stdout",
     "output_type": "stream",
     "text": [
      "orally take 3 tabs tid\n"
     ]
    },
    {
     "data": {
      "text/plain": [
       "[['PO', 'Method', 'Qty', 'Form', 'TID']]"
      ]
     },
     "execution_count": 203,
     "metadata": {},
     "output_type": "execute_result"
    }
   ],
   "source": [
    "predict(\"orally take 3 tabs tid\")"
   ]
  },
  {
   "cell_type": "code",
   "execution_count": 204,
   "metadata": {
    "colab": {
     "base_uri": "https://localhost:8080/"
    },
    "id": "n2v5hsJqIbH-",
    "outputId": "72316e7e-5b95-41e2-ac14-8311d2cfd79c"
   },
   "outputs": [
    {
     "name": "stdout",
     "output_type": "stream",
     "text": [
      "by mouth take three caps\n"
     ]
    },
    {
     "data": {
      "text/plain": [
       "[['BY', 'PO', 'Method', 'Qty', 'Form']]"
      ]
     },
     "execution_count": 204,
     "metadata": {},
     "output_type": "execute_result"
    }
   ],
   "source": [
    "predict(\"by mouth take three caps\")"
   ]
  },
  {
   "cell_type": "code",
   "execution_count": 205,
   "metadata": {
    "colab": {
     "base_uri": "https://localhost:8080/"
    },
    "id": "kVRofobWIxoF",
    "outputId": "35b5bd5d-fa26-4949-ffc7-643efda0f8ac"
   },
   "outputs": [
    {
     "name": "stdout",
     "output_type": "stream",
     "text": [
      "take 3 tabs orally three times a day for 10 days at bedtime\n"
     ]
    },
    {
     "data": {
      "text/plain": [
       "[['Method',\n",
       "  'Qty',\n",
       "  'Form',\n",
       "  'PO',\n",
       "  'Frequency',\n",
       "  'TIMES',\n",
       "  'Period',\n",
       "  'PeriodUnit',\n",
       "  'FOR',\n",
       "  'Duration',\n",
       "  'DurationUnit',\n",
       "  'AT',\n",
       "  'WHEN']]"
      ]
     },
     "execution_count": 205,
     "metadata": {},
     "output_type": "execute_result"
    }
   ],
   "source": [
    "predict(\"take 3 tabs orally three times a day for 10 days at bedtime\")"
   ]
  },
  {
   "cell_type": "code",
   "execution_count": 206,
   "metadata": {
    "colab": {
     "base_uri": "https://localhost:8080/"
    },
    "id": "L6PMp5daI0Pt",
    "outputId": "67c18691-fe0b-4f5e-ada1-cb28e7d19eb3"
   },
   "outputs": [
    {
     "name": "stdout",
     "output_type": "stream",
     "text": [
      "take 3 tabs orally bid for 10 days at bedtime\n"
     ]
    },
    {
     "data": {
      "text/plain": [
       "[['Method',\n",
       "  'Qty',\n",
       "  'Form',\n",
       "  'PO',\n",
       "  'BID',\n",
       "  'FOR',\n",
       "  'Duration',\n",
       "  'DurationUnit',\n",
       "  'AT',\n",
       "  'WHEN']]"
      ]
     },
     "execution_count": 206,
     "metadata": {},
     "output_type": "execute_result"
    }
   ],
   "source": [
    "predict(\"take 3 tabs orally bid for 10 days at bedtime\")"
   ]
  },
  {
   "cell_type": "code",
   "execution_count": 207,
   "metadata": {
    "colab": {
     "base_uri": "https://localhost:8080/"
    },
    "id": "_Nwl7o8mI3KU",
    "outputId": "0629e00e-e292-4ec4-e0cd-cf3457ea0d9e"
   },
   "outputs": [
    {
     "name": "stdout",
     "output_type": "stream",
     "text": [
      "take 3 tabs bid orally at bed\n"
     ]
    },
    {
     "data": {
      "text/plain": [
       "[['Method', 'Qty', 'Form', 'BID', 'PeriodUnit', 'AT', 'WHEN']]"
      ]
     },
     "execution_count": 207,
     "metadata": {},
     "output_type": "execute_result"
    }
   ],
   "source": [
    "predict(\"take 3 tabs bid orally at bed\")"
   ]
  },
  {
   "cell_type": "code",
   "execution_count": 208,
   "metadata": {
    "colab": {
     "base_uri": "https://localhost:8080/"
    },
    "id": "vLEmFsAAI7T1",
    "outputId": "451d3133-bb8f-4eaf-9575-957193ad6578"
   },
   "outputs": [
    {
     "name": "stdout",
     "output_type": "stream",
     "text": [
      "take 10 capsules by mouth qid\n"
     ]
    },
    {
     "data": {
      "text/plain": [
       "[['Method', 'Qty', 'Form', 'BY', 'PO', 'QID']]"
      ]
     },
     "execution_count": 208,
     "metadata": {},
     "output_type": "execute_result"
    }
   ],
   "source": [
    "predict(\"take 10 capsules by mouth qid\")"
   ]
  },
  {
   "cell_type": "code",
   "execution_count": 209,
   "metadata": {
    "colab": {
     "base_uri": "https://localhost:8080/"
    },
    "id": "JVflTdRjI9gd",
    "outputId": "1bf1b108-271b-40e9-c2f6-1f6f9a308508"
   },
   "outputs": [
    {
     "name": "stdout",
     "output_type": "stream",
     "text": [
      "inject 10 units orally qid x 3 months\n"
     ]
    },
    {
     "data": {
      "text/plain": [
       "[['Method', 'Qty', 'Form', 'PO', 'QID', 'FOR', 'Duration', 'DurationUnit']]"
      ]
     },
     "execution_count": 209,
     "metadata": {},
     "output_type": "execute_result"
    }
   ],
   "source": [
    "predict(\"inject 10 units orally qid x 3 months\")"
   ]
  },
  {
   "cell_type": "code",
   "execution_count": 210,
   "metadata": {
    "colab": {
     "base_uri": "https://localhost:8080/"
    },
    "id": "6JqJlzvUI_2N",
    "outputId": "0bd6811d-afb7-4d50-e464-ef4a8f9269a3"
   },
   "outputs": [
    {
     "name": "stdout",
     "output_type": "stream",
     "text": [
      "please take 2 tablets per day for a month in the morning and evening each day\n"
     ]
    },
    {
     "data": {
      "text/plain": [
       "[['Method',\n",
       "  'Method',\n",
       "  'Qty',\n",
       "  'Form',\n",
       "  'Frequency',\n",
       "  'PeriodUnit',\n",
       "  'FOR',\n",
       "  'Period',\n",
       "  'PeriodUnit',\n",
       "  'EVERY',\n",
       "  'Period',\n",
       "  'PeriodUnit',\n",
       "  'AND',\n",
       "  'EVERY',\n",
       "  'Period',\n",
       "  'PeriodUnit']]"
      ]
     },
     "execution_count": 210,
     "metadata": {},
     "output_type": "execute_result"
    }
   ],
   "source": [
    "predict(\"please take 2 tablets per day for a month in the morning and evening each day\")"
   ]
  },
  {
   "cell_type": "code",
   "execution_count": 211,
   "metadata": {
    "colab": {
     "base_uri": "https://localhost:8080/"
    },
    "id": "XxmMfGrZJCON",
    "outputId": "b70ae2e7-8037-4dc5-8c01-b9cb36ad1357"
   },
   "outputs": [
    {
     "name": "stdout",
     "output_type": "stream",
     "text": [
      "Amoxcicillin QID 30 tablets\n"
     ]
    },
    {
     "data": {
      "text/plain": [
       "[['Qty', 'Method', 'Qty', 'Form']]"
      ]
     },
     "execution_count": 211,
     "metadata": {},
     "output_type": "execute_result"
    }
   ],
   "source": [
    "predict(\"Amoxcicillin QID 30 tablets\")"
   ]
  },
  {
   "cell_type": "code",
   "execution_count": 212,
   "metadata": {
    "colab": {
     "base_uri": "https://localhost:8080/"
    },
    "id": "nQC3a3aPJEfE",
    "outputId": "68b0e57a-3c06-4f4a-d399-6eac4eefb131"
   },
   "outputs": [
    {
     "name": "stdout",
     "output_type": "stream",
     "text": [
      "take 3 tabs TID for 90 days with food\n"
     ]
    },
    {
     "data": {
      "text/plain": [
       "[['Method',\n",
       "  'Qty',\n",
       "  'Form',\n",
       "  'Frequency',\n",
       "  'FOR',\n",
       "  'Duration',\n",
       "  'DurationUnit',\n",
       "  'WITH',\n",
       "  'FOOD']]"
      ]
     },
     "execution_count": 212,
     "metadata": {},
     "output_type": "execute_result"
    }
   ],
   "source": [
    "predict(\"take 3 tabs TID for 90 days with food\")"
   ]
  },
  {
   "cell_type": "code",
   "execution_count": 213,
   "metadata": {
    "colab": {
     "base_uri": "https://localhost:8080/"
    },
    "id": "Q9EGBEVvJHNl",
    "outputId": "f22c4c31-5cda-4380-c28f-74eb2823c513"
   },
   "outputs": [
    {
     "name": "stdout",
     "output_type": "stream",
     "text": [
      "with food take 3 tablets per day for 90 days\n"
     ]
    },
    {
     "data": {
      "text/plain": [
       "[['WITH',\n",
       "  'FOOD',\n",
       "  'Method',\n",
       "  'Qty',\n",
       "  'Form',\n",
       "  'Frequency',\n",
       "  'PeriodUnit',\n",
       "  'FOR',\n",
       "  'Duration',\n",
       "  'DurationUnit']]"
      ]
     },
     "execution_count": 213,
     "metadata": {},
     "output_type": "execute_result"
    }
   ],
   "source": [
    "predict(\"with food take 3 tablets per day for 90 days\")"
   ]
  },
  {
   "cell_type": "code",
   "execution_count": 214,
   "metadata": {
    "colab": {
     "base_uri": "https://localhost:8080/"
    },
    "id": "AornQX4fJM_s",
    "outputId": "a9b4fd67-0505-4dd1-aa6d-24e06898d9a0"
   },
   "outputs": [
    {
     "name": "stdout",
     "output_type": "stream",
     "text": [
      "with food take 3 tablets per week for 90 weeks\n"
     ]
    },
    {
     "data": {
      "text/plain": [
       "[['WITH',\n",
       "  'FOOD',\n",
       "  'Method',\n",
       "  'Qty',\n",
       "  'Form',\n",
       "  'Frequency',\n",
       "  'PeriodUnit',\n",
       "  'FOR',\n",
       "  'Duration',\n",
       "  'DurationUnit']]"
      ]
     },
     "execution_count": 214,
     "metadata": {},
     "output_type": "execute_result"
    }
   ],
   "source": [
    "predict(\"with food take 3 tablets per week for 90 weeks\")"
   ]
  },
  {
   "cell_type": "code",
   "execution_count": 215,
   "metadata": {
    "colab": {
     "base_uri": "https://localhost:8080/"
    },
    "id": "gplllIAfJPf9",
    "outputId": "3bc8f96d-62cc-4250-8ad2-326a9d0e2b01"
   },
   "outputs": [
    {
     "name": "stdout",
     "output_type": "stream",
     "text": [
      "take 2-4 tabs\n"
     ]
    },
    {
     "data": {
      "text/plain": [
       "[['Method', 'Qty', 'Form']]"
      ]
     },
     "execution_count": 215,
     "metadata": {},
     "output_type": "execute_result"
    }
   ],
   "source": [
    "predict(\"take 2-4 tabs\")"
   ]
  },
  {
   "cell_type": "code",
   "execution_count": 216,
   "metadata": {
    "colab": {
     "base_uri": "https://localhost:8080/"
    },
    "id": "iNlDk2XqJSPd",
    "outputId": "c6d7da02-ce09-4bfd-a72c-bc674c479143"
   },
   "outputs": [
    {
     "name": "stdout",
     "output_type": "stream",
     "text": [
      "take 2 to 4 tabs\n"
     ]
    },
    {
     "data": {
      "text/plain": [
       "[['Method', 'Qty', 'TO', 'Qty', 'Form']]"
      ]
     },
     "execution_count": 216,
     "metadata": {},
     "output_type": "execute_result"
    }
   ],
   "source": [
    "predict(\"take 2 to 4 tabs\")"
   ]
  },
  {
   "cell_type": "code",
   "execution_count": 217,
   "metadata": {
    "colab": {
     "base_uri": "https://localhost:8080/"
    },
    "id": "i1Jx3EhfJUht",
    "outputId": "2d8d1389-09a3-42a4-94fb-4ba26bd61195"
   },
   "outputs": [
    {
     "name": "stdout",
     "output_type": "stream",
     "text": [
      "take two to four tabs\n"
     ]
    },
    {
     "data": {
      "text/plain": [
       "[['Method', 'Qty', 'TO', 'Qty', 'Form']]"
      ]
     },
     "execution_count": 217,
     "metadata": {},
     "output_type": "execute_result"
    }
   ],
   "source": [
    "predict(\"take two to four tabs\")"
   ]
  },
  {
   "cell_type": "code",
   "execution_count": 218,
   "metadata": {
    "colab": {
     "base_uri": "https://localhost:8080/"
    },
    "id": "o2qRHHbEJW4k",
    "outputId": "443d31bc-2d20-4265-e340-92085e716fef"
   },
   "outputs": [
    {
     "name": "stdout",
     "output_type": "stream",
     "text": [
      "take 2-4 tabs for 8 to 9 days\n"
     ]
    },
    {
     "data": {
      "text/plain": [
       "[['Method',\n",
       "  'Qty',\n",
       "  'Form',\n",
       "  'FOR',\n",
       "  'Duration',\n",
       "  'TO',\n",
       "  'Duration',\n",
       "  'DurationUnit']]"
      ]
     },
     "execution_count": 218,
     "metadata": {},
     "output_type": "execute_result"
    }
   ],
   "source": [
    "predict(\"take 2-4 tabs for 8 to 9 days\")"
   ]
  },
  {
   "cell_type": "code",
   "execution_count": 219,
   "metadata": {
    "colab": {
     "base_uri": "https://localhost:8080/"
    },
    "id": "vHXNNSPeJZEa",
    "outputId": "47faf936-09ef-4552-ec99-78b62f1c3395"
   },
   "outputs": [
    {
     "name": "stdout",
     "output_type": "stream",
     "text": [
      "take 20 tabs every 6 to 8 days\n"
     ]
    },
    {
     "data": {
      "text/plain": [
       "[['Method',\n",
       "  'Qty',\n",
       "  'Form',\n",
       "  'EVERY',\n",
       "  'Period',\n",
       "  'TO',\n",
       "  'Duration',\n",
       "  'DurationUnit']]"
      ]
     },
     "execution_count": 219,
     "metadata": {},
     "output_type": "execute_result"
    }
   ],
   "source": [
    "predict(\"take 20 tabs every 6 to 8 days\")"
   ]
  },
  {
   "cell_type": "code",
   "execution_count": 220,
   "metadata": {
    "colab": {
     "base_uri": "https://localhost:8080/"
    },
    "id": "Nmrr0dzfJbWr",
    "outputId": "93190aee-4f47-4e00-d61f-ea26186c28bb"
   },
   "outputs": [
    {
     "name": "stdout",
     "output_type": "stream",
     "text": [
      "take 2 tabs every 4 to 6 days\n"
     ]
    },
    {
     "data": {
      "text/plain": [
       "[['Method',\n",
       "  'Qty',\n",
       "  'Form',\n",
       "  'EVERY',\n",
       "  'Period',\n",
       "  'TO',\n",
       "  'DurationMax',\n",
       "  'DurationUnit']]"
      ]
     },
     "execution_count": 220,
     "metadata": {},
     "output_type": "execute_result"
    }
   ],
   "source": [
    "predict(\"take 2 tabs every 4 to 6 days\")"
   ]
  },
  {
   "cell_type": "code",
   "execution_count": 221,
   "metadata": {
    "colab": {
     "base_uri": "https://localhost:8080/"
    },
    "id": "eRwws-tZJegT",
    "outputId": "244c7654-7ba7-4206-bab0-1b81a5b7d67b"
   },
   "outputs": [
    {
     "name": "stdout",
     "output_type": "stream",
     "text": [
      "take 2 tabs every 2 to 10 weeks\n"
     ]
    },
    {
     "data": {
      "text/plain": [
       "[['Method',\n",
       "  'Qty',\n",
       "  'Form',\n",
       "  'EVERY',\n",
       "  'Period',\n",
       "  'TO',\n",
       "  'Duration',\n",
       "  'DurationUnit']]"
      ]
     },
     "execution_count": 221,
     "metadata": {},
     "output_type": "execute_result"
    }
   ],
   "source": [
    "predict(\"take 2 tabs every 2 to 10 weeks\")"
   ]
  },
  {
   "cell_type": "code",
   "execution_count": 222,
   "metadata": {
    "colab": {
     "base_uri": "https://localhost:8080/"
    },
    "id": "7P8Fp_Y_JhUC",
    "outputId": "d7341f47-0986-494d-c2d6-4924fa5c58bd"
   },
   "outputs": [
    {
     "name": "stdout",
     "output_type": "stream",
     "text": [
      "take 2 tabs every 4 to 6 days\n"
     ]
    },
    {
     "data": {
      "text/plain": [
       "[['Method',\n",
       "  'Qty',\n",
       "  'Form',\n",
       "  'EVERY',\n",
       "  'Period',\n",
       "  'TO',\n",
       "  'DurationMax',\n",
       "  'DurationUnit']]"
      ]
     },
     "execution_count": 222,
     "metadata": {},
     "output_type": "execute_result"
    }
   ],
   "source": [
    "predict(\"take 2 tabs every 4 to 6 days\")"
   ]
  },
  {
   "cell_type": "code",
   "execution_count": 223,
   "metadata": {
    "colab": {
     "base_uri": "https://localhost:8080/"
    },
    "id": "rkcolUxOJjfy",
    "outputId": "12bbc9a7-0828-45ab-9dab-8067781f13a1"
   },
   "outputs": [
    {
     "name": "stdout",
     "output_type": "stream",
     "text": [
      "take 2 tabs every 2 to 10 months\n"
     ]
    },
    {
     "data": {
      "text/plain": [
       "[['Method',\n",
       "  'Qty',\n",
       "  'Form',\n",
       "  'EVERY',\n",
       "  'Period',\n",
       "  'TO',\n",
       "  'Duration',\n",
       "  'DurationUnit']]"
      ]
     },
     "execution_count": 223,
     "metadata": {},
     "output_type": "execute_result"
    }
   ],
   "source": [
    "predict(\"take 2 tabs every 2 to 10 months\")"
   ]
  },
  {
   "cell_type": "code",
   "execution_count": 224,
   "metadata": {
    "colab": {
     "base_uri": "https://localhost:8080/"
    },
    "id": "bYpTIlMwJmuF",
    "outputId": "c231e462-6da9-4c43-dbce-3e7968cd53d5"
   },
   "outputs": [
    {
     "name": "stdout",
     "output_type": "stream",
     "text": [
      "every 60 mins\n"
     ]
    },
    {
     "data": {
      "text/plain": [
       "[['EVERY', 'Period', 'PeriodUnit']]"
      ]
     },
     "execution_count": 224,
     "metadata": {},
     "output_type": "execute_result"
    }
   ],
   "source": [
    "predict(\"every 60 mins\")"
   ]
  },
  {
   "cell_type": "code",
   "execution_count": 225,
   "metadata": {
    "colab": {
     "base_uri": "https://localhost:8080/"
    },
    "id": "JlfcdpwMJpU9",
    "outputId": "32d358af-c47e-40f3-af63-7ed8835b5b34"
   },
   "outputs": [
    {
     "name": "stdout",
     "output_type": "stream",
     "text": [
      "every 10 mins\n"
     ]
    },
    {
     "data": {
      "text/plain": [
       "[['EVERY', 'Period', 'PeriodUnit']]"
      ]
     },
     "execution_count": 225,
     "metadata": {},
     "output_type": "execute_result"
    }
   ],
   "source": [
    "predict(\"every 10 mins\")"
   ]
  },
  {
   "cell_type": "code",
   "execution_count": 226,
   "metadata": {
    "colab": {
     "base_uri": "https://localhost:8080/"
    },
    "id": "Sf-T6zggJuFE",
    "outputId": "4bb92fdf-c80a-4ae5-92f4-a892d5962236"
   },
   "outputs": [
    {
     "name": "stdout",
     "output_type": "stream",
     "text": [
      "every two to four months\n"
     ]
    },
    {
     "data": {
      "text/plain": [
       "[['EVERY', 'Period', 'TO', 'Qty', 'Form']]"
      ]
     },
     "execution_count": 226,
     "metadata": {},
     "output_type": "execute_result"
    }
   ],
   "source": [
    "predict(\"every two to four months\")"
   ]
  },
  {
   "cell_type": "code",
   "execution_count": 227,
   "metadata": {
    "colab": {
     "base_uri": "https://localhost:8080/"
    },
    "id": "9DC8VgdJJxsl",
    "outputId": "cc37a3ca-544a-46a4-c168-2d81cc4dbf59"
   },
   "outputs": [
    {
     "name": "stdout",
     "output_type": "stream",
     "text": [
      "take 2 tabs every 3 to 4 days\n"
     ]
    },
    {
     "data": {
      "text/plain": [
       "[['Method',\n",
       "  'Qty',\n",
       "  'Form',\n",
       "  'EVERY',\n",
       "  'Period',\n",
       "  'TO',\n",
       "  'Duration',\n",
       "  'DurationUnit']]"
      ]
     },
     "execution_count": 227,
     "metadata": {},
     "output_type": "execute_result"
    }
   ],
   "source": [
    "predict(\"take 2 tabs every 3 to 4 days\")"
   ]
  },
  {
   "cell_type": "code",
   "execution_count": 228,
   "metadata": {
    "colab": {
     "base_uri": "https://localhost:8080/"
    },
    "id": "OKUkLVCvJzpM",
    "outputId": "7c11967a-560a-4b46-8f42-fbb056533c1d"
   },
   "outputs": [
    {
     "name": "stdout",
     "output_type": "stream",
     "text": [
      "every 3 to 4 days take 20 tabs\n"
     ]
    },
    {
     "data": {
      "text/plain": [
       "[['EVERY',\n",
       "  'Period',\n",
       "  'TO',\n",
       "  'Duration',\n",
       "  'DurationUnit',\n",
       "  'Method',\n",
       "  'Qty',\n",
       "  'Form']]"
      ]
     },
     "execution_count": 228,
     "metadata": {},
     "output_type": "execute_result"
    }
   ],
   "source": [
    " predict(\"every 3 to 4 days take 20 tabs\")"
   ]
  },
  {
   "cell_type": "code",
   "execution_count": 229,
   "metadata": {
    "colab": {
     "base_uri": "https://localhost:8080/"
    },
    "id": "VVfmwI-8J2jc",
    "outputId": "1c074ada-3e00-44d2-f8d9-974a9f40a789"
   },
   "outputs": [
    {
     "name": "stdout",
     "output_type": "stream",
     "text": [
      "once in every 3 days take 3 tabs\n"
     ]
    },
    {
     "data": {
      "text/plain": [
       "[['Qty', 'Form', 'EVERY', 'Period', 'PeriodUnit', 'Method', 'Qty', 'Form']]"
      ]
     },
     "execution_count": 229,
     "metadata": {},
     "output_type": "execute_result"
    }
   ],
   "source": [
    "predict(\"once in every 3 days take 3 tabs\")"
   ]
  },
  {
   "cell_type": "code",
   "execution_count": 230,
   "metadata": {
    "colab": {
     "base_uri": "https://localhost:8080/"
    },
    "id": "Z4TzX8kSJ6dk",
    "outputId": "cea2c63c-a0ef-4f45-ab83-4b4ace0a6d3e"
   },
   "outputs": [
    {
     "name": "stdout",
     "output_type": "stream",
     "text": [
      "take 3 tabs once in every 3 days\n"
     ]
    },
    {
     "data": {
      "text/plain": [
       "[['Method',\n",
       "  'Qty',\n",
       "  'Form',\n",
       "  'Frequency',\n",
       "  'TIMES',\n",
       "  'EVERY',\n",
       "  'Period',\n",
       "  'PeriodUnit']]"
      ]
     },
     "execution_count": 230,
     "metadata": {},
     "output_type": "execute_result"
    }
   ],
   "source": [
    "predict(\"take 3 tabs once in every 3 days\")"
   ]
  },
  {
   "cell_type": "code",
   "execution_count": 231,
   "metadata": {
    "colab": {
     "base_uri": "https://localhost:8080/"
    },
    "id": "NuHYn2FMJ8d3",
    "outputId": "14e79ec4-15aa-479c-a7fe-e3548f3bc7c0"
   },
   "outputs": [
    {
     "name": "stdout",
     "output_type": "stream",
     "text": [
      "orally take 20 tabs every 4-6 weeks\n"
     ]
    },
    {
     "data": {
      "text/plain": [
       "[['PO', 'Method', 'Qty', 'Form', 'EVERY', 'Period', 'PeriodUnit']]"
      ]
     },
     "execution_count": 231,
     "metadata": {},
     "output_type": "execute_result"
    }
   ],
   "source": [
    "predict(\"orally take 20 tabs every 4-6 weeks\")"
   ]
  },
  {
   "cell_type": "code",
   "execution_count": 232,
   "metadata": {
    "colab": {
     "base_uri": "https://localhost:8080/"
    },
    "id": "GoeeeOxvJ-z9",
    "outputId": "debd1df2-aa8f-463f-fb62-23e9641a0f43"
   },
   "outputs": [
    {
     "name": "stdout",
     "output_type": "stream",
     "text": [
      "10 tabs x 2 days\n"
     ]
    },
    {
     "data": {
      "text/plain": [
       "[['Qty', 'Form', 'FOR', 'Duration', 'DurationUnit']]"
      ]
     },
     "execution_count": 232,
     "metadata": {},
     "output_type": "execute_result"
    }
   ],
   "source": [
    "predict(\"10 tabs x 2 days\")"
   ]
  },
  {
   "cell_type": "code",
   "execution_count": 233,
   "metadata": {
    "colab": {
     "base_uri": "https://localhost:8080/"
    },
    "id": "oXPZxbPxKA-j",
    "outputId": "2901318c-7c01-45d3-d2c4-a0e019ba71ab"
   },
   "outputs": [
    {
     "name": "stdout",
     "output_type": "stream",
     "text": [
      "3 capsule x 15 days\n"
     ]
    },
    {
     "data": {
      "text/plain": [
       "[['Qty', 'Form', 'FOR', 'Duration', 'DurationUnit']]"
      ]
     },
     "execution_count": 233,
     "metadata": {},
     "output_type": "execute_result"
    }
   ],
   "source": [
    "predict(\"3 capsule x 15 days\")"
   ]
  },
  {
   "cell_type": "code",
   "execution_count": 234,
   "metadata": {
    "colab": {
     "base_uri": "https://localhost:8080/"
    },
    "id": "U1CTR34DKDAE",
    "outputId": "475b350b-de9e-4b19-f272-568c65e69de0"
   },
   "outputs": [
    {
     "name": "stdout",
     "output_type": "stream",
     "text": [
      "10 tabs\n"
     ]
    },
    {
     "data": {
      "text/plain": [
       "[['Qty', 'Form']]"
      ]
     },
     "execution_count": 234,
     "metadata": {},
     "output_type": "execute_result"
    }
   ],
   "source": [
    "predict(\"10 tabs\")"
   ]
  },
  {
   "cell_type": "code",
   "execution_count": 234,
   "metadata": {
    "id": "vyZnzAdEKE7L"
   },
   "outputs": [],
   "source": []
  }
 ],
 "metadata": {
  "colab": {
   "collapsed_sections": [],
   "provenance": []
  },
  "kernelspec": {
   "display_name": ".TF01",
   "language": "python",
   "name": "python3"
  },
  "language_info": {
   "codemirror_mode": {
    "name": "ipython",
    "version": 3
   },
   "file_extension": ".py",
   "mimetype": "text/x-python",
   "name": "python",
   "nbconvert_exporter": "python",
   "pygments_lexer": "ipython3",
   "version": "3.10.9"
  },
  "vscode": {
   "interpreter": {
    "hash": "b2adef01dcb899762cd63ac65b25730c5dca0aa63f80c1c2b1276854e041943c"
   }
  }
 },
 "nbformat": 4,
 "nbformat_minor": 1
}
