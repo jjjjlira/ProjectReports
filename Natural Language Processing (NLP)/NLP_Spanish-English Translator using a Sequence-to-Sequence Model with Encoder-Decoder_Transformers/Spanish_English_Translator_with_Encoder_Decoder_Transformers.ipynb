{
 "cells": [
  {
   "attachments": {},
   "cell_type": "markdown",
   "metadata": {
    "colab_type": "text"
   },
   "source": [
    "## Spanish-English Translator using a Sequence-to-Sequence Model with Encoder-Decoder Transformers"
   ]
  },
  {
   "attachments": {},
   "cell_type": "markdown",
   "metadata": {},
   "source": [
    "This notebook is based on the example in the book [Deep Learning with Python](https://www.manning.com/books/deep-learning-with-python-second-edition?a_aid=keras&a_bid=76564dff). Chp-11 to run in Google Colab.\n",
    "\n",
    "**It was modified in certain features and adapted to run in the following environment:**\n",
    "\n",
    "- Windows 11\n",
    "- Python 3.10.9\n",
    "- TensorFlow 2.10.1\n",
    "- VSCode 1.75.1\n",
    "- CUDA 11.2\n",
    "- CUDNN 11.2\n",
    "- GPU: NVIDIA GeoForce RTX 2060\n",
    "- CPU: 06 Intel Core i7-10750 @2.6Ghz"
   ]
  },
  {
   "attachments": {},
   "cell_type": "markdown",
   "metadata": {
    "colab_type": "text"
   },
   "source": [
    "### A Spanish-English machine translation "
   ]
  },
  {
   "attachments": {},
   "cell_type": "markdown",
   "metadata": {},
   "source": [
    "The data is downloaded from http://storage.googleapis.com/download.tensorflow.org/data/spa-eng.zip and unziped in local disk."
   ]
  },
  {
   "cell_type": "code",
   "execution_count": 3,
   "metadata": {
    "colab_type": "code"
   },
   "outputs": [],
   "source": [
    "text_file = \"spa-eng/spa.txt\"\n",
    "with open(text_file, encoding='utf-8') as f:\n",
    "    lines = f.read().split(\"\\n\")[:-1]\n",
    "text_pairs = []\n",
    "for line in lines:\n",
    "    english, spanish = line.split(\"\\t\")\n",
    "    spanish = \"[start] \" + spanish + \" [end]\"\n",
    "    text_pairs.append((english, spanish))"
   ]
  },
  {
   "cell_type": "code",
   "execution_count": 23,
   "metadata": {
    "colab_type": "code"
   },
   "outputs": [
    {
     "name": "stdout",
     "output_type": "stream",
     "text": [
      "('Tom writes poetry.', '[start] Tom escribe poesía. [end]')\n",
      "('I know one thing we could do that might be fun.', '[start] Sé una cosa que podríamos hacer que puede ser divertida. [end]')\n",
      "('Take care.', '[start] Cuidaos. [end]')\n",
      "('Tom died in combat.', '[start] Tom murió en combate. [end]')\n",
      "('She almost fainted.', '[start] Ella casi se desmayó. [end]')\n",
      "('The new method was anything but ideal.', '[start] El nuevo método era todo menos ideal. [end]')\n",
      "(\"Tom didn't have enough time to do anything else.\", '[start] Tom no tenía tiempo suficiente para hacer nada más. [end]')\n",
      "('Tom listens.', '[start] Tom escucha. [end]')\n",
      "('Is the tap water in Australia drinkable?', '[start] ¿Es potable el agua del grifo en Australia? [end]')\n",
      "('She was the first one to help him.', '[start] Ella fue la primera en ayudarle. [end]')\n"
     ]
    }
   ],
   "source": [
    "import random\n",
    "for _ in range(10):\n",
    "    print(random.choice(text_pairs))"
   ]
  },
  {
   "cell_type": "code",
   "execution_count": 5,
   "metadata": {
    "colab_type": "code"
   },
   "outputs": [],
   "source": [
    "import random\n",
    "random.shuffle(text_pairs)\n",
    "num_val_samples = int(0.15 * len(text_pairs))\n",
    "num_train_samples = len(text_pairs) - 2 * num_val_samples\n",
    "train_pairs = text_pairs[:num_train_samples]\n",
    "val_pairs = text_pairs[num_train_samples:num_train_samples + num_val_samples]\n",
    "test_pairs = text_pairs[num_train_samples + num_val_samples:]"
   ]
  },
  {
   "cell_type": "markdown",
   "metadata": {
    "colab_type": "text"
   },
   "source": [
    "**Vectorizing the English and Spanish text pairs**"
   ]
  },
  {
   "cell_type": "code",
   "execution_count": 7,
   "metadata": {
    "colab_type": "code"
   },
   "outputs": [],
   "source": [
    "import tensorflow as tf\n",
    "import string\n",
    "import re\n",
    "from tensorflow.keras import layers\n",
    "\n",
    "strip_chars = string.punctuation + \"¿\"\n",
    "strip_chars = strip_chars.replace(\"[\", \"\")\n",
    "strip_chars = strip_chars.replace(\"]\", \"\")\n",
    "\n",
    "def custom_standardization(input_string):\n",
    "    lowercase = tf.strings.lower(input_string)\n",
    "    return tf.strings.regex_replace(\n",
    "        lowercase, f\"[{re.escape(strip_chars)}]\", \"\")\n",
    "\n",
    "vocab_size = 15000\n",
    "sequence_length = 20\n",
    "\n",
    "source_vectorization = layers.TextVectorization(\n",
    "    max_tokens=vocab_size,\n",
    "    output_mode=\"int\",\n",
    "    output_sequence_length=sequence_length,\n",
    ")\n",
    "target_vectorization = layers.TextVectorization(\n",
    "    max_tokens=vocab_size,\n",
    "    output_mode=\"int\",\n",
    "    output_sequence_length=sequence_length + 1,\n",
    "    standardize=custom_standardization,\n",
    ")\n",
    "train_english_texts = [pair[0] for pair in train_pairs]\n",
    "train_spanish_texts = [pair[1] for pair in train_pairs]\n",
    "source_vectorization.adapt(train_english_texts)\n",
    "target_vectorization.adapt(train_spanish_texts)"
   ]
  },
  {
   "cell_type": "markdown",
   "metadata": {
    "colab_type": "text"
   },
   "source": [
    "**Preparing datasets for the translation task**"
   ]
  },
  {
   "cell_type": "code",
   "execution_count": 8,
   "metadata": {
    "colab_type": "code"
   },
   "outputs": [],
   "source": [
    "batch_size = 64\n",
    "\n",
    "def format_dataset(eng, spa):\n",
    "    eng = source_vectorization(eng)\n",
    "    spa = target_vectorization(spa)\n",
    "    return ({\n",
    "        \"english\": eng,\n",
    "        \"spanish\": spa[:, :-1],\n",
    "    }, spa[:, 1:])\n",
    "\n",
    "def make_dataset(pairs):\n",
    "    eng_texts, spa_texts = zip(*pairs)\n",
    "    eng_texts = list(eng_texts)\n",
    "    spa_texts = list(spa_texts)\n",
    "    dataset = tf.data.Dataset.from_tensor_slices((eng_texts, spa_texts))\n",
    "    dataset = dataset.batch(batch_size)\n",
    "    dataset = dataset.map(format_dataset, num_parallel_calls=4)\n",
    "    return dataset.shuffle(2048).prefetch(16).cache()\n",
    "\n",
    "train_ds = make_dataset(train_pairs)\n",
    "val_ds = make_dataset(val_pairs)"
   ]
  },
  {
   "cell_type": "code",
   "execution_count": 9,
   "metadata": {
    "colab_type": "code"
   },
   "outputs": [
    {
     "name": "stdout",
     "output_type": "stream",
     "text": [
      "inputs['english'].shape: (64, 20)\n",
      "inputs['spanish'].shape: (64, 20)\n",
      "targets.shape: (64, 20)\n"
     ]
    }
   ],
   "source": [
    "for inputs, targets in train_ds.take(1):\n",
    "    print(f\"inputs['english'].shape: {inputs['english'].shape}\")\n",
    "    print(f\"inputs['spanish'].shape: {inputs['spanish'].shape}\")\n",
    "    print(f\"targets.shape: {targets.shape}\")"
   ]
  },
  {
   "cell_type": "markdown",
   "metadata": {
    "colab_type": "text"
   },
   "source": [
    "### Sequence-to-sequence learning with RNNs"
   ]
  },
  {
   "cell_type": "markdown",
   "metadata": {
    "colab_type": "text"
   },
   "source": [
    "**GRU-based encoder**"
   ]
  },
  {
   "cell_type": "code",
   "execution_count": 10,
   "metadata": {
    "colab_type": "code"
   },
   "outputs": [],
   "source": [
    "from tensorflow import keras\n",
    "from tensorflow.keras import layers\n",
    "\n",
    "embed_dim = 256\n",
    "latent_dim = 1024\n",
    "\n",
    "source = keras.Input(shape=(None,), dtype=\"int64\", name=\"english\")\n",
    "x = layers.Embedding(vocab_size, embed_dim, mask_zero=True)(source)\n",
    "encoded_source = layers.Bidirectional(\n",
    "    layers.GRU(latent_dim), merge_mode=\"sum\")(x)"
   ]
  },
  {
   "cell_type": "markdown",
   "metadata": {
    "colab_type": "text"
   },
   "source": [
    "**GRU-based decoder and the end-to-end model**"
   ]
  },
  {
   "cell_type": "code",
   "execution_count": 11,
   "metadata": {
    "colab_type": "code"
   },
   "outputs": [],
   "source": [
    "past_target = keras.Input(shape=(None,), dtype=\"int64\", name=\"spanish\")\n",
    "x = layers.Embedding(vocab_size, embed_dim, mask_zero=True)(past_target)\n",
    "decoder_gru = layers.GRU(latent_dim, return_sequences=True)\n",
    "x = decoder_gru(x, initial_state=encoded_source)\n",
    "x = layers.Dropout(0.5)(x)\n",
    "target_next_step = layers.Dense(vocab_size, activation=\"softmax\")(x)\n",
    "seq2seq_rnn = keras.Model([source, past_target], target_next_step)"
   ]
  },
  {
   "cell_type": "markdown",
   "metadata": {
    "colab_type": "text"
   },
   "source": [
    "**Training our recurrent sequence-to-sequence model**"
   ]
  },
  {
   "cell_type": "code",
   "execution_count": 12,
   "metadata": {
    "colab_type": "code"
   },
   "outputs": [
    {
     "name": "stdout",
     "output_type": "stream",
     "text": [
      "Epoch 1/15\n",
      "1302/1302 [==============================] - 138s 98ms/step - loss: 1.6345 - accuracy: 0.4159 - val_loss: 1.3303 - val_accuracy: 0.5021\n",
      "Epoch 2/15\n",
      "1302/1302 [==============================] - 124s 95ms/step - loss: 1.3183 - accuracy: 0.5258 - val_loss: 1.1671 - val_accuracy: 0.5664\n",
      "Epoch 3/15\n",
      "1302/1302 [==============================] - 122s 94ms/step - loss: 1.1755 - accuracy: 0.5754 - val_loss: 1.0867 - val_accuracy: 0.5988\n",
      "Epoch 4/15\n",
      "1302/1302 [==============================] - 122s 94ms/step - loss: 1.0840 - accuracy: 0.6071 - val_loss: 1.0504 - val_accuracy: 0.6159\n",
      "Epoch 5/15\n",
      "1302/1302 [==============================] - 122s 94ms/step - loss: 1.0357 - accuracy: 0.6309 - val_loss: 1.0369 - val_accuracy: 0.6258\n",
      "Epoch 6/15\n",
      "1302/1302 [==============================] - 122s 94ms/step - loss: 1.0076 - accuracy: 0.6491 - val_loss: 1.0316 - val_accuracy: 0.6313\n",
      "Epoch 7/15\n",
      "1302/1302 [==============================] - 122s 94ms/step - loss: 0.9872 - accuracy: 0.6635 - val_loss: 1.0328 - val_accuracy: 0.6358\n",
      "Epoch 8/15\n",
      "1302/1302 [==============================] - 122s 94ms/step - loss: 0.9740 - accuracy: 0.6732 - val_loss: 1.0325 - val_accuracy: 0.6375\n",
      "Epoch 9/15\n",
      "1302/1302 [==============================] - 123s 94ms/step - loss: 0.9638 - accuracy: 0.6811 - val_loss: 1.0399 - val_accuracy: 0.6386\n",
      "Epoch 10/15\n",
      "1302/1302 [==============================] - 129s 99ms/step - loss: 0.9560 - accuracy: 0.6872 - val_loss: 1.0402 - val_accuracy: 0.6395\n",
      "Epoch 11/15\n",
      "1302/1302 [==============================] - 136s 104ms/step - loss: 0.9506 - accuracy: 0.6910 - val_loss: 1.0424 - val_accuracy: 0.6404\n",
      "Epoch 12/15\n",
      "1302/1302 [==============================] - 134s 103ms/step - loss: 0.9464 - accuracy: 0.6945 - val_loss: 1.0439 - val_accuracy: 0.6410\n",
      "Epoch 13/15\n",
      "1302/1302 [==============================] - 134s 103ms/step - loss: 0.9437 - accuracy: 0.6971 - val_loss: 1.0473 - val_accuracy: 0.6417\n",
      "Epoch 14/15\n",
      "1302/1302 [==============================] - 136s 105ms/step - loss: 0.9425 - accuracy: 0.6982 - val_loss: 1.0490 - val_accuracy: 0.6413\n",
      "Epoch 15/15\n",
      "1302/1302 [==============================] - 136s 105ms/step - loss: 0.9428 - accuracy: 0.6983 - val_loss: 1.0500 - val_accuracy: 0.6421\n"
     ]
    },
    {
     "data": {
      "text/plain": [
       "<keras.callbacks.History at 0x212fcc11540>"
      ]
     },
     "execution_count": 12,
     "metadata": {},
     "output_type": "execute_result"
    }
   ],
   "source": [
    "seq2seq_rnn.compile(\n",
    "    optimizer=\"rmsprop\",\n",
    "    loss=\"sparse_categorical_crossentropy\",\n",
    "    metrics=[\"accuracy\"])\n",
    "seq2seq_rnn.fit(train_ds, epochs=15, validation_data=val_ds)"
   ]
  },
  {
   "cell_type": "markdown",
   "metadata": {
    "colab_type": "text"
   },
   "source": [
    "**Translating new sentences with our RNN encoder and decoder**"
   ]
  },
  {
   "cell_type": "code",
   "execution_count": 13,
   "metadata": {
    "colab_type": "code"
   },
   "outputs": [
    {
     "name": "stdout",
     "output_type": "stream",
     "text": [
      "-\n",
      "How lucky I am to meet you here!\n",
      "1/1 [==============================] - 3s 3s/step\n",
      "1/1 [==============================] - 0s 28ms/step\n",
      "1/1 [==============================] - 0s 28ms/step\n",
      "1/1 [==============================] - 0s 26ms/step\n",
      "1/1 [==============================] - 0s 28ms/step\n",
      "1/1 [==============================] - 0s 36ms/step\n",
      "1/1 [==============================] - 0s 27ms/step\n",
      "1/1 [==============================] - 0s 26ms/step\n",
      "[start] qué tan a menudo me [UNK] aquí [end]\n",
      "-\n",
      "He ran outside naked.\n",
      "1/1 [==============================] - 0s 25ms/step\n",
      "1/1 [==============================] - 0s 26ms/step\n",
      "1/1 [==============================] - 0s 27ms/step\n",
      "1/1 [==============================] - 0s 27ms/step\n",
      "1/1 [==============================] - 0s 26ms/step\n",
      "1/1 [==============================] - 0s 29ms/step\n",
      "[start] Él se quedó sin decir [end]\n",
      "-\n",
      "Above the sink are several whisky bottles.\n",
      "1/1 [==============================] - 0s 30ms/step\n",
      "1/1 [==============================] - 0s 33ms/step\n",
      "1/1 [==============================] - 0s 28ms/step\n",
      "1/1 [==============================] - 0s 34ms/step\n",
      "1/1 [==============================] - 0s 34ms/step\n",
      "1/1 [==============================] - 0s 35ms/step\n",
      "1/1 [==============================] - 0s 27ms/step\n",
      "[start] por favor los [UNK] son [UNK] [end]\n",
      "-\n",
      "I'm a little disappointed with my boys.\n",
      "1/1 [==============================] - 0s 28ms/step\n",
      "1/1 [==============================] - 0s 27ms/step\n",
      "1/1 [==============================] - 0s 27ms/step\n",
      "1/1 [==============================] - 0s 27ms/step\n",
      "1/1 [==============================] - 0s 27ms/step\n",
      "1/1 [==============================] - 0s 34ms/step\n",
      "1/1 [==============================] - 0s 47ms/step\n",
      "1/1 [==============================] - 0s 57ms/step\n",
      "1/1 [==============================] - 0s 48ms/step\n",
      "1/1 [==============================] - 0s 50ms/step\n",
      "[start] estoy un poco de mis hijos con los [UNK] [end]\n",
      "-\n",
      "That is the house where he lives.\n",
      "1/1 [==============================] - 0s 41ms/step\n",
      "1/1 [==============================] - 0s 47ms/step\n",
      "1/1 [==============================] - 0s 47ms/step\n",
      "1/1 [==============================] - 0s 45ms/step\n",
      "1/1 [==============================] - 0s 49ms/step\n",
      "1/1 [==============================] - 0s 47ms/step\n",
      "1/1 [==============================] - 0s 48ms/step\n",
      "1/1 [==============================] - 0s 52ms/step\n",
      "1/1 [==============================] - 0s 46ms/step\n",
      "[start] esa es la casa en la que vive [end]\n",
      "-\n",
      "The dog house is outside.\n",
      "1/1 [==============================] - 0s 47ms/step\n",
      "1/1 [==============================] - 0s 47ms/step\n",
      "1/1 [==============================] - 0s 46ms/step\n",
      "1/1 [==============================] - 0s 48ms/step\n",
      "1/1 [==============================] - 0s 44ms/step\n",
      "1/1 [==============================] - 0s 46ms/step\n",
      "1/1 [==============================] - 0s 45ms/step\n",
      "[start] el perro de casa está fuera [end]\n",
      "-\n",
      "Tom said he was terrified of snakes.\n",
      "1/1 [==============================] - 0s 45ms/step\n",
      "1/1 [==============================] - 0s 48ms/step\n",
      "1/1 [==============================] - 0s 45ms/step\n",
      "1/1 [==============================] - 0s 46ms/step\n",
      "1/1 [==============================] - 0s 46ms/step\n",
      "1/1 [==============================] - 0s 46ms/step\n",
      "1/1 [==============================] - 0s 49ms/step\n",
      "1/1 [==============================] - 0s 52ms/step\n",
      "1/1 [==============================] - 0s 46ms/step\n",
      "[start] tom dijo que él estaba las de acuerdo [end]\n",
      "-\n",
      "Only peace can save the world.\n",
      "1/1 [==============================] - 0s 48ms/step\n",
      "1/1 [==============================] - 0s 45ms/step\n",
      "1/1 [==============================] - 0s 48ms/step\n",
      "1/1 [==============================] - 0s 46ms/step\n",
      "1/1 [==============================] - 0s 47ms/step\n",
      "1/1 [==============================] - 0s 51ms/step\n",
      "1/1 [==============================] - 0s 48ms/step\n",
      "[start] solo el mundo puede que [UNK] [end]\n",
      "-\n",
      "People should be honest with one another.\n",
      "1/1 [==============================] - 0s 41ms/step\n",
      "1/1 [==============================] - 0s 44ms/step\n",
      "1/1 [==============================] - 0s 51ms/step\n",
      "1/1 [==============================] - 0s 44ms/step\n",
      "1/1 [==============================] - 0s 47ms/step\n",
      "1/1 [==============================] - 0s 48ms/step\n",
      "1/1 [==============================] - 0s 51ms/step\n",
      "1/1 [==============================] - 0s 47ms/step\n",
      "[start] la gente debería ser con los [UNK] [end]\n",
      "-\n",
      "It took me several hours to assemble it.\n",
      "1/1 [==============================] - 0s 49ms/step\n",
      "1/1 [==============================] - 0s 47ms/step\n",
      "1/1 [==============================] - 0s 47ms/step\n",
      "1/1 [==============================] - 0s 54ms/step\n",
      "1/1 [==============================] - 0s 49ms/step\n",
      "1/1 [==============================] - 0s 48ms/step\n",
      "[start] me tomó tomó tiempo [UNK] [end]\n",
      "-\n",
      "He likes money.\n",
      "1/1 [==============================] - 0s 44ms/step\n",
      "1/1 [==============================] - 0s 25ms/step\n",
      "1/1 [==============================] - 0s 36ms/step\n",
      "1/1 [==============================] - 0s 28ms/step\n",
      "1/1 [==============================] - 0s 26ms/step\n",
      "[start] le gusta el dinero [end]\n",
      "-\n",
      "I'm older than any other student in my class.\n",
      "1/1 [==============================] - 0s 28ms/step\n",
      "1/1 [==============================] - 0s 29ms/step\n",
      "1/1 [==============================] - 0s 29ms/step\n",
      "1/1 [==============================] - 0s 29ms/step\n",
      "1/1 [==============================] - 0s 26ms/step\n",
      "1/1 [==============================] - 0s 25ms/step\n",
      "1/1 [==============================] - 0s 25ms/step\n",
      "1/1 [==============================] - 0s 25ms/step\n",
      "1/1 [==============================] - 0s 29ms/step\n",
      "1/1 [==============================] - 0s 29ms/step\n",
      "1/1 [==============================] - 0s 30ms/step\n",
      "[start] soy más de que yo tomás más de mi clase [end]\n",
      "-\n",
      "I forget his name.\n",
      "1/1 [==============================] - 0s 24ms/step\n",
      "1/1 [==============================] - 0s 26ms/step\n",
      "1/1 [==============================] - 0s 31ms/step\n",
      "1/1 [==============================] - 0s 29ms/step\n",
      "1/1 [==============================] - 0s 26ms/step\n",
      "[start] he de su nombre [end]\n",
      "-\n",
      "Your friendship has great value to me.\n",
      "1/1 [==============================] - 0s 30ms/step\n",
      "1/1 [==============================] - 0s 30ms/step\n",
      "1/1 [==============================] - 0s 24ms/step\n",
      "1/1 [==============================] - 0s 26ms/step\n",
      "1/1 [==============================] - 0s 26ms/step\n",
      "1/1 [==============================] - 0s 26ms/step\n",
      "1/1 [==============================] - 0s 34ms/step\n",
      "1/1 [==============================] - 0s 33ms/step\n",
      "1/1 [==============================] - 0s 31ms/step\n",
      "1/1 [==============================] - 0s 26ms/step\n",
      "1/1 [==============================] - 0s 33ms/step\n",
      "1/1 [==============================] - 0s 27ms/step\n",
      "[start] tu me ha sido tu me ha un lugar para mí [end]\n",
      "-\n",
      "Who are you waiting for?\n",
      "1/1 [==============================] - 0s 25ms/step\n",
      "1/1 [==============================] - 0s 26ms/step\n",
      "1/1 [==============================] - 0s 27ms/step\n",
      "1/1 [==============================] - 0s 26ms/step\n",
      "1/1 [==============================] - 0s 26ms/step\n",
      "[start] a quién estás esperando [end]\n",
      "-\n",
      "She likes miniskirts.\n",
      "1/1 [==============================] - 0s 26ms/step\n",
      "1/1 [==============================] - 0s 25ms/step\n",
      "1/1 [==============================] - 0s 29ms/step\n",
      "1/1 [==============================] - 0s 27ms/step\n",
      "1/1 [==============================] - 0s 49ms/step\n",
      "1/1 [==============================] - 0s 48ms/step\n",
      "1/1 [==============================] - 0s 42ms/step\n",
      "[start] a ella le gusta la [UNK] [end]\n",
      "-\n",
      "I'm all tuckered out.\n",
      "1/1 [==============================] - 0s 45ms/step\n",
      "1/1 [==============================] - 0s 45ms/step\n",
      "1/1 [==============================] - 0s 45ms/step\n",
      "1/1 [==============================] - 0s 44ms/step\n",
      "1/1 [==============================] - 0s 45ms/step\n",
      "[start] estoy todo el [UNK] [end]\n",
      "-\n",
      "He looked around, but he saw no one.\n",
      "1/1 [==============================] - 0s 49ms/step\n",
      "1/1 [==============================] - 0s 46ms/step\n",
      "1/1 [==============================] - 0s 47ms/step\n",
      "1/1 [==============================] - 0s 47ms/step\n",
      "1/1 [==============================] - 0s 47ms/step\n",
      "1/1 [==============================] - 0s 59ms/step\n",
      "1/1 [==============================] - 0s 55ms/step\n",
      "1/1 [==============================] - 0s 47ms/step\n",
      "1/1 [==============================] - 0s 58ms/step\n",
      "1/1 [==============================] - 0s 52ms/step\n",
      "[start] Él miró a la gente pero no tenía una [end]\n",
      "-\n",
      "The northernmost part of the city is a maze of alleys.\n",
      "1/1 [==============================] - 0s 58ms/step\n",
      "1/1 [==============================] - 0s 55ms/step\n",
      "1/1 [==============================] - 0s 54ms/step\n",
      "1/1 [==============================] - 0s 49ms/step\n",
      "1/1 [==============================] - 0s 46ms/step\n",
      "1/1 [==============================] - 0s 54ms/step\n",
      "1/1 [==============================] - 0s 53ms/step\n",
      "1/1 [==============================] - 0s 25ms/step\n",
      "1/1 [==============================] - 0s 25ms/step\n",
      "1/1 [==============================] - 0s 27ms/step\n",
      "1/1 [==============================] - 0s 34ms/step\n",
      "1/1 [==============================] - 0s 27ms/step\n",
      "1/1 [==============================] - 0s 27ms/step\n",
      "[start] la ciudad de la ciudad es un [UNK] de un este que [end]\n",
      "-\n",
      "He used pigeons in his experiment.\n",
      "1/1 [==============================] - 0s 25ms/step\n",
      "1/1 [==============================] - 0s 25ms/step\n",
      "1/1 [==============================] - 0s 25ms/step\n",
      "1/1 [==============================] - 0s 26ms/step\n",
      "1/1 [==============================] - 0s 24ms/step\n",
      "1/1 [==============================] - 0s 28ms/step\n",
      "1/1 [==============================] - 0s 25ms/step\n",
      "1/1 [==============================] - 0s 24ms/step\n",
      "[start] Él en la él [UNK] del [UNK] [end]\n"
     ]
    }
   ],
   "source": [
    "import numpy as np\n",
    "spa_vocab = target_vectorization.get_vocabulary()\n",
    "spa_index_lookup = dict(zip(range(len(spa_vocab)), spa_vocab))\n",
    "max_decoded_sentence_length = 20\n",
    "\n",
    "def decode_sequence(input_sentence):\n",
    "    tokenized_input_sentence = source_vectorization([input_sentence])\n",
    "    decoded_sentence = \"[start]\"\n",
    "    for i in range(max_decoded_sentence_length):\n",
    "        tokenized_target_sentence = target_vectorization([decoded_sentence])\n",
    "        next_token_predictions = seq2seq_rnn.predict(\n",
    "            [tokenized_input_sentence, tokenized_target_sentence])\n",
    "        sampled_token_index = np.argmax(next_token_predictions[0, i, :])\n",
    "        sampled_token = spa_index_lookup[sampled_token_index]\n",
    "        decoded_sentence += \" \" + sampled_token\n",
    "        if sampled_token == \"[end]\":\n",
    "            break\n",
    "    return decoded_sentence\n",
    "\n",
    "test_eng_texts = [pair[0] for pair in test_pairs]\n",
    "for _ in range(20):\n",
    "    input_sentence = random.choice(test_eng_texts)\n",
    "    print(\"-\")\n",
    "    print(input_sentence)\n",
    "    print(decode_sequence(input_sentence))"
   ]
  },
  {
   "cell_type": "markdown",
   "metadata": {
    "colab_type": "text"
   },
   "source": [
    "### Sequence-to-sequence learning with Transformer"
   ]
  },
  {
   "attachments": {},
   "cell_type": "markdown",
   "metadata": {},
   "source": [
    "#### The Transformer Encoder\n",
    "**`Transformer Encoder` implemented as a subclassed `Layer`**"
   ]
  },
  {
   "cell_type": "code",
   "execution_count": 17,
   "metadata": {},
   "outputs": [],
   "source": [
    "# import tensorflow as tf\n",
    "# from tensorflow import keras\n",
    "# from tensorflow.keras import layers\n",
    "from tensorflow.keras.layers import MultiHeadAttention\n",
    "from tensorflow.keras.layers import LayerNormalization\n",
    "\n",
    "class TransformerEncoder(layers.Layer):\n",
    "    def __init__(self, embed_dim, dense_dim, num_heads, **kwargs):\n",
    "        super().__init__(**kwargs)\n",
    "        self.embed_dim = embed_dim\n",
    "        self.dense_dim = dense_dim\n",
    "        self.num_heads = num_heads\n",
    "        # self.attention = layers.MultiHeadAttention(\n",
    "        self.attention = MultiHeadAttention(\n",
    "            num_heads=num_heads, key_dim=embed_dim)\n",
    "        self.dense_proj = keras.Sequential(\n",
    "            [layers.Dense(dense_dim, activation=\"relu\"),\n",
    "             layers.Dense(embed_dim),]\n",
    "        )\n",
    "        self.layernorm_1 = LayerNormalization()\n",
    "        self.layernorm_2 = LayerNormalization()\n",
    "\n",
    "    def call(self, inputs, mask=None):\n",
    "        if mask is not None:\n",
    "            mask = mask[:, tf.newaxis, :]\n",
    "        attention_output = self.attention(\n",
    "            inputs, inputs, attention_mask=mask)\n",
    "        proj_input = self.layernorm_1(inputs + attention_output)\n",
    "        proj_output = self.dense_proj(proj_input)\n",
    "        return self.layernorm_2(proj_input + proj_output)\n",
    "\n",
    "    def get_config(self):\n",
    "        config = super().get_config()\n",
    "        config.update({\n",
    "            \"embed_dim\": self.embed_dim,\n",
    "            \"num_heads\": self.num_heads,\n",
    "            \"dense_dim\": self.dense_dim,\n",
    "        })\n",
    "        return config"
   ]
  },
  {
   "cell_type": "markdown",
   "metadata": {
    "colab_type": "text"
   },
   "source": [
    "#### The Transformer decoder"
   ]
  },
  {
   "cell_type": "markdown",
   "metadata": {
    "colab_type": "text"
   },
   "source": [
    "**The `TransformerDecoder`**"
   ]
  },
  {
   "cell_type": "code",
   "execution_count": 18,
   "metadata": {
    "colab_type": "code"
   },
   "outputs": [],
   "source": [
    "# from tensorflow.keras.layers import MultiHeadAttention\n",
    "# from tensorflow.keras.layers import LayerNormalization\n",
    "\n",
    "class TransformerDecoder(layers.Layer):\n",
    "    def __init__(self, embed_dim, dense_dim, num_heads, **kwargs):\n",
    "        super().__init__(**kwargs)\n",
    "        self.embed_dim = embed_dim\n",
    "        self.dense_dim = dense_dim\n",
    "        self.num_heads = num_heads\n",
    "        self.attention_1 = layers.MultiHeadAttention(\n",
    "            num_heads=num_heads, key_dim=embed_dim)\n",
    "        self.attention_2 = layers.MultiHeadAttention(\n",
    "            num_heads=num_heads, key_dim=embed_dim)\n",
    "        self.dense_proj = keras.Sequential(\n",
    "            [layers.Dense(dense_dim, activation=\"relu\"),\n",
    "             layers.Dense(embed_dim),]\n",
    "        )\n",
    "        self.layernorm_1 = layers.LayerNormalization()\n",
    "        self.layernorm_2 = layers.LayerNormalization()\n",
    "        self.layernorm_3 = layers.LayerNormalization()\n",
    "        self.supports_masking = True\n",
    "\n",
    "    def get_config(self):\n",
    "        config = super().get_config()\n",
    "        config.update({\n",
    "            \"embed_dim\": self.embed_dim,\n",
    "            \"num_heads\": self.num_heads,\n",
    "            \"dense_dim\": self.dense_dim,\n",
    "        })\n",
    "        return config\n",
    "\n",
    "    def get_causal_attention_mask(self, inputs):\n",
    "        input_shape = tf.shape(inputs)\n",
    "        batch_size, sequence_length = input_shape[0], input_shape[1]\n",
    "        i = tf.range(sequence_length)[:, tf.newaxis]\n",
    "        j = tf.range(sequence_length)\n",
    "        mask = tf.cast(i >= j, dtype=\"int32\")\n",
    "        mask = tf.reshape(mask, (1, input_shape[1], input_shape[1]))\n",
    "        mult = tf.concat(\n",
    "            [tf.expand_dims(batch_size, -1),\n",
    "             tf.constant([1, 1], dtype=tf.int32)], axis=0)\n",
    "        return tf.tile(mask, mult)\n",
    "\n",
    "    def call(self, inputs, encoder_outputs, mask=None):\n",
    "        causal_mask = self.get_causal_attention_mask(inputs)\n",
    "        if mask is not None:\n",
    "            padding_mask = tf.cast(\n",
    "                mask[:, tf.newaxis, :], dtype=\"int32\")\n",
    "            padding_mask = tf.minimum(padding_mask, causal_mask)\n",
    "        attention_output_1 = self.attention_1(\n",
    "            query=inputs,\n",
    "            value=inputs,\n",
    "            key=inputs,\n",
    "            attention_mask=causal_mask)\n",
    "        attention_output_1 = self.layernorm_1(inputs + attention_output_1)\n",
    "        attention_output_2 = self.attention_2(\n",
    "            query=attention_output_1,\n",
    "            value=encoder_outputs,\n",
    "            key=encoder_outputs,\n",
    "            attention_mask=padding_mask,\n",
    "        )\n",
    "        attention_output_2 = self.layernorm_2(\n",
    "            attention_output_1 + attention_output_2)\n",
    "        proj_output = self.dense_proj(attention_output_2)\n",
    "        return self.layernorm_3(attention_output_2 + proj_output)"
   ]
  },
  {
   "cell_type": "markdown",
   "metadata": {
    "colab_type": "text"
   },
   "source": [
    "#### Putting it all together: A Transformer for machine translation"
   ]
  },
  {
   "cell_type": "markdown",
   "metadata": {
    "colab_type": "text"
   },
   "source": [
    "**PositionalEmbedding layer**"
   ]
  },
  {
   "cell_type": "code",
   "execution_count": 19,
   "metadata": {
    "colab_type": "code"
   },
   "outputs": [],
   "source": [
    "class PositionalEmbedding(layers.Layer):\n",
    "    def __init__(self, sequence_length, input_dim, output_dim, **kwargs):\n",
    "        super().__init__(**kwargs)\n",
    "        self.token_embeddings = layers.Embedding(\n",
    "            input_dim=input_dim, output_dim=output_dim)\n",
    "        self.position_embeddings = layers.Embedding(\n",
    "            input_dim=sequence_length, output_dim=output_dim)\n",
    "        self.sequence_length = sequence_length\n",
    "        self.input_dim = input_dim\n",
    "        self.output_dim = output_dim\n",
    "\n",
    "    def call(self, inputs):\n",
    "        length = tf.shape(inputs)[-1]\n",
    "        positions = tf.range(start=0, limit=length, delta=1)\n",
    "        embedded_tokens = self.token_embeddings(inputs)\n",
    "        embedded_positions = self.position_embeddings(positions)\n",
    "        return embedded_tokens + embedded_positions\n",
    "\n",
    "    def compute_mask(self, inputs, mask=None):\n",
    "        return tf.math.not_equal(inputs, 0)\n",
    "\n",
    "    def get_config(self):\n",
    "        config = super(PositionalEmbedding, self).get_config()\n",
    "        config.update({\n",
    "            \"output_dim\": self.output_dim,\n",
    "            \"sequence_length\": self.sequence_length,\n",
    "            \"input_dim\": self.input_dim,\n",
    "        })\n",
    "        return config"
   ]
  },
  {
   "cell_type": "markdown",
   "metadata": {
    "colab_type": "text"
   },
   "source": [
    "**End-to-end Transformer**"
   ]
  },
  {
   "cell_type": "code",
   "execution_count": 20,
   "metadata": {
    "colab_type": "code"
   },
   "outputs": [],
   "source": [
    "embed_dim = 256\n",
    "dense_dim = 2048\n",
    "num_heads = 8\n",
    "\n",
    "encoder_inputs = keras.Input(shape=(None,), dtype=\"int64\", name=\"english\")\n",
    "x = PositionalEmbedding(sequence_length, vocab_size, embed_dim)(encoder_inputs)\n",
    "encoder_outputs = TransformerEncoder(embed_dim, dense_dim, num_heads)(x)\n",
    "\n",
    "decoder_inputs = keras.Input(shape=(None,), dtype=\"int64\", name=\"spanish\")\n",
    "x = PositionalEmbedding(sequence_length, vocab_size, embed_dim)(decoder_inputs)\n",
    "x = TransformerDecoder(embed_dim, dense_dim, num_heads)(x, encoder_outputs)\n",
    "x = layers.Dropout(0.5)(x)\n",
    "decoder_outputs = layers.Dense(vocab_size, activation=\"softmax\")(x)\n",
    "transformer = keras.Model([encoder_inputs, decoder_inputs], decoder_outputs)"
   ]
  },
  {
   "cell_type": "markdown",
   "metadata": {
    "colab_type": "text"
   },
   "source": [
    "**Training the sequence-to-sequence Transformer**"
   ]
  },
  {
   "cell_type": "code",
   "execution_count": 21,
   "metadata": {
    "colab_type": "code"
   },
   "outputs": [
    {
     "name": "stdout",
     "output_type": "stream",
     "text": [
      "Epoch 1/30\n",
      "1302/1302 [==============================] - 98s 73ms/step - loss: 1.6932 - accuracy: 0.4095 - val_loss: 1.3543 - val_accuracy: 0.4991\n",
      "Epoch 2/30\n",
      "1302/1302 [==============================] - 95s 73ms/step - loss: 1.3465 - accuracy: 0.5285 - val_loss: 1.1837 - val_accuracy: 0.5675\n",
      "Epoch 3/30\n",
      "1302/1302 [==============================] - 96s 73ms/step - loss: 1.1917 - accuracy: 0.5799 - val_loss: 1.1040 - val_accuracy: 0.5990\n",
      "Epoch 4/30\n",
      "1302/1302 [==============================] - 97s 74ms/step - loss: 1.0997 - accuracy: 0.6129 - val_loss: 1.0590 - val_accuracy: 0.6194\n",
      "Epoch 5/30\n",
      "1302/1302 [==============================] - 96s 74ms/step - loss: 1.0498 - accuracy: 0.6353 - val_loss: 1.0257 - val_accuracy: 0.6331\n",
      "Epoch 6/30\n",
      "1302/1302 [==============================] - 97s 75ms/step - loss: 1.0188 - accuracy: 0.6516 - val_loss: 1.0133 - val_accuracy: 0.6416\n",
      "Epoch 7/30\n",
      "1302/1302 [==============================] - 98s 76ms/step - loss: 0.9969 - accuracy: 0.6639 - val_loss: 1.0113 - val_accuracy: 0.6444\n",
      "Epoch 8/30\n",
      "1302/1302 [==============================] - 97s 75ms/step - loss: 0.9782 - accuracy: 0.6743 - val_loss: 1.0093 - val_accuracy: 0.6469\n",
      "Epoch 9/30\n",
      "1302/1302 [==============================] - 98s 75ms/step - loss: 0.9620 - accuracy: 0.6838 - val_loss: 1.0036 - val_accuracy: 0.6526\n",
      "Epoch 10/30\n",
      "1302/1302 [==============================] - 93s 72ms/step - loss: 0.9469 - accuracy: 0.6917 - val_loss: 1.0070 - val_accuracy: 0.6534\n",
      "Epoch 11/30\n",
      "1302/1302 [==============================] - 89s 68ms/step - loss: 0.9333 - accuracy: 0.6987 - val_loss: 1.0028 - val_accuracy: 0.6560\n",
      "Epoch 12/30\n",
      "1302/1302 [==============================] - 88s 68ms/step - loss: 0.9199 - accuracy: 0.7045 - val_loss: 1.0024 - val_accuracy: 0.6591\n",
      "Epoch 13/30\n",
      "1302/1302 [==============================] - 97s 74ms/step - loss: 0.9073 - accuracy: 0.7101 - val_loss: 1.0040 - val_accuracy: 0.6589\n",
      "Epoch 14/30\n",
      "1302/1302 [==============================] - 95s 73ms/step - loss: 0.8961 - accuracy: 0.7153 - val_loss: 1.0130 - val_accuracy: 0.6585\n",
      "Epoch 15/30\n",
      "1302/1302 [==============================] - 92s 71ms/step - loss: 0.8844 - accuracy: 0.7204 - val_loss: 1.0153 - val_accuracy: 0.6591\n",
      "Epoch 16/30\n",
      "1302/1302 [==============================] - 93s 71ms/step - loss: 0.8732 - accuracy: 0.7251 - val_loss: 1.0093 - val_accuracy: 0.6643\n",
      "Epoch 17/30\n",
      "1302/1302 [==============================] - 94s 72ms/step - loss: 0.8619 - accuracy: 0.7293 - val_loss: 1.0125 - val_accuracy: 0.6652\n",
      "Epoch 18/30\n",
      "1302/1302 [==============================] - 94s 72ms/step - loss: 0.8527 - accuracy: 0.7331 - val_loss: 1.0219 - val_accuracy: 0.6652\n",
      "Epoch 19/30\n",
      "1302/1302 [==============================] - 92s 71ms/step - loss: 0.8424 - accuracy: 0.7370 - val_loss: 1.0230 - val_accuracy: 0.6619\n",
      "Epoch 20/30\n",
      "1302/1302 [==============================] - 91s 70ms/step - loss: 0.8331 - accuracy: 0.7405 - val_loss: 1.0254 - val_accuracy: 0.6657\n",
      "Epoch 21/30\n",
      "1302/1302 [==============================] - 91s 70ms/step - loss: 0.8241 - accuracy: 0.7442 - val_loss: 1.0274 - val_accuracy: 0.6651\n",
      "Epoch 22/30\n",
      "1302/1302 [==============================] - 91s 70ms/step - loss: 0.8153 - accuracy: 0.7471 - val_loss: 1.0324 - val_accuracy: 0.6667\n",
      "Epoch 23/30\n",
      "1302/1302 [==============================] - 91s 70ms/step - loss: 0.8055 - accuracy: 0.7511 - val_loss: 1.0401 - val_accuracy: 0.6614\n",
      "Epoch 24/30\n",
      "1302/1302 [==============================] - 91s 70ms/step - loss: 0.7992 - accuracy: 0.7530 - val_loss: 1.0330 - val_accuracy: 0.6650\n",
      "Epoch 25/30\n",
      "1302/1302 [==============================] - 90s 69ms/step - loss: 0.7911 - accuracy: 0.7566 - val_loss: 1.0470 - val_accuracy: 0.6662\n",
      "Epoch 26/30\n",
      "1302/1302 [==============================] - 91s 70ms/step - loss: 0.7835 - accuracy: 0.7592 - val_loss: 1.0559 - val_accuracy: 0.6651\n",
      "Epoch 27/30\n",
      "1302/1302 [==============================] - 90s 69ms/step - loss: 0.7767 - accuracy: 0.7615 - val_loss: 1.0570 - val_accuracy: 0.6651\n",
      "Epoch 28/30\n",
      "1302/1302 [==============================] - 90s 69ms/step - loss: 0.7699 - accuracy: 0.7640 - val_loss: 1.0605 - val_accuracy: 0.6646\n",
      "Epoch 29/30\n",
      "1302/1302 [==============================] - 91s 70ms/step - loss: 0.7632 - accuracy: 0.7661 - val_loss: 1.0636 - val_accuracy: 0.6622\n",
      "Epoch 30/30\n",
      "1302/1302 [==============================] - 91s 70ms/step - loss: 0.7567 - accuracy: 0.7685 - val_loss: 1.0646 - val_accuracy: 0.6659\n"
     ]
    },
    {
     "data": {
      "text/plain": [
       "<keras.callbacks.History at 0x21439ad8550>"
      ]
     },
     "execution_count": 21,
     "metadata": {},
     "output_type": "execute_result"
    }
   ],
   "source": [
    "transformer.compile(\n",
    "    optimizer=\"rmsprop\",\n",
    "    loss=\"sparse_categorical_crossentropy\",\n",
    "    metrics=[\"accuracy\"])\n",
    "transformer.fit(train_ds, epochs=30, validation_data=val_ds)"
   ]
  },
  {
   "cell_type": "markdown",
   "metadata": {
    "colab_type": "text"
   },
   "source": [
    "**Translating new sentences with our Transformer model**"
   ]
  },
  {
   "cell_type": "code",
   "execution_count": 22,
   "metadata": {
    "colab_type": "code"
   },
   "outputs": [
    {
     "name": "stdout",
     "output_type": "stream",
     "text": [
      "-\n",
      "Tom was out all day.\n",
      "[start] tom estaba fuera todo el día [end]\n",
      "-\n",
      "I don't want to drink cold tea.\n",
      "[start] no quiero tomar un vaso de té [end]\n",
      "-\n",
      "You desperately need a vacation.\n",
      "[start] [UNK] en que necesitas unas vacaciones [end]\n",
      "-\n",
      "I know the story from beginning to end.\n",
      "[start] conozco a la historia de final [end]\n",
      "-\n",
      "Wait one second.\n",
      "[start] espera un segundo [end]\n",
      "-\n",
      "I want to help you, but I can't.\n",
      "[start] quiero ayudarte con años pero no [end]\n",
      "-\n",
      "What do you do for a living?\n",
      "[start] qué haces un trabajo [end]\n",
      "-\n",
      "Do you know who made it?\n",
      "[start] sabes quién es eso [end]\n",
      "-\n",
      "The room was hot.\n",
      "[start] el cuarto estaba caliente [end]\n",
      "-\n",
      "Can't you separate fantasy and reality from each other?\n",
      "[start] no sabes que la [UNK] y no [UNK] los demás [end]\n",
      "-\n",
      "He's an Englishman.\n",
      "[start] Él es un inglés [end]\n",
      "-\n",
      "The blue lines on the map represent rivers.\n",
      "[start] las [UNK] azul en el mapa de la [UNK] [end]\n",
      "-\n",
      "Let's encourage the players.\n",
      "[start] [UNK] la madre de los a los que [UNK] [end]\n",
      "-\n",
      "He seems to be a student.\n",
      "[start] Él parece ser un estudiante [end]\n",
      "-\n",
      "I don't want to play this game anymore.\n",
      "[start] no quiero jugar al juego más tarde [end]\n",
      "-\n",
      "Why did you want us to come here?\n",
      "[start] por qué nos [UNK] aquí [end]\n",
      "-\n",
      "Of course she passed the test.\n",
      "[start] por supuesto que pasó la prueba [end]\n",
      "-\n",
      "Tom told the police that he had seen nothing suspicious.\n",
      "[start] tom le dijo a la policía que no había visto nada [end]\n",
      "-\n",
      "Tom is on vacation in Australia.\n",
      "[start] tom está de vacaciones en australia [end]\n",
      "-\n",
      "I had a suspicion that he would leave me.\n",
      "[start] tenía la [UNK] de que me iba a [UNK] [end]\n"
     ]
    }
   ],
   "source": [
    "import numpy as np\n",
    "spa_vocab = target_vectorization.get_vocabulary()\n",
    "spa_index_lookup = dict(zip(range(len(spa_vocab)), spa_vocab))\n",
    "max_decoded_sentence_length = 20\n",
    "\n",
    "def decode_sequence(input_sentence):\n",
    "    tokenized_input_sentence = source_vectorization([input_sentence])\n",
    "    decoded_sentence = \"[start]\"\n",
    "    for i in range(max_decoded_sentence_length):\n",
    "        tokenized_target_sentence = target_vectorization(\n",
    "            [decoded_sentence])[:, :-1]\n",
    "        predictions = transformer(\n",
    "            [tokenized_input_sentence, tokenized_target_sentence])\n",
    "        sampled_token_index = np.argmax(predictions[0, i, :])\n",
    "        sampled_token = spa_index_lookup[sampled_token_index]\n",
    "        decoded_sentence += \" \" + sampled_token\n",
    "        if sampled_token == \"[end]\":\n",
    "            break\n",
    "    return decoded_sentence\n",
    "\n",
    "test_eng_texts = [pair[0] for pair in test_pairs]\n",
    "for _ in range(20):\n",
    "    input_sentence = random.choice(test_eng_texts)\n",
    "    print(\"-\")\n",
    "    print(input_sentence)\n",
    "    print(decode_sequence(input_sentence))"
   ]
  }
 ],
 "metadata": {
  "colab": {
   "collapsed_sections": [],
   "name": "chapter11_part04_sequence-to-sequence-learning.i",
   "private_outputs": false,
   "provenance": [],
   "toc_visible": true
  },
  "kernelspec": {
   "display_name": ".TF01",
   "language": "python",
   "name": "python3"
  },
  "language_info": {
   "codemirror_mode": {
    "name": "ipython",
    "version": 3
   },
   "file_extension": ".py",
   "mimetype": "text/x-python",
   "name": "python",
   "nbconvert_exporter": "python",
   "pygments_lexer": "ipython3",
   "version": "3.10.9"
  },
  "vscode": {
   "interpreter": {
    "hash": "b2adef01dcb899762cd63ac65b25730c5dca0aa63f80c1c2b1276854e041943c"
   }
  }
 },
 "nbformat": 4,
 "nbformat_minor": 0
}
