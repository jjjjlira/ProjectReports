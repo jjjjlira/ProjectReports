{
 "cells": [
  {
   "cell_type": "markdown",
   "metadata": {},
   "source": [
    "# Summarization\n",
    "## This notebook outlines the concepts behind Text Summarization"
   ]
  },
  {
   "cell_type": "markdown",
   "metadata": {},
   "source": [
    "## Summarization\n",
    "- concept of capturing very important gist of a long piece of text\n",
    "\n",
    "### Types of Summarization\n",
    "- 1. **Extractive Summarization**\n",
    "    - Select sentences from the corpus that best represent the text\n",
    "    - Arrange them to form a summary\n",
    "- 2. **Abstractive Summarization**\n",
    "    - Captures the very important sentences from the text\n",
    "    - Paraphrases them to form a summary"
   ]
  },
  {
   "cell_type": "markdown",
   "metadata": {},
   "source": [
    "## Summarization Libraries\n",
    "- Sumy\n",
    "- Gensim\n",
    "- Summa\n",
    "- BERT **\n",
    "    - BART **\n",
    "    - PEGASUS **\n",
    "    - T5 **\n",
    "\n",
    "** Will be seen in DL-1\n",
    "\n",
    "\n",
    "## 1. Sumy :\n",
    "    1. Luhn – Heurestic method\n",
    "    2. Latent Semantic Analysis\n",
    "    4. LexRank – Unsupervised approach inspired by algorithms PageRank and HITS\n",
    "    5. TextRank - Graph-based summarization technique with keyword extractions in from document\n",
    "\n",
    "Documentation Reference [sumy](https://github.com/miso-belica/sumy)"
   ]
  },
  {
   "cell_type": "markdown",
   "metadata": {},
   "source": [
    "## Task: Take a piece of text from wiki page and summarize them using Sumy\n",
    "### Steps\n",
    "- Install the necessary libraries\n",
    "- Import the libraries\n",
    "- Scrape the text from a pre-defined webpage\n",
    "- Summarize"
   ]
  },
  {
   "cell_type": "markdown",
   "metadata": {},
   "source": [
    "### Install Sumy"
   ]
  },
  {
   "cell_type": "code",
   "execution_count": 1,
   "metadata": {
    "scrolled": true
   },
   "outputs": [],
   "source": [
    "# ! pip install sumy"
   ]
  },
  {
   "cell_type": "markdown",
   "metadata": {},
   "source": [
    "### Import the libraries"
   ]
  },
  {
   "cell_type": "code",
   "execution_count": 2,
   "metadata": {},
   "outputs": [],
   "source": [
    "from sumy.parsers.html import HtmlParser\n",
    "from sumy.nlp.tokenizers import Tokenizer\n",
    "from sumy.summarizers.text_rank import TextRankSummarizer"
   ]
  },
  {
   "cell_type": "markdown",
   "metadata": {},
   "source": [
    "### Scrape the text"
   ]
  },
  {
   "cell_type": "code",
   "execution_count": 3,
   "metadata": {},
   "outputs": [],
   "source": [
    "# url = \"https://en.wikipedia.org/wiki/Automatic_summarization\"\n",
    "# url = \"https://medium.com/@johan-jublanc/stop-using-notebooks-or-why-you-should-start-making-data-science-as-a-developer-would-do-5d67c8990df5\"\n",
    "url = \"https://medium.com/@subashgandyer/papa-what-is-a-neural-network-c5e5cc427c7\"\n",
    "    \n",
    "parser = HtmlParser.from_url(url, Tokenizer(\"english\"))"
   ]
  },
  {
   "cell_type": "code",
   "execution_count": 4,
   "metadata": {},
   "outputs": [
    {
     "data": {
      "text/plain": [
       "<DOM with 46 paragraphs>"
      ]
     },
     "execution_count": 4,
     "metadata": {},
     "output_type": "execute_result"
    }
   ],
   "source": [
    "doc = parser.document\n",
    "doc"
   ]
  },
  {
   "cell_type": "code",
   "execution_count": 5,
   "metadata": {},
   "outputs": [
    {
     "data": {
      "text/plain": [
       "sumy.models.dom._document.ObjectDocumentModel"
      ]
     },
     "execution_count": 5,
     "metadata": {},
     "output_type": "execute_result"
    }
   ],
   "source": [
    "type(doc)"
   ]
  },
  {
   "cell_type": "code",
   "execution_count": 6,
   "metadata": {},
   "outputs": [],
   "source": [
    "# Get the original document for calculating scores later\n",
    "original_doc = []\n",
    "for sentence in doc.sentences:\n",
    "    x = \" \".join(sentence.words)\n",
    "    original_doc.append(x)\n",
    "original_doc = \". \".join(original_doc)\n",
    "# original_doc"
   ]
  },
  {
   "cell_type": "markdown",
   "metadata": {},
   "source": [
    "### Summarize - TextRankSummarizer"
   ]
  },
  {
   "cell_type": "code",
   "execution_count": 7,
   "metadata": {},
   "outputs": [],
   "source": [
    "summarizer = TextRankSummarizer()"
   ]
  },
  {
   "cell_type": "code",
   "execution_count": 8,
   "metadata": {},
   "outputs": [
    {
     "data": {
      "text/plain": [
       "(<Sentence: Papa, What is a Neural Network?At the back of my head, thoughts of me taking days to comprehend what a NN (short for Neural Network) is, how it would work, where it is used, how it is simulating our human brain’s inner workings were going through.>,\n",
       " <Sentence: “Neural Network is a collection (a network) of neurons whose job is to learn a new thing or a new place or a new process or a new concept.”>,\n",
       " <Sentence: After telling her the features of a lion, asked her “Can you draw these for me?” She happily drew almost a similar figure to that of a dog she drew before.>,\n",
       " <Sentence: When you see a new object, your brain will ask the neurons, ‘Hey, anybody experienced this before?’ The neurons will say, ‘Yes, I have seen this.’ Certain other neurons will say, ‘No, I have not seen this.’ The neurons that have seen this before, will group together and form logical connections from the past and gives us an object from our memory.>,\n",
       " <Sentence: The same principle is applied for a song that you hear, a cartoon that you watch, a rhyme that you sing, an animal that you draw, a food that you taste, a flower that you smell and so on.>)"
      ]
     },
     "execution_count": 8,
     "metadata": {},
     "output_type": "execute_result"
    }
   ],
   "source": [
    "summary_text = summarizer(doc, 5)\n",
    "summary_text"
   ]
  },
  {
   "cell_type": "code",
   "execution_count": 9,
   "metadata": {},
   "outputs": [],
   "source": [
    "# Retrieving the Text Rank Summary\n",
    "text_rank_summary_doc=[]\n",
    "for sentence in summary_text:\n",
    "    text_rank_summary_doc.append(\" \".join(sentence.words) )\n",
    "text_rank_summary_doc = \". \".join(text_rank_summary_doc)\n",
    "# text_rank_summary_doc"
   ]
  },
  {
   "cell_type": "markdown",
   "metadata": {},
   "source": [
    "### Try different Summarizers\n",
    "- LexRankSummarizer\n",
    "- LuhnSummarizer\n",
    "- LsaSummarizer"
   ]
  },
  {
   "cell_type": "markdown",
   "metadata": {},
   "source": [
    "### Import the summarizers"
   ]
  },
  {
   "cell_type": "code",
   "execution_count": 10,
   "metadata": {},
   "outputs": [],
   "source": [
    "from sumy.summarizers.lex_rank import LexRankSummarizer\n",
    "from sumy.summarizers.luhn import LuhnSummarizer\n",
    "from sumy.summarizers.lsa import LsaSummarizer"
   ]
  },
  {
   "cell_type": "markdown",
   "metadata": {},
   "source": [
    "### Create Summarizers"
   ]
  },
  {
   "cell_type": "code",
   "execution_count": 11,
   "metadata": {},
   "outputs": [],
   "source": [
    "lexSummarizer =  LexRankSummarizer()\n",
    "luhnSummarizer = LuhnSummarizer()\n",
    "lsaSummarizer = LsaSummarizer()"
   ]
  },
  {
   "cell_type": "markdown",
   "metadata": {},
   "source": [
    "### LexRankSummarizer"
   ]
  },
  {
   "cell_type": "code",
   "execution_count": 12,
   "metadata": {},
   "outputs": [
    {
     "data": {
      "text/plain": [
       "(<Sentence: After telling her the features of a lion, asked her “Can you draw these for me?” She happily drew almost a similar figure to that of a dog she drew before.>,\n",
       " <Sentence: Was it a dog or a lion?>,\n",
       " <Sentence: Do you know what is the difference between a lion and a dog?” She said, “Yes.” I said, “This is called Learning.>,\n",
       " <Sentence: Picture of my version of Neural Network with their Neuron friends“Your brain is here inside our head.>,\n",
       " <Sentence: Ultimately, the neurons in your brain tell that it is a lion and not a dog.>)"
      ]
     },
     "execution_count": 12,
     "metadata": {},
     "output_type": "execute_result"
    }
   ],
   "source": [
    "lex_summary_text = lexSummarizer(doc, 5)\n",
    "lex_summary_text"
   ]
  },
  {
   "cell_type": "code",
   "execution_count": 13,
   "metadata": {},
   "outputs": [
    {
     "data": {
      "text/plain": [
       "sumy.models.dom._sentence.Sentence"
      ]
     },
     "execution_count": 13,
     "metadata": {},
     "output_type": "execute_result"
    }
   ],
   "source": [
    "type(lex_summary_text[0])"
   ]
  },
  {
   "cell_type": "code",
   "execution_count": 14,
   "metadata": {},
   "outputs": [
    {
     "data": {
      "text/plain": [
       "'After telling her the features of a lion asked her Can you draw these for me She happily drew almost a similar figure to that of a dog she drew before. Was it a dog or a lion. Do you know what is the difference between a lion and a dog She said I said This is called Learning. Picture of my version of Neural Network with their Neuron friends Your brain is here inside our head. Ultimately the neurons in your brain tell that it is a lion and not a dog'"
      ]
     },
     "execution_count": 14,
     "metadata": {},
     "output_type": "execute_result"
    }
   ],
   "source": [
    "# Retrieving the Lex Summary\n",
    "lex_summary_doc=[]\n",
    "for sentence in lex_summary_text:\n",
    "    lex_summary_doc.append(\" \".join(sentence.words) )\n",
    "lex_summary_doc = \". \".join(lex_summary_doc)\n",
    "lex_summary_doc"
   ]
  },
  {
   "cell_type": "markdown",
   "metadata": {},
   "source": [
    "### LuhnSummarizer"
   ]
  },
  {
   "cell_type": "code",
   "execution_count": 15,
   "metadata": {},
   "outputs": [
    {
     "data": {
      "text/plain": [
       "(<Sentence: Papa, What is a Neural Network?At the back of my head, thoughts of me taking days to comprehend what a NN (short for Neural Network) is, how it would work, where it is used, how it is simulating our human brain’s inner workings were going through.>,\n",
       " <Sentence: How you learnt it is because of Neural Network inside your brain.” Now, a neural network is a collection of neurons that keeps switching on and off based on things you see, feel, hear and think just like switching on light bulb at our home.>,\n",
       " <Sentence: Every neuron is waiting for your eyes to see something new, for your nose to smell something new, for your ears to hear something new, for your tongue to taste something new.>,\n",
       " <Sentence: When something new is heard, or smelled, or seen, or tasted, the neurons will group together to send signals and forms connections with already seen, heard, tasted or smelled neurons.>,\n",
       " <Sentence: When you see a new object, your brain will ask the neurons, ‘Hey, anybody experienced this before?’ The neurons will say, ‘Yes, I have seen this.’ Certain other neurons will say, ‘No, I have not seen this.’ The neurons that have seen this before, will group together and form logical connections from the past and gives us an object from our memory.>)"
      ]
     },
     "execution_count": 15,
     "metadata": {},
     "output_type": "execute_result"
    }
   ],
   "source": [
    "luhn_summary_text = luhnSummarizer(doc, 5)\n",
    "luhn_summary_text"
   ]
  },
  {
   "cell_type": "code",
   "execution_count": 16,
   "metadata": {},
   "outputs": [
    {
     "data": {
      "text/plain": [
       "'Papa What is a Neural Network At the back of my head thoughts of me taking days to comprehend what a NN short for Neural Network is how it would work where it is used how it is simulating our human brain s inner workings were going through. How you learnt it is because of Neural Network inside your Now a neural network is a collection of neurons that keeps switching on and off based on things you see feel hear and think just like switching on light bulb at our home. Every neuron is waiting for your eyes to see something new for your nose to smell something new for your ears to hear something new for your tongue to taste something new. When something new is heard or smelled or seen or tasted the neurons will group together to send signals and forms connections with already seen heard tasted or smelled neurons. When you see a new object your brain will ask the neurons Hey anybody experienced this before The neurons will say Yes I have seen Certain other neurons will say No I have not seen The neurons that have seen this before will group together and form logical connections from the past and gives us an object from our memory'"
      ]
     },
     "execution_count": 16,
     "metadata": {},
     "output_type": "execute_result"
    }
   ],
   "source": [
    "# Retrieving the Luhn Summary\n",
    "luhn_summary_doc=[]\n",
    "for sentence in luhn_summary_text:\n",
    "    luhn_summary_doc.append(\" \".join(sentence.words) )\n",
    "luhn_summary_doc = \". \".join(luhn_summary_doc)\n",
    "luhn_summary_doc"
   ]
  },
  {
   "cell_type": "markdown",
   "metadata": {},
   "source": [
    "### LsaSummarizer"
   ]
  },
  {
   "cell_type": "code",
   "execution_count": 17,
   "metadata": {},
   "outputs": [
    {
     "data": {
      "text/plain": [
       "(<Sentence: If you’ve noticed, this is how ML people make their machines learn through Reinforcement Learning.>,\n",
       " <Sentence: For example, when I showed you a lion picture, your brain asked the neurons who had seen it before.>,\n",
       " <Sentence: Every neuron will tune itself to pick up certain features like legs, tail, face, beard, and so on.>,\n",
       " <Sentence: And I hope she will not come to me running asking “Papa, what is Meural Metark?” again.>,\n",
       " <Sentence: And I have a strong feeling; she would ask me another stunning question sooner or later.>)"
      ]
     },
     "execution_count": 17,
     "metadata": {},
     "output_type": "execute_result"
    }
   ],
   "source": [
    "lsa_summary_text = lsaSummarizer(doc, 5)\n",
    "lsa_summary_text"
   ]
  },
  {
   "cell_type": "code",
   "execution_count": 18,
   "metadata": {},
   "outputs": [
    {
     "data": {
      "text/plain": [
       "'If you ve noticed this is how ML people make their machines learn through Reinforcement Learning. For example when I showed you a lion picture your brain asked the neurons who had seen it before. Every neuron will tune itself to pick up certain features like legs tail face beard and so on. And I hope she will not come to me running asking Papa what is Meural Metark again. And I have a strong feeling she would ask me another stunning question sooner or later'"
      ]
     },
     "execution_count": 18,
     "metadata": {},
     "output_type": "execute_result"
    }
   ],
   "source": [
    "# Retrieving the Lsa Summary\n",
    "lsa_summary_doc=[]\n",
    "for sentence in lsa_summary_text:\n",
    "    lsa_summary_doc.append(\" \".join(sentence.words) )\n",
    "lsa_summary_doc = \". \".join(lsa_summary_doc)\n",
    "lsa_summary_doc"
   ]
  },
  {
   "cell_type": "markdown",
   "metadata": {},
   "source": [
    "## 2. Gensim"
   ]
  },
  {
   "cell_type": "markdown",
   "metadata": {},
   "source": [
    "## Task: Take a piece of text from wiki page and summarize them using Gensim\n",
    "### Steps\n",
    "- Install the necessary libraries\n",
    "- Import the libraries\n",
    "- Scrape the text from a pre-defined webpage\n",
    "- Summarize"
   ]
  },
  {
   "cell_type": "markdown",
   "metadata": {},
   "source": [
    "### Install the library"
   ]
  },
  {
   "cell_type": "code",
   "execution_count": 19,
   "metadata": {},
   "outputs": [],
   "source": [
    "# Downgrading gensim\n",
    "# !pip uninstall gensim\n",
    "# !pip install gensim==3.8.3 --user"
   ]
  },
  {
   "cell_type": "markdown",
   "metadata": {},
   "source": [
    "### Import the library"
   ]
  },
  {
   "cell_type": "code",
   "execution_count": 20,
   "metadata": {},
   "outputs": [],
   "source": [
    "from gensim.summarization import summarize"
   ]
  },
  {
   "cell_type": "markdown",
   "metadata": {},
   "source": [
    "### Scrape the text\n",
    "- Use beautifulSoup to extract text (from Task1 of ML-1)"
   ]
  },
  {
   "cell_type": "code",
   "execution_count": 21,
   "metadata": {},
   "outputs": [],
   "source": [
    "import requests\n",
    "import re\n",
    "from bs4 import BeautifulSoup"
   ]
  },
  {
   "cell_type": "code",
   "execution_count": 22,
   "metadata": {},
   "outputs": [],
   "source": [
    "def get_page(url):\n",
    "    res = requests.get(url)\n",
    "    soup = BeautifulSoup(res.text, 'html.parser')\n",
    "    return soup"
   ]
  },
  {
   "cell_type": "code",
   "execution_count": 23,
   "metadata": {},
   "outputs": [],
   "source": [
    "def collect_text(soup):\n",
    "    text = f'url: {url}\\n\\n'\n",
    "    para_text = soup.find_all('p')\n",
    "    print(f\"paragraphs text = \\n {para_text}\")\n",
    "    for para in para_text:\n",
    "        text += f\"{para.text}\\n\\n\"\n",
    "    return text"
   ]
  },
  {
   "cell_type": "code",
   "execution_count": 24,
   "metadata": {},
   "outputs": [],
   "source": [
    "# url = \"https://en.wikipedia.org/wiki/Automatic_summarization\"\n",
    "# url = \"https://medium.com/@johan-jublanc/stop-using-notebooks-or-why-you-should-start-making-data-science-as-a-developer-would-do-5d67c8990df5\"\n",
    "url = \"https://medium.com/@subashgandyer/papa-what-is-a-neural-network-c5e5cc427c7\"\n"
   ]
  },
  {
   "cell_type": "code",
   "execution_count": 25,
   "metadata": {},
   "outputs": [
    {
     "name": "stdout",
     "output_type": "stream",
     "text": [
      "paragraphs text = \n",
      " [<p class=\"pw-published-date bm b bn bo cn\"><span>Mar 15, 2018</span></p>, <p class=\"pw-post-body-paragraph jd je ig jf b jg jh ji jj jk jl jm jn jo jp jq jr js jt ju jv jw jx jy jz ka hz gh\" id=\"7022\">It was a cozy Sunday afternoon in the month of February 2018. I just finished my huge customary Sunday lunch spread with family and resting along. Everyone in the family was taking a quick nap for a pre-planned evening outing. Well not everyone, actually.</p>, <p class=\"pw-post-body-paragraph jd je ig jf b jg jh ji jj jk jl jm jn jo jp jq jr js jt ju jv jw jx jy jz ka hz gh\" id=\"d273\">My 4-year-old angel came running to me, asked me to play with her for a while. As I was lazy and not in a position to move after the big spread, I evaded the chance to play with her by telling her “Papa’s got some work baby. Got to code some stuff.” I thought that would be the end of the conversation. No! It wasn’t. As my daughter was very inquisitive, she asked me “Papa, what stuff?” I said, “I need to code something for my work.” She didn’t leave. She again asked, “What is code something?” I wanted to end this conversation, as I was half past asleep. “Just some stuff baby. You wouldn’t understand. Way beyond your age.” Tanishi never takes NO for an answer. “Papa, tell me what stuff means and something means.” Cannot help evade a cute curious face, I said, “I am working on Neural Network.” Before I finish the statement, “Papa, What is a Meural Metark?” I gave up my stubbornness of avoiding her. With a smile, I said slowly, “Its Neu — ral Net — work”</p>, <p class=\"pw-post-body-paragraph jd je ig jf b jg jh ji jj jk jl jm jn jo jp jq jr js jt ju jv jw jx jy jz ka hz gh\" id=\"cdc5\">She asked, “Papa, What is Meu-ral Met-ark?”</p>, <p class=\"pw-post-body-paragraph jd je ig jf b jg jh ji jj jk jl jm jn jo jp jq jr js jt ju jv jw jx jy jz ka hz gh\" id=\"79e6\">At the back of my head, thoughts of me taking days to comprehend what a NN (short for Neural Network) is, how it would work, where it is used, how it is simulating our human brain’s inner workings were going through. It took me days and weeks to understand fully and how can I make a 4-year-old understand what a Neural Network is. I never thought about teaching a complex concept to a kid before. It was way beyond their age. It was not a mere color or a shape or a number to teach. This was going to be interesting and challenging. I saw an opportunity here as a teacher (teaching professional college adults) to simplify the complex problem to a simpler understandable concept for a kid who doesn’t know anything apart from ABC, 1 to 20, Colors and Shapes. WOW! This was mind-boggling. I gave a couple of lectures to make my adult students understand what a Neural Network is when I taught them a mini-Machine Learning course. I rolled up my sleeves. Took up the challenge. Sat down beside my kid with pencil, drawing sheet and my laptop.</p>, <p class=\"pw-post-body-paragraph jd je ig jf b jg jh ji jj jk jl jm jn jo jp jq jr js jt ju jv jw jx jy jz ka hz gh\" id=\"f38f\">Thinking of ways of what would be the best way to start teaching her. One simple methodology: I thought of starting with an easy-to-follow definition.</p>, <p class=\"pw-post-body-paragraph jd je ig jf b jg jh ji jj jk jl jm jn jo jp jq jr js jt ju jv jw jx jy jz ka hz gh\" id=\"49ee\"><em class=\"ks\">“Neural Network is a collection (a network) of neurons whose job is to learn a new thing or a new place or a new process or a new concept.”</em></p>, <p class=\"pw-post-body-paragraph jd je ig jf b jg jh ji jj jk jl jm jn jo jp jq jr js jt ju jv jw jx jy jz ka hz gh\" id=\"829e\">It would be stupid on my part to start with a definition of Neural Network like how we used to teach adults in college. No, it’s not right for a kid. Then, I thought of a way to start with her favorite hobby of drawing and coloring objects. Gave her a paper, ask her to draw a circle. She did. She didn’t stop there. She drew a face inside the circle. She did with great pride and smile. I drew a circle below. Asked her to draw a dog out of it. She drew a face on the circle, and then she drew one big ellipse next to head. Beneath the ellipse, she drew four legs downwards. She said, “That’s the dog daddy.” I was super impressed as her daddy. I said, “Good Job!” and asked her, “Where’s the tail, baby?” She smiled and drew a tail. That’s it. There’s a dog.</p>, <p class=\"pw-post-body-paragraph jd je ig jf b jg jh ji jj jk jl jm jn jo jp jq jr js jt ju jv jw jx jy jz ka hz gh\" id=\"30d4\">I knew she never learnt to draw a lion. I took this opportunity to make her learn a new thing. After all, neural network inside our brain helps us to learn new things in our life. I said, “Baby, we would learn how to draw a lion now.” She’s bustling with energy said “Yayyyy! Lion!” and made “Grrrrrrrrr!!!” I tested her by asking her to try drawing a lion. She stumbled. She never came across a lion before. I told her, there would be a circle face, ellipse body, four legs, a tail and so on. What I was actually doing here was teaching her neural network (brain) the features of a lion like exactly how Machine Learning Engineers would train the machine to learn new features. After telling her the features of a lion, asked her “Can you draw these for me?” She happily drew almost a similar figure to that of a dog she drew before.</p>, <p class=\"pw-post-body-paragraph jd je ig jf b jg jh ji jj jk jl jm jn jo jp jq jr js jt ju jv jw jx jy jz ka hz gh\" id=\"936b\">I said, “Very good”. But they look similar right? Now, we need to know the difference between a dog and a lion. What’s the difference? Lion is big. Dog is small. One big difference is the mane (the beard) just like your papa has. A big beard is the main difference between a lion and a dog. Now I took the pencil and drew a beard in the face. I told her this is a lion. A dog will have features like face, body, legs, and tail. A lion will have features like face, body, legs, tail and a beard. She was little confused, rightly so.</p>, <p class=\"pw-post-body-paragraph jd je ig jf b jg jh ji jj jk jl jm jn jo jp jq jr js jt ju jv jw jx jy jz ka hz gh\" id=\"fc45\">Tried a different approach to teach her with visuals. I spend some time in collecting pictures of dogs and lions from Google images. Printed it and showed her a set of dogs and then a set of lions. I asked her what these pictures look like to you? Was it a dog or a lion? She kept mixing the answers first. After rewarding her for correct classifications with nice adjectives and correcting her for wrong classifications, her detection accuracy improved a lot after sometime. She slowly got used to it. She got trained. Her neural network got aligned with classifying Dogs and Lions after some training. If you’ve noticed, this is how ML people make their machines learn through Reinforcement Learning. This was how I trained my daughter to classify dogs and lions. She was so happy that she learnt a new thing by doing her favorite pastime of drawing and coloring.</p>, <p class=\"pw-post-body-paragraph jd je ig jf b jg jh ji jj jk jl jm jn jo jp jq jr js jt ju jv jw jx jy jz ka hz gh\" id=\"c543\">She was happy and there was the neural network functioning concept that still remained to be taught to her. I asked her “What happened now baby? Did you learn something new today? Do you know what is the difference between a lion and a dog?” She said, “Yes.” I said, “This is called Learning. You just learnt a new thing today. How you learnt it is because of Neural Network inside your brain.” Now, a neural network is a collection of neurons that keeps switching on and off based on things you see, feel, hear and think just like switching on light bulb at our home.</p>, <p class=\"pw-post-body-paragraph jd je ig jf b jg jh ji jj jk jl jm jn jo jp jq jr js jt ju jv jw jx jy jz ka hz gh\" id=\"5ecd\">“Your brain is here inside our head. Your brain has billions of neurons inside. Every neuron has a purpose of seeing a feature. You can think of a feature as a simpler form of an object. For example, a face object can be seen by neurons as a circle (face) with two smaller circles (two eyes), a line (nose) and a curved line (mouth). These are features in a face object. Neurons will look for these patterns (circle, line, curved line, smaller circles and so on). Every neuron is waiting for your eyes to see something new, for your nose to smell something new, for your ears to hear something new, for your tongue to taste something new. When something new is heard, or smelled, or seen, or tasted, the neurons will group together to send signals and forms connections with already seen, heard, tasted or smelled neurons. This is what is called as ‘Forming Logical Connections’ with the past. Once it is established, your brain will say, ‘Hey, this is dog. This is lion and so on.’ Every neuron would’ve seen, or heard, or smelled, or tasted certain features. When you see a new object, your brain will ask the neurons, ‘Hey, anybody experienced this before?’ The neurons will say, ‘Yes, I have seen this.’ Certain other neurons will say, ‘No, I have not seen this.’ The neurons that have seen this before, will group together and form logical connections from the past and gives us an object from our memory. For example, when I showed you a lion picture, your brain asked the neurons who had seen it before. The neurons grouped together with features like face, body, legs, tail and a beard forms a lion. Your brain looks for these features. Once all the features are there, the neurons will send a signal that the picture you are looking at is a lion and not a dog. This is what happens inside your brain, darling. This is also how all our learning happens.”</p>, <p class=\"pw-post-body-paragraph jd je ig jf b jg jh ji jj jk jl jm jn jo jp jq jr js jt ju jv jw jx jy jz ka hz gh\" id=\"998b\">“In short, brain consists of billions of neurons. Every neuron will tune itself to pick up certain features like legs, tail, face, beard, and so on. When a picture is shown to you, your neurons will group together and tries to signal what that object is by forming logical connections between the past and the present. Ultimately, the neurons in your brain tell that it is a lion and not a dog. This is how your brain identifies things. This complex working of the neurons inside the brain works super fast in the order of milliseconds (very fast). In a few milliseconds, your brain identifies whether the picture is a lion or a dog. This is what a neural network is and this is how it works in identifying things. The same principle is applied for a song that you hear, a cartoon that you watch, a rhyme that you sing, an animal that you draw, a food that you taste, a flower that you smell and so on. Neurons work together in finding patterns and once a pattern is identified, it signals the brain that it is a thing, place, song, taste, smell and so on.”</p>, <p class=\"pw-post-body-paragraph jd je ig jf b jg jh ji jj jk jl jm jn jo jp jq jr js jt ju jv jw jx jy jz ka hz gh\" id=\"97b5\">It was the time to test her understanding. I asked her simple questions to reiterate what she learnt just now. “Do you understand now, baby? Shall I ask you some questions? If you answer it correctly, I will take you out to the ice-cream parlor and you can have how much ever you want. “ The conversation went like this.</p>, <p class=\"pw-post-body-paragraph jd je ig jf b jg jh ji jj jk jl jm jn jo jp jq jr js jt ju jv jw jx jy jz ka hz gh\" id=\"d25d\">Me: Where is your brain?</p>, <p class=\"pw-post-body-paragraph jd je ig jf b jg jh ji jj jk jl jm jn jo jp jq jr js jt ju jv jw jx jy jz ka hz gh\" id=\"2409\">Tanishi: Its here (showing her head)</p>, <p class=\"pw-post-body-paragraph jd je ig jf b jg jh ji jj jk jl jm jn jo jp jq jr js jt ju jv jw jx jy jz ka hz gh\" id=\"f15d\">Me: Correct! Where are the neurons located?</p>, <p class=\"pw-post-body-paragraph jd je ig jf b jg jh ji jj jk jl jm jn jo jp jq jr js jt ju jv jw jx jy jz ka hz gh\" id=\"a07d\">Tanishi: Here (showing her head)</p>, <p class=\"pw-post-body-paragraph jd je ig jf b jg jh ji jj jk jl jm jn jo jp jq jr js jt ju jv jw jx jy jz ka hz gh\" id=\"2522\">Me: Good! Who is responsible for identifying things, objects inside our brain?</p>, <p class=\"pw-post-body-paragraph jd je ig jf b jg jh ji jj jk jl jm jn jo jp jq jr js jt ju jv jw jx jy jz ka hz gh\" id=\"4e2c\">Tanishi: Hmmmm. Don’t know.</p>, <p class=\"pw-post-body-paragraph jd je ig jf b jg jh ji jj jk jl jm jn jo jp jq jr js jt ju jv jw jx jy jz ka hz gh\" id=\"43ee\">Me: I will give a clue. It starts with ’N’ and ends with a rhyming sound of ‘ons’</p>, <p class=\"pw-post-body-paragraph jd je ig jf b jg jh ji jj jk jl jm jn jo jp jq jr js jt ju jv jw jx jy jz ka hz gh\" id=\"eac0\">Tanishi: Neurons</p>, <p class=\"pw-post-body-paragraph jd je ig jf b jg jh ji jj jk jl jm jn jo jp jq jr js jt ju jv jw jx jy jz ka hz gh\" id=\"fe95\">Me: Good job, baby. Every neuron looks for something. What is a neuron looking for? I will give you a hint. Is it features?</p>, <p class=\"pw-post-body-paragraph jd je ig jf b jg jh ji jj jk jl jm jn jo jp jq jr js jt ju jv jw jx jy jz ka hz gh\" id=\"009b\">Tanishi: Yes.</p>, <p class=\"pw-post-body-paragraph jd je ig jf b jg jh ji jj jk jl jm jn jo jp jq jr js jt ju jv jw jx jy jz ka hz gh\" id=\"eb01\">Me: Tell me what neurons are looking for?</p>, <p class=\"pw-post-body-paragraph jd je ig jf b jg jh ji jj jk jl jm jn jo jp jq jr js jt ju jv jw jx jy jz ka hz gh\" id=\"b74a\">Tanishi: Features.</p>, <p class=\"pw-post-body-paragraph jd je ig jf b jg jh ji jj jk jl jm jn jo jp jq jr js jt ju jv jw jx jy jz ka hz gh\" id=\"f474\">Me: Great! When I ask you to draw a dog, what are the features there?</p>, <p class=\"pw-post-body-paragraph jd je ig jf b jg jh ji jj jk jl jm jn jo jp jq jr js jt ju jv jw jx jy jz ka hz gh\" id=\"8d2e\">Tanishi: Help me. I don’t know.</p>, <p class=\"pw-post-body-paragraph jd je ig jf b jg jh ji jj jk jl jm jn jo jp jq jr js jt ju jv jw jx jy jz ka hz gh\" id=\"243f\">Me: Okay, when I ask you to draw a dog, what is the first thing you draw?</p>, <p class=\"pw-post-body-paragraph jd je ig jf b jg jh ji jj jk jl jm jn jo jp jq jr js jt ju jv jw jx jy jz ka hz gh\" id=\"f198\">Tanishi: Circle.</p>, <p class=\"pw-post-body-paragraph jd je ig jf b jg jh ji jj jk jl jm jn jo jp jq jr js jt ju jv jw jx jy jz ka hz gh\" id=\"ce3a\">Me: Good. Circle represents what?</p>, <p class=\"pw-post-body-paragraph jd je ig jf b jg jh ji jj jk jl jm jn jo jp jq jr js jt ju jv jw jx jy jz ka hz gh\" id=\"ef37\">Tanishi: Face</p>, <p class=\"pw-post-body-paragraph jd je ig jf b jg jh ji jj jk jl jm jn jo jp jq jr js jt ju jv jw jx jy jz ka hz gh\" id=\"5689\">Me: Yeah, baby. Then what you draw next?</p>, <p class=\"pw-post-body-paragraph jd je ig jf b jg jh ji jj jk jl jm jn jo jp jq jr js jt ju jv jw jx jy jz ka hz gh\" id=\"059c\">Tanishi: I draw eyes, nose, and mouth.</p>, <p class=\"pw-post-body-paragraph jd je ig jf b jg jh ji jj jk jl jm jn jo jp jq jr js jt ju jv jw jx jy jz ka hz gh\" id=\"1b01\">Me: Good. That’s right. So, the face has got eyes, nose and mouth as features. Now tell me, what are the features in a face?</p>, <p class=\"pw-post-body-paragraph jd je ig jf b jg jh ji jj jk jl jm jn jo jp jq jr js jt ju jv jw jx jy jz ka hz gh\" id=\"1348\">Tanishi: Eyes, nose, mouth</p>, <p class=\"pw-post-body-paragraph jd je ig jf b jg jh ji jj jk jl jm jn jo jp jq jr js jt ju jv jw jx jy jz ka hz gh\" id=\"a0e3\">Me: Brilliant! After the face, what do you draw for completing a dog?</p>, <p class=\"pw-post-body-paragraph jd je ig jf b jg jh ji jj jk jl jm jn jo jp jq jr js jt ju jv jw jx jy jz ka hz gh\" id=\"4ee2\">Tanishi: Body</p>, <p class=\"pw-post-body-paragraph jd je ig jf b jg jh ji jj jk jl jm jn jo jp jq jr js jt ju jv jw jx jy jz ka hz gh\" id=\"7fd8\">Me: What shape is the body?</p>, <p class=\"pw-post-body-paragraph jd je ig jf b jg jh ji jj jk jl jm jn jo jp jq jr js jt ju jv jw jx jy jz ka hz gh\" id=\"1b0d\">Tanishi: Ellipse</p>, <p class=\"pw-post-body-paragraph jd je ig jf b jg jh ji jj jk jl jm jn jo jp jq jr js jt ju jv jw jx jy jz ka hz gh\" id=\"8a41\">Me: Nice. This is also a feature that our neurons are looking for. What’s next?</p>, <p class=\"pw-post-body-paragraph jd je ig jf b jg jh ji jj jk jl jm jn jo jp jq jr js jt ju jv jw jx jy jz ka hz gh\" id=\"ed6e\">Tanishi: Legs</p>, <p class=\"pw-post-body-paragraph jd je ig jf b jg jh ji jj jk jl jm jn jo jp jq jr js jt ju jv jw jx jy jz ka hz gh\" id=\"e1c4\">Me: How many legs does a dog have?</p>, <p class=\"pw-post-body-paragraph jd je ig jf b jg jh ji jj jk jl jm jn jo jp jq jr js jt ju jv jw jx jy jz ka hz gh\" id=\"15f4\">Tanishi: 1,2,3,4. 4 legs</p>, <p class=\"pw-post-body-paragraph jd je ig jf b jg jh ji jj jk jl jm jn jo jp jq jr js jt ju jv jw jx jy jz ka hz gh\" id=\"d09c\">Me: Good. Anything else to draw in a dog?</p>, <p class=\"pw-post-body-paragraph jd je ig jf b jg jh ji jj jk jl jm jn jo jp jq jr js jt ju jv jw jx jy jz ka hz gh\" id=\"b8dd\">Tanishi: That’s it.</p>, <p class=\"pw-post-body-paragraph jd je ig jf b jg jh ji jj jk jl jm jn jo jp jq jr js jt ju jv jw jx jy jz ka hz gh\" id=\"16bf\">Me: Hey how about a tail? Dogs have tail?</p>, <p class=\"pw-post-body-paragraph jd je ig jf b jg jh ji jj jk jl jm jn jo jp jq jr js jt ju jv jw jx jy jz ka hz gh\" id=\"fc5e\">Tanishi: Yes.</p>, <p class=\"pw-post-body-paragraph jd je ig jf b jg jh ji jj jk jl jm jn jo jp jq jr js jt ju jv jw jx jy jz ka hz gh\" id=\"51d2\">Me: So, for a dog, the features are face, body, legs and tail. Do you understand what are the features now for a dog?</p>, <p class=\"pw-post-body-paragraph jd je ig jf b jg jh ji jj jk jl jm jn jo jp jq jr js jt ju jv jw jx jy jz ka hz gh\" id=\"0400\">Tanishi: Yes!!!</p>, <p class=\"pw-post-body-paragraph jd je ig jf b jg jh ji jj jk jl jm jn jo jp jq jr js jt ju jv jw jx jy jz ka hz gh\" id=\"cd53\">Me: What are they?</p>, <p class=\"pw-post-body-paragraph jd je ig jf b jg jh ji jj jk jl jm jn jo jp jq jr js jt ju jv jw jx jy jz ka hz gh\" id=\"40c9\">Tanishi: Face, body, legs and tail</p>, <p class=\"pw-post-body-paragraph jd je ig jf b jg jh ji jj jk jl jm jn jo jp jq jr js jt ju jv jw jx jy jz ka hz gh\" id=\"4d40\">Me: Amazing baby. If I ask you to draw a lion, what are the features? Same features as a dog but with an extra feature. Can you tell me what that extra feature is for a lion? It starts with ‘B’</p>, <p class=\"pw-post-body-paragraph jd je ig jf b jg jh ji jj jk jl jm jn jo jp jq jr js jt ju jv jw jx jy jz ka hz gh\" id=\"3685\">Tanishi: Beard. (Holding my beard, she smiled and said) Beard like you</p>, <p class=\"pw-post-body-paragraph jd je ig jf b jg jh ji jj jk jl jm jn jo jp jq jr js jt ju jv jw jx jy jz ka hz gh\" id=\"3199\">Me: Yes, darling. Good job. So, neurons are inside our brain waiting for features. To identify an object, it looks for features. Once the features are seen and a logical connection is established, neurons signals your brain that it is a lion. Who sends signal to the brain?</p>, <p class=\"pw-post-body-paragraph jd je ig jf b jg jh ji jj jk jl jm jn jo jp jq jr js jt ju jv jw jx jy jz ka hz gh\" id=\"e5a5\">Tanishi: Neurons</p>, <p class=\"pw-post-body-paragraph jd je ig jf b jg jh ji jj jk jl jm jn jo jp jq jr js jt ju jv jw jx jy jz ka hz gh\" id=\"e8b1\">Me: Now, these neurons are working together as friends. They are like your friends Daisy, Rose, Isabelle and Hayami. All neurons work together like your friends and identify lion and dog. So, this group of neuron friends is called as Neural Network. Tell me, what is a neural network?</p>, <p class=\"pw-post-body-paragraph jd je ig jf b jg jh ji jj jk jl jm jn jo jp jq jr js jt ju jv jw jx jy jz ka hz gh\" id=\"749a\">Tanishi: Neuron friends</p>, <p class=\"pw-post-body-paragraph jd je ig jf b jg jh ji jj jk jl jm jn jo jp jq jr js jt ju jv jw jx jy jz ka hz gh\" id=\"66c5\">Me: Good. Neural network is a group of neuron friends identifying lions and dogs. Do you understand Neural Network now?</p>, <p class=\"pw-post-body-paragraph jd je ig jf b jg jh ji jj jk jl jm jn jo jp jq jr js jt ju jv jw jx jy jz ka hz gh\" id=\"619e\">Tanishi: Yes papa.</p>, <p class=\"pw-post-body-paragraph jd je ig jf b jg jh ji jj jk jl jm jn jo jp jq jr js jt ju jv jw jx jy jz ka hz gh\" id=\"9ddc\">Me: Brilliant job baby. Come, let’s go, and get some ice creams for my lovely angel.</p>, <p class=\"pw-post-body-paragraph jd je ig jf b jg jh ji jj jk jl jm jn jo jp jq jr js jt ju jv jw jx jy jz ka hz gh\" id=\"915a\">Phew! That was a challenging and a learning experience for me as well. That was how I ended my Sunday afternoon with my brilliant daughter who can teach other kids what a Meural Metark is. And I hope she will not come to me running asking “Papa, what is Meural Metark?” again. And I have a strong feeling; she would ask me another stunning question sooner or later. Fingers crossed and I am prepared to take up the challenges coming my way in the future.</p>, <p class=\"bm b gp bo cn\"><span class=\"lm\">--</span></p>, <p class=\"bm b gp bo cn\"><span class=\"lm\">--</span></p>, <p class=\"bm b bn bo cn\"><span class=\"pw-responses-count mj me mk\">1</span></p>, <p class=\"bm b bn bo cn\">CS Teacher to ...</p>, <p class=\"bm b dm dn gh\">Love podcasts or audiobooks? Learn on the go with our new app.</p>, <p class=\"bm b gp bo nj qn nk nl nm nn no np gh\">Michael Davis</p>, <p class=\"bm b gp bo cn\">in</p>, <p class=\"bm b gp bo nj qn nk nl nm nn no np gh\">The Startup</p>, <p class=\"bm b gp bo nj qn nk nl nm nn no np gh\">Deeping Source Writer</p>, <p class=\"bm b gp bo cn\">in</p>, <p class=\"bm b gp bo nj qn nk nl nm nn no np gh\">Anonymized_AI</p>, <p class=\"bm b gp bo nj qn nk nl nm nn no np gh\">Mohammed Arshad Ansari</p>, <p class=\"bm b gp bo nj qn nk nl nm nn no np gh\">Soumiya Sivasathiyanathan</p>, <p class=\"bm b gp bo nj qn nk nl nm nn no np gh\">Akanksha Singh</p>, <p class=\"bm b gp bo nj qn nk nl nm nn no np gh\">Fabio Veronese</p>, <p class=\"bm b gp bo cn\">in</p>, <p class=\"bm b gp bo nj qn nk nl nm nn no np gh\">Geek Culture</p>, <p class=\"bm b gp bo nj qn nk nl nm nn no np gh\">Sanjana Biswas</p>, <p class=\"bm b gp bo nj qn nk nl nm nn no np gh\">Constellation AI</p>, <p class=\"bm b gp bo cn\">in</p>, <p class=\"bm b gp bo nj qn nk nl nm nn no np gh\">Constellation AI</p>, <p class=\"bm b gp bo rj\"><a class=\"au av aw ax ay az ba bb bc bd rk bg rf rg rl\" href=\"https://medium.com/about?autoplay=1&amp;source=post_page-----c5e5cc427c7--------------------------------\" rel=\"noopener follow\">About</a><a class=\"au av aw ax ay az ba bb bc bd rk bg rf rg rl\" href=\"https://help.medium.com/hc/en-us?source=post_page-----c5e5cc427c7--------------------------------\" rel=\"noopener follow\">Help</a><a class=\"au av aw ax ay az ba bb bc bd rk bg rf rg rl\" href=\"https://policy.medium.com/medium-terms-of-service-9db0094a1e0f?source=post_page-----c5e5cc427c7--------------------------------\" rel=\"noopener follow\">Terms</a><a class=\"au av aw ax ay az ba bb bc bd rk bg rf rg\" href=\"https://policy.medium.com/medium-privacy-policy-f03bf92035c9?source=post_page-----c5e5cc427c7--------------------------------\" rel=\"noopener follow\">Privacy</a></p>, <p class=\"bm b bn bo cn\"><span class=\"hz\">CS Teacher to ...</span></p>, <p class=\"bm b sk sl cn\">Help</p>, <p class=\"bm b sk sl cn\">Status</p>, <p class=\"bm b sk sl cn\">Writers</p>, <p class=\"bm b sk sl cn\">Blog</p>, <p class=\"bm b sk sl cn\">Careers</p>, <p class=\"bm b sk sl cn\">Privacy</p>, <p class=\"bm b sk sl cn\">Terms</p>, <p class=\"bm b sk sl cn\">About</p>, <p class=\"bm b sk sl cn\">Text to speech</p>]\n"
     ]
    },
    {
     "data": {
      "text/plain": [
       "'url: https://medium.com/@subashgandyer/papa-what-is-a-neural-network-c5e5cc427c7\\n\\nMar 15, 2018\\n\\nIt was a cozy Sunday afternoon in the month of February 2018. I just finished my huge customary Sunday lunch spread with family and resting along. Everyone in the family was taking a quick nap for a pre-planned evening outing. Well not everyone, actually.\\n\\nMy 4-year-old angel came running to me, asked me to play with her for a while. As I was lazy and not in a position to move after the big spread, I evaded the chance to play with her by telling her “Papa’s got some work baby. Got to code some stuff.” I thought that would be the end of the conversation. No! It wasn’t. As my daughter was very inquisitive, she asked me “Papa, what stuff?” I said, “I need to code something for my work.” She didn’t leave. She again asked, “What is code something?” I wanted to end this conversation, as I was half past asleep. “Just some stuff baby. You wouldn’t understand. Way beyond your age.” Tanishi never takes NO for an answer. “Papa, tell me what stuff means and something means.” Cannot help evade a cute curious face, I said, “I am working on Neural Network.” Before I finish the statement, “Papa, What is a Meural Metark?” I gave up my stubbornness of avoiding her. With a smile, I said slowly, “Its Neu — ral Net — work”\\n\\nShe asked, “Papa, What is Meu-ral Met-ark?”\\n\\nAt the back of my head, thoughts of me taking days to comprehend what a NN (short for Neural Network) is, how it would work, where it is used, how it is simulating our human brain’s inner workings were going through. It took me days and weeks to understand fully and how can I make a 4-year-old understand what a Neural Network is. I never thought about teaching a complex concept to a kid before. It was way beyond their age. It was not a mere color or a shape or a number to teach. This was going to be interesting and challenging. I saw an opportunity here as a teacher (teaching professional college adults) to simplify the complex problem to a simpler understandable concept for a kid who doesn’t know anything apart from ABC, 1 to 20, Colors and Shapes. WOW! This was mind-boggling. I gave a couple of lectures to make my adult students understand what a Neural Network is when I taught them a mini-Machine Learning course. I rolled up my sleeves. Took up the challenge. Sat down beside my kid with pencil, drawing sheet and my laptop.\\n\\nThinking of ways of what would be the best way to start teaching her. One simple methodology: I thought of starting with an easy-to-follow definition.\\n\\n“Neural Network is a collection (a network) of neurons whose job is to learn a new thing or a new place or a new process or a new concept.”\\n\\nIt would be stupid on my part to start with a definition of Neural Network like how we used to teach adults in college. No, it’s not right for a kid. Then, I thought of a way to start with her favorite hobby of drawing and coloring objects. Gave her a paper, ask her to draw a circle. She did. She didn’t stop there. She drew a face inside the circle. She did with great pride and smile. I drew a circle below. Asked her to draw a dog out of it. She drew a face on the circle, and then she drew one big ellipse next to head. Beneath the ellipse, she drew four legs downwards. She said, “That’s the dog daddy.” I was super impressed as her daddy. I said, “Good Job!” and asked her, “Where’s the tail, baby?” She smiled and drew a tail. That’s it. There’s a dog.\\n\\nI knew she never learnt to draw a lion. I took this opportunity to make her learn a new thing. After all, neural network inside our brain helps us to learn new things in our life. I said, “Baby, we would learn how to draw a lion now.” She’s bustling with energy said “Yayyyy! Lion!” and made “Grrrrrrrrr!!!” I tested her by asking her to try drawing a lion. She stumbled. She never came across a lion before. I told her, there would be a circle face, ellipse body, four legs, a tail and so on. What I was actually doing here was teaching her neural network (brain) the features of a lion like exactly how Machine Learning Engineers would train the machine to learn new features. After telling her the features of a lion, asked her “Can you draw these for me?” She happily drew almost a similar figure to that of a dog she drew before.\\n\\nI said, “Very good”. But they look similar right? Now, we need to know the difference between a dog and a lion. What’s the difference? Lion is big. Dog is small. One big difference is the mane (the beard) just like your papa has. A big beard is the main difference between a lion and a dog. Now I took the pencil and drew a beard in the face. I told her this is a lion. A dog will have features like face, body, legs, and tail. A lion will have features like face, body, legs, tail and a beard. She was little confused, rightly so.\\n\\nTried a different approach to teach her with visuals. I spend some time in collecting pictures of dogs and lions from Google images. Printed it and showed her a set of dogs and then a set of lions. I asked her what these pictures look like to you? Was it a dog or a lion? She kept mixing the answers first. After rewarding her for correct classifications with nice adjectives and correcting her for wrong classifications, her detection accuracy improved a lot after sometime. She slowly got used to it. She got trained. Her neural network got aligned with classifying Dogs and Lions after some training. If you’ve noticed, this is how ML people make their machines learn through Reinforcement Learning. This was how I trained my daughter to classify dogs and lions. She was so happy that she learnt a new thing by doing her favorite pastime of drawing and coloring.\\n\\nShe was happy and there was the neural network functioning concept that still remained to be taught to her. I asked her “What happened now baby? Did you learn something new today? Do you know what is the difference between a lion and a dog?” She said, “Yes.” I said, “This is called Learning. You just learnt a new thing today. How you learnt it is because of Neural Network inside your brain.” Now, a neural network is a collection of neurons that keeps switching on and off based on things you see, feel, hear and think just like switching on light bulb at our home.\\n\\n“Your brain is here inside our head. Your brain has billions of neurons inside. Every neuron has a purpose of seeing a feature. You can think of a feature as a simpler form of an object. For example, a face object can be seen by neurons as a circle (face) with two smaller circles (two eyes), a line (nose) and a curved line (mouth). These are features in a face object. Neurons will look for these patterns (circle, line, curved line, smaller circles and so on). Every neuron is waiting for your eyes to see something new, for your nose to smell something new, for your ears to hear something new, for your tongue to taste something new. When something new is heard, or smelled, or seen, or tasted, the neurons will group together to send signals and forms connections with already seen, heard, tasted or smelled neurons. This is what is called as ‘Forming Logical Connections’ with the past. Once it is established, your brain will say, ‘Hey, this is dog. This is lion and so on.’ Every neuron would’ve seen, or heard, or smelled, or tasted certain features. When you see a new object, your brain will ask the neurons, ‘Hey, anybody experienced this before?’ The neurons will say, ‘Yes, I have seen this.’ Certain other neurons will say, ‘No, I have not seen this.’ The neurons that have seen this before, will group together and form logical connections from the past and gives us an object from our memory. For example, when I showed you a lion picture, your brain asked the neurons who had seen it before. The neurons grouped together with features like face, body, legs, tail and a beard forms a lion. Your brain looks for these features. Once all the features are there, the neurons will send a signal that the picture you are looking at is a lion and not a dog. This is what happens inside your brain, darling. This is also how all our learning happens.”\\n\\n“In short, brain consists of billions of neurons. Every neuron will tune itself to pick up certain features like legs, tail, face, beard, and so on. When a picture is shown to you, your neurons will group together and tries to signal what that object is by forming logical connections between the past and the present. Ultimately, the neurons in your brain tell that it is a lion and not a dog. This is how your brain identifies things. This complex working of the neurons inside the brain works super fast in the order of milliseconds (very fast). In a few milliseconds, your brain identifies whether the picture is a lion or a dog. This is what a neural network is and this is how it works in identifying things. The same principle is applied for a song that you hear, a cartoon that you watch, a rhyme that you sing, an animal that you draw, a food that you taste, a flower that you smell and so on. Neurons work together in finding patterns and once a pattern is identified, it signals the brain that it is a thing, place, song, taste, smell and so on.”\\n\\nIt was the time to test her understanding. I asked her simple questions to reiterate what she learnt just now. “Do you understand now, baby? Shall I ask you some questions? If you answer it correctly, I will take you out to the ice-cream parlor and you can have how much ever you want. “ The conversation went like this.\\n\\nMe: Where is your brain?\\n\\nTanishi: Its here (showing her head)\\n\\nMe: Correct! Where are the neurons located?\\n\\nTanishi: Here (showing her head)\\n\\nMe: Good! Who is responsible for identifying things, objects inside our brain?\\n\\nTanishi: Hmmmm. Don’t know.\\n\\nMe: I will give a clue. It starts with ’N’ and ends with a rhyming sound of ‘ons’\\n\\nTanishi: Neurons\\n\\nMe: Good job, baby. Every neuron looks for something. What is a neuron looking for? I will give you a hint. Is it features?\\n\\nTanishi: Yes.\\n\\nMe: Tell me what neurons are looking for?\\n\\nTanishi: Features.\\n\\nMe: Great! When I ask you to draw a dog, what are the features there?\\n\\nTanishi: Help me. I don’t know.\\n\\nMe: Okay, when I ask you to draw a dog, what is the first thing you draw?\\n\\nTanishi: Circle.\\n\\nMe: Good. Circle represents what?\\n\\nTanishi: Face\\n\\nMe: Yeah, baby. Then what you draw next?\\n\\nTanishi: I draw eyes, nose, and mouth.\\n\\nMe: Good. That’s right. So, the face has got eyes, nose and mouth as features. Now tell me, what are the features in a face?\\n\\nTanishi: Eyes, nose, mouth\\n\\nMe: Brilliant! After the face, what do you draw for completing a dog?\\n\\nTanishi: Body\\n\\nMe: What shape is the body?\\n\\nTanishi: Ellipse\\n\\nMe: Nice. This is also a feature that our neurons are looking for. What’s next?\\n\\nTanishi: Legs\\n\\nMe: How many legs does a dog have?\\n\\nTanishi: 1,2,3,4. 4 legs\\n\\nMe: Good. Anything else to draw in a dog?\\n\\nTanishi: That’s it.\\n\\nMe: Hey how about a tail? Dogs have tail?\\n\\nTanishi: Yes.\\n\\nMe: So, for a dog, the features are face, body, legs and tail. Do you understand what are the features now for a dog?\\n\\nTanishi: Yes!!!\\n\\nMe: What are they?\\n\\nTanishi: Face, body, legs and tail\\n\\nMe: Amazing baby. If I ask you to draw a lion, what are the features? Same features as a dog but with an extra feature. Can you tell me what that extra feature is for a lion? It starts with ‘B’\\n\\nTanishi: Beard. (Holding my beard, she smiled and said) Beard like you\\n\\nMe: Yes, darling. Good job. So, neurons are inside our brain waiting for features. To identify an object, it looks for features. Once the features are seen and a logical connection is established, neurons signals your brain that it is a lion. Who sends signal to the brain?\\n\\nTanishi: Neurons\\n\\nMe: Now, these neurons are working together as friends. They are like your friends Daisy, Rose, Isabelle and Hayami. All neurons work together like your friends and identify lion and dog. So, this group of neuron friends is called as Neural Network. Tell me, what is a neural network?\\n\\nTanishi: Neuron friends\\n\\nMe: Good. Neural network is a group of neuron friends identifying lions and dogs. Do you understand Neural Network now?\\n\\nTanishi: Yes papa.\\n\\nMe: Brilliant job baby. Come, let’s go, and get some ice creams for my lovely angel.\\n\\nPhew! That was a challenging and a learning experience for me as well. That was how I ended my Sunday afternoon with my brilliant daughter who can teach other kids what a Meural Metark is. And I hope she will not come to me running asking “Papa, what is Meural Metark?” again. And I have a strong feeling; she would ask me another stunning question sooner or later. Fingers crossed and I am prepared to take up the challenges coming my way in the future.\\n\\n--\\n\\n--\\n\\n1\\n\\nCS Teacher to ...\\n\\nLove podcasts or audiobooks? Learn on the go with our new app.\\n\\nMichael Davis\\n\\nin\\n\\nThe Startup\\n\\nDeeping Source Writer\\n\\nin\\n\\nAnonymized_AI\\n\\nMohammed Arshad Ansari\\n\\nSoumiya Sivasathiyanathan\\n\\nAkanksha Singh\\n\\nFabio Veronese\\n\\nin\\n\\nGeek Culture\\n\\nSanjana Biswas\\n\\nConstellation AI\\n\\nin\\n\\nConstellation AI\\n\\nAboutHelpTermsPrivacy\\n\\nCS Teacher to ...\\n\\nHelp\\n\\nStatus\\n\\nWriters\\n\\nBlog\\n\\nCareers\\n\\nPrivacy\\n\\nTerms\\n\\nAbout\\n\\nText to speech\\n\\n'"
      ]
     },
     "execution_count": 25,
     "metadata": {},
     "output_type": "execute_result"
    }
   ],
   "source": [
    "text = collect_text(get_page(url))\n",
    "text"
   ]
  },
  {
   "cell_type": "markdown",
   "metadata": {},
   "source": [
    "### Summarize\n",
    "- **word_count**: maximum amount of words we want in the summary\n",
    "- **ratio**: fraction of sentences in the original text should be returned as output"
   ]
  },
  {
   "cell_type": "code",
   "execution_count": 26,
   "metadata": {},
   "outputs": [
    {
     "data": {
      "text/plain": [
       "'“Papa, tell me what stuff means and something means.” Cannot help evade a cute curious face, I said, “I am working on Neural Network.” Before I finish the statement, “Papa, What is a Meural Metark?” I gave up my stubbornness of avoiding her.\\nAfter all, neural network inside our brain helps us to learn new things in our life.\\nWhat I was actually doing here was teaching her neural network (brain) the features of a lion like exactly how Machine Learning Engineers would train the machine to learn new features.\\nAfter telling her the features of a lion, asked her “Can you draw these for me?” She happily drew almost a similar figure to that of a dog she drew before.\\nA dog will have features like face, body, legs, and tail.\\nA lion will have features like face, body, legs, tail and a beard.\\nThe neurons grouped together with features like face, body, legs, tail and a beard forms a lion.\\nOnce all the features are there, the neurons will send a signal that the picture you are looking at is a lion and not a dog.\\nEvery neuron will tune itself to pick up certain features like legs, tail, face, beard, and so on.\\nNeural network is a group of neuron friends identifying lions and dogs.'"
      ]
     },
     "execution_count": 26,
     "metadata": {},
     "output_type": "execute_result"
    }
   ],
   "source": [
    "gensim_summary_text = summarize(text, word_count=200, ratio = 0.1)\n",
    "gensim_summary_text"
   ]
  },
  {
   "cell_type": "markdown",
   "metadata": {},
   "source": [
    "## 3. Summa"
   ]
  },
  {
   "cell_type": "markdown",
   "metadata": {},
   "source": [
    "## Task: Take a piece of text from wiki page and summarize them using Gensim\n",
    "### Steps\n",
    "- Install the necessary libraries\n",
    "- Import the libraries\n",
    "- Scrape the text from a pre-defined webpage\n",
    "- Summarize"
   ]
  },
  {
   "cell_type": "markdown",
   "metadata": {},
   "source": [
    "### Install the library"
   ]
  },
  {
   "cell_type": "code",
   "execution_count": 27,
   "metadata": {},
   "outputs": [
    {
     "name": "stdout",
     "output_type": "stream",
     "text": [
      "Requirement already satisfied: summa in c:\\programdata\\anaconda3\\lib\\site-packages (1.2.0)\n",
      "Requirement already satisfied: scipy>=0.19 in c:\\programdata\\anaconda3\\lib\\site-packages (from summa) (1.7.3)\n",
      "Requirement already satisfied: numpy<1.23.0,>=1.16.5 in c:\\programdata\\anaconda3\\lib\\site-packages (from scipy>=0.19->summa) (1.21.5)\n"
     ]
    },
    {
     "name": "stderr",
     "output_type": "stream",
     "text": [
      "WARNING: Ignoring invalid distribution -inc (c:\\programdata\\anaconda3\\lib\\site-packages)\n",
      "WARNING: Ignoring invalid distribution -2o (c:\\programdata\\anaconda3\\lib\\site-packages)\n",
      "WARNING: Ignoring invalid distribution -1inc (c:\\programdata\\anaconda3\\lib\\site-packages)\n",
      "WARNING: Ignoring invalid distribution -pacy (c:\\programdata\\anaconda3\\lib\\site-packages)\n",
      "WARNING: Ignoring invalid distribution -mportlib-metadata (c:\\programdata\\anaconda3\\lib\\site-packages)\n",
      "WARNING: Ignoring invalid distribution -inc (c:\\programdata\\anaconda3\\lib\\site-packages)\n",
      "WARNING: Ignoring invalid distribution -0inc (c:\\programdata\\anaconda3\\lib\\site-packages)\n",
      "WARNING: Ignoring invalid distribution -hinc (c:\\programdata\\anaconda3\\lib\\site-packages)\n",
      "WARNING: Ignoring invalid distribution - (c:\\programdata\\anaconda3\\lib\\site-packages)\n",
      "WARNING: Ignoring invalid distribution -ensim (c:\\programdata\\anaconda3\\lib\\site-packages)\n",
      "WARNING: Ignoring invalid distribution -cikit-learn (c:\\programdata\\anaconda3\\lib\\site-packages)\n",
      "WARNING: Ignoring invalid distribution -andas (c:\\programdata\\anaconda3\\lib\\site-packages)\n",
      "WARNING: Ignoring invalid distribution -inc (c:\\programdata\\anaconda3\\lib\\site-packages)\n",
      "WARNING: Ignoring invalid distribution -2o (c:\\programdata\\anaconda3\\lib\\site-packages)\n",
      "WARNING: Ignoring invalid distribution -1inc (c:\\programdata\\anaconda3\\lib\\site-packages)\n",
      "WARNING: Ignoring invalid distribution -pacy (c:\\programdata\\anaconda3\\lib\\site-packages)\n",
      "WARNING: Ignoring invalid distribution -mportlib-metadata (c:\\programdata\\anaconda3\\lib\\site-packages)\n",
      "WARNING: Ignoring invalid distribution -inc (c:\\programdata\\anaconda3\\lib\\site-packages)\n",
      "WARNING: Ignoring invalid distribution -0inc (c:\\programdata\\anaconda3\\lib\\site-packages)\n",
      "WARNING: Ignoring invalid distribution -hinc (c:\\programdata\\anaconda3\\lib\\site-packages)\n",
      "WARNING: Ignoring invalid distribution - (c:\\programdata\\anaconda3\\lib\\site-packages)\n",
      "WARNING: Ignoring invalid distribution -ensim (c:\\programdata\\anaconda3\\lib\\site-packages)\n",
      "WARNING: Ignoring invalid distribution -cikit-learn (c:\\programdata\\anaconda3\\lib\\site-packages)\n",
      "WARNING: Ignoring invalid distribution -andas (c:\\programdata\\anaconda3\\lib\\site-packages)\n",
      "WARNING: Ignoring invalid distribution -inc (c:\\programdata\\anaconda3\\lib\\site-packages)\n",
      "WARNING: Ignoring invalid distribution -2o (c:\\programdata\\anaconda3\\lib\\site-packages)\n",
      "WARNING: Ignoring invalid distribution -1inc (c:\\programdata\\anaconda3\\lib\\site-packages)\n",
      "WARNING: Ignoring invalid distribution -pacy (c:\\programdata\\anaconda3\\lib\\site-packages)\n",
      "WARNING: Ignoring invalid distribution -mportlib-metadata (c:\\programdata\\anaconda3\\lib\\site-packages)\n",
      "WARNING: Ignoring invalid distribution -inc (c:\\programdata\\anaconda3\\lib\\site-packages)\n",
      "WARNING: Ignoring invalid distribution -0inc (c:\\programdata\\anaconda3\\lib\\site-packages)\n",
      "WARNING: Ignoring invalid distribution -hinc (c:\\programdata\\anaconda3\\lib\\site-packages)\n",
      "WARNING: Ignoring invalid distribution - (c:\\programdata\\anaconda3\\lib\\site-packages)\n",
      "WARNING: Ignoring invalid distribution -ensim (c:\\programdata\\anaconda3\\lib\\site-packages)\n",
      "WARNING: Ignoring invalid distribution -cikit-learn (c:\\programdata\\anaconda3\\lib\\site-packages)\n",
      "WARNING: Ignoring invalid distribution -andas (c:\\programdata\\anaconda3\\lib\\site-packages)\n",
      "WARNING: Ignoring invalid distribution -inc (c:\\programdata\\anaconda3\\lib\\site-packages)\n",
      "WARNING: Ignoring invalid distribution -2o (c:\\programdata\\anaconda3\\lib\\site-packages)\n",
      "WARNING: Ignoring invalid distribution -1inc (c:\\programdata\\anaconda3\\lib\\site-packages)\n",
      "WARNING: Ignoring invalid distribution -pacy (c:\\programdata\\anaconda3\\lib\\site-packages)\n",
      "WARNING: Ignoring invalid distribution -mportlib-metadata (c:\\programdata\\anaconda3\\lib\\site-packages)\n",
      "WARNING: Ignoring invalid distribution -inc (c:\\programdata\\anaconda3\\lib\\site-packages)\n",
      "WARNING: Ignoring invalid distribution -0inc (c:\\programdata\\anaconda3\\lib\\site-packages)\n",
      "WARNING: Ignoring invalid distribution -hinc (c:\\programdata\\anaconda3\\lib\\site-packages)\n",
      "WARNING: Ignoring invalid distribution - (c:\\programdata\\anaconda3\\lib\\site-packages)\n",
      "WARNING: Ignoring invalid distribution -ensim (c:\\programdata\\anaconda3\\lib\\site-packages)\n",
      "WARNING: Ignoring invalid distribution -cikit-learn (c:\\programdata\\anaconda3\\lib\\site-packages)\n",
      "WARNING: Ignoring invalid distribution -andas (c:\\programdata\\anaconda3\\lib\\site-packages)\n",
      "WARNING: Ignoring invalid distribution -inc (c:\\programdata\\anaconda3\\lib\\site-packages)\n",
      "WARNING: Ignoring invalid distribution -2o (c:\\programdata\\anaconda3\\lib\\site-packages)\n",
      "WARNING: Ignoring invalid distribution -1inc (c:\\programdata\\anaconda3\\lib\\site-packages)\n",
      "WARNING: Ignoring invalid distribution -pacy (c:\\programdata\\anaconda3\\lib\\site-packages)\n",
      "WARNING: Ignoring invalid distribution -mportlib-metadata (c:\\programdata\\anaconda3\\lib\\site-packages)\n",
      "WARNING: Ignoring invalid distribution -inc (c:\\programdata\\anaconda3\\lib\\site-packages)\n",
      "WARNING: Ignoring invalid distribution -0inc (c:\\programdata\\anaconda3\\lib\\site-packages)\n",
      "WARNING: Ignoring invalid distribution -hinc (c:\\programdata\\anaconda3\\lib\\site-packages)\n",
      "WARNING: Ignoring invalid distribution - (c:\\programdata\\anaconda3\\lib\\site-packages)\n",
      "WARNING: Ignoring invalid distribution -ensim (c:\\programdata\\anaconda3\\lib\\site-packages)\n",
      "WARNING: Ignoring invalid distribution -cikit-learn (c:\\programdata\\anaconda3\\lib\\site-packages)\n",
      "WARNING: Ignoring invalid distribution -andas (c:\\programdata\\anaconda3\\lib\\site-packages)\n",
      "WARNING: Ignoring invalid distribution -inc (c:\\programdata\\anaconda3\\lib\\site-packages)\n",
      "WARNING: Ignoring invalid distribution -2o (c:\\programdata\\anaconda3\\lib\\site-packages)\n",
      "WARNING: Ignoring invalid distribution -1inc (c:\\programdata\\anaconda3\\lib\\site-packages)\n",
      "WARNING: Ignoring invalid distribution -pacy (c:\\programdata\\anaconda3\\lib\\site-packages)\n",
      "WARNING: Ignoring invalid distribution -mportlib-metadata (c:\\programdata\\anaconda3\\lib\\site-packages)\n",
      "WARNING: Ignoring invalid distribution -inc (c:\\programdata\\anaconda3\\lib\\site-packages)\n",
      "WARNING: Ignoring invalid distribution -0inc (c:\\programdata\\anaconda3\\lib\\site-packages)\n",
      "WARNING: Ignoring invalid distribution -hinc (c:\\programdata\\anaconda3\\lib\\site-packages)\n",
      "WARNING: Ignoring invalid distribution - (c:\\programdata\\anaconda3\\lib\\site-packages)\n",
      "WARNING: Ignoring invalid distribution -ensim (c:\\programdata\\anaconda3\\lib\\site-packages)\n",
      "WARNING: Ignoring invalid distribution -cikit-learn (c:\\programdata\\anaconda3\\lib\\site-packages)\n",
      "WARNING: Ignoring invalid distribution -andas (c:\\programdata\\anaconda3\\lib\\site-packages)\n"
     ]
    }
   ],
   "source": [
    "!pip install summa"
   ]
  },
  {
   "cell_type": "markdown",
   "metadata": {},
   "source": [
    "### Import the library"
   ]
  },
  {
   "cell_type": "code",
   "execution_count": 28,
   "metadata": {},
   "outputs": [],
   "source": [
    "from summa import summarizer\n",
    "from summa import keywords"
   ]
  },
  {
   "cell_type": "markdown",
   "metadata": {},
   "source": [
    "### Scrape the text\n",
    "- Use beautifulSoup to extract text (from Task1 of ML-1)"
   ]
  },
  {
   "cell_type": "markdown",
   "metadata": {},
   "source": [
    "### Summarize"
   ]
  },
  {
   "cell_type": "code",
   "execution_count": 29,
   "metadata": {},
   "outputs": [
    {
     "data": {
      "text/plain": [
       "'“Neural Network is a collection (a network) of neurons whose job is to learn a new thing or a new place or a new process or a new concept.”\\nAfter all, neural network inside our brain helps us to learn new things in our life.\\nWhat I was actually doing here was teaching her neural network (brain) the features of a lion like exactly how Machine Learning Engineers would train the machine to learn new features.\\nAfter telling her the features of a lion, asked her “Can you draw these for me?” She happily drew almost a similar figure to that of a dog she drew before.\\nA dog will have features like face, body, legs, and tail.\\nA lion will have features like face, body, legs, tail and a beard.\\nHer neural network got aligned with classifying Dogs and Lions after some training.\\nDo you know what is the difference between a lion and a dog?” She said, “Yes.” I said, “This is called Learning.\\nHow you learnt it is because of Neural Network inside your brain.” Now, a neural network is a collection of neurons that keeps switching on and off based on things you see, feel, hear and think just like switching on light bulb at our home.\\nFor example, when I showed you a lion picture, your brain asked the neurons who had seen it before.\\nThe neurons grouped together with features like face, body, legs, tail and a beard forms a lion.\\nOnce all the features are there, the neurons will send a signal that the picture you are looking at is a lion and not a dog.\\nEvery neuron will tune itself to pick up certain features like legs, tail, face, beard, and so on.\\nUltimately, the neurons in your brain tell that it is a lion and not a dog.\\nIn a few milliseconds, your brain identifies whether the picture is a lion or a dog.\\nTanishi: Neurons\\nWhen I ask you to draw a dog, what are the features there?\\nMe: So, for a dog, the features are face, body, legs and tail.\\nIf I ask you to draw a lion, what are the features?\\nSo, neurons are inside our brain waiting for features.\\nOnce the features are seen and a logical connection is established, neurons signals your brain that it is a lion.\\nTanishi: Neurons\\nAll neurons work together like your friends and identify lion and dog.\\nNeural network is a group of neuron friends identifying lions and dogs.'"
      ]
     },
     "execution_count": 29,
     "metadata": {},
     "output_type": "execute_result"
    }
   ],
   "source": [
    "summa_summary_text = summarizer.summarize(text, ratio=0.1)\n",
    "summa_summary_text"
   ]
  },
  {
   "cell_type": "markdown",
   "metadata": {},
   "source": [
    "## ASSIGNMENT: Take the same medium article (the one I wrote) we used for Task 1 of ML-1 and extract the text and summarize them using all the above methods and provide the best summary with a note saying why the chosen library is the best\n",
    "url = https://medium.com/@subashgandyer/papa-what-is-a-neural-network-c5e5cc427c7\n",
    "\n",
    "### Submit 2 files\n",
    "- (notebook) .ipynb\n",
    "- (summary) .txt"
   ]
  },
  {
   "cell_type": "code",
   "execution_count": 30,
   "metadata": {},
   "outputs": [
    {
     "name": "stderr",
     "output_type": "stream",
     "text": [
      "WARNING: Ignoring invalid distribution -inc (c:\\programdata\\anaconda3\\lib\\site-packages)\n",
      "WARNING: Ignoring invalid distribution -2o (c:\\programdata\\anaconda3\\lib\\site-packages)\n",
      "WARNING: Ignoring invalid distribution -1inc (c:\\programdata\\anaconda3\\lib\\site-packages)\n",
      "WARNING: Ignoring invalid distribution -pacy (c:\\programdata\\anaconda3\\lib\\site-packages)\n",
      "WARNING: Ignoring invalid distribution -mportlib-metadata (c:\\programdata\\anaconda3\\lib\\site-packages)\n",
      "WARNING: Ignoring invalid distribution -inc (c:\\programdata\\anaconda3\\lib\\site-packages)\n",
      "WARNING: Ignoring invalid distribution -0inc (c:\\programdata\\anaconda3\\lib\\site-packages)\n",
      "WARNING: Ignoring invalid distribution -hinc (c:\\programdata\\anaconda3\\lib\\site-packages)\n",
      "WARNING: Ignoring invalid distribution - (c:\\programdata\\anaconda3\\lib\\site-packages)\n",
      "WARNING: Ignoring invalid distribution -ensim (c:\\programdata\\anaconda3\\lib\\site-packages)\n",
      "WARNING: Ignoring invalid distribution -cikit-learn (c:\\programdata\\anaconda3\\lib\\site-packages)\n",
      "WARNING: Ignoring invalid distribution -andas (c:\\programdata\\anaconda3\\lib\\site-packages)\n",
      "ERROR: Could not open requirements file: [Errno 2] No such file or directory: 'rouge/requirements.txt'\n",
      "WARNING: Ignoring invalid distribution -inc (c:\\programdata\\anaconda3\\lib\\site-packages)\n",
      "WARNING: Ignoring invalid distribution -2o (c:\\programdata\\anaconda3\\lib\\site-packages)\n",
      "WARNING: Ignoring invalid distribution -1inc (c:\\programdata\\anaconda3\\lib\\site-packages)\n",
      "WARNING: Ignoring invalid distribution -pacy (c:\\programdata\\anaconda3\\lib\\site-packages)\n",
      "WARNING: Ignoring invalid distribution -mportlib-metadata (c:\\programdata\\anaconda3\\lib\\site-packages)\n",
      "WARNING: Ignoring invalid distribution -inc (c:\\programdata\\anaconda3\\lib\\site-packages)\n",
      "WARNING: Ignoring invalid distribution -0inc (c:\\programdata\\anaconda3\\lib\\site-packages)\n",
      "WARNING: Ignoring invalid distribution -hinc (c:\\programdata\\anaconda3\\lib\\site-packages)\n",
      "WARNING: Ignoring invalid distribution - (c:\\programdata\\anaconda3\\lib\\site-packages)\n",
      "WARNING: Ignoring invalid distribution -ensim (c:\\programdata\\anaconda3\\lib\\site-packages)\n",
      "WARNING: Ignoring invalid distribution -cikit-learn (c:\\programdata\\anaconda3\\lib\\site-packages)\n",
      "WARNING: Ignoring invalid distribution -andas (c:\\programdata\\anaconda3\\lib\\site-packages)\n",
      "WARNING: Ignoring invalid distribution -inc (c:\\programdata\\anaconda3\\lib\\site-packages)\n",
      "WARNING: Ignoring invalid distribution -2o (c:\\programdata\\anaconda3\\lib\\site-packages)\n",
      "WARNING: Ignoring invalid distribution -1inc (c:\\programdata\\anaconda3\\lib\\site-packages)\n",
      "WARNING: Ignoring invalid distribution -pacy (c:\\programdata\\anaconda3\\lib\\site-packages)\n",
      "WARNING: Ignoring invalid distribution -mportlib-metadata (c:\\programdata\\anaconda3\\lib\\site-packages)\n",
      "WARNING: Ignoring invalid distribution -inc (c:\\programdata\\anaconda3\\lib\\site-packages)\n",
      "WARNING: Ignoring invalid distribution -0inc (c:\\programdata\\anaconda3\\lib\\site-packages)\n",
      "WARNING: Ignoring invalid distribution -hinc (c:\\programdata\\anaconda3\\lib\\site-packages)\n",
      "WARNING: Ignoring invalid distribution - (c:\\programdata\\anaconda3\\lib\\site-packages)\n",
      "WARNING: Ignoring invalid distribution -ensim (c:\\programdata\\anaconda3\\lib\\site-packages)\n",
      "WARNING: Ignoring invalid distribution -cikit-learn (c:\\programdata\\anaconda3\\lib\\site-packages)\n",
      "WARNING: Ignoring invalid distribution -andas (c:\\programdata\\anaconda3\\lib\\site-packages)\n",
      "WARNING: Ignoring invalid distribution -inc (c:\\programdata\\anaconda3\\lib\\site-packages)\n",
      "WARNING: Ignoring invalid distribution -2o (c:\\programdata\\anaconda3\\lib\\site-packages)\n",
      "WARNING: Ignoring invalid distribution -1inc (c:\\programdata\\anaconda3\\lib\\site-packages)\n",
      "WARNING: Ignoring invalid distribution -pacy (c:\\programdata\\anaconda3\\lib\\site-packages)\n",
      "WARNING: Ignoring invalid distribution -mportlib-metadata (c:\\programdata\\anaconda3\\lib\\site-packages)\n",
      "WARNING: Ignoring invalid distribution -inc (c:\\programdata\\anaconda3\\lib\\site-packages)\n",
      "WARNING: Ignoring invalid distribution -0inc (c:\\programdata\\anaconda3\\lib\\site-packages)\n",
      "WARNING: Ignoring invalid distribution -hinc (c:\\programdata\\anaconda3\\lib\\site-packages)\n",
      "WARNING: Ignoring invalid distribution - (c:\\programdata\\anaconda3\\lib\\site-packages)\n",
      "WARNING: Ignoring invalid distribution -ensim (c:\\programdata\\anaconda3\\lib\\site-packages)\n",
      "WARNING: Ignoring invalid distribution -cikit-learn (c:\\programdata\\anaconda3\\lib\\site-packages)\n",
      "WARNING: Ignoring invalid distribution -andas (c:\\programdata\\anaconda3\\lib\\site-packages)\n"
     ]
    },
    {
     "name": "stdout",
     "output_type": "stream",
     "text": [
      "Requirement already satisfied: rouge-score in c:\\programdata\\anaconda3\\lib\\site-packages (0.1.2)\n",
      "Requirement already satisfied: nltk in c:\\programdata\\anaconda3\\lib\\site-packages (from rouge-score) (3.7)\n",
      "Requirement already satisfied: six>=1.14.0 in c:\\programdata\\anaconda3\\lib\\site-packages (from rouge-score) (1.16.0)\n",
      "Requirement already satisfied: absl-py in c:\\programdata\\anaconda3\\lib\\site-packages (from rouge-score) (1.0.0)\n",
      "Requirement already satisfied: numpy in c:\\programdata\\anaconda3\\lib\\site-packages (from rouge-score) (1.21.5)\n",
      "Requirement already satisfied: click in c:\\programdata\\anaconda3\\lib\\site-packages (from nltk->rouge-score) (8.0.4)\n",
      "Requirement already satisfied: regex>=2021.8.3 in c:\\programdata\\anaconda3\\lib\\site-packages (from nltk->rouge-score) (2022.7.9)\n",
      "Requirement already satisfied: tqdm in c:\\programdata\\anaconda3\\lib\\site-packages (from nltk->rouge-score) (4.64.1)\n",
      "Requirement already satisfied: joblib in c:\\programdata\\anaconda3\\lib\\site-packages (from nltk->rouge-score) (1.1.0)\n",
      "Requirement already satisfied: colorama in c:\\programdata\\anaconda3\\lib\\site-packages (from click->nltk->rouge-score) (0.4.5)\n"
     ]
    },
    {
     "name": "stderr",
     "output_type": "stream",
     "text": [
      "WARNING: Ignoring invalid distribution -inc (c:\\programdata\\anaconda3\\lib\\site-packages)\n",
      "WARNING: Ignoring invalid distribution -2o (c:\\programdata\\anaconda3\\lib\\site-packages)\n",
      "WARNING: Ignoring invalid distribution -1inc (c:\\programdata\\anaconda3\\lib\\site-packages)\n",
      "WARNING: Ignoring invalid distribution -pacy (c:\\programdata\\anaconda3\\lib\\site-packages)\n",
      "WARNING: Ignoring invalid distribution -mportlib-metadata (c:\\programdata\\anaconda3\\lib\\site-packages)\n",
      "WARNING: Ignoring invalid distribution -inc (c:\\programdata\\anaconda3\\lib\\site-packages)\n",
      "WARNING: Ignoring invalid distribution -0inc (c:\\programdata\\anaconda3\\lib\\site-packages)\n",
      "WARNING: Ignoring invalid distribution -hinc (c:\\programdata\\anaconda3\\lib\\site-packages)\n",
      "WARNING: Ignoring invalid distribution - (c:\\programdata\\anaconda3\\lib\\site-packages)\n",
      "WARNING: Ignoring invalid distribution -ensim (c:\\programdata\\anaconda3\\lib\\site-packages)\n",
      "WARNING: Ignoring invalid distribution -cikit-learn (c:\\programdata\\anaconda3\\lib\\site-packages)\n",
      "WARNING: Ignoring invalid distribution -andas (c:\\programdata\\anaconda3\\lib\\site-packages)\n",
      "WARNING: Ignoring invalid distribution -inc (c:\\programdata\\anaconda3\\lib\\site-packages)\n",
      "WARNING: Ignoring invalid distribution -2o (c:\\programdata\\anaconda3\\lib\\site-packages)\n",
      "WARNING: Ignoring invalid distribution -1inc (c:\\programdata\\anaconda3\\lib\\site-packages)\n",
      "WARNING: Ignoring invalid distribution -pacy (c:\\programdata\\anaconda3\\lib\\site-packages)\n",
      "WARNING: Ignoring invalid distribution -mportlib-metadata (c:\\programdata\\anaconda3\\lib\\site-packages)\n",
      "WARNING: Ignoring invalid distribution -inc (c:\\programdata\\anaconda3\\lib\\site-packages)\n",
      "WARNING: Ignoring invalid distribution -0inc (c:\\programdata\\anaconda3\\lib\\site-packages)\n",
      "WARNING: Ignoring invalid distribution -hinc (c:\\programdata\\anaconda3\\lib\\site-packages)\n",
      "WARNING: Ignoring invalid distribution - (c:\\programdata\\anaconda3\\lib\\site-packages)\n",
      "WARNING: Ignoring invalid distribution -ensim (c:\\programdata\\anaconda3\\lib\\site-packages)\n",
      "WARNING: Ignoring invalid distribution -cikit-learn (c:\\programdata\\anaconda3\\lib\\site-packages)\n",
      "WARNING: Ignoring invalid distribution -andas (c:\\programdata\\anaconda3\\lib\\site-packages)\n",
      "WARNING: Ignoring invalid distribution -inc (c:\\programdata\\anaconda3\\lib\\site-packages)\n",
      "WARNING: Ignoring invalid distribution -2o (c:\\programdata\\anaconda3\\lib\\site-packages)\n",
      "WARNING: Ignoring invalid distribution -1inc (c:\\programdata\\anaconda3\\lib\\site-packages)\n",
      "WARNING: Ignoring invalid distribution -pacy (c:\\programdata\\anaconda3\\lib\\site-packages)\n",
      "WARNING: Ignoring invalid distribution -mportlib-metadata (c:\\programdata\\anaconda3\\lib\\site-packages)\n",
      "WARNING: Ignoring invalid distribution -inc (c:\\programdata\\anaconda3\\lib\\site-packages)\n",
      "WARNING: Ignoring invalid distribution -0inc (c:\\programdata\\anaconda3\\lib\\site-packages)\n",
      "WARNING: Ignoring invalid distribution -hinc (c:\\programdata\\anaconda3\\lib\\site-packages)\n",
      "WARNING: Ignoring invalid distribution - (c:\\programdata\\anaconda3\\lib\\site-packages)\n",
      "WARNING: Ignoring invalid distribution -ensim (c:\\programdata\\anaconda3\\lib\\site-packages)\n",
      "WARNING: Ignoring invalid distribution -cikit-learn (c:\\programdata\\anaconda3\\lib\\site-packages)\n",
      "WARNING: Ignoring invalid distribution -andas (c:\\programdata\\anaconda3\\lib\\site-packages)\n",
      "WARNING: Ignoring invalid distribution -inc (c:\\programdata\\anaconda3\\lib\\site-packages)\n",
      "WARNING: Ignoring invalid distribution -2o (c:\\programdata\\anaconda3\\lib\\site-packages)\n",
      "WARNING: Ignoring invalid distribution -1inc (c:\\programdata\\anaconda3\\lib\\site-packages)\n",
      "WARNING: Ignoring invalid distribution -pacy (c:\\programdata\\anaconda3\\lib\\site-packages)\n",
      "WARNING: Ignoring invalid distribution -mportlib-metadata (c:\\programdata\\anaconda3\\lib\\site-packages)\n",
      "WARNING: Ignoring invalid distribution -inc (c:\\programdata\\anaconda3\\lib\\site-packages)\n",
      "WARNING: Ignoring invalid distribution -0inc (c:\\programdata\\anaconda3\\lib\\site-packages)\n",
      "WARNING: Ignoring invalid distribution -hinc (c:\\programdata\\anaconda3\\lib\\site-packages)\n",
      "WARNING: Ignoring invalid distribution - (c:\\programdata\\anaconda3\\lib\\site-packages)\n",
      "WARNING: Ignoring invalid distribution -ensim (c:\\programdata\\anaconda3\\lib\\site-packages)\n",
      "WARNING: Ignoring invalid distribution -cikit-learn (c:\\programdata\\anaconda3\\lib\\site-packages)\n",
      "WARNING: Ignoring invalid distribution -andas (c:\\programdata\\anaconda3\\lib\\site-packages)\n",
      "WARNING: Ignoring invalid distribution -inc (c:\\programdata\\anaconda3\\lib\\site-packages)\n",
      "WARNING: Ignoring invalid distribution -2o (c:\\programdata\\anaconda3\\lib\\site-packages)\n",
      "WARNING: Ignoring invalid distribution -1inc (c:\\programdata\\anaconda3\\lib\\site-packages)\n",
      "WARNING: Ignoring invalid distribution -pacy (c:\\programdata\\anaconda3\\lib\\site-packages)\n",
      "WARNING: Ignoring invalid distribution -mportlib-metadata (c:\\programdata\\anaconda3\\lib\\site-packages)\n",
      "WARNING: Ignoring invalid distribution -inc (c:\\programdata\\anaconda3\\lib\\site-packages)\n",
      "WARNING: Ignoring invalid distribution -0inc (c:\\programdata\\anaconda3\\lib\\site-packages)\n",
      "WARNING: Ignoring invalid distribution -hinc (c:\\programdata\\anaconda3\\lib\\site-packages)\n",
      "WARNING: Ignoring invalid distribution - (c:\\programdata\\anaconda3\\lib\\site-packages)\n",
      "WARNING: Ignoring invalid distribution -ensim (c:\\programdata\\anaconda3\\lib\\site-packages)\n",
      "WARNING: Ignoring invalid distribution -cikit-learn (c:\\programdata\\anaconda3\\lib\\site-packages)\n",
      "WARNING: Ignoring invalid distribution -andas (c:\\programdata\\anaconda3\\lib\\site-packages)\n",
      "WARNING: Ignoring invalid distribution -inc (c:\\programdata\\anaconda3\\lib\\site-packages)\n",
      "WARNING: Ignoring invalid distribution -2o (c:\\programdata\\anaconda3\\lib\\site-packages)\n",
      "WARNING: Ignoring invalid distribution -1inc (c:\\programdata\\anaconda3\\lib\\site-packages)\n",
      "WARNING: Ignoring invalid distribution -pacy (c:\\programdata\\anaconda3\\lib\\site-packages)\n",
      "WARNING: Ignoring invalid distribution -mportlib-metadata (c:\\programdata\\anaconda3\\lib\\site-packages)\n",
      "WARNING: Ignoring invalid distribution -inc (c:\\programdata\\anaconda3\\lib\\site-packages)\n",
      "WARNING: Ignoring invalid distribution -0inc (c:\\programdata\\anaconda3\\lib\\site-packages)\n",
      "WARNING: Ignoring invalid distribution -hinc (c:\\programdata\\anaconda3\\lib\\site-packages)\n",
      "WARNING: Ignoring invalid distribution - (c:\\programdata\\anaconda3\\lib\\site-packages)\n",
      "WARNING: Ignoring invalid distribution -ensim (c:\\programdata\\anaconda3\\lib\\site-packages)\n",
      "WARNING: Ignoring invalid distribution -cikit-learn (c:\\programdata\\anaconda3\\lib\\site-packages)\n",
      "WARNING: Ignoring invalid distribution -andas (c:\\programdata\\anaconda3\\lib\\site-packages)\n"
     ]
    }
   ],
   "source": [
    "!pip install -r rouge/requirements.txt\n",
    "!pip install rouge-score"
   ]
  },
  {
   "cell_type": "code",
   "execution_count": 31,
   "metadata": {},
   "outputs": [],
   "source": [
    "from rouge_score import rouge_scorer"
   ]
  },
  {
   "cell_type": "code",
   "execution_count": 32,
   "metadata": {},
   "outputs": [],
   "source": [
    "model_dictionary={}"
   ]
  },
  {
   "cell_type": "code",
   "execution_count": 33,
   "metadata": {},
   "outputs": [],
   "source": [
    "scorer = rouge_scorer.RougeScorer(['rouge1', 'rougeL'], use_stemmer=True)\n",
    "\n",
    "model_dictionary[\"TEXTRANK\"]    = [text_rank_summary_doc, scorer.score(original_doc, text_rank_summary_doc)]\n",
    "model_dictionary[\"LEXRANK\"]     = [lex_summary_doc, scorer.score(original_doc, lex_summary_doc)]\n",
    "model_dictionary[\"LUHNRANK\"]    = [luhn_summary_doc, scorer.score(original_doc, luhn_summary_doc)]\n",
    "model_dictionary[\"LSARANK\"]     = [lsa_summary_doc, scorer.score(original_doc, lsa_summary_doc)]\n",
    "model_dictionary[\"GENSIMTRANK\"] = [gensim_summary_text, scorer.score(original_doc, text_rank_summary_doc)]\n",
    "model_dictionary[\"SUMMARANK\"]   = [summa_summary_text, scorer.score(original_doc, text_rank_summary_doc)]"
   ]
  },
  {
   "cell_type": "code",
   "execution_count": 34,
   "metadata": {},
   "outputs": [
    {
     "data": {
      "text/plain": [
       "{'TEXTRANK': ['Papa What is a Neural Network At the back of my head thoughts of me taking days to comprehend what a NN short for Neural Network is how it would work where it is used how it is simulating our human brain s inner workings were going through. Neural Network is a collection a network of neurons whose job is to learn a new thing or a new place or a new process or a new concept. After telling her the features of a lion asked her Can you draw these for me She happily drew almost a similar figure to that of a dog she drew before. When you see a new object your brain will ask the neurons Hey anybody experienced this before The neurons will say Yes I have seen Certain other neurons will say No I have not seen The neurons that have seen this before will group together and form logical connections from the past and gives us an object from our memory. The same principle is applied for a song that you hear a cartoon that you watch a rhyme that you sing an animal that you draw a food that you taste a flower that you smell and so on',\n",
       "  {'rouge1': Score(precision=1.0, recall=0.08872696099442777, fmeasure=0.16299212598425197),\n",
       "   'rougeL': Score(precision=1.0, recall=0.08872696099442777, fmeasure=0.16299212598425197)}],\n",
       " 'LEXRANK': ['After telling her the features of a lion asked her Can you draw these for me She happily drew almost a similar figure to that of a dog she drew before. Was it a dog or a lion. Do you know what is the difference between a lion and a dog She said I said This is called Learning. Picture of my version of Neural Network with their Neuron friends Your brain is here inside our head. Ultimately the neurons in your brain tell that it is a lion and not a dog',\n",
       "  {'rouge1': Score(precision=1.0, recall=0.039862837548221175, fmeasure=0.07666941467436109),\n",
       "   'rougeL': Score(precision=1.0, recall=0.039862837548221175, fmeasure=0.07666941467436109)}],\n",
       " 'LUHNRANK': ['Papa What is a Neural Network At the back of my head thoughts of me taking days to comprehend what a NN short for Neural Network is how it would work where it is used how it is simulating our human brain s inner workings were going through. How you learnt it is because of Neural Network inside your Now a neural network is a collection of neurons that keeps switching on and off based on things you see feel hear and think just like switching on light bulb at our home. Every neuron is waiting for your eyes to see something new for your nose to smell something new for your ears to hear something new for your tongue to taste something new. When something new is heard or smelled or seen or tasted the neurons will group together to send signals and forms connections with already seen heard tasted or smelled neurons. When you see a new object your brain will ask the neurons Hey anybody experienced this before The neurons will say Yes I have seen Certain other neurons will say No I have not seen The neurons that have seen this before will group together and form logical connections from the past and gives us an object from our memory',\n",
       "  {'rouge1': Score(precision=1.0, recall=0.09172738962708958, fmeasure=0.1680408323517864),\n",
       "   'rougeL': Score(precision=1.0, recall=0.09172738962708958, fmeasure=0.1680408323517864)}],\n",
       " 'LSARANK': ['If you ve noticed this is how ML people make their machines learn through Reinforcement Learning. For example when I showed you a lion picture your brain asked the neurons who had seen it before. Every neuron will tune itself to pick up certain features like legs tail face beard and so on. And I hope she will not come to me running asking Papa what is Meural Metark again. And I have a strong feeling she would ask me another stunning question sooner or later',\n",
       "  {'rouge1': Score(precision=1.0, recall=0.036862408915559364, fmeasure=0.07110376188507647),\n",
       "   'rougeL': Score(precision=1.0, recall=0.036862408915559364, fmeasure=0.07110376188507647)}],\n",
       " 'GENSIMTRANK': ['“Papa, tell me what stuff means and something means.” Cannot help evade a cute curious face, I said, “I am working on Neural Network.” Before I finish the statement, “Papa, What is a Meural Metark?” I gave up my stubbornness of avoiding her.\\nAfter all, neural network inside our brain helps us to learn new things in our life.\\nWhat I was actually doing here was teaching her neural network (brain) the features of a lion like exactly how Machine Learning Engineers would train the machine to learn new features.\\nAfter telling her the features of a lion, asked her “Can you draw these for me?” She happily drew almost a similar figure to that of a dog she drew before.\\nA dog will have features like face, body, legs, and tail.\\nA lion will have features like face, body, legs, tail and a beard.\\nThe neurons grouped together with features like face, body, legs, tail and a beard forms a lion.\\nOnce all the features are there, the neurons will send a signal that the picture you are looking at is a lion and not a dog.\\nEvery neuron will tune itself to pick up certain features like legs, tail, face, beard, and so on.\\nNeural network is a group of neuron friends identifying lions and dogs.',\n",
       "  {'rouge1': Score(precision=1.0, recall=0.08872696099442777, fmeasure=0.16299212598425197),\n",
       "   'rougeL': Score(precision=1.0, recall=0.08872696099442777, fmeasure=0.16299212598425197)}],\n",
       " 'SUMMARANK': ['“Neural Network is a collection (a network) of neurons whose job is to learn a new thing or a new place or a new process or a new concept.”\\nAfter all, neural network inside our brain helps us to learn new things in our life.\\nWhat I was actually doing here was teaching her neural network (brain) the features of a lion like exactly how Machine Learning Engineers would train the machine to learn new features.\\nAfter telling her the features of a lion, asked her “Can you draw these for me?” She happily drew almost a similar figure to that of a dog she drew before.\\nA dog will have features like face, body, legs, and tail.\\nA lion will have features like face, body, legs, tail and a beard.\\nHer neural network got aligned with classifying Dogs and Lions after some training.\\nDo you know what is the difference between a lion and a dog?” She said, “Yes.” I said, “This is called Learning.\\nHow you learnt it is because of Neural Network inside your brain.” Now, a neural network is a collection of neurons that keeps switching on and off based on things you see, feel, hear and think just like switching on light bulb at our home.\\nFor example, when I showed you a lion picture, your brain asked the neurons who had seen it before.\\nThe neurons grouped together with features like face, body, legs, tail and a beard forms a lion.\\nOnce all the features are there, the neurons will send a signal that the picture you are looking at is a lion and not a dog.\\nEvery neuron will tune itself to pick up certain features like legs, tail, face, beard, and so on.\\nUltimately, the neurons in your brain tell that it is a lion and not a dog.\\nIn a few milliseconds, your brain identifies whether the picture is a lion or a dog.\\nTanishi: Neurons\\nWhen I ask you to draw a dog, what are the features there?\\nMe: So, for a dog, the features are face, body, legs and tail.\\nIf I ask you to draw a lion, what are the features?\\nSo, neurons are inside our brain waiting for features.\\nOnce the features are seen and a logical connection is established, neurons signals your brain that it is a lion.\\nTanishi: Neurons\\nAll neurons work together like your friends and identify lion and dog.\\nNeural network is a group of neuron friends identifying lions and dogs.',\n",
       "  {'rouge1': Score(precision=1.0, recall=0.08872696099442777, fmeasure=0.16299212598425197),\n",
       "   'rougeL': Score(precision=1.0, recall=0.08872696099442777, fmeasure=0.16299212598425197)}]}"
      ]
     },
     "execution_count": 34,
     "metadata": {},
     "output_type": "execute_result"
    }
   ],
   "source": [
    "model_dictionary"
   ]
  },
  {
   "cell_type": "code",
   "execution_count": 35,
   "metadata": {},
   "outputs": [
    {
     "data": {
      "text/plain": [
       "['LUHNRANK', 0.1680408323517864]"
      ]
     },
     "execution_count": 35,
     "metadata": {},
     "output_type": "execute_result"
    }
   ],
   "source": [
    "# Finding the best model\n",
    "fmeasure_max=[\"\", 0]\n",
    "for dict in model_dictionary:\n",
    "    if model_dictionary[dict][1]['rougeL'][2] > fmeasure_max[1]:\n",
    "        fmeasure_max[0] = dict\n",
    "        fmeasure_max[1] = model_dictionary[dict][1]['rougeL'][2]\n",
    "fmeasure_max"
   ]
  },
  {
   "cell_type": "code",
   "execution_count": 37,
   "metadata": {},
   "outputs": [
    {
     "name": "stdout",
     "output_type": "stream",
     "text": [
      "[+] File 'summary.txt' written succesfully!\n"
     ]
    }
   ],
   "source": [
    "# Generating \"summary.txt\" file\n",
    "\n",
    "text_file = open(\"summary.txt\", \"w\")\n",
    "\n",
    "text_file.write(\"ORIGINAL TEXT\\n\\n\")\n",
    "text_file.write(original_doc)\n",
    "\n",
    "for dict in model_dictionary:\n",
    "    text_file.write(f\"\\n\\n{dict} SUMMARY\\n\\n\")\n",
    "    text_file.write(model_dictionary[dict][0])\n",
    "    text_file.write(f\"\\n\\nScores\\n\\n\")\n",
    "    text_file.write(str(model_dictionary[dict][1]))\n",
    "                    \n",
    "text_file.write(\"\\n\\n\")   \n",
    "text_file.write(\"BEST SUMMARY\\n\\n\")\n",
    "text_file.write(f\"{fmeasure_max[0]} with F1 Score = {fmeasure_max[1]}\")\n",
    "text_file.write(\"\\n\\n\")   \n",
    "text_file.write(\"Explanation: It is the best method as it has the best F1 score. \\nF1 = 2 * (Bleu * Rouge) / (Bleu + Rouge)\")\n",
    "text_file.close()\n",
    "\n",
    "print(\"[+] File 'summary.txt' written succesfully!\")"
   ]
  },
  {
   "cell_type": "code",
   "execution_count": null,
   "metadata": {},
   "outputs": [],
   "source": []
  }
 ],
 "metadata": {
  "kernelspec": {
   "display_name": "Python 3 (ipykernel)",
   "language": "python",
   "name": "python3"
  },
  "language_info": {
   "codemirror_mode": {
    "name": "ipython",
    "version": 3
   },
   "file_extension": ".py",
   "mimetype": "text/x-python",
   "name": "python",
   "nbconvert_exporter": "python",
   "pygments_lexer": "ipython3",
   "version": "3.8.13"
  }
 },
 "nbformat": 4,
 "nbformat_minor": 4
}
